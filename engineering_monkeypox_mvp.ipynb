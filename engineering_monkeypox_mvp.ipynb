{
  "cells": [
    {
      "cell_type": "markdown",
      "metadata": {
        "id": "view-in-github",
        "colab_type": "text"
      },
      "source": [
        "<a href=\"https://colab.research.google.com/github/slp22/data-engineering-project/blob/main/engineering_monkeypox_mvp.ipynb\" target=\"_parent\"><img src=\"https://colab.research.google.com/assets/colab-badge.svg\" alt=\"Open In Colab\"/></a>"
      ]
    },
    {
      "cell_type": "markdown",
      "metadata": {
        "id": "wH8m3rmEAo3U"
      },
      "source": [
        "#### Data Engineering | MVP\n",
        "\n",
        "# Monkeypox Tweets"
      ]
    },
    {
      "cell_type": "markdown",
      "metadata": {
        "id": "4nm_mHUuAeql"
      },
      "source": [
        "## Imports"
      ]
    },
    {
      "cell_type": "code",
      "execution_count": 1,
      "metadata": {
        "id": "w06wbr_xATv4"
      },
      "outputs": [],
      "source": [
        "import json\n",
        "import logging\n",
        "import sqlite3\n",
        "import matplotlib.pyplot as plt\n",
        "import numpy as np\n",
        "import os, shutil, itertools\n",
        "import pandas as pd\n",
        "import pathlib as Path\n",
        "import pickle\n",
        "import PIL\n",
        "import random\n",
        "import seaborn as sns\n",
        "import sklearn as sk\n",
        "import warnings\n",
        "import zipfile\n",
        "\n",
        "from sqlite3 import connect\n"
      ]
    },
    {
      "cell_type": "markdown",
      "metadata": {
        "id": "ehG7rDKVA1x3"
      },
      "source": [
        "## 1 | Research Design\n"
      ]
    },
    {
      "cell_type": "markdown",
      "metadata": {
        "id": "lPrQPhqxA4C4"
      },
      "source": [
        "* **Research Question:** \n",
        "* **Impact Hypothesis:** \n",
        "* **Data source:** \n",
        "\n",
        "* **Data Dictionary:**\n"
      ]
    },
    {
      "cell_type": "markdown",
      "metadata": {
        "id": "j9xSJjZAA79Y"
      },
      "source": [
        "## 2 | Data Ingestion"
      ]
    },
    {
      "cell_type": "markdown",
      "source": [
        "#### [Monkeypox Tweets](https://www.kaggle.com/datasets/aneeshtickoo/tweets-on-monkeypox)"
      ],
      "metadata": {
        "id": "jXIfCh8OaYtc"
      }
    },
    {
      "cell_type": "code",
      "execution_count": 2,
      "metadata": {
        "colab": {
          "base_uri": "https://localhost:8080/"
        },
        "id": "GXLwZ2Vnn7ge",
        "outputId": "e5ec7129-67ad-43d8-c12a-a300cd76be96"
      },
      "outputs": [
        {
          "output_type": "stream",
          "name": "stdout",
          "text": [
            "Mounted at /content/drive\n"
          ]
        }
      ],
      "source": [
        "from google.colab import drive\n",
        "drive.mount('/content/drive')"
      ]
    },
    {
      "cell_type": "code",
      "source": [
        "# copy kaggle key from Google Drive\n",
        "shutil.copyfile('/content/drive/MyDrive/kaggle.json', '/content/kaggle.json')"
      ],
      "metadata": {
        "colab": {
          "base_uri": "https://localhost:8080/",
          "height": 37
        },
        "id": "xmUmjfBGGwMS",
        "outputId": "48c2c73b-6554-4530-ce06-10370a28f8f5"
      },
      "execution_count": 3,
      "outputs": [
        {
          "output_type": "execute_result",
          "data": {
            "text/plain": [
              "'/content/kaggle.json'"
            ],
            "application/vnd.google.colaboratory.intrinsic+json": {
              "type": "string"
            }
          },
          "metadata": {},
          "execution_count": 3
        }
      ]
    },
    {
      "cell_type": "code",
      "execution_count": 4,
      "metadata": {
        "colab": {
          "base_uri": "https://localhost:8080/"
        },
        "id": "3uJyuCs9jkJ7",
        "outputId": "ba5a10a5-d422-47e8-f346-7195648ff906"
      },
      "outputs": [
        {
          "output_type": "execute_result",
          "data": {
            "text/plain": [
              "['.config', 'kaggle.json', 'drive', 'sample_data']"
            ]
          },
          "metadata": {},
          "execution_count": 4
        }
      ],
      "source": [
        "#confirm kaggle key is in dir\n",
        "os.listdir()"
      ]
    },
    {
      "cell_type": "code",
      "execution_count": 5,
      "metadata": {
        "id": "ure1COVBG3sw"
      },
      "outputs": [],
      "source": [
        "with open('kaggle.json') as json_file:\n",
        "    kaggle = json.load(json_file)"
      ]
    },
    {
      "cell_type": "code",
      "execution_count": 6,
      "metadata": {
        "id": "As3njbbDmjAY"
      },
      "outputs": [],
      "source": [
        "# assign to directory \n",
        "os.environ['KAGGLE_CONFIG_DIR'] = \"/content\""
      ]
    },
    {
      "cell_type": "code",
      "execution_count": 7,
      "metadata": {
        "id": "jD2q1R_8movA",
        "colab": {
          "base_uri": "https://localhost:8080/"
        },
        "outputId": "a3b2381a-87af-48a3-eeab-3cfd95b5b458"
      },
      "outputs": [
        {
          "output_type": "stream",
          "name": "stdout",
          "text": [
            "Warning: Your Kaggle API key is readable by other users on this system! To fix this, you can run 'chmod 600 /content/kaggle.json'\n",
            "Downloading tweets-on-monkeypox.zip to /content\n",
            "  0% 0.00/1.12M [00:00<?, ?B/s]\n",
            "100% 1.12M/1.12M [00:00<00:00, 111MB/s]\n"
          ]
        }
      ],
      "source": [
        "# download dataset from kaggle\n",
        "# 'chmod 600 /content/kaggle.json'\n",
        "! kaggle datasets download -d aneeshtickoo/tweets-on-monkeypox"
      ]
    },
    {
      "cell_type": "code",
      "execution_count": 8,
      "metadata": {
        "id": "8bszkBF7ndyj"
      },
      "outputs": [],
      "source": [
        "# unzip kaggle file\n",
        "zip_ref = zipfile.ZipFile('tweets-on-monkeypox.zip', 'r') \n",
        "zip_ref.extractall('/content')\n",
        "zip_ref.close()"
      ]
    },
    {
      "cell_type": "markdown",
      "metadata": {
        "id": "678fce99"
      },
      "source": [
        "## 3 | Exploratory Data Analysis"
      ]
    },
    {
      "cell_type": "markdown",
      "source": [
        "### First glance"
      ],
      "metadata": {
        "id": "Oscqdm5WZ3Ap"
      }
    },
    {
      "cell_type": "code",
      "execution_count": 9,
      "metadata": {
        "id": "rpMzt1LuEr_S"
      },
      "outputs": [],
      "source": [
        "df = pd.read_csv('/content/monkeypox.csv')"
      ]
    },
    {
      "cell_type": "code",
      "execution_count": 10,
      "metadata": {
        "id": "UX-TC5yOHcbY",
        "colab": {
          "base_uri": "https://localhost:8080/",
          "height": 344
        },
        "outputId": "c24aa435-0a38-4a9f-b945-0c6deac6a57b"
      },
      "outputs": [
        {
          "output_type": "execute_result",
          "data": {
            "text/plain": [
              "                    id      conversation_id  \\\n",
              "0  1555815462201872385  1555815462201872385   \n",
              "1  1555815458602831872  1555815458602831872   \n",
              "\n",
              "                                created_at        date      time  timezone  \\\n",
              "0  2022-08-06 12:48:06 India Standard Time  2022-08-06  12:48:06       530   \n",
              "1  2022-08-06 12:48:05 India Standard Time  2022-08-06  12:48:05       530   \n",
              "\n",
              "              user_id      username                           name place  ...  \\\n",
              "0  820113517613154304  thetenth2022                       TheTenth   NaN  ...   \n",
              "1           196518052     ashemedai  Jeroen Ruigrok van der Werven   NaN  ...   \n",
              "\n",
              "  geo source user_rt_id user_rt retweet_id  reply_to  retweet_date  translate  \\\n",
              "0 NaN    NaN        NaN     NaN        NaN        []           NaN        NaN   \n",
              "1 NaN    NaN        NaN     NaN        NaN        []           NaN        NaN   \n",
              "\n",
              "  trans_src trans_dest  \n",
              "0       NaN        NaN  \n",
              "1       NaN        NaN  \n",
              "\n",
              "[2 rows x 36 columns]"
            ],
            "text/html": [
              "\n",
              "  <div id=\"df-94ad75d3-9641-4a32-b047-1922cca2eed4\">\n",
              "    <div class=\"colab-df-container\">\n",
              "      <div>\n",
              "<style scoped>\n",
              "    .dataframe tbody tr th:only-of-type {\n",
              "        vertical-align: middle;\n",
              "    }\n",
              "\n",
              "    .dataframe tbody tr th {\n",
              "        vertical-align: top;\n",
              "    }\n",
              "\n",
              "    .dataframe thead th {\n",
              "        text-align: right;\n",
              "    }\n",
              "</style>\n",
              "<table border=\"1\" class=\"dataframe\">\n",
              "  <thead>\n",
              "    <tr style=\"text-align: right;\">\n",
              "      <th></th>\n",
              "      <th>id</th>\n",
              "      <th>conversation_id</th>\n",
              "      <th>created_at</th>\n",
              "      <th>date</th>\n",
              "      <th>time</th>\n",
              "      <th>timezone</th>\n",
              "      <th>user_id</th>\n",
              "      <th>username</th>\n",
              "      <th>name</th>\n",
              "      <th>place</th>\n",
              "      <th>...</th>\n",
              "      <th>geo</th>\n",
              "      <th>source</th>\n",
              "      <th>user_rt_id</th>\n",
              "      <th>user_rt</th>\n",
              "      <th>retweet_id</th>\n",
              "      <th>reply_to</th>\n",
              "      <th>retweet_date</th>\n",
              "      <th>translate</th>\n",
              "      <th>trans_src</th>\n",
              "      <th>trans_dest</th>\n",
              "    </tr>\n",
              "  </thead>\n",
              "  <tbody>\n",
              "    <tr>\n",
              "      <th>0</th>\n",
              "      <td>1555815462201872385</td>\n",
              "      <td>1555815462201872385</td>\n",
              "      <td>2022-08-06 12:48:06 India Standard Time</td>\n",
              "      <td>2022-08-06</td>\n",
              "      <td>12:48:06</td>\n",
              "      <td>530</td>\n",
              "      <td>820113517613154304</td>\n",
              "      <td>thetenth2022</td>\n",
              "      <td>TheTenth</td>\n",
              "      <td>NaN</td>\n",
              "      <td>...</td>\n",
              "      <td>NaN</td>\n",
              "      <td>NaN</td>\n",
              "      <td>NaN</td>\n",
              "      <td>NaN</td>\n",
              "      <td>NaN</td>\n",
              "      <td>[]</td>\n",
              "      <td>NaN</td>\n",
              "      <td>NaN</td>\n",
              "      <td>NaN</td>\n",
              "      <td>NaN</td>\n",
              "    </tr>\n",
              "    <tr>\n",
              "      <th>1</th>\n",
              "      <td>1555815458602831872</td>\n",
              "      <td>1555815458602831872</td>\n",
              "      <td>2022-08-06 12:48:05 India Standard Time</td>\n",
              "      <td>2022-08-06</td>\n",
              "      <td>12:48:05</td>\n",
              "      <td>530</td>\n",
              "      <td>196518052</td>\n",
              "      <td>ashemedai</td>\n",
              "      <td>Jeroen Ruigrok van der Werven</td>\n",
              "      <td>NaN</td>\n",
              "      <td>...</td>\n",
              "      <td>NaN</td>\n",
              "      <td>NaN</td>\n",
              "      <td>NaN</td>\n",
              "      <td>NaN</td>\n",
              "      <td>NaN</td>\n",
              "      <td>[]</td>\n",
              "      <td>NaN</td>\n",
              "      <td>NaN</td>\n",
              "      <td>NaN</td>\n",
              "      <td>NaN</td>\n",
              "    </tr>\n",
              "  </tbody>\n",
              "</table>\n",
              "<p>2 rows × 36 columns</p>\n",
              "</div>\n",
              "      <button class=\"colab-df-convert\" onclick=\"convertToInteractive('df-94ad75d3-9641-4a32-b047-1922cca2eed4')\"\n",
              "              title=\"Convert this dataframe to an interactive table.\"\n",
              "              style=\"display:none;\">\n",
              "        \n",
              "  <svg xmlns=\"http://www.w3.org/2000/svg\" height=\"24px\"viewBox=\"0 0 24 24\"\n",
              "       width=\"24px\">\n",
              "    <path d=\"M0 0h24v24H0V0z\" fill=\"none\"/>\n",
              "    <path d=\"M18.56 5.44l.94 2.06.94-2.06 2.06-.94-2.06-.94-.94-2.06-.94 2.06-2.06.94zm-11 1L8.5 8.5l.94-2.06 2.06-.94-2.06-.94L8.5 2.5l-.94 2.06-2.06.94zm10 10l.94 2.06.94-2.06 2.06-.94-2.06-.94-.94-2.06-.94 2.06-2.06.94z\"/><path d=\"M17.41 7.96l-1.37-1.37c-.4-.4-.92-.59-1.43-.59-.52 0-1.04.2-1.43.59L10.3 9.45l-7.72 7.72c-.78.78-.78 2.05 0 2.83L4 21.41c.39.39.9.59 1.41.59.51 0 1.02-.2 1.41-.59l7.78-7.78 2.81-2.81c.8-.78.8-2.07 0-2.86zM5.41 20L4 18.59l7.72-7.72 1.47 1.35L5.41 20z\"/>\n",
              "  </svg>\n",
              "      </button>\n",
              "      \n",
              "  <style>\n",
              "    .colab-df-container {\n",
              "      display:flex;\n",
              "      flex-wrap:wrap;\n",
              "      gap: 12px;\n",
              "    }\n",
              "\n",
              "    .colab-df-convert {\n",
              "      background-color: #E8F0FE;\n",
              "      border: none;\n",
              "      border-radius: 50%;\n",
              "      cursor: pointer;\n",
              "      display: none;\n",
              "      fill: #1967D2;\n",
              "      height: 32px;\n",
              "      padding: 0 0 0 0;\n",
              "      width: 32px;\n",
              "    }\n",
              "\n",
              "    .colab-df-convert:hover {\n",
              "      background-color: #E2EBFA;\n",
              "      box-shadow: 0px 1px 2px rgba(60, 64, 67, 0.3), 0px 1px 3px 1px rgba(60, 64, 67, 0.15);\n",
              "      fill: #174EA6;\n",
              "    }\n",
              "\n",
              "    [theme=dark] .colab-df-convert {\n",
              "      background-color: #3B4455;\n",
              "      fill: #D2E3FC;\n",
              "    }\n",
              "\n",
              "    [theme=dark] .colab-df-convert:hover {\n",
              "      background-color: #434B5C;\n",
              "      box-shadow: 0px 1px 3px 1px rgba(0, 0, 0, 0.15);\n",
              "      filter: drop-shadow(0px 1px 2px rgba(0, 0, 0, 0.3));\n",
              "      fill: #FFFFFF;\n",
              "    }\n",
              "  </style>\n",
              "\n",
              "      <script>\n",
              "        const buttonEl =\n",
              "          document.querySelector('#df-94ad75d3-9641-4a32-b047-1922cca2eed4 button.colab-df-convert');\n",
              "        buttonEl.style.display =\n",
              "          google.colab.kernel.accessAllowed ? 'block' : 'none';\n",
              "\n",
              "        async function convertToInteractive(key) {\n",
              "          const element = document.querySelector('#df-94ad75d3-9641-4a32-b047-1922cca2eed4');\n",
              "          const dataTable =\n",
              "            await google.colab.kernel.invokeFunction('convertToInteractive',\n",
              "                                                     [key], {});\n",
              "          if (!dataTable) return;\n",
              "\n",
              "          const docLinkHtml = 'Like what you see? Visit the ' +\n",
              "            '<a target=\"_blank\" href=https://colab.research.google.com/notebooks/data_table.ipynb>data table notebook</a>'\n",
              "            + ' to learn more about interactive tables.';\n",
              "          element.innerHTML = '';\n",
              "          dataTable['output_type'] = 'display_data';\n",
              "          await google.colab.output.renderOutput(dataTable, element);\n",
              "          const docLink = document.createElement('div');\n",
              "          docLink.innerHTML = docLinkHtml;\n",
              "          element.appendChild(docLink);\n",
              "        }\n",
              "      </script>\n",
              "    </div>\n",
              "  </div>\n",
              "  "
            ]
          },
          "metadata": {},
          "execution_count": 10
        }
      ],
      "source": [
        "df.head(2)"
      ]
    },
    {
      "cell_type": "code",
      "execution_count": 11,
      "metadata": {
        "id": "YjhK5W3wE9gu",
        "colab": {
          "base_uri": "https://localhost:8080/"
        },
        "outputId": "c0dca4f1-c463-4e86-dcdc-09b005e66a85"
      },
      "outputs": [
        {
          "output_type": "stream",
          "name": "stdout",
          "text": [
            "<class 'pandas.core.frame.DataFrame'>\n",
            "RangeIndex: 6859 entries, 0 to 6858\n",
            "Data columns (total 36 columns):\n",
            " #   Column           Non-Null Count  Dtype  \n",
            "---  ------           --------------  -----  \n",
            " 0   id               6859 non-null   int64  \n",
            " 1   conversation_id  6859 non-null   int64  \n",
            " 2   created_at       6859 non-null   object \n",
            " 3   date             6859 non-null   object \n",
            " 4   time             6859 non-null   object \n",
            " 5   timezone         6859 non-null   int64  \n",
            " 6   user_id          6859 non-null   int64  \n",
            " 7   username         6859 non-null   object \n",
            " 8   name             6859 non-null   object \n",
            " 9   place            2 non-null      object \n",
            " 10  tweet            6859 non-null   object \n",
            " 11  language         6859 non-null   object \n",
            " 12  mentions         6859 non-null   object \n",
            " 13  urls             6859 non-null   object \n",
            " 14  photos           6859 non-null   object \n",
            " 15  replies_count    6859 non-null   int64  \n",
            " 16  retweets_count   6859 non-null   int64  \n",
            " 17  likes_count      6859 non-null   int64  \n",
            " 18  hashtags         6859 non-null   object \n",
            " 19  cashtags         6859 non-null   object \n",
            " 20  link             6859 non-null   object \n",
            " 21  retweet          6859 non-null   bool   \n",
            " 22  quote_url        587 non-null    object \n",
            " 23  video            6859 non-null   int64  \n",
            " 24  thumbnail        658 non-null    object \n",
            " 25  near             0 non-null      float64\n",
            " 26  geo              0 non-null      float64\n",
            " 27  source           0 non-null      float64\n",
            " 28  user_rt_id       0 non-null      float64\n",
            " 29  user_rt          0 non-null      float64\n",
            " 30  retweet_id       0 non-null      float64\n",
            " 31  reply_to         6859 non-null   object \n",
            " 32  retweet_date     0 non-null      float64\n",
            " 33  translate        0 non-null      float64\n",
            " 34  trans_src        0 non-null      float64\n",
            " 35  trans_dest       0 non-null      float64\n",
            "dtypes: bool(1), float64(10), int64(8), object(17)\n",
            "memory usage: 1.8+ MB\n"
          ]
        }
      ],
      "source": [
        "df.info()"
      ]
    },
    {
      "cell_type": "code",
      "execution_count": 12,
      "metadata": {
        "id": "qKXgvoqwHkPF",
        "colab": {
          "base_uri": "https://localhost:8080/",
          "height": 364
        },
        "outputId": "90ca71b0-280c-4c67-d78d-3246e510ce5e"
      },
      "outputs": [
        {
          "output_type": "execute_result",
          "data": {
            "text/plain": [
              "                 id  conversation_id  timezone       user_id  replies_count  \\\n",
              "count  6.859000e+03     6.859000e+03    6859.0  6.859000e+03    6859.000000   \n",
              "mean   1.555764e+18     1.555192e+18     530.0  7.224884e+17       0.399038   \n",
              "std    2.541498e+13     1.168003e+16       0.0  6.620987e+17       1.789475   \n",
              "min    1.555725e+18     8.510359e+17     530.0  3.989300e+04       0.000000   \n",
              "25%    1.555742e+18     1.555720e+18     530.0  4.906582e+08       0.000000   \n",
              "50%    1.555760e+18     1.555746e+18     530.0  8.977771e+17       0.000000   \n",
              "75%    1.555784e+18     1.555774e+18     530.0  1.395422e+18       0.000000   \n",
              "max    1.555815e+18     1.555815e+18     530.0  1.555798e+18      68.000000   \n",
              "\n",
              "       retweets_count  likes_count        video  near  geo  source  \\\n",
              "count     6859.000000  6859.000000  6859.000000   0.0  0.0     0.0   \n",
              "mean         0.691938     3.053944     0.095932   NaN  NaN     NaN   \n",
              "std         11.879167    40.567536     0.294520   NaN  NaN     NaN   \n",
              "min          0.000000     0.000000     0.000000   NaN  NaN     NaN   \n",
              "25%          0.000000     0.000000     0.000000   NaN  NaN     NaN   \n",
              "50%          0.000000     0.000000     0.000000   NaN  NaN     NaN   \n",
              "75%          0.000000     1.000000     0.000000   NaN  NaN     NaN   \n",
              "max        740.000000  2180.000000     1.000000   NaN  NaN     NaN   \n",
              "\n",
              "       user_rt_id  user_rt  retweet_id  retweet_date  translate  trans_src  \\\n",
              "count         0.0      0.0         0.0           0.0        0.0        0.0   \n",
              "mean          NaN      NaN         NaN           NaN        NaN        NaN   \n",
              "std           NaN      NaN         NaN           NaN        NaN        NaN   \n",
              "min           NaN      NaN         NaN           NaN        NaN        NaN   \n",
              "25%           NaN      NaN         NaN           NaN        NaN        NaN   \n",
              "50%           NaN      NaN         NaN           NaN        NaN        NaN   \n",
              "75%           NaN      NaN         NaN           NaN        NaN        NaN   \n",
              "max           NaN      NaN         NaN           NaN        NaN        NaN   \n",
              "\n",
              "       trans_dest  \n",
              "count         0.0  \n",
              "mean          NaN  \n",
              "std           NaN  \n",
              "min           NaN  \n",
              "25%           NaN  \n",
              "50%           NaN  \n",
              "75%           NaN  \n",
              "max           NaN  "
            ],
            "text/html": [
              "\n",
              "  <div id=\"df-156705d7-bd85-4c9e-bfaa-9831428abd15\">\n",
              "    <div class=\"colab-df-container\">\n",
              "      <div>\n",
              "<style scoped>\n",
              "    .dataframe tbody tr th:only-of-type {\n",
              "        vertical-align: middle;\n",
              "    }\n",
              "\n",
              "    .dataframe tbody tr th {\n",
              "        vertical-align: top;\n",
              "    }\n",
              "\n",
              "    .dataframe thead th {\n",
              "        text-align: right;\n",
              "    }\n",
              "</style>\n",
              "<table border=\"1\" class=\"dataframe\">\n",
              "  <thead>\n",
              "    <tr style=\"text-align: right;\">\n",
              "      <th></th>\n",
              "      <th>id</th>\n",
              "      <th>conversation_id</th>\n",
              "      <th>timezone</th>\n",
              "      <th>user_id</th>\n",
              "      <th>replies_count</th>\n",
              "      <th>retweets_count</th>\n",
              "      <th>likes_count</th>\n",
              "      <th>video</th>\n",
              "      <th>near</th>\n",
              "      <th>geo</th>\n",
              "      <th>source</th>\n",
              "      <th>user_rt_id</th>\n",
              "      <th>user_rt</th>\n",
              "      <th>retweet_id</th>\n",
              "      <th>retweet_date</th>\n",
              "      <th>translate</th>\n",
              "      <th>trans_src</th>\n",
              "      <th>trans_dest</th>\n",
              "    </tr>\n",
              "  </thead>\n",
              "  <tbody>\n",
              "    <tr>\n",
              "      <th>count</th>\n",
              "      <td>6.859000e+03</td>\n",
              "      <td>6.859000e+03</td>\n",
              "      <td>6859.0</td>\n",
              "      <td>6.859000e+03</td>\n",
              "      <td>6859.000000</td>\n",
              "      <td>6859.000000</td>\n",
              "      <td>6859.000000</td>\n",
              "      <td>6859.000000</td>\n",
              "      <td>0.0</td>\n",
              "      <td>0.0</td>\n",
              "      <td>0.0</td>\n",
              "      <td>0.0</td>\n",
              "      <td>0.0</td>\n",
              "      <td>0.0</td>\n",
              "      <td>0.0</td>\n",
              "      <td>0.0</td>\n",
              "      <td>0.0</td>\n",
              "      <td>0.0</td>\n",
              "    </tr>\n",
              "    <tr>\n",
              "      <th>mean</th>\n",
              "      <td>1.555764e+18</td>\n",
              "      <td>1.555192e+18</td>\n",
              "      <td>530.0</td>\n",
              "      <td>7.224884e+17</td>\n",
              "      <td>0.399038</td>\n",
              "      <td>0.691938</td>\n",
              "      <td>3.053944</td>\n",
              "      <td>0.095932</td>\n",
              "      <td>NaN</td>\n",
              "      <td>NaN</td>\n",
              "      <td>NaN</td>\n",
              "      <td>NaN</td>\n",
              "      <td>NaN</td>\n",
              "      <td>NaN</td>\n",
              "      <td>NaN</td>\n",
              "      <td>NaN</td>\n",
              "      <td>NaN</td>\n",
              "      <td>NaN</td>\n",
              "    </tr>\n",
              "    <tr>\n",
              "      <th>std</th>\n",
              "      <td>2.541498e+13</td>\n",
              "      <td>1.168003e+16</td>\n",
              "      <td>0.0</td>\n",
              "      <td>6.620987e+17</td>\n",
              "      <td>1.789475</td>\n",
              "      <td>11.879167</td>\n",
              "      <td>40.567536</td>\n",
              "      <td>0.294520</td>\n",
              "      <td>NaN</td>\n",
              "      <td>NaN</td>\n",
              "      <td>NaN</td>\n",
              "      <td>NaN</td>\n",
              "      <td>NaN</td>\n",
              "      <td>NaN</td>\n",
              "      <td>NaN</td>\n",
              "      <td>NaN</td>\n",
              "      <td>NaN</td>\n",
              "      <td>NaN</td>\n",
              "    </tr>\n",
              "    <tr>\n",
              "      <th>min</th>\n",
              "      <td>1.555725e+18</td>\n",
              "      <td>8.510359e+17</td>\n",
              "      <td>530.0</td>\n",
              "      <td>3.989300e+04</td>\n",
              "      <td>0.000000</td>\n",
              "      <td>0.000000</td>\n",
              "      <td>0.000000</td>\n",
              "      <td>0.000000</td>\n",
              "      <td>NaN</td>\n",
              "      <td>NaN</td>\n",
              "      <td>NaN</td>\n",
              "      <td>NaN</td>\n",
              "      <td>NaN</td>\n",
              "      <td>NaN</td>\n",
              "      <td>NaN</td>\n",
              "      <td>NaN</td>\n",
              "      <td>NaN</td>\n",
              "      <td>NaN</td>\n",
              "    </tr>\n",
              "    <tr>\n",
              "      <th>25%</th>\n",
              "      <td>1.555742e+18</td>\n",
              "      <td>1.555720e+18</td>\n",
              "      <td>530.0</td>\n",
              "      <td>4.906582e+08</td>\n",
              "      <td>0.000000</td>\n",
              "      <td>0.000000</td>\n",
              "      <td>0.000000</td>\n",
              "      <td>0.000000</td>\n",
              "      <td>NaN</td>\n",
              "      <td>NaN</td>\n",
              "      <td>NaN</td>\n",
              "      <td>NaN</td>\n",
              "      <td>NaN</td>\n",
              "      <td>NaN</td>\n",
              "      <td>NaN</td>\n",
              "      <td>NaN</td>\n",
              "      <td>NaN</td>\n",
              "      <td>NaN</td>\n",
              "    </tr>\n",
              "    <tr>\n",
              "      <th>50%</th>\n",
              "      <td>1.555760e+18</td>\n",
              "      <td>1.555746e+18</td>\n",
              "      <td>530.0</td>\n",
              "      <td>8.977771e+17</td>\n",
              "      <td>0.000000</td>\n",
              "      <td>0.000000</td>\n",
              "      <td>0.000000</td>\n",
              "      <td>0.000000</td>\n",
              "      <td>NaN</td>\n",
              "      <td>NaN</td>\n",
              "      <td>NaN</td>\n",
              "      <td>NaN</td>\n",
              "      <td>NaN</td>\n",
              "      <td>NaN</td>\n",
              "      <td>NaN</td>\n",
              "      <td>NaN</td>\n",
              "      <td>NaN</td>\n",
              "      <td>NaN</td>\n",
              "    </tr>\n",
              "    <tr>\n",
              "      <th>75%</th>\n",
              "      <td>1.555784e+18</td>\n",
              "      <td>1.555774e+18</td>\n",
              "      <td>530.0</td>\n",
              "      <td>1.395422e+18</td>\n",
              "      <td>0.000000</td>\n",
              "      <td>0.000000</td>\n",
              "      <td>1.000000</td>\n",
              "      <td>0.000000</td>\n",
              "      <td>NaN</td>\n",
              "      <td>NaN</td>\n",
              "      <td>NaN</td>\n",
              "      <td>NaN</td>\n",
              "      <td>NaN</td>\n",
              "      <td>NaN</td>\n",
              "      <td>NaN</td>\n",
              "      <td>NaN</td>\n",
              "      <td>NaN</td>\n",
              "      <td>NaN</td>\n",
              "    </tr>\n",
              "    <tr>\n",
              "      <th>max</th>\n",
              "      <td>1.555815e+18</td>\n",
              "      <td>1.555815e+18</td>\n",
              "      <td>530.0</td>\n",
              "      <td>1.555798e+18</td>\n",
              "      <td>68.000000</td>\n",
              "      <td>740.000000</td>\n",
              "      <td>2180.000000</td>\n",
              "      <td>1.000000</td>\n",
              "      <td>NaN</td>\n",
              "      <td>NaN</td>\n",
              "      <td>NaN</td>\n",
              "      <td>NaN</td>\n",
              "      <td>NaN</td>\n",
              "      <td>NaN</td>\n",
              "      <td>NaN</td>\n",
              "      <td>NaN</td>\n",
              "      <td>NaN</td>\n",
              "      <td>NaN</td>\n",
              "    </tr>\n",
              "  </tbody>\n",
              "</table>\n",
              "</div>\n",
              "      <button class=\"colab-df-convert\" onclick=\"convertToInteractive('df-156705d7-bd85-4c9e-bfaa-9831428abd15')\"\n",
              "              title=\"Convert this dataframe to an interactive table.\"\n",
              "              style=\"display:none;\">\n",
              "        \n",
              "  <svg xmlns=\"http://www.w3.org/2000/svg\" height=\"24px\"viewBox=\"0 0 24 24\"\n",
              "       width=\"24px\">\n",
              "    <path d=\"M0 0h24v24H0V0z\" fill=\"none\"/>\n",
              "    <path d=\"M18.56 5.44l.94 2.06.94-2.06 2.06-.94-2.06-.94-.94-2.06-.94 2.06-2.06.94zm-11 1L8.5 8.5l.94-2.06 2.06-.94-2.06-.94L8.5 2.5l-.94 2.06-2.06.94zm10 10l.94 2.06.94-2.06 2.06-.94-2.06-.94-.94-2.06-.94 2.06-2.06.94z\"/><path d=\"M17.41 7.96l-1.37-1.37c-.4-.4-.92-.59-1.43-.59-.52 0-1.04.2-1.43.59L10.3 9.45l-7.72 7.72c-.78.78-.78 2.05 0 2.83L4 21.41c.39.39.9.59 1.41.59.51 0 1.02-.2 1.41-.59l7.78-7.78 2.81-2.81c.8-.78.8-2.07 0-2.86zM5.41 20L4 18.59l7.72-7.72 1.47 1.35L5.41 20z\"/>\n",
              "  </svg>\n",
              "      </button>\n",
              "      \n",
              "  <style>\n",
              "    .colab-df-container {\n",
              "      display:flex;\n",
              "      flex-wrap:wrap;\n",
              "      gap: 12px;\n",
              "    }\n",
              "\n",
              "    .colab-df-convert {\n",
              "      background-color: #E8F0FE;\n",
              "      border: none;\n",
              "      border-radius: 50%;\n",
              "      cursor: pointer;\n",
              "      display: none;\n",
              "      fill: #1967D2;\n",
              "      height: 32px;\n",
              "      padding: 0 0 0 0;\n",
              "      width: 32px;\n",
              "    }\n",
              "\n",
              "    .colab-df-convert:hover {\n",
              "      background-color: #E2EBFA;\n",
              "      box-shadow: 0px 1px 2px rgba(60, 64, 67, 0.3), 0px 1px 3px 1px rgba(60, 64, 67, 0.15);\n",
              "      fill: #174EA6;\n",
              "    }\n",
              "\n",
              "    [theme=dark] .colab-df-convert {\n",
              "      background-color: #3B4455;\n",
              "      fill: #D2E3FC;\n",
              "    }\n",
              "\n",
              "    [theme=dark] .colab-df-convert:hover {\n",
              "      background-color: #434B5C;\n",
              "      box-shadow: 0px 1px 3px 1px rgba(0, 0, 0, 0.15);\n",
              "      filter: drop-shadow(0px 1px 2px rgba(0, 0, 0, 0.3));\n",
              "      fill: #FFFFFF;\n",
              "    }\n",
              "  </style>\n",
              "\n",
              "      <script>\n",
              "        const buttonEl =\n",
              "          document.querySelector('#df-156705d7-bd85-4c9e-bfaa-9831428abd15 button.colab-df-convert');\n",
              "        buttonEl.style.display =\n",
              "          google.colab.kernel.accessAllowed ? 'block' : 'none';\n",
              "\n",
              "        async function convertToInteractive(key) {\n",
              "          const element = document.querySelector('#df-156705d7-bd85-4c9e-bfaa-9831428abd15');\n",
              "          const dataTable =\n",
              "            await google.colab.kernel.invokeFunction('convertToInteractive',\n",
              "                                                     [key], {});\n",
              "          if (!dataTable) return;\n",
              "\n",
              "          const docLinkHtml = 'Like what you see? Visit the ' +\n",
              "            '<a target=\"_blank\" href=https://colab.research.google.com/notebooks/data_table.ipynb>data table notebook</a>'\n",
              "            + ' to learn more about interactive tables.';\n",
              "          element.innerHTML = '';\n",
              "          dataTable['output_type'] = 'display_data';\n",
              "          await google.colab.output.renderOutput(dataTable, element);\n",
              "          const docLink = document.createElement('div');\n",
              "          docLink.innerHTML = docLinkHtml;\n",
              "          element.appendChild(docLink);\n",
              "        }\n",
              "      </script>\n",
              "    </div>\n",
              "  </div>\n",
              "  "
            ]
          },
          "metadata": {},
          "execution_count": 12
        }
      ],
      "source": [
        "df.describe()"
      ]
    },
    {
      "cell_type": "code",
      "execution_count": 13,
      "metadata": {
        "id": "E9KmD81nEwgq",
        "colab": {
          "base_uri": "https://localhost:8080/"
        },
        "outputId": "95c54af4-0562-49e6-91e2-c23571496e97"
      },
      "outputs": [
        {
          "output_type": "execute_result",
          "data": {
            "text/plain": [
              "['id',\n",
              " 'conversation_id',\n",
              " 'created_at',\n",
              " 'date',\n",
              " 'time',\n",
              " 'timezone',\n",
              " 'user_id',\n",
              " 'username',\n",
              " 'name',\n",
              " 'place',\n",
              " 'tweet',\n",
              " 'language',\n",
              " 'mentions',\n",
              " 'urls',\n",
              " 'photos',\n",
              " 'replies_count',\n",
              " 'retweets_count',\n",
              " 'likes_count',\n",
              " 'hashtags',\n",
              " 'cashtags',\n",
              " 'link',\n",
              " 'retweet',\n",
              " 'quote_url',\n",
              " 'video',\n",
              " 'thumbnail',\n",
              " 'near',\n",
              " 'geo',\n",
              " 'source',\n",
              " 'user_rt_id',\n",
              " 'user_rt',\n",
              " 'retweet_id',\n",
              " 'reply_to',\n",
              " 'retweet_date',\n",
              " 'translate',\n",
              " 'trans_src',\n",
              " 'trans_dest']"
            ]
          },
          "metadata": {},
          "execution_count": 13
        }
      ],
      "source": [
        "cols_list = list(df.columns)\n",
        "cols_list"
      ]
    },
    {
      "cell_type": "code",
      "execution_count": 14,
      "metadata": {
        "id": "Kv-CMSoMExfA",
        "colab": {
          "base_uri": "https://localhost:8080/"
        },
        "outputId": "8ddf7a20-6609-4ac5-b3bf-625c738bc118"
      },
      "outputs": [
        {
          "output_type": "execute_result",
          "data": {
            "text/plain": [
              "0       So has anyone begun to compile 'here's the sta...\n",
              "1       Getting some groceries, topic shifted to covid...\n",
              "2       \"Illinois Children's Daycare Worker Tests Posi...\n",
              "3       Illinois daycare worker tests positive for mon...\n",
              "4       @Natrone86 @JunotIsrael @elcavaqueen @thechicc...\n",
              "                              ...                        \n",
              "6854    @hurtmeknots With Monkeypox on the rise, maybe...\n",
              "6855    @FITNESSSF can you start filling up the disinf...\n",
              "6856       @politvidchannel 71% already have monkey pox .\n",
              "6857                            RT if you have #monkeypox\n",
              "6858    @POTUS @VP 🥰 Dems 🇺🇸💙 are having the best jobs...\n",
              "Name: tweet, Length: 6859, dtype: object"
            ]
          },
          "metadata": {},
          "execution_count": 14
        }
      ],
      "source": [
        "df['tweet']"
      ]
    },
    {
      "cell_type": "markdown",
      "metadata": {
        "id": "y8bzxErCFMH0"
      },
      "source": [
        "* RangeIndex: 6859 entries, 0 to 6858\n",
        "* Data columns (total 36 columns)"
      ]
    },
    {
      "cell_type": "markdown",
      "metadata": {
        "id": "gOaVANqDPdyW"
      },
      "source": [
        "### Corpus `tweets`"
      ]
    },
    {
      "cell_type": "code",
      "execution_count": 15,
      "metadata": {
        "id": "P1dHMD7eINnP",
        "colab": {
          "base_uri": "https://localhost:8080/",
          "height": 112
        },
        "outputId": "1820f1b3-6345-4dee-86db-5d3e287b08ad"
      },
      "outputs": [
        {
          "output_type": "execute_result",
          "data": {
            "text/plain": [
              "  language        date      username hashtags  \\\n",
              "0       en  2022-08-06  thetenth2022       []   \n",
              "1       en  2022-08-06     ashemedai       []   \n",
              "\n",
              "                                               tweet  \n",
              "0  So has anyone begun to compile 'here's the sta...  \n",
              "1  Getting some groceries, topic shifted to covid...  "
            ],
            "text/html": [
              "\n",
              "  <div id=\"df-ea1e5130-40c0-477d-a618-43bc399f7ad1\">\n",
              "    <div class=\"colab-df-container\">\n",
              "      <div>\n",
              "<style scoped>\n",
              "    .dataframe tbody tr th:only-of-type {\n",
              "        vertical-align: middle;\n",
              "    }\n",
              "\n",
              "    .dataframe tbody tr th {\n",
              "        vertical-align: top;\n",
              "    }\n",
              "\n",
              "    .dataframe thead th {\n",
              "        text-align: right;\n",
              "    }\n",
              "</style>\n",
              "<table border=\"1\" class=\"dataframe\">\n",
              "  <thead>\n",
              "    <tr style=\"text-align: right;\">\n",
              "      <th></th>\n",
              "      <th>language</th>\n",
              "      <th>date</th>\n",
              "      <th>username</th>\n",
              "      <th>hashtags</th>\n",
              "      <th>tweet</th>\n",
              "    </tr>\n",
              "  </thead>\n",
              "  <tbody>\n",
              "    <tr>\n",
              "      <th>0</th>\n",
              "      <td>en</td>\n",
              "      <td>2022-08-06</td>\n",
              "      <td>thetenth2022</td>\n",
              "      <td>[]</td>\n",
              "      <td>So has anyone begun to compile 'here's the sta...</td>\n",
              "    </tr>\n",
              "    <tr>\n",
              "      <th>1</th>\n",
              "      <td>en</td>\n",
              "      <td>2022-08-06</td>\n",
              "      <td>ashemedai</td>\n",
              "      <td>[]</td>\n",
              "      <td>Getting some groceries, topic shifted to covid...</td>\n",
              "    </tr>\n",
              "  </tbody>\n",
              "</table>\n",
              "</div>\n",
              "      <button class=\"colab-df-convert\" onclick=\"convertToInteractive('df-ea1e5130-40c0-477d-a618-43bc399f7ad1')\"\n",
              "              title=\"Convert this dataframe to an interactive table.\"\n",
              "              style=\"display:none;\">\n",
              "        \n",
              "  <svg xmlns=\"http://www.w3.org/2000/svg\" height=\"24px\"viewBox=\"0 0 24 24\"\n",
              "       width=\"24px\">\n",
              "    <path d=\"M0 0h24v24H0V0z\" fill=\"none\"/>\n",
              "    <path d=\"M18.56 5.44l.94 2.06.94-2.06 2.06-.94-2.06-.94-.94-2.06-.94 2.06-2.06.94zm-11 1L8.5 8.5l.94-2.06 2.06-.94-2.06-.94L8.5 2.5l-.94 2.06-2.06.94zm10 10l.94 2.06.94-2.06 2.06-.94-2.06-.94-.94-2.06-.94 2.06-2.06.94z\"/><path d=\"M17.41 7.96l-1.37-1.37c-.4-.4-.92-.59-1.43-.59-.52 0-1.04.2-1.43.59L10.3 9.45l-7.72 7.72c-.78.78-.78 2.05 0 2.83L4 21.41c.39.39.9.59 1.41.59.51 0 1.02-.2 1.41-.59l7.78-7.78 2.81-2.81c.8-.78.8-2.07 0-2.86zM5.41 20L4 18.59l7.72-7.72 1.47 1.35L5.41 20z\"/>\n",
              "  </svg>\n",
              "      </button>\n",
              "      \n",
              "  <style>\n",
              "    .colab-df-container {\n",
              "      display:flex;\n",
              "      flex-wrap:wrap;\n",
              "      gap: 12px;\n",
              "    }\n",
              "\n",
              "    .colab-df-convert {\n",
              "      background-color: #E8F0FE;\n",
              "      border: none;\n",
              "      border-radius: 50%;\n",
              "      cursor: pointer;\n",
              "      display: none;\n",
              "      fill: #1967D2;\n",
              "      height: 32px;\n",
              "      padding: 0 0 0 0;\n",
              "      width: 32px;\n",
              "    }\n",
              "\n",
              "    .colab-df-convert:hover {\n",
              "      background-color: #E2EBFA;\n",
              "      box-shadow: 0px 1px 2px rgba(60, 64, 67, 0.3), 0px 1px 3px 1px rgba(60, 64, 67, 0.15);\n",
              "      fill: #174EA6;\n",
              "    }\n",
              "\n",
              "    [theme=dark] .colab-df-convert {\n",
              "      background-color: #3B4455;\n",
              "      fill: #D2E3FC;\n",
              "    }\n",
              "\n",
              "    [theme=dark] .colab-df-convert:hover {\n",
              "      background-color: #434B5C;\n",
              "      box-shadow: 0px 1px 3px 1px rgba(0, 0, 0, 0.15);\n",
              "      filter: drop-shadow(0px 1px 2px rgba(0, 0, 0, 0.3));\n",
              "      fill: #FFFFFF;\n",
              "    }\n",
              "  </style>\n",
              "\n",
              "      <script>\n",
              "        const buttonEl =\n",
              "          document.querySelector('#df-ea1e5130-40c0-477d-a618-43bc399f7ad1 button.colab-df-convert');\n",
              "        buttonEl.style.display =\n",
              "          google.colab.kernel.accessAllowed ? 'block' : 'none';\n",
              "\n",
              "        async function convertToInteractive(key) {\n",
              "          const element = document.querySelector('#df-ea1e5130-40c0-477d-a618-43bc399f7ad1');\n",
              "          const dataTable =\n",
              "            await google.colab.kernel.invokeFunction('convertToInteractive',\n",
              "                                                     [key], {});\n",
              "          if (!dataTable) return;\n",
              "\n",
              "          const docLinkHtml = 'Like what you see? Visit the ' +\n",
              "            '<a target=\"_blank\" href=https://colab.research.google.com/notebooks/data_table.ipynb>data table notebook</a>'\n",
              "            + ' to learn more about interactive tables.';\n",
              "          element.innerHTML = '';\n",
              "          dataTable['output_type'] = 'display_data';\n",
              "          await google.colab.output.renderOutput(dataTable, element);\n",
              "          const docLink = document.createElement('div');\n",
              "          docLink.innerHTML = docLinkHtml;\n",
              "          element.appendChild(docLink);\n",
              "        }\n",
              "      </script>\n",
              "    </div>\n",
              "  </div>\n",
              "  "
            ]
          },
          "metadata": {},
          "execution_count": 15
        }
      ],
      "source": [
        "tweets = df[['language','date','username','hashtags','tweet']]\n",
        "tweets.head(2)"
      ]
    },
    {
      "cell_type": "code",
      "execution_count": 16,
      "metadata": {
        "id": "FVfBoFtpKRAc",
        "colab": {
          "base_uri": "https://localhost:8080/"
        },
        "outputId": "bf4741ca-9d0b-4dd9-e33d-d56d9f7a539b"
      },
      "outputs": [
        {
          "output_type": "stream",
          "name": "stdout",
          "text": [
            "<class 'pandas.core.frame.DataFrame'>\n",
            "RangeIndex: 6859 entries, 0 to 6858\n",
            "Data columns (total 5 columns):\n",
            " #   Column    Non-Null Count  Dtype \n",
            "---  ------    --------------  ----- \n",
            " 0   language  6859 non-null   object\n",
            " 1   date      6859 non-null   object\n",
            " 2   username  6859 non-null   object\n",
            " 3   hashtags  6859 non-null   object\n",
            " 4   tweet     6859 non-null   object\n",
            "dtypes: object(5)\n",
            "memory usage: 268.1+ KB\n"
          ]
        }
      ],
      "source": [
        "tweets.info()"
      ]
    },
    {
      "cell_type": "code",
      "execution_count": 17,
      "metadata": {
        "id": "wHSEPHPRKqVm",
        "colab": {
          "base_uri": "https://localhost:8080/"
        },
        "outputId": "435bf18b-bf40-4ab8-ebbf-820911ed4da9"
      },
      "outputs": [
        {
          "output_type": "execute_result",
          "data": {
            "text/plain": [
              "6028"
            ]
          },
          "metadata": {},
          "execution_count": 17
        }
      ],
      "source": [
        "tweets['username'].nunique()"
      ]
    },
    {
      "cell_type": "code",
      "execution_count": 18,
      "metadata": {
        "id": "eObt84ozIrbo",
        "colab": {
          "base_uri": "https://localhost:8080/"
        },
        "outputId": "7ffd785a-c760-4438-f597-78b94bc09455"
      },
      "outputs": [
        {
          "output_type": "execute_result",
          "data": {
            "text/plain": [
              "array(['en', 'kn', 'de', 'in', 'tl', 'fr', 'pt', 'te', 'tr', 'it', 'qme',\n",
              "       'bn', 'qht', 'pl', 'es', 'el', 'nl', 'cy', 'ta', 'hi', 'sv', 'ja',\n",
              "       'th', 'mr', 'et', 'gu', 'da', 'ro', 'ml', 'zxx', 'und', 'pa', 'ur',\n",
              "       'ko', 'am', 'fi', 'zh', 'lt', 'hu', 'ru', 'ar', 'si'], dtype=object)"
            ]
          },
          "metadata": {},
          "execution_count": 18
        }
      ],
      "source": [
        "# How many languages? \n",
        "tweets['language'].unique()"
      ]
    },
    {
      "cell_type": "code",
      "execution_count": 19,
      "metadata": {
        "id": "85bBZU97JxGI",
        "colab": {
          "base_uri": "https://localhost:8080/"
        },
        "outputId": "9bc460c8-d2f2-4425-ff69-75bdb71866f7"
      },
      "outputs": [
        {
          "output_type": "stream",
          "name": "stdout",
          "text": [
            "English entries: 6410\n",
            "Spanish entries: 51\n",
            "Italian entries: 10\n"
          ]
        }
      ],
      "source": [
        "# How many tweets in English?\n",
        "print('English entries:', (tweets[tweets[\"language\"] == 'en'].count())['language'])\n",
        "\n",
        "# How many tweets in other languages?\n",
        "print('Spanish entries:', (tweets[tweets[\"language\"] == 'es'].count())['language'])\n",
        "print('Italian entries:', (tweets[tweets[\"language\"] == 'it'].count())['language'])"
      ]
    },
    {
      "cell_type": "code",
      "execution_count": 20,
      "metadata": {
        "id": "J_yic6fZLT1m"
      },
      "outputs": [],
      "source": [
        "# Keep only English languge tweets\n",
        "tweets = tweets[(tweets['language'] == 'en')]"
      ]
    },
    {
      "cell_type": "code",
      "source": [
        "tweets.info()"
      ],
      "metadata": {
        "id": "KszlRGQ_bXeB",
        "colab": {
          "base_uri": "https://localhost:8080/"
        },
        "outputId": "542a9a0b-2f11-44bc-a8a1-ac5ac9e62981"
      },
      "execution_count": 21,
      "outputs": [
        {
          "output_type": "stream",
          "name": "stdout",
          "text": [
            "<class 'pandas.core.frame.DataFrame'>\n",
            "Int64Index: 6410 entries, 0 to 6858\n",
            "Data columns (total 5 columns):\n",
            " #   Column    Non-Null Count  Dtype \n",
            "---  ------    --------------  ----- \n",
            " 0   language  6410 non-null   object\n",
            " 1   date      6410 non-null   object\n",
            " 2   username  6410 non-null   object\n",
            " 3   hashtags  6410 non-null   object\n",
            " 4   tweet     6410 non-null   object\n",
            "dtypes: object(5)\n",
            "memory usage: 300.5+ KB\n"
          ]
        }
      ]
    },
    {
      "cell_type": "code",
      "execution_count": 22,
      "metadata": {
        "id": "BsHh6TcUKxY5",
        "colab": {
          "base_uri": "https://localhost:8080/",
          "height": 112
        },
        "outputId": "0a4309d6-b496-469d-b0eb-dc6883d47569"
      },
      "outputs": [
        {
          "output_type": "execute_result",
          "data": {
            "text/plain": [
              "  language        date      username hashtags  \\\n",
              "0       en  2022-08-06  thetenth2022       []   \n",
              "1       en  2022-08-06     ashemedai       []   \n",
              "\n",
              "                                               tweet  \n",
              "0  So has anyone begun to compile 'here's the sta...  \n",
              "1  Getting some groceries, topic shifted to covid...  "
            ],
            "text/html": [
              "\n",
              "  <div id=\"df-23b87c92-6631-4b20-ad5a-0b763fb537d5\">\n",
              "    <div class=\"colab-df-container\">\n",
              "      <div>\n",
              "<style scoped>\n",
              "    .dataframe tbody tr th:only-of-type {\n",
              "        vertical-align: middle;\n",
              "    }\n",
              "\n",
              "    .dataframe tbody tr th {\n",
              "        vertical-align: top;\n",
              "    }\n",
              "\n",
              "    .dataframe thead th {\n",
              "        text-align: right;\n",
              "    }\n",
              "</style>\n",
              "<table border=\"1\" class=\"dataframe\">\n",
              "  <thead>\n",
              "    <tr style=\"text-align: right;\">\n",
              "      <th></th>\n",
              "      <th>language</th>\n",
              "      <th>date</th>\n",
              "      <th>username</th>\n",
              "      <th>hashtags</th>\n",
              "      <th>tweet</th>\n",
              "    </tr>\n",
              "  </thead>\n",
              "  <tbody>\n",
              "    <tr>\n",
              "      <th>0</th>\n",
              "      <td>en</td>\n",
              "      <td>2022-08-06</td>\n",
              "      <td>thetenth2022</td>\n",
              "      <td>[]</td>\n",
              "      <td>So has anyone begun to compile 'here's the sta...</td>\n",
              "    </tr>\n",
              "    <tr>\n",
              "      <th>1</th>\n",
              "      <td>en</td>\n",
              "      <td>2022-08-06</td>\n",
              "      <td>ashemedai</td>\n",
              "      <td>[]</td>\n",
              "      <td>Getting some groceries, topic shifted to covid...</td>\n",
              "    </tr>\n",
              "  </tbody>\n",
              "</table>\n",
              "</div>\n",
              "      <button class=\"colab-df-convert\" onclick=\"convertToInteractive('df-23b87c92-6631-4b20-ad5a-0b763fb537d5')\"\n",
              "              title=\"Convert this dataframe to an interactive table.\"\n",
              "              style=\"display:none;\">\n",
              "        \n",
              "  <svg xmlns=\"http://www.w3.org/2000/svg\" height=\"24px\"viewBox=\"0 0 24 24\"\n",
              "       width=\"24px\">\n",
              "    <path d=\"M0 0h24v24H0V0z\" fill=\"none\"/>\n",
              "    <path d=\"M18.56 5.44l.94 2.06.94-2.06 2.06-.94-2.06-.94-.94-2.06-.94 2.06-2.06.94zm-11 1L8.5 8.5l.94-2.06 2.06-.94-2.06-.94L8.5 2.5l-.94 2.06-2.06.94zm10 10l.94 2.06.94-2.06 2.06-.94-2.06-.94-.94-2.06-.94 2.06-2.06.94z\"/><path d=\"M17.41 7.96l-1.37-1.37c-.4-.4-.92-.59-1.43-.59-.52 0-1.04.2-1.43.59L10.3 9.45l-7.72 7.72c-.78.78-.78 2.05 0 2.83L4 21.41c.39.39.9.59 1.41.59.51 0 1.02-.2 1.41-.59l7.78-7.78 2.81-2.81c.8-.78.8-2.07 0-2.86zM5.41 20L4 18.59l7.72-7.72 1.47 1.35L5.41 20z\"/>\n",
              "  </svg>\n",
              "      </button>\n",
              "      \n",
              "  <style>\n",
              "    .colab-df-container {\n",
              "      display:flex;\n",
              "      flex-wrap:wrap;\n",
              "      gap: 12px;\n",
              "    }\n",
              "\n",
              "    .colab-df-convert {\n",
              "      background-color: #E8F0FE;\n",
              "      border: none;\n",
              "      border-radius: 50%;\n",
              "      cursor: pointer;\n",
              "      display: none;\n",
              "      fill: #1967D2;\n",
              "      height: 32px;\n",
              "      padding: 0 0 0 0;\n",
              "      width: 32px;\n",
              "    }\n",
              "\n",
              "    .colab-df-convert:hover {\n",
              "      background-color: #E2EBFA;\n",
              "      box-shadow: 0px 1px 2px rgba(60, 64, 67, 0.3), 0px 1px 3px 1px rgba(60, 64, 67, 0.15);\n",
              "      fill: #174EA6;\n",
              "    }\n",
              "\n",
              "    [theme=dark] .colab-df-convert {\n",
              "      background-color: #3B4455;\n",
              "      fill: #D2E3FC;\n",
              "    }\n",
              "\n",
              "    [theme=dark] .colab-df-convert:hover {\n",
              "      background-color: #434B5C;\n",
              "      box-shadow: 0px 1px 3px 1px rgba(0, 0, 0, 0.15);\n",
              "      filter: drop-shadow(0px 1px 2px rgba(0, 0, 0, 0.3));\n",
              "      fill: #FFFFFF;\n",
              "    }\n",
              "  </style>\n",
              "\n",
              "      <script>\n",
              "        const buttonEl =\n",
              "          document.querySelector('#df-23b87c92-6631-4b20-ad5a-0b763fb537d5 button.colab-df-convert');\n",
              "        buttonEl.style.display =\n",
              "          google.colab.kernel.accessAllowed ? 'block' : 'none';\n",
              "\n",
              "        async function convertToInteractive(key) {\n",
              "          const element = document.querySelector('#df-23b87c92-6631-4b20-ad5a-0b763fb537d5');\n",
              "          const dataTable =\n",
              "            await google.colab.kernel.invokeFunction('convertToInteractive',\n",
              "                                                     [key], {});\n",
              "          if (!dataTable) return;\n",
              "\n",
              "          const docLinkHtml = 'Like what you see? Visit the ' +\n",
              "            '<a target=\"_blank\" href=https://colab.research.google.com/notebooks/data_table.ipynb>data table notebook</a>'\n",
              "            + ' to learn more about interactive tables.';\n",
              "          element.innerHTML = '';\n",
              "          dataTable['output_type'] = 'display_data';\n",
              "          await google.colab.output.renderOutput(dataTable, element);\n",
              "          const docLink = document.createElement('div');\n",
              "          docLink.innerHTML = docLinkHtml;\n",
              "          element.appendChild(docLink);\n",
              "        }\n",
              "      </script>\n",
              "    </div>\n",
              "  </div>\n",
              "  "
            ]
          },
          "metadata": {},
          "execution_count": 22
        }
      ],
      "source": [
        "tweets.head(2)"
      ]
    },
    {
      "cell_type": "code",
      "execution_count": 23,
      "metadata": {
        "id": "qXlvCWuLQX4t"
      },
      "outputs": [],
      "source": [
        "# Drop language column since we have only English tweets\n",
        "tweets = tweets.drop(columns=['language'])"
      ]
    },
    {
      "cell_type": "code",
      "source": [
        "tweets.head(10)"
      ],
      "metadata": {
        "colab": {
          "base_uri": "https://localhost:8080/",
          "height": 363
        },
        "id": "WTh8IT2aIbtr",
        "outputId": "0b4af10d-b59b-4628-e3cd-e1d9132c18cc"
      },
      "execution_count": 24,
      "outputs": [
        {
          "output_type": "execute_result",
          "data": {
            "text/plain": [
              "          date         username hashtags  \\\n",
              "0   2022-08-06     thetenth2022       []   \n",
              "1   2022-08-06        ashemedai       []   \n",
              "2   2022-08-06  democracymotion       []   \n",
              "3   2022-08-06      thegoogle93       []   \n",
              "4   2022-08-06   bufflosouljah1       []   \n",
              "5   2022-08-06  democracymotion       []   \n",
              "6   2022-08-06       salemjakes       []   \n",
              "7   2022-08-06      fineassbrei       []   \n",
              "8   2022-08-06         xenohadi       []   \n",
              "11  2022-08-06   geopoliticsind       []   \n",
              "\n",
              "                                                tweet  \n",
              "0   So has anyone begun to compile 'here's the sta...  \n",
              "1   Getting some groceries, topic shifted to covid...  \n",
              "2   \"Illinois Children's Daycare Worker Tests Posi...  \n",
              "3   Illinois daycare worker tests positive for mon...  \n",
              "4   @Natrone86 @JunotIsrael @elcavaqueen @thechicc...  \n",
              "5   \"CDC Recommends Limiting Sex Partners to Avoid...  \n",
              "6   1,058,637 Americans have died in the U.S. Covi...  \n",
              "7   MF didn’t know shit about monkey pox in June c...  \n",
              "8   Three people of African origin still admitted ...  \n",
              "11  RT-PCR detection kit for human monkeypox virus...  "
            ],
            "text/html": [
              "\n",
              "  <div id=\"df-c24c6d94-f849-4343-9e1e-a30dad24c714\">\n",
              "    <div class=\"colab-df-container\">\n",
              "      <div>\n",
              "<style scoped>\n",
              "    .dataframe tbody tr th:only-of-type {\n",
              "        vertical-align: middle;\n",
              "    }\n",
              "\n",
              "    .dataframe tbody tr th {\n",
              "        vertical-align: top;\n",
              "    }\n",
              "\n",
              "    .dataframe thead th {\n",
              "        text-align: right;\n",
              "    }\n",
              "</style>\n",
              "<table border=\"1\" class=\"dataframe\">\n",
              "  <thead>\n",
              "    <tr style=\"text-align: right;\">\n",
              "      <th></th>\n",
              "      <th>date</th>\n",
              "      <th>username</th>\n",
              "      <th>hashtags</th>\n",
              "      <th>tweet</th>\n",
              "    </tr>\n",
              "  </thead>\n",
              "  <tbody>\n",
              "    <tr>\n",
              "      <th>0</th>\n",
              "      <td>2022-08-06</td>\n",
              "      <td>thetenth2022</td>\n",
              "      <td>[]</td>\n",
              "      <td>So has anyone begun to compile 'here's the sta...</td>\n",
              "    </tr>\n",
              "    <tr>\n",
              "      <th>1</th>\n",
              "      <td>2022-08-06</td>\n",
              "      <td>ashemedai</td>\n",
              "      <td>[]</td>\n",
              "      <td>Getting some groceries, topic shifted to covid...</td>\n",
              "    </tr>\n",
              "    <tr>\n",
              "      <th>2</th>\n",
              "      <td>2022-08-06</td>\n",
              "      <td>democracymotion</td>\n",
              "      <td>[]</td>\n",
              "      <td>\"Illinois Children's Daycare Worker Tests Posi...</td>\n",
              "    </tr>\n",
              "    <tr>\n",
              "      <th>3</th>\n",
              "      <td>2022-08-06</td>\n",
              "      <td>thegoogle93</td>\n",
              "      <td>[]</td>\n",
              "      <td>Illinois daycare worker tests positive for mon...</td>\n",
              "    </tr>\n",
              "    <tr>\n",
              "      <th>4</th>\n",
              "      <td>2022-08-06</td>\n",
              "      <td>bufflosouljah1</td>\n",
              "      <td>[]</td>\n",
              "      <td>@Natrone86 @JunotIsrael @elcavaqueen @thechicc...</td>\n",
              "    </tr>\n",
              "    <tr>\n",
              "      <th>5</th>\n",
              "      <td>2022-08-06</td>\n",
              "      <td>democracymotion</td>\n",
              "      <td>[]</td>\n",
              "      <td>\"CDC Recommends Limiting Sex Partners to Avoid...</td>\n",
              "    </tr>\n",
              "    <tr>\n",
              "      <th>6</th>\n",
              "      <td>2022-08-06</td>\n",
              "      <td>salemjakes</td>\n",
              "      <td>[]</td>\n",
              "      <td>1,058,637 Americans have died in the U.S. Covi...</td>\n",
              "    </tr>\n",
              "    <tr>\n",
              "      <th>7</th>\n",
              "      <td>2022-08-06</td>\n",
              "      <td>fineassbrei</td>\n",
              "      <td>[]</td>\n",
              "      <td>MF didn’t know shit about monkey pox in June c...</td>\n",
              "    </tr>\n",
              "    <tr>\n",
              "      <th>8</th>\n",
              "      <td>2022-08-06</td>\n",
              "      <td>xenohadi</td>\n",
              "      <td>[]</td>\n",
              "      <td>Three people of African origin still admitted ...</td>\n",
              "    </tr>\n",
              "    <tr>\n",
              "      <th>11</th>\n",
              "      <td>2022-08-06</td>\n",
              "      <td>geopoliticsind</td>\n",
              "      <td>[]</td>\n",
              "      <td>RT-PCR detection kit for human monkeypox virus...</td>\n",
              "    </tr>\n",
              "  </tbody>\n",
              "</table>\n",
              "</div>\n",
              "      <button class=\"colab-df-convert\" onclick=\"convertToInteractive('df-c24c6d94-f849-4343-9e1e-a30dad24c714')\"\n",
              "              title=\"Convert this dataframe to an interactive table.\"\n",
              "              style=\"display:none;\">\n",
              "        \n",
              "  <svg xmlns=\"http://www.w3.org/2000/svg\" height=\"24px\"viewBox=\"0 0 24 24\"\n",
              "       width=\"24px\">\n",
              "    <path d=\"M0 0h24v24H0V0z\" fill=\"none\"/>\n",
              "    <path d=\"M18.56 5.44l.94 2.06.94-2.06 2.06-.94-2.06-.94-.94-2.06-.94 2.06-2.06.94zm-11 1L8.5 8.5l.94-2.06 2.06-.94-2.06-.94L8.5 2.5l-.94 2.06-2.06.94zm10 10l.94 2.06.94-2.06 2.06-.94-2.06-.94-.94-2.06-.94 2.06-2.06.94z\"/><path d=\"M17.41 7.96l-1.37-1.37c-.4-.4-.92-.59-1.43-.59-.52 0-1.04.2-1.43.59L10.3 9.45l-7.72 7.72c-.78.78-.78 2.05 0 2.83L4 21.41c.39.39.9.59 1.41.59.51 0 1.02-.2 1.41-.59l7.78-7.78 2.81-2.81c.8-.78.8-2.07 0-2.86zM5.41 20L4 18.59l7.72-7.72 1.47 1.35L5.41 20z\"/>\n",
              "  </svg>\n",
              "      </button>\n",
              "      \n",
              "  <style>\n",
              "    .colab-df-container {\n",
              "      display:flex;\n",
              "      flex-wrap:wrap;\n",
              "      gap: 12px;\n",
              "    }\n",
              "\n",
              "    .colab-df-convert {\n",
              "      background-color: #E8F0FE;\n",
              "      border: none;\n",
              "      border-radius: 50%;\n",
              "      cursor: pointer;\n",
              "      display: none;\n",
              "      fill: #1967D2;\n",
              "      height: 32px;\n",
              "      padding: 0 0 0 0;\n",
              "      width: 32px;\n",
              "    }\n",
              "\n",
              "    .colab-df-convert:hover {\n",
              "      background-color: #E2EBFA;\n",
              "      box-shadow: 0px 1px 2px rgba(60, 64, 67, 0.3), 0px 1px 3px 1px rgba(60, 64, 67, 0.15);\n",
              "      fill: #174EA6;\n",
              "    }\n",
              "\n",
              "    [theme=dark] .colab-df-convert {\n",
              "      background-color: #3B4455;\n",
              "      fill: #D2E3FC;\n",
              "    }\n",
              "\n",
              "    [theme=dark] .colab-df-convert:hover {\n",
              "      background-color: #434B5C;\n",
              "      box-shadow: 0px 1px 3px 1px rgba(0, 0, 0, 0.15);\n",
              "      filter: drop-shadow(0px 1px 2px rgba(0, 0, 0, 0.3));\n",
              "      fill: #FFFFFF;\n",
              "    }\n",
              "  </style>\n",
              "\n",
              "      <script>\n",
              "        const buttonEl =\n",
              "          document.querySelector('#df-c24c6d94-f849-4343-9e1e-a30dad24c714 button.colab-df-convert');\n",
              "        buttonEl.style.display =\n",
              "          google.colab.kernel.accessAllowed ? 'block' : 'none';\n",
              "\n",
              "        async function convertToInteractive(key) {\n",
              "          const element = document.querySelector('#df-c24c6d94-f849-4343-9e1e-a30dad24c714');\n",
              "          const dataTable =\n",
              "            await google.colab.kernel.invokeFunction('convertToInteractive',\n",
              "                                                     [key], {});\n",
              "          if (!dataTable) return;\n",
              "\n",
              "          const docLinkHtml = 'Like what you see? Visit the ' +\n",
              "            '<a target=\"_blank\" href=https://colab.research.google.com/notebooks/data_table.ipynb>data table notebook</a>'\n",
              "            + ' to learn more about interactive tables.';\n",
              "          element.innerHTML = '';\n",
              "          dataTable['output_type'] = 'display_data';\n",
              "          await google.colab.output.renderOutput(dataTable, element);\n",
              "          const docLink = document.createElement('div');\n",
              "          docLink.innerHTML = docLinkHtml;\n",
              "          element.appendChild(docLink);\n",
              "        }\n",
              "      </script>\n",
              "    </div>\n",
              "  </div>\n",
              "  "
            ]
          },
          "metadata": {},
          "execution_count": 24
        }
      ]
    },
    {
      "cell_type": "code",
      "execution_count": 25,
      "metadata": {
        "id": "Okq1YwhUP5J5"
      },
      "outputs": [],
      "source": [
        "# Save corpus\n",
        "tweets.to_pickle('/content/tweets.pkl')\n",
        "tweets.to_csv(r'/content/tweets.csv', index=False)"
      ]
    },
    {
      "cell_type": "code",
      "source": [
        "# # copy corpus csv to Google Drive for Tableau\n",
        "# shutil.copyfile('/content/tweets.csv', '/content/drive/MyDrive/tweets.csv')"
      ],
      "metadata": {
        "id": "044kPyz7Ha3O"
      },
      "execution_count": 26,
      "outputs": []
    },
    {
      "cell_type": "markdown",
      "source": [
        "# 4 | Storage"
      ],
      "metadata": {
        "id": "5WYNxkC8Vhd0"
      }
    },
    {
      "cell_type": "markdown",
      "source": [
        "#### SQL Database `monkeypox.db`"
      ],
      "metadata": {
        "id": "SZKYDeyjaST2"
      }
    },
    {
      "cell_type": "markdown",
      "source": [
        "##### helper functions"
      ],
      "metadata": {
        "id": "WosK0haUgjFI"
      }
    },
    {
      "cell_type": "code",
      "source": [
        "# https://towardsdatascience.com/have-a-sql-interview-coming-up-ace-it-using-google-colab-6d3c0ffb29dc\n",
        "\n",
        "def pd_to_sqlDB(input_df: pd.DataFrame,\n",
        "                table_name: str,\n",
        "                db_name: str = 'default.db') -> None:\n",
        "\n",
        "    # # Setup local logging\n",
        "    # logging.basicConfig(level=logging.INFO,\n",
        "    #                     format='%(asctime)s %(levelname)s: %(message)s',\n",
        "    #                     datefmt='%Y-%m-%d %H:%M:%S')\n",
        "\n",
        "    # Find columns in the dataframe\n",
        "    cols = input_df.columns\n",
        "    cols_string = ','.join(cols)\n",
        "    val_wildcard_string = ','.join(['?'] * len(cols))\n",
        "\n",
        "    # Connect to a DB file if it exists, else create a new file\n",
        "    con = sqlite3.connect(db_name)\n",
        "    cur = con.cursor()\n",
        "    # logging.info(f'SQL DB {db_name} created')\n",
        "\n",
        "    # Create table\n",
        "    sql_string = f\"\"\"CREATE TABLE {table_name} ({cols_string});\"\"\"\n",
        "    cur.execute(sql_string)\n",
        "    # logging.info(f'SQL Table {table_name} created with {len(cols)} columns')\n",
        "\n",
        "    # Upload df\n",
        "    rows_to_upload = input_df.to_dict(orient='split')['data']\n",
        "    sql_string = f\"\"\"INSERT INTO {table_name} ({cols_string}) VALUES ({val_wildcard_string});\"\"\"    \n",
        "    cur.executemany(sql_string, rows_to_upload)\n",
        "    # logging.info(f'{len(rows_to_upload)} rows uploaded to {table_name}')\n",
        "  \n",
        "    # Commit the changes and close the connection\n",
        "    con.commit()\n",
        "    con.close()"
      ],
      "metadata": {
        "id": "nkPEnnFeRdWZ"
      },
      "execution_count": 27,
      "outputs": []
    },
    {
      "cell_type": "code",
      "source": [
        "#  https://towardsdatascience.com/have-a-sql-interview-coming-up-ace-it-using-google-colab-6d3c0ffb29dc\n",
        "\n",
        "def sql_query_to_pd(sql_query_string: str, db_name: str ='mpox.db') -> pd.DataFrame:\n",
        "    \n",
        "    # Connect to the SQL DB\n",
        "    con = sqlite3.connect(db_name)\n",
        "\n",
        "    # Execute the SQL query\n",
        "    cursor = con.execute(sql_query_string)\n",
        "\n",
        "    # Fetch the data and column names\n",
        "    result_data = cursor.fetchall()\n",
        "    cols = [description[0] for description in cursor.description]\n",
        "\n",
        "    # Close the connection\n",
        "    con.close()\n",
        "\n",
        "    # Return as df\n",
        "    return pd.DataFrame(result_data, columns=cols)"
      ],
      "metadata": {
        "id": "NyBhsOFhP8qM"
      },
      "execution_count": 28,
      "outputs": []
    },
    {
      "cell_type": "markdown",
      "source": [
        "##### sql_to_df"
      ],
      "metadata": {
        "id": "4GerWOi2gpZf"
      }
    },
    {
      "cell_type": "code",
      "source": [
        "# https://towardsdatascience.com/have-a-sql-interview-coming-up-ace-it-using-google-colab-6d3c0ffb29dc\n",
        "\n",
        "# Read  csv as df\n",
        "input_df = pd.read_csv('/content/tweets.csv')\n",
        "\n",
        "# Upload df to a SQL table\n",
        "pd_to_sqlDB(input_df,\n",
        "            table_name='tweets',\n",
        "            db_name='monkeypox.db')\n",
        "\n",
        "# Write SQL query in a string variable\n",
        "sql_query_string = \"\"\"\n",
        "    SELECT *\n",
        "    FROM tweets\n",
        "\"\"\"\n",
        "# Exectue  SQL query\n",
        "corpus = sql_query_to_pd(sql_query_string, db_name='monkeypox.db')\n",
        "corpus"
      ],
      "metadata": {
        "id": "-VBhUeOYQi1d"
      },
      "execution_count": null,
      "outputs": []
    },
    {
      "cell_type": "markdown",
      "source": [
        "* **database = `monkeypox.db`**\n",
        "* **table_1 = `corpus` (6410 rows × 4 columns)**"
      ],
      "metadata": {
        "id": "kliu0uXRZEWN"
      }
    },
    {
      "cell_type": "code",
      "source": [
        "# copy corpus csv to Google Drive for Tableau\n",
        "shutil.copyfile('/content/tweets.csv', '/content/drive/MyDrive/tweets.csv')"
      ],
      "metadata": {
        "id": "TH8hOxQwJBgp",
        "colab": {
          "base_uri": "https://localhost:8080/",
          "height": 37
        },
        "outputId": "e73bb1df-7649-40ef-b0c5-d946313913c0"
      },
      "execution_count": 51,
      "outputs": [
        {
          "output_type": "execute_result",
          "data": {
            "text/plain": [
              "'/content/drive/MyDrive/tweets.csv'"
            ],
            "application/vnd.google.colaboratory.intrinsic+json": {
              "type": "string"
            }
          },
          "metadata": {},
          "execution_count": 51
        }
      ]
    },
    {
      "cell_type": "markdown",
      "source": [
        "# 5 | Processing"
      ],
      "metadata": {
        "id": "o58AqssjdG6J"
      }
    },
    {
      "cell_type": "markdown",
      "source": [
        "#### py/spark"
      ],
      "metadata": {
        "id": "B386_PwAwSxC"
      }
    },
    {
      "cell_type": "code",
      "source": [
        "# # https://towardsdatascience.com/pyspark-on-google-colab-101-d31830b238be\n",
        "# # https://www.analyticsvidhya.com/blog/2020/11/a-must-read-guide-on-how-to-work-with-pyspark-on-google-colab-for-data-scientists/\n",
        "\n",
        "!apt-get install openjdk-8-jdk-headless -qq > /dev/null\n",
        "\n"
      ],
      "metadata": {
        "id": "d6zyxbIeQRP7"
      },
      "execution_count": 52,
      "outputs": []
    },
    {
      "cell_type": "code",
      "source": [
        "!wget -q https://archive.apache.org/dist/spark/spark-3.0.0/spark-3.0.0-bin-hadoop3.2.tgz"
      ],
      "metadata": {
        "id": "PnrT-MdkO4Om"
      },
      "execution_count": 56,
      "outputs": []
    },
    {
      "cell_type": "code",
      "source": [
        "!tar -xf spark-3.0.0-bin-hadoop3.2.tgz\n"
      ],
      "metadata": {
        "id": "Fh2JdMTItP4v"
      },
      "execution_count": 57,
      "outputs": []
    },
    {
      "cell_type": "code",
      "source": [
        "!pip install -q findspark"
      ],
      "metadata": {
        "id": "jM9TqdQ0up5A"
      },
      "execution_count": 58,
      "outputs": []
    },
    {
      "cell_type": "code",
      "source": [
        "import os\n",
        "os.environ[\"JAVA_HOME\"] = \"/usr/lib/jvm/java-8-openjdk-amd64\"\n",
        "os.environ[\"SPARK_HOME\"] = \"/content/spark-3.0.0-bin-hadoop3.2\""
      ],
      "metadata": {
        "id": "kiB4yJevOiGk"
      },
      "execution_count": 62,
      "outputs": []
    },
    {
      "cell_type": "code",
      "source": [
        "import findspark\n",
        "findspark.init()\n"
      ],
      "metadata": {
        "id": "DNzHHgiROoIL"
      },
      "execution_count": 63,
      "outputs": []
    },
    {
      "cell_type": "code",
      "source": [
        "# import pyspark\n",
        "\n",
        "from pyspark.sql import SparkSession\n",
        "from pyspark.sql.functions import split, explode, col, lower\n"
      ],
      "metadata": {
        "id": "Ocg1qNbOuwSo"
      },
      "execution_count": 66,
      "outputs": []
    },
    {
      "cell_type": "markdown",
      "source": [
        "### word count"
      ],
      "metadata": {
        "id": "KQGIpl2swXl1"
      }
    },
    {
      "cell_type": "code",
      "source": [
        "spark = SparkSession.builder\\\n",
        "        .master(\"local\")\\\n",
        "        .appName(\"Colab\")\\\n",
        "        .config('spark.ui.port', '4050')\\\n",
        "        .getOrCreate()"
      ],
      "metadata": {
        "id": "4UfNrKdtuwU9"
      },
      "execution_count": 67,
      "outputs": []
    },
    {
      "cell_type": "code",
      "source": [
        "tweet_df = spark.read.csv('/content/tweets.csv', inferSchema=True, header='true')\n",
        "tweet_df"
      ],
      "metadata": {
        "colab": {
          "base_uri": "https://localhost:8080/"
        },
        "id": "Z6O2lw8KRkGV",
        "outputId": "80bacbe5-a6f4-4639-fee0-ace11806de9c"
      },
      "execution_count": 69,
      "outputs": [
        {
          "output_type": "execute_result",
          "data": {
            "text/plain": [
              "DataFrame[date: string, username: string, hashtags: string, tweet: string]"
            ]
          },
          "metadata": {},
          "execution_count": 69
        }
      ]
    },
    {
      "cell_type": "code",
      "source": [
        "tweet_df.printSchema()"
      ],
      "metadata": {
        "colab": {
          "base_uri": "https://localhost:8080/"
        },
        "id": "d1iAgqFTrpJM",
        "outputId": "90b49fdc-4336-4bad-9437-7ec871f9dab5"
      },
      "execution_count": 70,
      "outputs": [
        {
          "output_type": "stream",
          "name": "stdout",
          "text": [
            "root\n",
            " |-- date: string (nullable = true)\n",
            " |-- username: string (nullable = true)\n",
            " |-- hashtags: string (nullable = true)\n",
            " |-- tweet: string (nullable = true)\n",
            "\n"
          ]
        }
      ]
    },
    {
      "cell_type": "code",
      "source": [
        "type(tweet_df)"
      ],
      "metadata": {
        "colab": {
          "base_uri": "https://localhost:8080/"
        },
        "id": "YXk-qn7Fpy19",
        "outputId": "9979ea3b-d609-4c81-e519-52111f93dcae"
      },
      "execution_count": 71,
      "outputs": [
        {
          "output_type": "execute_result",
          "data": {
            "text/plain": [
              "pyspark.sql.dataframe.DataFrame"
            ]
          },
          "metadata": {},
          "execution_count": 71
        }
      ]
    },
    {
      "cell_type": "code",
      "source": [
        "tweet_df = tweet_df.withColumn('tweet', \n",
        "                               explode(split(lower(col('tweet')), '\\s')))"
      ],
      "metadata": {
        "id": "Xi934J5ppqJg"
      },
      "execution_count": 72,
      "outputs": []
    },
    {
      "cell_type": "code",
      "source": [
        "(tweet_df.groupBy('tweet')\n",
        "  .count()\n",
        "  .orderBy('count', ascending=False)\n",
        "  .show(10))"
      ],
      "metadata": {
        "colab": {
          "base_uri": "https://localhost:8080/"
        },
        "id": "9n6mq63EpqP-",
        "outputId": "23e5f7b2-859c-4d43-e061-aeb810e4209e"
      },
      "execution_count": 73,
      "outputs": [
        {
          "output_type": "stream",
          "name": "stdout",
          "text": [
            "+---------+-----+\n",
            "|    tweet|count|\n",
            "+---------+-----+\n",
            "|         | 4325|\n",
            "|      the| 4284|\n",
            "|monkeypox| 3039|\n",
            "|       to| 2920|\n",
            "|        a| 2310|\n",
            "|      and| 2302|\n",
            "|   monkey| 2091|\n",
            "|       is| 1987|\n",
            "|       of| 1875|\n",
            "|        i| 1699|\n",
            "+---------+-----+\n",
            "only showing top 10 rows\n",
            "\n"
          ]
        }
      ]
    },
    {
      "cell_type": "code",
      "source": [
        "(tweet_df)"
      ],
      "metadata": {
        "colab": {
          "base_uri": "https://localhost:8080/"
        },
        "id": "rhLht-zO18Qc",
        "outputId": "e642084e-7ce5-49c2-c4d6-f4097659b0d3"
      },
      "execution_count": 74,
      "outputs": [
        {
          "output_type": "execute_result",
          "data": {
            "text/plain": [
              "DataFrame[date: string, username: string, hashtags: string, tweet: string]"
            ]
          },
          "metadata": {},
          "execution_count": 74
        }
      ]
    },
    {
      "cell_type": "markdown",
      "source": [
        "* natural language processing, topic modeling (LDA)  \n",
        "* symptom trends across time + moving average (% or |n|) "
      ],
      "metadata": {
        "id": "oUBlwVm-daGH"
      }
    },
    {
      "cell_type": "markdown",
      "source": [
        "# 6 | Deployment"
      ],
      "metadata": {
        "id": "3FwMqfy5dSsM"
      }
    },
    {
      "cell_type": "markdown",
      "source": [
        "* [gdrive <> Tableau](https://medium.com/mlearning-ai/how-to-connect-tableau-to-google-drive-99bdbca1d3f7) \n",
        "* [Tableau draft mpox](https://public.tableau.com/views/mpoxdraft/Sheet1?:language=en-US&publish=yes&:display_count=n&:origin=viz_share_link)\n",
        "* [Tableau embedding](https://www.tableau.com/learn/webinars/live-training-embedded-analytics#video)\n"
      ],
      "metadata": {
        "id": "mliTcXOWBVAQ"
      }
    },
    {
      "cell_type": "markdown",
      "source": [
        "[Streamlit](https://app.thisismetis.com/courses/211/pages/home-streamlit) [Flask](https://app.thisismetis.com/courses/211/pages/home-flask-web-apps)"
      ],
      "metadata": {
        "id": "gXGrYE4pdWTM"
      }
    },
    {
      "cell_type": "code",
      "source": [
        "# streamlit demo: dataframe with countries > adapt to states\n",
        "# http://localhost:8501/DataFrame_Demo"
      ],
      "metadata": {
        "id": "jUu7Rn4i9jGn"
      },
      "execution_count": 75,
      "outputs": []
    },
    {
      "cell_type": "code",
      "source": [
        "# dataset with locations to map cases worldwide\n",
        "# https://www.kaggle.com/datasets/deepcontractor/monkeypox-dataset-daily-updated?select=Monkey_Pox_Cases_Worldwide.csv\n",
        "\n",
        "# US\n",
        "# https://www.cdc.gov/poxvirus/monkeypox/response/2022/us-map.html\n",
        "# https://www.cdc.gov/9cafd3c7-688d-434c-8f1f-7fb329ff618f #csv file"
      ],
      "metadata": {
        "id": "Q7sE4GGx1GIZ"
      },
      "execution_count": 76,
      "outputs": []
    },
    {
      "cell_type": "code",
      "source": [
        "!pip install streamlit"
      ],
      "metadata": {
        "id": "V1xrGaYQ1F9x",
        "colab": {
          "base_uri": "https://localhost:8080/"
        },
        "outputId": "421c2009-d30e-4b94-ce0a-b7dadd588c59"
      },
      "execution_count": 77,
      "outputs": [
        {
          "output_type": "stream",
          "name": "stdout",
          "text": [
            "Looking in indexes: https://pypi.org/simple, https://us-python.pkg.dev/colab-wheels/public/simple/\n",
            "Collecting streamlit\n",
            "  Downloading streamlit-1.12.2-py2.py3-none-any.whl (9.1 MB)\n",
            "\u001b[K     |████████████████████████████████| 9.1 MB 4.5 MB/s \n",
            "\u001b[?25hRequirement already satisfied: tornado>=5.0 in /usr/local/lib/python3.7/dist-packages (from streamlit) (5.1.1)\n",
            "Requirement already satisfied: protobuf<4,>=3.12 in /usr/local/lib/python3.7/dist-packages (from streamlit) (3.17.3)\n",
            "Collecting watchdog\n",
            "  Downloading watchdog-2.1.9-py3-none-manylinux2014_x86_64.whl (78 kB)\n",
            "\u001b[K     |████████████████████████████████| 78 kB 7.1 MB/s \n",
            "\u001b[?25hCollecting gitpython!=3.1.19\n",
            "  Downloading GitPython-3.1.27-py3-none-any.whl (181 kB)\n",
            "\u001b[K     |████████████████████████████████| 181 kB 52.9 MB/s \n",
            "\u001b[?25hRequirement already satisfied: semver in /usr/local/lib/python3.7/dist-packages (from streamlit) (2.13.0)\n",
            "Requirement already satisfied: toml in /usr/local/lib/python3.7/dist-packages (from streamlit) (0.10.2)\n",
            "Collecting pympler>=0.9\n",
            "  Downloading Pympler-1.0.1-py3-none-any.whl (164 kB)\n",
            "\u001b[K     |████████████████████████████████| 164 kB 56.6 MB/s \n",
            "\u001b[?25hRequirement already satisfied: numpy in /usr/local/lib/python3.7/dist-packages (from streamlit) (1.21.6)\n",
            "Collecting pydeck>=0.1.dev5\n",
            "  Downloading pydeck-0.8.0b1-py2.py3-none-any.whl (4.7 MB)\n",
            "\u001b[K     |████████████████████████████████| 4.7 MB 33.6 MB/s \n",
            "\u001b[?25hRequirement already satisfied: pandas>=0.21.0 in /usr/local/lib/python3.7/dist-packages (from streamlit) (1.3.5)\n",
            "Requirement already satisfied: typing-extensions>=3.10.0.0 in /usr/local/lib/python3.7/dist-packages (from streamlit) (4.1.1)\n",
            "Requirement already satisfied: requests>=2.4 in /usr/local/lib/python3.7/dist-packages (from streamlit) (2.23.0)\n",
            "Requirement already satisfied: pillow>=6.2.0 in /usr/local/lib/python3.7/dist-packages (from streamlit) (7.1.2)\n",
            "Requirement already satisfied: click>=7.0 in /usr/local/lib/python3.7/dist-packages (from streamlit) (7.1.2)\n",
            "Collecting blinker>=1.0.0\n",
            "  Downloading blinker-1.5-py2.py3-none-any.whl (12 kB)\n",
            "Requirement already satisfied: importlib-metadata>=1.4 in /usr/local/lib/python3.7/dist-packages (from streamlit) (4.12.0)\n",
            "Requirement already satisfied: tzlocal>=1.1 in /usr/local/lib/python3.7/dist-packages (from streamlit) (1.5.1)\n",
            "Requirement already satisfied: pyarrow>=4.0 in /usr/local/lib/python3.7/dist-packages (from streamlit) (6.0.1)\n",
            "Collecting rich>=10.11.0\n",
            "  Downloading rich-12.5.1-py3-none-any.whl (235 kB)\n",
            "\u001b[K     |████████████████████████████████| 235 kB 64.2 MB/s \n",
            "\u001b[?25hCollecting validators>=0.2\n",
            "  Downloading validators-0.20.0.tar.gz (30 kB)\n",
            "Requirement already satisfied: python-dateutil in /usr/local/lib/python3.7/dist-packages (from streamlit) (2.8.2)\n",
            "Requirement already satisfied: cachetools>=4.0 in /usr/local/lib/python3.7/dist-packages (from streamlit) (4.2.4)\n",
            "Requirement already satisfied: altair>=3.2.0 in /usr/local/lib/python3.7/dist-packages (from streamlit) (4.2.0)\n",
            "Requirement already satisfied: packaging>=14.1 in /usr/local/lib/python3.7/dist-packages (from streamlit) (21.3)\n",
            "Requirement already satisfied: toolz in /usr/local/lib/python3.7/dist-packages (from altair>=3.2.0->streamlit) (0.12.0)\n",
            "Requirement already satisfied: jsonschema>=3.0 in /usr/local/lib/python3.7/dist-packages (from altair>=3.2.0->streamlit) (4.3.3)\n",
            "Requirement already satisfied: entrypoints in /usr/local/lib/python3.7/dist-packages (from altair>=3.2.0->streamlit) (0.4)\n",
            "Requirement already satisfied: jinja2 in /usr/local/lib/python3.7/dist-packages (from altair>=3.2.0->streamlit) (2.11.3)\n",
            "Collecting gitdb<5,>=4.0.1\n",
            "  Downloading gitdb-4.0.9-py3-none-any.whl (63 kB)\n",
            "\u001b[K     |████████████████████████████████| 63 kB 1.9 MB/s \n",
            "\u001b[?25hCollecting smmap<6,>=3.0.1\n",
            "  Downloading smmap-5.0.0-py3-none-any.whl (24 kB)\n",
            "Requirement already satisfied: zipp>=0.5 in /usr/local/lib/python3.7/dist-packages (from importlib-metadata>=1.4->streamlit) (3.8.1)\n",
            "Requirement already satisfied: pyrsistent!=0.17.0,!=0.17.1,!=0.17.2,>=0.14.0 in /usr/local/lib/python3.7/dist-packages (from jsonschema>=3.0->altair>=3.2.0->streamlit) (0.18.1)\n",
            "Requirement already satisfied: importlib-resources>=1.4.0 in /usr/local/lib/python3.7/dist-packages (from jsonschema>=3.0->altair>=3.2.0->streamlit) (5.9.0)\n",
            "Requirement already satisfied: attrs>=17.4.0 in /usr/local/lib/python3.7/dist-packages (from jsonschema>=3.0->altair>=3.2.0->streamlit) (22.1.0)\n",
            "Requirement already satisfied: pyparsing!=3.0.5,>=2.0.2 in /usr/local/lib/python3.7/dist-packages (from packaging>=14.1->streamlit) (3.0.9)\n",
            "Requirement already satisfied: pytz>=2017.3 in /usr/local/lib/python3.7/dist-packages (from pandas>=0.21.0->streamlit) (2022.2.1)\n",
            "Requirement already satisfied: six>=1.9 in /usr/local/lib/python3.7/dist-packages (from protobuf<4,>=3.12->streamlit) (1.15.0)\n",
            "Requirement already satisfied: MarkupSafe>=0.23 in /usr/local/lib/python3.7/dist-packages (from jinja2->altair>=3.2.0->streamlit) (2.0.1)\n",
            "Requirement already satisfied: chardet<4,>=3.0.2 in /usr/local/lib/python3.7/dist-packages (from requests>=2.4->streamlit) (3.0.4)\n",
            "Requirement already satisfied: urllib3!=1.25.0,!=1.25.1,<1.26,>=1.21.1 in /usr/local/lib/python3.7/dist-packages (from requests>=2.4->streamlit) (1.24.3)\n",
            "Requirement already satisfied: certifi>=2017.4.17 in /usr/local/lib/python3.7/dist-packages (from requests>=2.4->streamlit) (2022.6.15)\n",
            "Requirement already satisfied: idna<3,>=2.5 in /usr/local/lib/python3.7/dist-packages (from requests>=2.4->streamlit) (2.10)\n",
            "Collecting commonmark<0.10.0,>=0.9.0\n",
            "  Downloading commonmark-0.9.1-py2.py3-none-any.whl (51 kB)\n",
            "\u001b[K     |████████████████████████████████| 51 kB 7.9 MB/s \n",
            "\u001b[?25hRequirement already satisfied: pygments<3.0.0,>=2.6.0 in /usr/local/lib/python3.7/dist-packages (from rich>=10.11.0->streamlit) (2.6.1)\n",
            "Requirement already satisfied: decorator>=3.4.0 in /usr/local/lib/python3.7/dist-packages (from validators>=0.2->streamlit) (4.4.2)\n",
            "Building wheels for collected packages: validators\n",
            "  Building wheel for validators (setup.py) ... \u001b[?25l\u001b[?25hdone\n",
            "  Created wheel for validators: filename=validators-0.20.0-py3-none-any.whl size=19582 sha256=102908592acb832353d7703ed6bfc244c1c0bb1a7d3d6756ce69611eae517ee4\n",
            "  Stored in directory: /root/.cache/pip/wheels/5f/55/ab/36a76989f7f88d9ca7b1f68da6d94252bb6a8d6ad4f18e04e9\n",
            "Successfully built validators\n",
            "Installing collected packages: smmap, gitdb, commonmark, watchdog, validators, rich, pympler, pydeck, gitpython, blinker, streamlit\n",
            "Successfully installed blinker-1.5 commonmark-0.9.1 gitdb-4.0.9 gitpython-3.1.27 pydeck-0.8.0b1 pympler-1.0.1 rich-12.5.1 smmap-5.0.0 streamlit-1.12.2 validators-0.20.0 watchdog-2.1.9\n"
          ]
        }
      ]
    },
    {
      "cell_type": "code",
      "source": [
        "!streamlit hello"
      ],
      "metadata": {
        "id": "jm3ZsVP-1GFl",
        "colab": {
          "base_uri": "https://localhost:8080/"
        },
        "outputId": "bdec4bf4-90c4-49da-965e-34ff0f540eb7"
      },
      "execution_count": 78,
      "outputs": [
        {
          "output_type": "stream",
          "name": "stdout",
          "text": [
            "2022-08-28 16:26:35.238 INFO    numexpr.utils: NumExpr defaulting to 2 threads.\n",
            "\u001b[0m\n",
            "\u001b[34m\u001b[1m  Welcome to Streamlit. Check out our demo in your browser.\u001b[0m\n",
            "\u001b[0m\n",
            "\u001b[34m  Network URL: \u001b[0m\u001b[1mhttp://172.28.0.2:8501\u001b[0m\n",
            "\u001b[34m  External URL: \u001b[0m\u001b[1mhttp://35.196.24.7:8501\u001b[0m\n",
            "\u001b[0m\n",
            "  Ready to create your own Python apps super quickly?\u001b[0m\n",
            "  Head over to \u001b[0m\u001b[1mhttps://docs.streamlit.io\u001b[0m\n",
            "\u001b[0m\n",
            "  May you create awesome apps!\u001b[0m\n",
            "\u001b[0m\n",
            "\u001b[0m\n",
            "\u001b[34m  Stopping...\u001b[0m\n",
            "^C\n"
          ]
        }
      ]
    },
    {
      "cell_type": "code",
      "source": [],
      "metadata": {
        "id": "O0ZO_jeP1GLR"
      },
      "execution_count": 78,
      "outputs": []
    },
    {
      "cell_type": "code",
      "source": [],
      "metadata": {
        "id": "JXMVYXez1GOJ"
      },
      "execution_count": 78,
      "outputs": []
    },
    {
      "cell_type": "markdown",
      "source": [
        "# 7 | Testing/Robustness"
      ],
      "metadata": {
        "id": "L31bOQ0leG-h"
      }
    },
    {
      "cell_type": "markdown",
      "source": [
        "[Python schedule](https://schedule.readthedocs.io/en/stable/examples.html#run-a-job-every-x-minute)"
      ],
      "metadata": {
        "id": "fkP73gNFeJjm"
      }
    },
    {
      "cell_type": "code",
      "source": [],
      "metadata": {
        "id": "fO2_Qmm8eN4V"
      },
      "execution_count": 78,
      "outputs": []
    }
  ],
  "metadata": {
    "colab": {
      "collapsed_sections": [
        "j9xSJjZAA79Y",
        "678fce99",
        "5WYNxkC8Vhd0",
        "WosK0haUgjFI"
      ],
      "name": "engineering_monkeypox_mvp.ipynb",
      "provenance": [],
      "include_colab_link": true
    },
    "kernelspec": {
      "display_name": "Python 3 (engineering)",
      "language": "python",
      "name": "engineering"
    },
    "language_info": {
      "codemirror_mode": {
        "name": "ipython",
        "version": 3
      },
      "file_extension": ".py",
      "mimetype": "text/x-python",
      "name": "python",
      "nbconvert_exporter": "python",
      "pygments_lexer": "ipython3",
      "version": "3.8.12"
    }
  },
  "nbformat": 4,
  "nbformat_minor": 0
}