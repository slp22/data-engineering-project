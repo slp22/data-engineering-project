{
  "cells": [
    {
      "cell_type": "markdown",
      "metadata": {
        "id": "view-in-github",
        "colab_type": "text"
      },
      "source": [
        "<a href=\"https://colab.research.google.com/github/slp22/data-engineering-project/blob/main/engineering_monkeypox_mvp_sql.ipynb\" target=\"_parent\"><img src=\"https://colab.research.google.com/assets/colab-badge.svg\" alt=\"Open In Colab\"/></a>"
      ]
    },
    {
      "cell_type": "markdown",
      "metadata": {
        "id": "wH8m3rmEAo3U"
      },
      "source": [
        "#### Data Engineering | MVP\n",
        "\n",
        "# Monkeypox Tweets"
      ]
    },
    {
      "cell_type": "markdown",
      "metadata": {
        "id": "4nm_mHUuAeql"
      },
      "source": [
        "## Imports"
      ]
    },
    {
      "cell_type": "code",
      "execution_count": 1,
      "metadata": {
        "id": "w06wbr_xATv4"
      },
      "outputs": [],
      "source": [
        "import json\n",
        "import logging\n",
        "import sqlite3\n",
        "import matplotlib.pyplot as plt\n",
        "import numpy as np\n",
        "import os, shutil, itertools\n",
        "import pandas as pd\n",
        "import pathlib as Path\n",
        "import pickle\n",
        "import PIL\n",
        "import random\n",
        "import seaborn as sns\n",
        "import sklearn as sk\n",
        "import warnings\n",
        "import zipfile\n",
        "\n",
        "from sqlite3 import connect\n"
      ]
    },
    {
      "cell_type": "markdown",
      "metadata": {
        "id": "ehG7rDKVA1x3"
      },
      "source": [
        "## 1 | Research Design\n"
      ]
    },
    {
      "cell_type": "markdown",
      "metadata": {
        "id": "lPrQPhqxA4C4"
      },
      "source": [
        "* **Research Question:** How well can a neural network diagnose diabetic retinopathy from a retinal image?\n",
        "* **Impact Hypothesis:** Accelerate the National Eye Institute’s research evaluation of retinal clinical trial data, and streamline publishing results.\n",
        "* **Data source:** [Diabetic Retinopathy 2015 Data Colored Resized](https://www.kaggle.com/datasets/sovitrath/diabetic-retinopathy-2015-data-colored-resized) , n=35,126\n",
        "* **Error metric:** Accuracy\n",
        "\n",
        "* **Data Dictionary:**\n",
        "  * Classes = 5 stages of diabetic retinopathy:\n",
        "    * **Normal eye**\n",
        "    * **Mild** Nonproliferative Retinopathy: Microaneurysms are visbile, small areas of balloon-like swelling in the retina's tiny blood vessels.\n",
        "    * **Moderate** Nonproliferative Retinopathy: Some blood vessels that nourish the retina are blocked.\n",
        "    * **Severe** Nonproliferative Retinopathy: More blocked blood vessels, depriving several areas of the retina of blood supply; retina sends signals to the body to grow new blood vessels for nourishment.\n",
        "    * **Proliferative** Retinopathy: Advanced stage; new blood vessels are abnormal and fragile; grow along the retina and along the surface of the clear, vitreous gel that fills the inside of the eye.\n"
      ]
    },
    {
      "cell_type": "markdown",
      "metadata": {
        "id": "j9xSJjZAA79Y"
      },
      "source": [
        "## 2 | Dataset: [Monkeypox Tweets](https://www.kaggle.com/datasets/aneeshtickoo/tweets-on-monkeypox)"
      ]
    },
    {
      "cell_type": "markdown",
      "metadata": {
        "id": "XLR-rZUhBcDS"
      },
      "source": [
        "### Data Download"
      ]
    },
    {
      "cell_type": "code",
      "execution_count": 2,
      "metadata": {
        "colab": {
          "base_uri": "https://localhost:8080/"
        },
        "id": "GXLwZ2Vnn7ge",
        "outputId": "7cef7183-799a-479a-bb52-3c8746809b8f"
      },
      "outputs": [
        {
          "output_type": "stream",
          "name": "stdout",
          "text": [
            "Drive already mounted at /content/drive; to attempt to forcibly remount, call drive.mount(\"/content/drive\", force_remount=True).\n"
          ]
        }
      ],
      "source": [
        "from google.colab import drive\n",
        "drive.mount('/content/drive')"
      ]
    },
    {
      "cell_type": "code",
      "execution_count": 3,
      "metadata": {
        "colab": {
          "base_uri": "https://localhost:8080/"
        },
        "id": "3uJyuCs9jkJ7",
        "outputId": "c970c880-e1a2-4ab6-911b-38e1dfcd9c7a"
      },
      "outputs": [
        {
          "output_type": "execute_result",
          "data": {
            "text/plain": [
              "['.config',\n",
              " 'default.db',\n",
              " 'monkeypox.csv',\n",
              " '.ipynb_checkpoints',\n",
              " ':memory',\n",
              " 'tweets-on-monkeypox.zip',\n",
              " 'drive',\n",
              " 'tweets.pkl',\n",
              " 'kaggle.json',\n",
              " 'sample_data']"
            ]
          },
          "metadata": {},
          "execution_count": 3
        }
      ],
      "source": [
        "os.chdir('/content')\n",
        "os.listdir()"
      ]
    },
    {
      "cell_type": "code",
      "execution_count": 4,
      "metadata": {
        "id": "ure1COVBG3sw"
      },
      "outputs": [],
      "source": [
        "with open('kaggle.json') as json_file:\n",
        "    kaggle = json.load(json_file)"
      ]
    },
    {
      "cell_type": "code",
      "execution_count": 5,
      "metadata": {
        "id": "As3njbbDmjAY"
      },
      "outputs": [],
      "source": [
        "# assign to directory \n",
        "os.environ['KAGGLE_CONFIG_DIR'] = \"/content\""
      ]
    },
    {
      "cell_type": "code",
      "execution_count": 6,
      "metadata": {
        "colab": {
          "base_uri": "https://localhost:8080/"
        },
        "id": "jD2q1R_8movA",
        "outputId": "34750b53-9afb-4e4d-ed27-50d263276e0d"
      },
      "outputs": [
        {
          "output_type": "stream",
          "name": "stdout",
          "text": [
            "tweets-on-monkeypox.zip: Skipping, found more recently modified local copy (use --force to force download)\n"
          ]
        }
      ],
      "source": [
        "# download dataset from kaggle\n",
        "'chmod 600 /content/kaggle.json'\n",
        "! kaggle datasets download -d aneeshtickoo/tweets-on-monkeypox"
      ]
    },
    {
      "cell_type": "code",
      "execution_count": 7,
      "metadata": {
        "id": "8bszkBF7ndyj"
      },
      "outputs": [],
      "source": [
        "# unzip kaggle file\n",
        "zip_ref = zipfile.ZipFile('tweets-on-monkeypox.zip', 'r') \n",
        "zip_ref.extractall('/content')\n",
        "zip_ref.close()"
      ]
    },
    {
      "cell_type": "markdown",
      "metadata": {
        "id": "678fce99"
      },
      "source": [
        "## 3 | Exploratory Data Analysis"
      ]
    },
    {
      "cell_type": "code",
      "execution_count": 8,
      "metadata": {
        "id": "rpMzt1LuEr_S"
      },
      "outputs": [],
      "source": [
        "df = pd.read_csv('/content/monkeypox.csv')"
      ]
    },
    {
      "cell_type": "code",
      "execution_count": 9,
      "metadata": {
        "colab": {
          "base_uri": "https://localhost:8080/",
          "height": 344
        },
        "id": "UX-TC5yOHcbY",
        "outputId": "806e0be5-bb89-44ca-9f47-1f1f62937a01"
      },
      "outputs": [
        {
          "output_type": "execute_result",
          "data": {
            "text/plain": [
              "                    id      conversation_id  \\\n",
              "0  1555815462201872385  1555815462201872385   \n",
              "1  1555815458602831872  1555815458602831872   \n",
              "\n",
              "                                created_at        date      time  timezone  \\\n",
              "0  2022-08-06 12:48:06 India Standard Time  2022-08-06  12:48:06       530   \n",
              "1  2022-08-06 12:48:05 India Standard Time  2022-08-06  12:48:05       530   \n",
              "\n",
              "              user_id      username                           name place  ...  \\\n",
              "0  820113517613154304  thetenth2022                       TheTenth   NaN  ...   \n",
              "1           196518052     ashemedai  Jeroen Ruigrok van der Werven   NaN  ...   \n",
              "\n",
              "  geo source user_rt_id user_rt retweet_id  reply_to  retweet_date  translate  \\\n",
              "0 NaN    NaN        NaN     NaN        NaN        []           NaN        NaN   \n",
              "1 NaN    NaN        NaN     NaN        NaN        []           NaN        NaN   \n",
              "\n",
              "  trans_src trans_dest  \n",
              "0       NaN        NaN  \n",
              "1       NaN        NaN  \n",
              "\n",
              "[2 rows x 36 columns]"
            ],
            "text/html": [
              "\n",
              "  <div id=\"df-43e6ae17-c022-4ae3-ad55-67c09f4fc467\">\n",
              "    <div class=\"colab-df-container\">\n",
              "      <div>\n",
              "<style scoped>\n",
              "    .dataframe tbody tr th:only-of-type {\n",
              "        vertical-align: middle;\n",
              "    }\n",
              "\n",
              "    .dataframe tbody tr th {\n",
              "        vertical-align: top;\n",
              "    }\n",
              "\n",
              "    .dataframe thead th {\n",
              "        text-align: right;\n",
              "    }\n",
              "</style>\n",
              "<table border=\"1\" class=\"dataframe\">\n",
              "  <thead>\n",
              "    <tr style=\"text-align: right;\">\n",
              "      <th></th>\n",
              "      <th>id</th>\n",
              "      <th>conversation_id</th>\n",
              "      <th>created_at</th>\n",
              "      <th>date</th>\n",
              "      <th>time</th>\n",
              "      <th>timezone</th>\n",
              "      <th>user_id</th>\n",
              "      <th>username</th>\n",
              "      <th>name</th>\n",
              "      <th>place</th>\n",
              "      <th>...</th>\n",
              "      <th>geo</th>\n",
              "      <th>source</th>\n",
              "      <th>user_rt_id</th>\n",
              "      <th>user_rt</th>\n",
              "      <th>retweet_id</th>\n",
              "      <th>reply_to</th>\n",
              "      <th>retweet_date</th>\n",
              "      <th>translate</th>\n",
              "      <th>trans_src</th>\n",
              "      <th>trans_dest</th>\n",
              "    </tr>\n",
              "  </thead>\n",
              "  <tbody>\n",
              "    <tr>\n",
              "      <th>0</th>\n",
              "      <td>1555815462201872385</td>\n",
              "      <td>1555815462201872385</td>\n",
              "      <td>2022-08-06 12:48:06 India Standard Time</td>\n",
              "      <td>2022-08-06</td>\n",
              "      <td>12:48:06</td>\n",
              "      <td>530</td>\n",
              "      <td>820113517613154304</td>\n",
              "      <td>thetenth2022</td>\n",
              "      <td>TheTenth</td>\n",
              "      <td>NaN</td>\n",
              "      <td>...</td>\n",
              "      <td>NaN</td>\n",
              "      <td>NaN</td>\n",
              "      <td>NaN</td>\n",
              "      <td>NaN</td>\n",
              "      <td>NaN</td>\n",
              "      <td>[]</td>\n",
              "      <td>NaN</td>\n",
              "      <td>NaN</td>\n",
              "      <td>NaN</td>\n",
              "      <td>NaN</td>\n",
              "    </tr>\n",
              "    <tr>\n",
              "      <th>1</th>\n",
              "      <td>1555815458602831872</td>\n",
              "      <td>1555815458602831872</td>\n",
              "      <td>2022-08-06 12:48:05 India Standard Time</td>\n",
              "      <td>2022-08-06</td>\n",
              "      <td>12:48:05</td>\n",
              "      <td>530</td>\n",
              "      <td>196518052</td>\n",
              "      <td>ashemedai</td>\n",
              "      <td>Jeroen Ruigrok van der Werven</td>\n",
              "      <td>NaN</td>\n",
              "      <td>...</td>\n",
              "      <td>NaN</td>\n",
              "      <td>NaN</td>\n",
              "      <td>NaN</td>\n",
              "      <td>NaN</td>\n",
              "      <td>NaN</td>\n",
              "      <td>[]</td>\n",
              "      <td>NaN</td>\n",
              "      <td>NaN</td>\n",
              "      <td>NaN</td>\n",
              "      <td>NaN</td>\n",
              "    </tr>\n",
              "  </tbody>\n",
              "</table>\n",
              "<p>2 rows × 36 columns</p>\n",
              "</div>\n",
              "      <button class=\"colab-df-convert\" onclick=\"convertToInteractive('df-43e6ae17-c022-4ae3-ad55-67c09f4fc467')\"\n",
              "              title=\"Convert this dataframe to an interactive table.\"\n",
              "              style=\"display:none;\">\n",
              "        \n",
              "  <svg xmlns=\"http://www.w3.org/2000/svg\" height=\"24px\"viewBox=\"0 0 24 24\"\n",
              "       width=\"24px\">\n",
              "    <path d=\"M0 0h24v24H0V0z\" fill=\"none\"/>\n",
              "    <path d=\"M18.56 5.44l.94 2.06.94-2.06 2.06-.94-2.06-.94-.94-2.06-.94 2.06-2.06.94zm-11 1L8.5 8.5l.94-2.06 2.06-.94-2.06-.94L8.5 2.5l-.94 2.06-2.06.94zm10 10l.94 2.06.94-2.06 2.06-.94-2.06-.94-.94-2.06-.94 2.06-2.06.94z\"/><path d=\"M17.41 7.96l-1.37-1.37c-.4-.4-.92-.59-1.43-.59-.52 0-1.04.2-1.43.59L10.3 9.45l-7.72 7.72c-.78.78-.78 2.05 0 2.83L4 21.41c.39.39.9.59 1.41.59.51 0 1.02-.2 1.41-.59l7.78-7.78 2.81-2.81c.8-.78.8-2.07 0-2.86zM5.41 20L4 18.59l7.72-7.72 1.47 1.35L5.41 20z\"/>\n",
              "  </svg>\n",
              "      </button>\n",
              "      \n",
              "  <style>\n",
              "    .colab-df-container {\n",
              "      display:flex;\n",
              "      flex-wrap:wrap;\n",
              "      gap: 12px;\n",
              "    }\n",
              "\n",
              "    .colab-df-convert {\n",
              "      background-color: #E8F0FE;\n",
              "      border: none;\n",
              "      border-radius: 50%;\n",
              "      cursor: pointer;\n",
              "      display: none;\n",
              "      fill: #1967D2;\n",
              "      height: 32px;\n",
              "      padding: 0 0 0 0;\n",
              "      width: 32px;\n",
              "    }\n",
              "\n",
              "    .colab-df-convert:hover {\n",
              "      background-color: #E2EBFA;\n",
              "      box-shadow: 0px 1px 2px rgba(60, 64, 67, 0.3), 0px 1px 3px 1px rgba(60, 64, 67, 0.15);\n",
              "      fill: #174EA6;\n",
              "    }\n",
              "\n",
              "    [theme=dark] .colab-df-convert {\n",
              "      background-color: #3B4455;\n",
              "      fill: #D2E3FC;\n",
              "    }\n",
              "\n",
              "    [theme=dark] .colab-df-convert:hover {\n",
              "      background-color: #434B5C;\n",
              "      box-shadow: 0px 1px 3px 1px rgba(0, 0, 0, 0.15);\n",
              "      filter: drop-shadow(0px 1px 2px rgba(0, 0, 0, 0.3));\n",
              "      fill: #FFFFFF;\n",
              "    }\n",
              "  </style>\n",
              "\n",
              "      <script>\n",
              "        const buttonEl =\n",
              "          document.querySelector('#df-43e6ae17-c022-4ae3-ad55-67c09f4fc467 button.colab-df-convert');\n",
              "        buttonEl.style.display =\n",
              "          google.colab.kernel.accessAllowed ? 'block' : 'none';\n",
              "\n",
              "        async function convertToInteractive(key) {\n",
              "          const element = document.querySelector('#df-43e6ae17-c022-4ae3-ad55-67c09f4fc467');\n",
              "          const dataTable =\n",
              "            await google.colab.kernel.invokeFunction('convertToInteractive',\n",
              "                                                     [key], {});\n",
              "          if (!dataTable) return;\n",
              "\n",
              "          const docLinkHtml = 'Like what you see? Visit the ' +\n",
              "            '<a target=\"_blank\" href=https://colab.research.google.com/notebooks/data_table.ipynb>data table notebook</a>'\n",
              "            + ' to learn more about interactive tables.';\n",
              "          element.innerHTML = '';\n",
              "          dataTable['output_type'] = 'display_data';\n",
              "          await google.colab.output.renderOutput(dataTable, element);\n",
              "          const docLink = document.createElement('div');\n",
              "          docLink.innerHTML = docLinkHtml;\n",
              "          element.appendChild(docLink);\n",
              "        }\n",
              "      </script>\n",
              "    </div>\n",
              "  </div>\n",
              "  "
            ]
          },
          "metadata": {},
          "execution_count": 9
        }
      ],
      "source": [
        "df.head(2)"
      ]
    },
    {
      "cell_type": "code",
      "execution_count": 10,
      "metadata": {
        "colab": {
          "base_uri": "https://localhost:8080/"
        },
        "id": "YjhK5W3wE9gu",
        "outputId": "4981e181-b613-4946-c80c-e62554edffc2"
      },
      "outputs": [
        {
          "output_type": "stream",
          "name": "stdout",
          "text": [
            "<class 'pandas.core.frame.DataFrame'>\n",
            "RangeIndex: 6859 entries, 0 to 6858\n",
            "Data columns (total 36 columns):\n",
            " #   Column           Non-Null Count  Dtype  \n",
            "---  ------           --------------  -----  \n",
            " 0   id               6859 non-null   int64  \n",
            " 1   conversation_id  6859 non-null   int64  \n",
            " 2   created_at       6859 non-null   object \n",
            " 3   date             6859 non-null   object \n",
            " 4   time             6859 non-null   object \n",
            " 5   timezone         6859 non-null   int64  \n",
            " 6   user_id          6859 non-null   int64  \n",
            " 7   username         6859 non-null   object \n",
            " 8   name             6859 non-null   object \n",
            " 9   place            2 non-null      object \n",
            " 10  tweet            6859 non-null   object \n",
            " 11  language         6859 non-null   object \n",
            " 12  mentions         6859 non-null   object \n",
            " 13  urls             6859 non-null   object \n",
            " 14  photos           6859 non-null   object \n",
            " 15  replies_count    6859 non-null   int64  \n",
            " 16  retweets_count   6859 non-null   int64  \n",
            " 17  likes_count      6859 non-null   int64  \n",
            " 18  hashtags         6859 non-null   object \n",
            " 19  cashtags         6859 non-null   object \n",
            " 20  link             6859 non-null   object \n",
            " 21  retweet          6859 non-null   bool   \n",
            " 22  quote_url        587 non-null    object \n",
            " 23  video            6859 non-null   int64  \n",
            " 24  thumbnail        658 non-null    object \n",
            " 25  near             0 non-null      float64\n",
            " 26  geo              0 non-null      float64\n",
            " 27  source           0 non-null      float64\n",
            " 28  user_rt_id       0 non-null      float64\n",
            " 29  user_rt          0 non-null      float64\n",
            " 30  retweet_id       0 non-null      float64\n",
            " 31  reply_to         6859 non-null   object \n",
            " 32  retweet_date     0 non-null      float64\n",
            " 33  translate        0 non-null      float64\n",
            " 34  trans_src        0 non-null      float64\n",
            " 35  trans_dest       0 non-null      float64\n",
            "dtypes: bool(1), float64(10), int64(8), object(17)\n",
            "memory usage: 1.8+ MB\n"
          ]
        }
      ],
      "source": [
        "df.info()"
      ]
    },
    {
      "cell_type": "code",
      "execution_count": 11,
      "metadata": {
        "colab": {
          "base_uri": "https://localhost:8080/",
          "height": 364
        },
        "id": "qKXgvoqwHkPF",
        "outputId": "d46bf565-62d9-4390-a206-f3500c54ec46"
      },
      "outputs": [
        {
          "output_type": "execute_result",
          "data": {
            "text/plain": [
              "                 id  conversation_id  timezone       user_id  replies_count  \\\n",
              "count  6.859000e+03     6.859000e+03    6859.0  6.859000e+03    6859.000000   \n",
              "mean   1.555764e+18     1.555192e+18     530.0  7.224884e+17       0.399038   \n",
              "std    2.541498e+13     1.168003e+16       0.0  6.620987e+17       1.789475   \n",
              "min    1.555725e+18     8.510359e+17     530.0  3.989300e+04       0.000000   \n",
              "25%    1.555742e+18     1.555720e+18     530.0  4.906582e+08       0.000000   \n",
              "50%    1.555760e+18     1.555746e+18     530.0  8.977771e+17       0.000000   \n",
              "75%    1.555784e+18     1.555774e+18     530.0  1.395422e+18       0.000000   \n",
              "max    1.555815e+18     1.555815e+18     530.0  1.555798e+18      68.000000   \n",
              "\n",
              "       retweets_count  likes_count        video  near  geo  source  \\\n",
              "count     6859.000000  6859.000000  6859.000000   0.0  0.0     0.0   \n",
              "mean         0.691938     3.053944     0.095932   NaN  NaN     NaN   \n",
              "std         11.879167    40.567536     0.294520   NaN  NaN     NaN   \n",
              "min          0.000000     0.000000     0.000000   NaN  NaN     NaN   \n",
              "25%          0.000000     0.000000     0.000000   NaN  NaN     NaN   \n",
              "50%          0.000000     0.000000     0.000000   NaN  NaN     NaN   \n",
              "75%          0.000000     1.000000     0.000000   NaN  NaN     NaN   \n",
              "max        740.000000  2180.000000     1.000000   NaN  NaN     NaN   \n",
              "\n",
              "       user_rt_id  user_rt  retweet_id  retweet_date  translate  trans_src  \\\n",
              "count         0.0      0.0         0.0           0.0        0.0        0.0   \n",
              "mean          NaN      NaN         NaN           NaN        NaN        NaN   \n",
              "std           NaN      NaN         NaN           NaN        NaN        NaN   \n",
              "min           NaN      NaN         NaN           NaN        NaN        NaN   \n",
              "25%           NaN      NaN         NaN           NaN        NaN        NaN   \n",
              "50%           NaN      NaN         NaN           NaN        NaN        NaN   \n",
              "75%           NaN      NaN         NaN           NaN        NaN        NaN   \n",
              "max           NaN      NaN         NaN           NaN        NaN        NaN   \n",
              "\n",
              "       trans_dest  \n",
              "count         0.0  \n",
              "mean          NaN  \n",
              "std           NaN  \n",
              "min           NaN  \n",
              "25%           NaN  \n",
              "50%           NaN  \n",
              "75%           NaN  \n",
              "max           NaN  "
            ],
            "text/html": [
              "\n",
              "  <div id=\"df-fbe50128-1121-4fbb-bdda-661c08bcf160\">\n",
              "    <div class=\"colab-df-container\">\n",
              "      <div>\n",
              "<style scoped>\n",
              "    .dataframe tbody tr th:only-of-type {\n",
              "        vertical-align: middle;\n",
              "    }\n",
              "\n",
              "    .dataframe tbody tr th {\n",
              "        vertical-align: top;\n",
              "    }\n",
              "\n",
              "    .dataframe thead th {\n",
              "        text-align: right;\n",
              "    }\n",
              "</style>\n",
              "<table border=\"1\" class=\"dataframe\">\n",
              "  <thead>\n",
              "    <tr style=\"text-align: right;\">\n",
              "      <th></th>\n",
              "      <th>id</th>\n",
              "      <th>conversation_id</th>\n",
              "      <th>timezone</th>\n",
              "      <th>user_id</th>\n",
              "      <th>replies_count</th>\n",
              "      <th>retweets_count</th>\n",
              "      <th>likes_count</th>\n",
              "      <th>video</th>\n",
              "      <th>near</th>\n",
              "      <th>geo</th>\n",
              "      <th>source</th>\n",
              "      <th>user_rt_id</th>\n",
              "      <th>user_rt</th>\n",
              "      <th>retweet_id</th>\n",
              "      <th>retweet_date</th>\n",
              "      <th>translate</th>\n",
              "      <th>trans_src</th>\n",
              "      <th>trans_dest</th>\n",
              "    </tr>\n",
              "  </thead>\n",
              "  <tbody>\n",
              "    <tr>\n",
              "      <th>count</th>\n",
              "      <td>6.859000e+03</td>\n",
              "      <td>6.859000e+03</td>\n",
              "      <td>6859.0</td>\n",
              "      <td>6.859000e+03</td>\n",
              "      <td>6859.000000</td>\n",
              "      <td>6859.000000</td>\n",
              "      <td>6859.000000</td>\n",
              "      <td>6859.000000</td>\n",
              "      <td>0.0</td>\n",
              "      <td>0.0</td>\n",
              "      <td>0.0</td>\n",
              "      <td>0.0</td>\n",
              "      <td>0.0</td>\n",
              "      <td>0.0</td>\n",
              "      <td>0.0</td>\n",
              "      <td>0.0</td>\n",
              "      <td>0.0</td>\n",
              "      <td>0.0</td>\n",
              "    </tr>\n",
              "    <tr>\n",
              "      <th>mean</th>\n",
              "      <td>1.555764e+18</td>\n",
              "      <td>1.555192e+18</td>\n",
              "      <td>530.0</td>\n",
              "      <td>7.224884e+17</td>\n",
              "      <td>0.399038</td>\n",
              "      <td>0.691938</td>\n",
              "      <td>3.053944</td>\n",
              "      <td>0.095932</td>\n",
              "      <td>NaN</td>\n",
              "      <td>NaN</td>\n",
              "      <td>NaN</td>\n",
              "      <td>NaN</td>\n",
              "      <td>NaN</td>\n",
              "      <td>NaN</td>\n",
              "      <td>NaN</td>\n",
              "      <td>NaN</td>\n",
              "      <td>NaN</td>\n",
              "      <td>NaN</td>\n",
              "    </tr>\n",
              "    <tr>\n",
              "      <th>std</th>\n",
              "      <td>2.541498e+13</td>\n",
              "      <td>1.168003e+16</td>\n",
              "      <td>0.0</td>\n",
              "      <td>6.620987e+17</td>\n",
              "      <td>1.789475</td>\n",
              "      <td>11.879167</td>\n",
              "      <td>40.567536</td>\n",
              "      <td>0.294520</td>\n",
              "      <td>NaN</td>\n",
              "      <td>NaN</td>\n",
              "      <td>NaN</td>\n",
              "      <td>NaN</td>\n",
              "      <td>NaN</td>\n",
              "      <td>NaN</td>\n",
              "      <td>NaN</td>\n",
              "      <td>NaN</td>\n",
              "      <td>NaN</td>\n",
              "      <td>NaN</td>\n",
              "    </tr>\n",
              "    <tr>\n",
              "      <th>min</th>\n",
              "      <td>1.555725e+18</td>\n",
              "      <td>8.510359e+17</td>\n",
              "      <td>530.0</td>\n",
              "      <td>3.989300e+04</td>\n",
              "      <td>0.000000</td>\n",
              "      <td>0.000000</td>\n",
              "      <td>0.000000</td>\n",
              "      <td>0.000000</td>\n",
              "      <td>NaN</td>\n",
              "      <td>NaN</td>\n",
              "      <td>NaN</td>\n",
              "      <td>NaN</td>\n",
              "      <td>NaN</td>\n",
              "      <td>NaN</td>\n",
              "      <td>NaN</td>\n",
              "      <td>NaN</td>\n",
              "      <td>NaN</td>\n",
              "      <td>NaN</td>\n",
              "    </tr>\n",
              "    <tr>\n",
              "      <th>25%</th>\n",
              "      <td>1.555742e+18</td>\n",
              "      <td>1.555720e+18</td>\n",
              "      <td>530.0</td>\n",
              "      <td>4.906582e+08</td>\n",
              "      <td>0.000000</td>\n",
              "      <td>0.000000</td>\n",
              "      <td>0.000000</td>\n",
              "      <td>0.000000</td>\n",
              "      <td>NaN</td>\n",
              "      <td>NaN</td>\n",
              "      <td>NaN</td>\n",
              "      <td>NaN</td>\n",
              "      <td>NaN</td>\n",
              "      <td>NaN</td>\n",
              "      <td>NaN</td>\n",
              "      <td>NaN</td>\n",
              "      <td>NaN</td>\n",
              "      <td>NaN</td>\n",
              "    </tr>\n",
              "    <tr>\n",
              "      <th>50%</th>\n",
              "      <td>1.555760e+18</td>\n",
              "      <td>1.555746e+18</td>\n",
              "      <td>530.0</td>\n",
              "      <td>8.977771e+17</td>\n",
              "      <td>0.000000</td>\n",
              "      <td>0.000000</td>\n",
              "      <td>0.000000</td>\n",
              "      <td>0.000000</td>\n",
              "      <td>NaN</td>\n",
              "      <td>NaN</td>\n",
              "      <td>NaN</td>\n",
              "      <td>NaN</td>\n",
              "      <td>NaN</td>\n",
              "      <td>NaN</td>\n",
              "      <td>NaN</td>\n",
              "      <td>NaN</td>\n",
              "      <td>NaN</td>\n",
              "      <td>NaN</td>\n",
              "    </tr>\n",
              "    <tr>\n",
              "      <th>75%</th>\n",
              "      <td>1.555784e+18</td>\n",
              "      <td>1.555774e+18</td>\n",
              "      <td>530.0</td>\n",
              "      <td>1.395422e+18</td>\n",
              "      <td>0.000000</td>\n",
              "      <td>0.000000</td>\n",
              "      <td>1.000000</td>\n",
              "      <td>0.000000</td>\n",
              "      <td>NaN</td>\n",
              "      <td>NaN</td>\n",
              "      <td>NaN</td>\n",
              "      <td>NaN</td>\n",
              "      <td>NaN</td>\n",
              "      <td>NaN</td>\n",
              "      <td>NaN</td>\n",
              "      <td>NaN</td>\n",
              "      <td>NaN</td>\n",
              "      <td>NaN</td>\n",
              "    </tr>\n",
              "    <tr>\n",
              "      <th>max</th>\n",
              "      <td>1.555815e+18</td>\n",
              "      <td>1.555815e+18</td>\n",
              "      <td>530.0</td>\n",
              "      <td>1.555798e+18</td>\n",
              "      <td>68.000000</td>\n",
              "      <td>740.000000</td>\n",
              "      <td>2180.000000</td>\n",
              "      <td>1.000000</td>\n",
              "      <td>NaN</td>\n",
              "      <td>NaN</td>\n",
              "      <td>NaN</td>\n",
              "      <td>NaN</td>\n",
              "      <td>NaN</td>\n",
              "      <td>NaN</td>\n",
              "      <td>NaN</td>\n",
              "      <td>NaN</td>\n",
              "      <td>NaN</td>\n",
              "      <td>NaN</td>\n",
              "    </tr>\n",
              "  </tbody>\n",
              "</table>\n",
              "</div>\n",
              "      <button class=\"colab-df-convert\" onclick=\"convertToInteractive('df-fbe50128-1121-4fbb-bdda-661c08bcf160')\"\n",
              "              title=\"Convert this dataframe to an interactive table.\"\n",
              "              style=\"display:none;\">\n",
              "        \n",
              "  <svg xmlns=\"http://www.w3.org/2000/svg\" height=\"24px\"viewBox=\"0 0 24 24\"\n",
              "       width=\"24px\">\n",
              "    <path d=\"M0 0h24v24H0V0z\" fill=\"none\"/>\n",
              "    <path d=\"M18.56 5.44l.94 2.06.94-2.06 2.06-.94-2.06-.94-.94-2.06-.94 2.06-2.06.94zm-11 1L8.5 8.5l.94-2.06 2.06-.94-2.06-.94L8.5 2.5l-.94 2.06-2.06.94zm10 10l.94 2.06.94-2.06 2.06-.94-2.06-.94-.94-2.06-.94 2.06-2.06.94z\"/><path d=\"M17.41 7.96l-1.37-1.37c-.4-.4-.92-.59-1.43-.59-.52 0-1.04.2-1.43.59L10.3 9.45l-7.72 7.72c-.78.78-.78 2.05 0 2.83L4 21.41c.39.39.9.59 1.41.59.51 0 1.02-.2 1.41-.59l7.78-7.78 2.81-2.81c.8-.78.8-2.07 0-2.86zM5.41 20L4 18.59l7.72-7.72 1.47 1.35L5.41 20z\"/>\n",
              "  </svg>\n",
              "      </button>\n",
              "      \n",
              "  <style>\n",
              "    .colab-df-container {\n",
              "      display:flex;\n",
              "      flex-wrap:wrap;\n",
              "      gap: 12px;\n",
              "    }\n",
              "\n",
              "    .colab-df-convert {\n",
              "      background-color: #E8F0FE;\n",
              "      border: none;\n",
              "      border-radius: 50%;\n",
              "      cursor: pointer;\n",
              "      display: none;\n",
              "      fill: #1967D2;\n",
              "      height: 32px;\n",
              "      padding: 0 0 0 0;\n",
              "      width: 32px;\n",
              "    }\n",
              "\n",
              "    .colab-df-convert:hover {\n",
              "      background-color: #E2EBFA;\n",
              "      box-shadow: 0px 1px 2px rgba(60, 64, 67, 0.3), 0px 1px 3px 1px rgba(60, 64, 67, 0.15);\n",
              "      fill: #174EA6;\n",
              "    }\n",
              "\n",
              "    [theme=dark] .colab-df-convert {\n",
              "      background-color: #3B4455;\n",
              "      fill: #D2E3FC;\n",
              "    }\n",
              "\n",
              "    [theme=dark] .colab-df-convert:hover {\n",
              "      background-color: #434B5C;\n",
              "      box-shadow: 0px 1px 3px 1px rgba(0, 0, 0, 0.15);\n",
              "      filter: drop-shadow(0px 1px 2px rgba(0, 0, 0, 0.3));\n",
              "      fill: #FFFFFF;\n",
              "    }\n",
              "  </style>\n",
              "\n",
              "      <script>\n",
              "        const buttonEl =\n",
              "          document.querySelector('#df-fbe50128-1121-4fbb-bdda-661c08bcf160 button.colab-df-convert');\n",
              "        buttonEl.style.display =\n",
              "          google.colab.kernel.accessAllowed ? 'block' : 'none';\n",
              "\n",
              "        async function convertToInteractive(key) {\n",
              "          const element = document.querySelector('#df-fbe50128-1121-4fbb-bdda-661c08bcf160');\n",
              "          const dataTable =\n",
              "            await google.colab.kernel.invokeFunction('convertToInteractive',\n",
              "                                                     [key], {});\n",
              "          if (!dataTable) return;\n",
              "\n",
              "          const docLinkHtml = 'Like what you see? Visit the ' +\n",
              "            '<a target=\"_blank\" href=https://colab.research.google.com/notebooks/data_table.ipynb>data table notebook</a>'\n",
              "            + ' to learn more about interactive tables.';\n",
              "          element.innerHTML = '';\n",
              "          dataTable['output_type'] = 'display_data';\n",
              "          await google.colab.output.renderOutput(dataTable, element);\n",
              "          const docLink = document.createElement('div');\n",
              "          docLink.innerHTML = docLinkHtml;\n",
              "          element.appendChild(docLink);\n",
              "        }\n",
              "      </script>\n",
              "    </div>\n",
              "  </div>\n",
              "  "
            ]
          },
          "metadata": {},
          "execution_count": 11
        }
      ],
      "source": [
        "df.describe()"
      ]
    },
    {
      "cell_type": "code",
      "execution_count": 12,
      "metadata": {
        "colab": {
          "base_uri": "https://localhost:8080/"
        },
        "id": "E9KmD81nEwgq",
        "outputId": "106bd6a7-fe04-45d3-c6ac-06e8646aeb47"
      },
      "outputs": [
        {
          "output_type": "execute_result",
          "data": {
            "text/plain": [
              "['id',\n",
              " 'conversation_id',\n",
              " 'created_at',\n",
              " 'date',\n",
              " 'time',\n",
              " 'timezone',\n",
              " 'user_id',\n",
              " 'username',\n",
              " 'name',\n",
              " 'place',\n",
              " 'tweet',\n",
              " 'language',\n",
              " 'mentions',\n",
              " 'urls',\n",
              " 'photos',\n",
              " 'replies_count',\n",
              " 'retweets_count',\n",
              " 'likes_count',\n",
              " 'hashtags',\n",
              " 'cashtags',\n",
              " 'link',\n",
              " 'retweet',\n",
              " 'quote_url',\n",
              " 'video',\n",
              " 'thumbnail',\n",
              " 'near',\n",
              " 'geo',\n",
              " 'source',\n",
              " 'user_rt_id',\n",
              " 'user_rt',\n",
              " 'retweet_id',\n",
              " 'reply_to',\n",
              " 'retweet_date',\n",
              " 'translate',\n",
              " 'trans_src',\n",
              " 'trans_dest']"
            ]
          },
          "metadata": {},
          "execution_count": 12
        }
      ],
      "source": [
        "cols_list = list(df.columns)\n",
        "cols_list"
      ]
    },
    {
      "cell_type": "code",
      "execution_count": 13,
      "metadata": {
        "colab": {
          "base_uri": "https://localhost:8080/"
        },
        "id": "Kv-CMSoMExfA",
        "outputId": "eb5a6252-4e11-47ea-e1d5-c84281d275d7"
      },
      "outputs": [
        {
          "output_type": "execute_result",
          "data": {
            "text/plain": [
              "0       So has anyone begun to compile 'here's the sta...\n",
              "1       Getting some groceries, topic shifted to covid...\n",
              "2       \"Illinois Children's Daycare Worker Tests Posi...\n",
              "3       Illinois daycare worker tests positive for mon...\n",
              "4       @Natrone86 @JunotIsrael @elcavaqueen @thechicc...\n",
              "                              ...                        \n",
              "6854    @hurtmeknots With Monkeypox on the rise, maybe...\n",
              "6855    @FITNESSSF can you start filling up the disinf...\n",
              "6856       @politvidchannel 71% already have monkey pox .\n",
              "6857                            RT if you have #monkeypox\n",
              "6858    @POTUS @VP 🥰 Dems 🇺🇸💙 are having the best jobs...\n",
              "Name: tweet, Length: 6859, dtype: object"
            ]
          },
          "metadata": {},
          "execution_count": 13
        }
      ],
      "source": [
        "df['tweet']"
      ]
    },
    {
      "cell_type": "markdown",
      "metadata": {
        "id": "y8bzxErCFMH0"
      },
      "source": [
        "* RangeIndex: 6859 entries, 0 to 6858\n",
        "* Data columns (total 36 columns)"
      ]
    },
    {
      "cell_type": "markdown",
      "metadata": {
        "id": "gOaVANqDPdyW"
      },
      "source": [
        "### Select corpus: `tweet_df`"
      ]
    },
    {
      "cell_type": "code",
      "execution_count": 14,
      "metadata": {
        "colab": {
          "base_uri": "https://localhost:8080/",
          "height": 112
        },
        "id": "P1dHMD7eINnP",
        "outputId": "36f2a29a-0146-4df1-a0a7-41ba82f882f2"
      },
      "outputs": [
        {
          "output_type": "execute_result",
          "data": {
            "text/plain": [
              "  language        date      username hashtags  \\\n",
              "0       en  2022-08-06  thetenth2022       []   \n",
              "1       en  2022-08-06     ashemedai       []   \n",
              "\n",
              "                                               tweet  \n",
              "0  So has anyone begun to compile 'here's the sta...  \n",
              "1  Getting some groceries, topic shifted to covid...  "
            ],
            "text/html": [
              "\n",
              "  <div id=\"df-e08ca77c-0ed7-49f0-b076-2d4e68cf0019\">\n",
              "    <div class=\"colab-df-container\">\n",
              "      <div>\n",
              "<style scoped>\n",
              "    .dataframe tbody tr th:only-of-type {\n",
              "        vertical-align: middle;\n",
              "    }\n",
              "\n",
              "    .dataframe tbody tr th {\n",
              "        vertical-align: top;\n",
              "    }\n",
              "\n",
              "    .dataframe thead th {\n",
              "        text-align: right;\n",
              "    }\n",
              "</style>\n",
              "<table border=\"1\" class=\"dataframe\">\n",
              "  <thead>\n",
              "    <tr style=\"text-align: right;\">\n",
              "      <th></th>\n",
              "      <th>language</th>\n",
              "      <th>date</th>\n",
              "      <th>username</th>\n",
              "      <th>hashtags</th>\n",
              "      <th>tweet</th>\n",
              "    </tr>\n",
              "  </thead>\n",
              "  <tbody>\n",
              "    <tr>\n",
              "      <th>0</th>\n",
              "      <td>en</td>\n",
              "      <td>2022-08-06</td>\n",
              "      <td>thetenth2022</td>\n",
              "      <td>[]</td>\n",
              "      <td>So has anyone begun to compile 'here's the sta...</td>\n",
              "    </tr>\n",
              "    <tr>\n",
              "      <th>1</th>\n",
              "      <td>en</td>\n",
              "      <td>2022-08-06</td>\n",
              "      <td>ashemedai</td>\n",
              "      <td>[]</td>\n",
              "      <td>Getting some groceries, topic shifted to covid...</td>\n",
              "    </tr>\n",
              "  </tbody>\n",
              "</table>\n",
              "</div>\n",
              "      <button class=\"colab-df-convert\" onclick=\"convertToInteractive('df-e08ca77c-0ed7-49f0-b076-2d4e68cf0019')\"\n",
              "              title=\"Convert this dataframe to an interactive table.\"\n",
              "              style=\"display:none;\">\n",
              "        \n",
              "  <svg xmlns=\"http://www.w3.org/2000/svg\" height=\"24px\"viewBox=\"0 0 24 24\"\n",
              "       width=\"24px\">\n",
              "    <path d=\"M0 0h24v24H0V0z\" fill=\"none\"/>\n",
              "    <path d=\"M18.56 5.44l.94 2.06.94-2.06 2.06-.94-2.06-.94-.94-2.06-.94 2.06-2.06.94zm-11 1L8.5 8.5l.94-2.06 2.06-.94-2.06-.94L8.5 2.5l-.94 2.06-2.06.94zm10 10l.94 2.06.94-2.06 2.06-.94-2.06-.94-.94-2.06-.94 2.06-2.06.94z\"/><path d=\"M17.41 7.96l-1.37-1.37c-.4-.4-.92-.59-1.43-.59-.52 0-1.04.2-1.43.59L10.3 9.45l-7.72 7.72c-.78.78-.78 2.05 0 2.83L4 21.41c.39.39.9.59 1.41.59.51 0 1.02-.2 1.41-.59l7.78-7.78 2.81-2.81c.8-.78.8-2.07 0-2.86zM5.41 20L4 18.59l7.72-7.72 1.47 1.35L5.41 20z\"/>\n",
              "  </svg>\n",
              "      </button>\n",
              "      \n",
              "  <style>\n",
              "    .colab-df-container {\n",
              "      display:flex;\n",
              "      flex-wrap:wrap;\n",
              "      gap: 12px;\n",
              "    }\n",
              "\n",
              "    .colab-df-convert {\n",
              "      background-color: #E8F0FE;\n",
              "      border: none;\n",
              "      border-radius: 50%;\n",
              "      cursor: pointer;\n",
              "      display: none;\n",
              "      fill: #1967D2;\n",
              "      height: 32px;\n",
              "      padding: 0 0 0 0;\n",
              "      width: 32px;\n",
              "    }\n",
              "\n",
              "    .colab-df-convert:hover {\n",
              "      background-color: #E2EBFA;\n",
              "      box-shadow: 0px 1px 2px rgba(60, 64, 67, 0.3), 0px 1px 3px 1px rgba(60, 64, 67, 0.15);\n",
              "      fill: #174EA6;\n",
              "    }\n",
              "\n",
              "    [theme=dark] .colab-df-convert {\n",
              "      background-color: #3B4455;\n",
              "      fill: #D2E3FC;\n",
              "    }\n",
              "\n",
              "    [theme=dark] .colab-df-convert:hover {\n",
              "      background-color: #434B5C;\n",
              "      box-shadow: 0px 1px 3px 1px rgba(0, 0, 0, 0.15);\n",
              "      filter: drop-shadow(0px 1px 2px rgba(0, 0, 0, 0.3));\n",
              "      fill: #FFFFFF;\n",
              "    }\n",
              "  </style>\n",
              "\n",
              "      <script>\n",
              "        const buttonEl =\n",
              "          document.querySelector('#df-e08ca77c-0ed7-49f0-b076-2d4e68cf0019 button.colab-df-convert');\n",
              "        buttonEl.style.display =\n",
              "          google.colab.kernel.accessAllowed ? 'block' : 'none';\n",
              "\n",
              "        async function convertToInteractive(key) {\n",
              "          const element = document.querySelector('#df-e08ca77c-0ed7-49f0-b076-2d4e68cf0019');\n",
              "          const dataTable =\n",
              "            await google.colab.kernel.invokeFunction('convertToInteractive',\n",
              "                                                     [key], {});\n",
              "          if (!dataTable) return;\n",
              "\n",
              "          const docLinkHtml = 'Like what you see? Visit the ' +\n",
              "            '<a target=\"_blank\" href=https://colab.research.google.com/notebooks/data_table.ipynb>data table notebook</a>'\n",
              "            + ' to learn more about interactive tables.';\n",
              "          element.innerHTML = '';\n",
              "          dataTable['output_type'] = 'display_data';\n",
              "          await google.colab.output.renderOutput(dataTable, element);\n",
              "          const docLink = document.createElement('div');\n",
              "          docLink.innerHTML = docLinkHtml;\n",
              "          element.appendChild(docLink);\n",
              "        }\n",
              "      </script>\n",
              "    </div>\n",
              "  </div>\n",
              "  "
            ]
          },
          "metadata": {},
          "execution_count": 14
        }
      ],
      "source": [
        "tweet_df = df[['language','date','username','hashtags','tweet']]\n",
        "tweet_df.head(2)"
      ]
    },
    {
      "cell_type": "code",
      "execution_count": 33,
      "metadata": {
        "colab": {
          "base_uri": "https://localhost:8080/"
        },
        "outputId": "1c7945e3-d16c-4bc7-daa0-1821d7164aa4",
        "id": "FVfBoFtpKRAc"
      },
      "outputs": [
        {
          "output_type": "stream",
          "name": "stdout",
          "text": [
            "<class 'pandas.core.frame.DataFrame'>\n",
            "Int64Index: 6410 entries, 0 to 6858\n",
            "Data columns (total 4 columns):\n",
            " #   Column    Non-Null Count  Dtype \n",
            "---  ------    --------------  ----- \n",
            " 0   date      6410 non-null   object\n",
            " 1   username  6410 non-null   object\n",
            " 2   hashtags  6410 non-null   object\n",
            " 3   tweet     6410 non-null   object\n",
            "dtypes: object(4)\n",
            "memory usage: 250.4+ KB\n"
          ]
        }
      ],
      "source": [
        "tweet_df.info()"
      ]
    },
    {
      "cell_type": "code",
      "execution_count": 34,
      "metadata": {
        "colab": {
          "base_uri": "https://localhost:8080/"
        },
        "id": "wHSEPHPRKqVm",
        "outputId": "34fff593-a60f-45af-e9bc-0060792af138"
      },
      "outputs": [
        {
          "output_type": "execute_result",
          "data": {
            "text/plain": [
              "5634"
            ]
          },
          "metadata": {},
          "execution_count": 34
        }
      ],
      "source": [
        "tweet_df['username'].nunique()"
      ]
    },
    {
      "cell_type": "code",
      "execution_count": 18,
      "metadata": {
        "colab": {
          "base_uri": "https://localhost:8080/"
        },
        "id": "eObt84ozIrbo",
        "outputId": "37b2d2cd-2ce4-437e-e315-3f1967950f28"
      },
      "outputs": [
        {
          "output_type": "execute_result",
          "data": {
            "text/plain": [
              "array(['en', 'kn', 'de', 'in', 'tl', 'fr', 'pt', 'te', 'tr', 'it', 'qme',\n",
              "       'bn', 'qht', 'pl', 'es', 'el', 'nl', 'cy', 'ta', 'hi', 'sv', 'ja',\n",
              "       'th', 'mr', 'et', 'gu', 'da', 'ro', 'ml', 'zxx', 'und', 'pa', 'ur',\n",
              "       'ko', 'am', 'fi', 'zh', 'lt', 'hu', 'ru', 'ar', 'si'], dtype=object)"
            ]
          },
          "metadata": {},
          "execution_count": 18
        }
      ],
      "source": [
        "tweet_df['language'].unique()\n"
      ]
    },
    {
      "cell_type": "code",
      "execution_count": 19,
      "metadata": {
        "colab": {
          "base_uri": "https://localhost:8080/"
        },
        "id": "85bBZU97JxGI",
        "outputId": "53e6f94e-db87-46fc-e273-b04576a17e0e"
      },
      "outputs": [
        {
          "output_type": "stream",
          "name": "stdout",
          "text": [
            "English entries: 6410\n",
            "Spanish entries: 51\n",
            "Italian entries: 10\n"
          ]
        }
      ],
      "source": [
        "print('English entries:', (tweet_df[tweet_df[\"language\"] == 'en'].count())['language'])\n",
        "print('Spanish entries:', (tweet_df[tweet_df[\"language\"] == 'es'].count())['language'])\n",
        "print('Italian entries:', (tweet_df[tweet_df[\"language\"] == 'it'].count())['language'])\n"
      ]
    },
    {
      "cell_type": "code",
      "execution_count": 20,
      "metadata": {
        "colab": {
          "base_uri": "https://localhost:8080/"
        },
        "id": "J_yic6fZLT1m",
        "outputId": "636dabe7-c1ae-4596-a9b2-067d0417892f"
      },
      "outputs": [
        {
          "output_type": "stream",
          "name": "stdout",
          "text": [
            "<class 'pandas.core.frame.DataFrame'>\n",
            "Int64Index: 6410 entries, 0 to 6858\n",
            "Data columns (total 5 columns):\n",
            " #   Column    Non-Null Count  Dtype \n",
            "---  ------    --------------  ----- \n",
            " 0   language  6410 non-null   object\n",
            " 1   date      6410 non-null   object\n",
            " 2   username  6410 non-null   object\n",
            " 3   hashtags  6410 non-null   object\n",
            " 4   tweet     6410 non-null   object\n",
            "dtypes: object(5)\n",
            "memory usage: 300.5+ KB\n"
          ]
        }
      ],
      "source": [
        "tweet_df = tweet_df[(tweet_df['language'] == 'en')]\n",
        "tweet_df.info()"
      ]
    },
    {
      "cell_type": "code",
      "execution_count": 21,
      "metadata": {
        "colab": {
          "base_uri": "https://localhost:8080/",
          "height": 112
        },
        "id": "BsHh6TcUKxY5",
        "outputId": "b34fb76f-8a0a-4d3a-fdb6-0fdf67d06f53"
      },
      "outputs": [
        {
          "output_type": "execute_result",
          "data": {
            "text/plain": [
              "  language        date      username hashtags  \\\n",
              "0       en  2022-08-06  thetenth2022       []   \n",
              "1       en  2022-08-06     ashemedai       []   \n",
              "\n",
              "                                               tweet  \n",
              "0  So has anyone begun to compile 'here's the sta...  \n",
              "1  Getting some groceries, topic shifted to covid...  "
            ],
            "text/html": [
              "\n",
              "  <div id=\"df-db616602-454b-4800-b3c5-07af37604e78\">\n",
              "    <div class=\"colab-df-container\">\n",
              "      <div>\n",
              "<style scoped>\n",
              "    .dataframe tbody tr th:only-of-type {\n",
              "        vertical-align: middle;\n",
              "    }\n",
              "\n",
              "    .dataframe tbody tr th {\n",
              "        vertical-align: top;\n",
              "    }\n",
              "\n",
              "    .dataframe thead th {\n",
              "        text-align: right;\n",
              "    }\n",
              "</style>\n",
              "<table border=\"1\" class=\"dataframe\">\n",
              "  <thead>\n",
              "    <tr style=\"text-align: right;\">\n",
              "      <th></th>\n",
              "      <th>language</th>\n",
              "      <th>date</th>\n",
              "      <th>username</th>\n",
              "      <th>hashtags</th>\n",
              "      <th>tweet</th>\n",
              "    </tr>\n",
              "  </thead>\n",
              "  <tbody>\n",
              "    <tr>\n",
              "      <th>0</th>\n",
              "      <td>en</td>\n",
              "      <td>2022-08-06</td>\n",
              "      <td>thetenth2022</td>\n",
              "      <td>[]</td>\n",
              "      <td>So has anyone begun to compile 'here's the sta...</td>\n",
              "    </tr>\n",
              "    <tr>\n",
              "      <th>1</th>\n",
              "      <td>en</td>\n",
              "      <td>2022-08-06</td>\n",
              "      <td>ashemedai</td>\n",
              "      <td>[]</td>\n",
              "      <td>Getting some groceries, topic shifted to covid...</td>\n",
              "    </tr>\n",
              "  </tbody>\n",
              "</table>\n",
              "</div>\n",
              "      <button class=\"colab-df-convert\" onclick=\"convertToInteractive('df-db616602-454b-4800-b3c5-07af37604e78')\"\n",
              "              title=\"Convert this dataframe to an interactive table.\"\n",
              "              style=\"display:none;\">\n",
              "        \n",
              "  <svg xmlns=\"http://www.w3.org/2000/svg\" height=\"24px\"viewBox=\"0 0 24 24\"\n",
              "       width=\"24px\">\n",
              "    <path d=\"M0 0h24v24H0V0z\" fill=\"none\"/>\n",
              "    <path d=\"M18.56 5.44l.94 2.06.94-2.06 2.06-.94-2.06-.94-.94-2.06-.94 2.06-2.06.94zm-11 1L8.5 8.5l.94-2.06 2.06-.94-2.06-.94L8.5 2.5l-.94 2.06-2.06.94zm10 10l.94 2.06.94-2.06 2.06-.94-2.06-.94-.94-2.06-.94 2.06-2.06.94z\"/><path d=\"M17.41 7.96l-1.37-1.37c-.4-.4-.92-.59-1.43-.59-.52 0-1.04.2-1.43.59L10.3 9.45l-7.72 7.72c-.78.78-.78 2.05 0 2.83L4 21.41c.39.39.9.59 1.41.59.51 0 1.02-.2 1.41-.59l7.78-7.78 2.81-2.81c.8-.78.8-2.07 0-2.86zM5.41 20L4 18.59l7.72-7.72 1.47 1.35L5.41 20z\"/>\n",
              "  </svg>\n",
              "      </button>\n",
              "      \n",
              "  <style>\n",
              "    .colab-df-container {\n",
              "      display:flex;\n",
              "      flex-wrap:wrap;\n",
              "      gap: 12px;\n",
              "    }\n",
              "\n",
              "    .colab-df-convert {\n",
              "      background-color: #E8F0FE;\n",
              "      border: none;\n",
              "      border-radius: 50%;\n",
              "      cursor: pointer;\n",
              "      display: none;\n",
              "      fill: #1967D2;\n",
              "      height: 32px;\n",
              "      padding: 0 0 0 0;\n",
              "      width: 32px;\n",
              "    }\n",
              "\n",
              "    .colab-df-convert:hover {\n",
              "      background-color: #E2EBFA;\n",
              "      box-shadow: 0px 1px 2px rgba(60, 64, 67, 0.3), 0px 1px 3px 1px rgba(60, 64, 67, 0.15);\n",
              "      fill: #174EA6;\n",
              "    }\n",
              "\n",
              "    [theme=dark] .colab-df-convert {\n",
              "      background-color: #3B4455;\n",
              "      fill: #D2E3FC;\n",
              "    }\n",
              "\n",
              "    [theme=dark] .colab-df-convert:hover {\n",
              "      background-color: #434B5C;\n",
              "      box-shadow: 0px 1px 3px 1px rgba(0, 0, 0, 0.15);\n",
              "      filter: drop-shadow(0px 1px 2px rgba(0, 0, 0, 0.3));\n",
              "      fill: #FFFFFF;\n",
              "    }\n",
              "  </style>\n",
              "\n",
              "      <script>\n",
              "        const buttonEl =\n",
              "          document.querySelector('#df-db616602-454b-4800-b3c5-07af37604e78 button.colab-df-convert');\n",
              "        buttonEl.style.display =\n",
              "          google.colab.kernel.accessAllowed ? 'block' : 'none';\n",
              "\n",
              "        async function convertToInteractive(key) {\n",
              "          const element = document.querySelector('#df-db616602-454b-4800-b3c5-07af37604e78');\n",
              "          const dataTable =\n",
              "            await google.colab.kernel.invokeFunction('convertToInteractive',\n",
              "                                                     [key], {});\n",
              "          if (!dataTable) return;\n",
              "\n",
              "          const docLinkHtml = 'Like what you see? Visit the ' +\n",
              "            '<a target=\"_blank\" href=https://colab.research.google.com/notebooks/data_table.ipynb>data table notebook</a>'\n",
              "            + ' to learn more about interactive tables.';\n",
              "          element.innerHTML = '';\n",
              "          dataTable['output_type'] = 'display_data';\n",
              "          await google.colab.output.renderOutput(dataTable, element);\n",
              "          const docLink = document.createElement('div');\n",
              "          docLink.innerHTML = docLinkHtml;\n",
              "          element.appendChild(docLink);\n",
              "        }\n",
              "      </script>\n",
              "    </div>\n",
              "  </div>\n",
              "  "
            ]
          },
          "metadata": {},
          "execution_count": 21
        }
      ],
      "source": [
        "tweet_df.head(2)"
      ]
    },
    {
      "cell_type": "code",
      "execution_count": 22,
      "metadata": {
        "colab": {
          "base_uri": "https://localhost:8080/",
          "height": 112
        },
        "id": "qXlvCWuLQX4t",
        "outputId": "9c48e52e-6fd2-4180-9611-15413dab878e"
      },
      "outputs": [
        {
          "output_type": "execute_result",
          "data": {
            "text/plain": [
              "         date      username hashtags  \\\n",
              "0  2022-08-06  thetenth2022       []   \n",
              "1  2022-08-06     ashemedai       []   \n",
              "\n",
              "                                               tweet  \n",
              "0  So has anyone begun to compile 'here's the sta...  \n",
              "1  Getting some groceries, topic shifted to covid...  "
            ],
            "text/html": [
              "\n",
              "  <div id=\"df-2d87d9c2-e71c-4a48-b321-0af15571235d\">\n",
              "    <div class=\"colab-df-container\">\n",
              "      <div>\n",
              "<style scoped>\n",
              "    .dataframe tbody tr th:only-of-type {\n",
              "        vertical-align: middle;\n",
              "    }\n",
              "\n",
              "    .dataframe tbody tr th {\n",
              "        vertical-align: top;\n",
              "    }\n",
              "\n",
              "    .dataframe thead th {\n",
              "        text-align: right;\n",
              "    }\n",
              "</style>\n",
              "<table border=\"1\" class=\"dataframe\">\n",
              "  <thead>\n",
              "    <tr style=\"text-align: right;\">\n",
              "      <th></th>\n",
              "      <th>date</th>\n",
              "      <th>username</th>\n",
              "      <th>hashtags</th>\n",
              "      <th>tweet</th>\n",
              "    </tr>\n",
              "  </thead>\n",
              "  <tbody>\n",
              "    <tr>\n",
              "      <th>0</th>\n",
              "      <td>2022-08-06</td>\n",
              "      <td>thetenth2022</td>\n",
              "      <td>[]</td>\n",
              "      <td>So has anyone begun to compile 'here's the sta...</td>\n",
              "    </tr>\n",
              "    <tr>\n",
              "      <th>1</th>\n",
              "      <td>2022-08-06</td>\n",
              "      <td>ashemedai</td>\n",
              "      <td>[]</td>\n",
              "      <td>Getting some groceries, topic shifted to covid...</td>\n",
              "    </tr>\n",
              "  </tbody>\n",
              "</table>\n",
              "</div>\n",
              "      <button class=\"colab-df-convert\" onclick=\"convertToInteractive('df-2d87d9c2-e71c-4a48-b321-0af15571235d')\"\n",
              "              title=\"Convert this dataframe to an interactive table.\"\n",
              "              style=\"display:none;\">\n",
              "        \n",
              "  <svg xmlns=\"http://www.w3.org/2000/svg\" height=\"24px\"viewBox=\"0 0 24 24\"\n",
              "       width=\"24px\">\n",
              "    <path d=\"M0 0h24v24H0V0z\" fill=\"none\"/>\n",
              "    <path d=\"M18.56 5.44l.94 2.06.94-2.06 2.06-.94-2.06-.94-.94-2.06-.94 2.06-2.06.94zm-11 1L8.5 8.5l.94-2.06 2.06-.94-2.06-.94L8.5 2.5l-.94 2.06-2.06.94zm10 10l.94 2.06.94-2.06 2.06-.94-2.06-.94-.94-2.06-.94 2.06-2.06.94z\"/><path d=\"M17.41 7.96l-1.37-1.37c-.4-.4-.92-.59-1.43-.59-.52 0-1.04.2-1.43.59L10.3 9.45l-7.72 7.72c-.78.78-.78 2.05 0 2.83L4 21.41c.39.39.9.59 1.41.59.51 0 1.02-.2 1.41-.59l7.78-7.78 2.81-2.81c.8-.78.8-2.07 0-2.86zM5.41 20L4 18.59l7.72-7.72 1.47 1.35L5.41 20z\"/>\n",
              "  </svg>\n",
              "      </button>\n",
              "      \n",
              "  <style>\n",
              "    .colab-df-container {\n",
              "      display:flex;\n",
              "      flex-wrap:wrap;\n",
              "      gap: 12px;\n",
              "    }\n",
              "\n",
              "    .colab-df-convert {\n",
              "      background-color: #E8F0FE;\n",
              "      border: none;\n",
              "      border-radius: 50%;\n",
              "      cursor: pointer;\n",
              "      display: none;\n",
              "      fill: #1967D2;\n",
              "      height: 32px;\n",
              "      padding: 0 0 0 0;\n",
              "      width: 32px;\n",
              "    }\n",
              "\n",
              "    .colab-df-convert:hover {\n",
              "      background-color: #E2EBFA;\n",
              "      box-shadow: 0px 1px 2px rgba(60, 64, 67, 0.3), 0px 1px 3px 1px rgba(60, 64, 67, 0.15);\n",
              "      fill: #174EA6;\n",
              "    }\n",
              "\n",
              "    [theme=dark] .colab-df-convert {\n",
              "      background-color: #3B4455;\n",
              "      fill: #D2E3FC;\n",
              "    }\n",
              "\n",
              "    [theme=dark] .colab-df-convert:hover {\n",
              "      background-color: #434B5C;\n",
              "      box-shadow: 0px 1px 3px 1px rgba(0, 0, 0, 0.15);\n",
              "      filter: drop-shadow(0px 1px 2px rgba(0, 0, 0, 0.3));\n",
              "      fill: #FFFFFF;\n",
              "    }\n",
              "  </style>\n",
              "\n",
              "      <script>\n",
              "        const buttonEl =\n",
              "          document.querySelector('#df-2d87d9c2-e71c-4a48-b321-0af15571235d button.colab-df-convert');\n",
              "        buttonEl.style.display =\n",
              "          google.colab.kernel.accessAllowed ? 'block' : 'none';\n",
              "\n",
              "        async function convertToInteractive(key) {\n",
              "          const element = document.querySelector('#df-2d87d9c2-e71c-4a48-b321-0af15571235d');\n",
              "          const dataTable =\n",
              "            await google.colab.kernel.invokeFunction('convertToInteractive',\n",
              "                                                     [key], {});\n",
              "          if (!dataTable) return;\n",
              "\n",
              "          const docLinkHtml = 'Like what you see? Visit the ' +\n",
              "            '<a target=\"_blank\" href=https://colab.research.google.com/notebooks/data_table.ipynb>data table notebook</a>'\n",
              "            + ' to learn more about interactive tables.';\n",
              "          element.innerHTML = '';\n",
              "          dataTable['output_type'] = 'display_data';\n",
              "          await google.colab.output.renderOutput(dataTable, element);\n",
              "          const docLink = document.createElement('div');\n",
              "          docLink.innerHTML = docLinkHtml;\n",
              "          element.appendChild(docLink);\n",
              "        }\n",
              "      </script>\n",
              "    </div>\n",
              "  </div>\n",
              "  "
            ]
          },
          "metadata": {},
          "execution_count": 22
        }
      ],
      "source": [
        "tweet_df = tweet_df.drop(columns=['language'])\n",
        "tweet_df.head(2)"
      ]
    },
    {
      "cell_type": "code",
      "execution_count": 36,
      "metadata": {
        "id": "Okq1YwhUP5J5"
      },
      "outputs": [],
      "source": [
        "# save corpus selection as tweet_df\n",
        "tweet_df.to_pickle('/content/tweets.pkl')\n",
        "tweet_df.to_csv(r'/content/tweets.csv', index=False)"
      ]
    },
    {
      "cell_type": "markdown",
      "metadata": {
        "id": "YrNd5koTT5ka"
      },
      "source": [
        "## DF_to_SQL"
      ]
    },
    {
      "cell_type": "markdown",
      "metadata": {
        "id": "-FE6YuovgwAP"
      },
      "source": [
        "## df_to_sql tweet_df #1"
      ]
    },
    {
      "cell_type": "code",
      "execution_count": 24,
      "metadata": {
        "id": "UI7VMVmIKF-7"
      },
      "outputs": [],
      "source": [
        "# from sqlite3 import connect\n",
        "# conn = connect(':memory') "
      ]
    },
    {
      "cell_type": "code",
      "execution_count": 25,
      "metadata": {
        "id": "Qe7geGpKZ14G"
      },
      "outputs": [],
      "source": [
        "# # 1. read in csv \n",
        "# df = pd.read_csv('/content/drive/MyDrive/tweet_df.csv')\n",
        "# df.head(2)"
      ]
    },
    {
      "cell_type": "code",
      "execution_count": 26,
      "metadata": {
        "id": "PsHsk3T8KF-7"
      },
      "outputs": [],
      "source": [
        "# # 2. df_to_sql\n",
        "# sql = df.to_sql('mpox_db', conn, if_exists='replace')\n",
        "# sql"
      ]
    },
    {
      "cell_type": "code",
      "execution_count": 27,
      "metadata": {
        "id": "b8wCYzR3KF-7"
      },
      "outputs": [],
      "source": [
        "# # 3. read_sql \n",
        "# mpox = pd.read_sql('SELECT * FROM mpox_db', conn) \n",
        "# mpox.head(2)"
      ]
    },
    {
      "cell_type": "code",
      "execution_count": 28,
      "metadata": {
        "id": "uOSv9Xt4KF-7"
      },
      "outputs": [],
      "source": [
        "# type(mpox)"
      ]
    },
    {
      "cell_type": "markdown",
      "source": [
        "## df_to_sql tweet_df #2"
      ],
      "metadata": {
        "id": "5WYNxkC8Vhd0"
      }
    },
    {
      "cell_type": "code",
      "source": [
        "# https://towardsdatascience.com/have-a-sql-interview-coming-up-ace-it-using-google-colab-6d3c0ffb29dc\n",
        "\n",
        "def pd_to_sqlDB(input_df: pd.DataFrame,\n",
        "                table_name: str,\n",
        "                db_name: str = 'default.db') -> None:\n",
        "\n",
        "    '''Take a Pandas dataframe `input_df` and upload it to `table_name` SQLITE table\n",
        "    Args:\n",
        "        input_df (pd.DataFrame): Dataframe containing data to upload to SQLITE\n",
        "        table_name (str): Name of the SQLITE table to upload to\n",
        "        db_name (str, optional): Name of the SQLITE Database in which the table is created. \n",
        "                                 Defaults to 'default.db'.\n",
        "    '''\n",
        "\n",
        "    # Step 1: Setup local logging\n",
        "    logging.basicConfig(level=logging.INFO,\n",
        "                        format='%(asctime)s %(levelname)s: %(message)s',\n",
        "                        datefmt='%Y-%m-%d %H:%M:%S')\n",
        "\n",
        "    # Step 2: Find columns in the dataframe\n",
        "    cols = input_df.columns\n",
        "    cols_string = ','.join(cols)\n",
        "    val_wildcard_string = ','.join(['?'] * len(cols))\n",
        "\n",
        "    # Step 3: Connect to a DB file if it exists, else create a new file\n",
        "    con = sqlite3.connect(db_name)\n",
        "    cur = con.cursor()\n",
        "    logging.info(f'SQL DB {db_name} created')\n",
        "\n",
        "    # Step 4: Create Table\n",
        "    sql_string = f\"\"\"CREATE TABLE {table_name} ({cols_string});\"\"\"\n",
        "    cur.execute(sql_string)\n",
        "    logging.info(f'SQL Table {table_name} created with {len(cols)} columns')\n",
        "\n",
        "    # Step 5: Upload the dataframe\n",
        "    rows_to_upload = input_df.to_dict(orient='split')['data']\n",
        "    sql_string = f\"\"\"INSERT INTO {table_name} ({cols_string}) VALUES ({val_wildcard_string});\"\"\"    \n",
        "    cur.executemany(sql_string, rows_to_upload)\n",
        "    logging.info(f'{len(rows_to_upload)} rows uploaded to {table_name}')\n",
        "  \n",
        "    # Step 6: Commit the changes and close the connection\n",
        "    con.commit()\n",
        "    con.close()"
      ],
      "metadata": {
        "id": "nkPEnnFeRdWZ"
      },
      "execution_count": 29,
      "outputs": []
    },
    {
      "cell_type": "code",
      "source": [
        "#  https://towardsdatascience.com/have-a-sql-interview-coming-up-ace-it-using-google-colab-6d3c0ffb29dc\n",
        "\n",
        "def sql_query_to_pd(sql_query_string: str, db_name: str ='mpox.db') -> pd.DataFrame:\n",
        "    '''Execute an SQL query and return the results as a pandas dataframe\n",
        "    Args:\n",
        "        sql_query_string (str): SQL query string to execute\n",
        "        db_name (str, optional): Name of the SQLITE Database to execute the query in.\n",
        "                                 Defaults to 'default.db'.\n",
        "    Returns:\n",
        "        pd.DataFrame: Results of the SQL query in a pandas dataframe\n",
        "    '''    \n",
        "    # Step 1: Connect to the SQL DB\n",
        "    con = sqlite3.connect(db_name)\n",
        "\n",
        "    # Step 2: Execute the SQL query\n",
        "    cursor = con.execute(sql_query_string)\n",
        "\n",
        "    # Step 3: Fetch the data and column names\n",
        "    result_data = cursor.fetchall()\n",
        "    cols = [description[0] for description in cursor.description]\n",
        "\n",
        "    # Step 4: Close the connection\n",
        "    con.close()\n",
        "\n",
        "    # Step 5: Return as a dataframe\n",
        "    return pd.DataFrame(result_data, columns=cols)"
      ],
      "metadata": {
        "id": "NyBhsOFhP8qM"
      },
      "execution_count": 30,
      "outputs": []
    },
    {
      "cell_type": "code",
      "source": [
        "# https://towardsdatascience.com/have-a-sql-interview-coming-up-ace-it-using-google-colab-6d3c0ffb29dc\n",
        "\n",
        "# Step 1: Read the csv file into a dataframe\n",
        "input_df = pd.read_csv('/content/tweets.csv')\n",
        "\n",
        "# Step 2: Upload the dataframe to a SQL Table\n",
        "pd_to_sqlDB(input_df,\n",
        "            table_name='tweets',\n",
        "            db_name='monkeypox.db')\n",
        "\n",
        "# Step 3: Write the SQL query in a string variable\n",
        "sql_query_string = \"\"\"\n",
        "    SELECT *\n",
        "    FROM tweets\n",
        "\"\"\"\n",
        "# Step 4: Exectue the SQL query\n",
        "result_df = sql_query_to_pd(sql_query_string, db_name='monkeypox.db')\n",
        "result_df"
      ],
      "metadata": {
        "colab": {
          "base_uri": "https://localhost:8080/",
          "height": 424
        },
        "id": "-VBhUeOYQi1d",
        "outputId": "921f9201-52f5-4f9d-acd0-e661db2e20bc"
      },
      "execution_count": 39,
      "outputs": [
        {
          "output_type": "execute_result",
          "data": {
            "text/plain": [
              "            date         username                         hashtags  \\\n",
              "0     2022-08-06     thetenth2022                               []   \n",
              "1     2022-08-06        ashemedai                               []   \n",
              "2     2022-08-06  democracymotion                               []   \n",
              "3     2022-08-06      thegoogle93                               []   \n",
              "4     2022-08-06   bufflosouljah1                               []   \n",
              "...          ...              ...                              ...   \n",
              "6405  2022-08-06     arkcowgirl62                               []   \n",
              "6406  2022-08-06     speehanagram          ['monkeypox', 'besafe']   \n",
              "6407  2022-08-06   pritzkertoilet                               []   \n",
              "6408  2022-08-06     thumbressler                    ['monkeypox']   \n",
              "6409  2022-08-06  nurse4allpeople  ['moscowmitch', 'donothinggqp']   \n",
              "\n",
              "                                                  tweet  \n",
              "0     So has anyone begun to compile 'here's the sta...  \n",
              "1     Getting some groceries, topic shifted to covid...  \n",
              "2     \"Illinois Children's Daycare Worker Tests Posi...  \n",
              "3     Illinois daycare worker tests positive for mon...  \n",
              "4     @Natrone86 @JunotIsrael @elcavaqueen @thechicc...  \n",
              "...                                                 ...  \n",
              "6405  @hurtmeknots With Monkeypox on the rise, maybe...  \n",
              "6406  @FITNESSSF can you start filling up the disinf...  \n",
              "6407     @politvidchannel 71% already have monkey pox .  \n",
              "6408                          RT if you have #monkeypox  \n",
              "6409  @POTUS @VP 🥰 Dems 🇺🇸💙 are having the best jobs...  \n",
              "\n",
              "[6410 rows x 4 columns]"
            ],
            "text/html": [
              "\n",
              "  <div id=\"df-5b78ad89-d504-499e-80a9-abb6dd9297f8\">\n",
              "    <div class=\"colab-df-container\">\n",
              "      <div>\n",
              "<style scoped>\n",
              "    .dataframe tbody tr th:only-of-type {\n",
              "        vertical-align: middle;\n",
              "    }\n",
              "\n",
              "    .dataframe tbody tr th {\n",
              "        vertical-align: top;\n",
              "    }\n",
              "\n",
              "    .dataframe thead th {\n",
              "        text-align: right;\n",
              "    }\n",
              "</style>\n",
              "<table border=\"1\" class=\"dataframe\">\n",
              "  <thead>\n",
              "    <tr style=\"text-align: right;\">\n",
              "      <th></th>\n",
              "      <th>date</th>\n",
              "      <th>username</th>\n",
              "      <th>hashtags</th>\n",
              "      <th>tweet</th>\n",
              "    </tr>\n",
              "  </thead>\n",
              "  <tbody>\n",
              "    <tr>\n",
              "      <th>0</th>\n",
              "      <td>2022-08-06</td>\n",
              "      <td>thetenth2022</td>\n",
              "      <td>[]</td>\n",
              "      <td>So has anyone begun to compile 'here's the sta...</td>\n",
              "    </tr>\n",
              "    <tr>\n",
              "      <th>1</th>\n",
              "      <td>2022-08-06</td>\n",
              "      <td>ashemedai</td>\n",
              "      <td>[]</td>\n",
              "      <td>Getting some groceries, topic shifted to covid...</td>\n",
              "    </tr>\n",
              "    <tr>\n",
              "      <th>2</th>\n",
              "      <td>2022-08-06</td>\n",
              "      <td>democracymotion</td>\n",
              "      <td>[]</td>\n",
              "      <td>\"Illinois Children's Daycare Worker Tests Posi...</td>\n",
              "    </tr>\n",
              "    <tr>\n",
              "      <th>3</th>\n",
              "      <td>2022-08-06</td>\n",
              "      <td>thegoogle93</td>\n",
              "      <td>[]</td>\n",
              "      <td>Illinois daycare worker tests positive for mon...</td>\n",
              "    </tr>\n",
              "    <tr>\n",
              "      <th>4</th>\n",
              "      <td>2022-08-06</td>\n",
              "      <td>bufflosouljah1</td>\n",
              "      <td>[]</td>\n",
              "      <td>@Natrone86 @JunotIsrael @elcavaqueen @thechicc...</td>\n",
              "    </tr>\n",
              "    <tr>\n",
              "      <th>...</th>\n",
              "      <td>...</td>\n",
              "      <td>...</td>\n",
              "      <td>...</td>\n",
              "      <td>...</td>\n",
              "    </tr>\n",
              "    <tr>\n",
              "      <th>6405</th>\n",
              "      <td>2022-08-06</td>\n",
              "      <td>arkcowgirl62</td>\n",
              "      <td>[]</td>\n",
              "      <td>@hurtmeknots With Monkeypox on the rise, maybe...</td>\n",
              "    </tr>\n",
              "    <tr>\n",
              "      <th>6406</th>\n",
              "      <td>2022-08-06</td>\n",
              "      <td>speehanagram</td>\n",
              "      <td>['monkeypox', 'besafe']</td>\n",
              "      <td>@FITNESSSF can you start filling up the disinf...</td>\n",
              "    </tr>\n",
              "    <tr>\n",
              "      <th>6407</th>\n",
              "      <td>2022-08-06</td>\n",
              "      <td>pritzkertoilet</td>\n",
              "      <td>[]</td>\n",
              "      <td>@politvidchannel 71% already have monkey pox .</td>\n",
              "    </tr>\n",
              "    <tr>\n",
              "      <th>6408</th>\n",
              "      <td>2022-08-06</td>\n",
              "      <td>thumbressler</td>\n",
              "      <td>['monkeypox']</td>\n",
              "      <td>RT if you have #monkeypox</td>\n",
              "    </tr>\n",
              "    <tr>\n",
              "      <th>6409</th>\n",
              "      <td>2022-08-06</td>\n",
              "      <td>nurse4allpeople</td>\n",
              "      <td>['moscowmitch', 'donothinggqp']</td>\n",
              "      <td>@POTUS @VP 🥰 Dems 🇺🇸💙 are having the best jobs...</td>\n",
              "    </tr>\n",
              "  </tbody>\n",
              "</table>\n",
              "<p>6410 rows × 4 columns</p>\n",
              "</div>\n",
              "      <button class=\"colab-df-convert\" onclick=\"convertToInteractive('df-5b78ad89-d504-499e-80a9-abb6dd9297f8')\"\n",
              "              title=\"Convert this dataframe to an interactive table.\"\n",
              "              style=\"display:none;\">\n",
              "        \n",
              "  <svg xmlns=\"http://www.w3.org/2000/svg\" height=\"24px\"viewBox=\"0 0 24 24\"\n",
              "       width=\"24px\">\n",
              "    <path d=\"M0 0h24v24H0V0z\" fill=\"none\"/>\n",
              "    <path d=\"M18.56 5.44l.94 2.06.94-2.06 2.06-.94-2.06-.94-.94-2.06-.94 2.06-2.06.94zm-11 1L8.5 8.5l.94-2.06 2.06-.94-2.06-.94L8.5 2.5l-.94 2.06-2.06.94zm10 10l.94 2.06.94-2.06 2.06-.94-2.06-.94-.94-2.06-.94 2.06-2.06.94z\"/><path d=\"M17.41 7.96l-1.37-1.37c-.4-.4-.92-.59-1.43-.59-.52 0-1.04.2-1.43.59L10.3 9.45l-7.72 7.72c-.78.78-.78 2.05 0 2.83L4 21.41c.39.39.9.59 1.41.59.51 0 1.02-.2 1.41-.59l7.78-7.78 2.81-2.81c.8-.78.8-2.07 0-2.86zM5.41 20L4 18.59l7.72-7.72 1.47 1.35L5.41 20z\"/>\n",
              "  </svg>\n",
              "      </button>\n",
              "      \n",
              "  <style>\n",
              "    .colab-df-container {\n",
              "      display:flex;\n",
              "      flex-wrap:wrap;\n",
              "      gap: 12px;\n",
              "    }\n",
              "\n",
              "    .colab-df-convert {\n",
              "      background-color: #E8F0FE;\n",
              "      border: none;\n",
              "      border-radius: 50%;\n",
              "      cursor: pointer;\n",
              "      display: none;\n",
              "      fill: #1967D2;\n",
              "      height: 32px;\n",
              "      padding: 0 0 0 0;\n",
              "      width: 32px;\n",
              "    }\n",
              "\n",
              "    .colab-df-convert:hover {\n",
              "      background-color: #E2EBFA;\n",
              "      box-shadow: 0px 1px 2px rgba(60, 64, 67, 0.3), 0px 1px 3px 1px rgba(60, 64, 67, 0.15);\n",
              "      fill: #174EA6;\n",
              "    }\n",
              "\n",
              "    [theme=dark] .colab-df-convert {\n",
              "      background-color: #3B4455;\n",
              "      fill: #D2E3FC;\n",
              "    }\n",
              "\n",
              "    [theme=dark] .colab-df-convert:hover {\n",
              "      background-color: #434B5C;\n",
              "      box-shadow: 0px 1px 3px 1px rgba(0, 0, 0, 0.15);\n",
              "      filter: drop-shadow(0px 1px 2px rgba(0, 0, 0, 0.3));\n",
              "      fill: #FFFFFF;\n",
              "    }\n",
              "  </style>\n",
              "\n",
              "      <script>\n",
              "        const buttonEl =\n",
              "          document.querySelector('#df-5b78ad89-d504-499e-80a9-abb6dd9297f8 button.colab-df-convert');\n",
              "        buttonEl.style.display =\n",
              "          google.colab.kernel.accessAllowed ? 'block' : 'none';\n",
              "\n",
              "        async function convertToInteractive(key) {\n",
              "          const element = document.querySelector('#df-5b78ad89-d504-499e-80a9-abb6dd9297f8');\n",
              "          const dataTable =\n",
              "            await google.colab.kernel.invokeFunction('convertToInteractive',\n",
              "                                                     [key], {});\n",
              "          if (!dataTable) return;\n",
              "\n",
              "          const docLinkHtml = 'Like what you see? Visit the ' +\n",
              "            '<a target=\"_blank\" href=https://colab.research.google.com/notebooks/data_table.ipynb>data table notebook</a>'\n",
              "            + ' to learn more about interactive tables.';\n",
              "          element.innerHTML = '';\n",
              "          dataTable['output_type'] = 'display_data';\n",
              "          await google.colab.output.renderOutput(dataTable, element);\n",
              "          const docLink = document.createElement('div');\n",
              "          docLink.innerHTML = docLinkHtml;\n",
              "          element.appendChild(docLink);\n",
              "        }\n",
              "      </script>\n",
              "    </div>\n",
              "  </div>\n",
              "  "
            ]
          },
          "metadata": {},
          "execution_count": 39
        }
      ]
    },
    {
      "cell_type": "markdown",
      "source": [
        "database = monkeypox.db\n",
        "table1 = tweets"
      ],
      "metadata": {
        "id": "kliu0uXRZEWN"
      }
    }
  ],
  "metadata": {
    "colab": {
      "collapsed_sections": [
        "-FE6YuovgwAP"
      ],
      "name": "engineering_monkeypox_mvp_sql.ipynb",
      "provenance": [],
      "include_colab_link": true
    },
    "kernelspec": {
      "display_name": "Python 3 (engineering)",
      "language": "python",
      "name": "engineering"
    },
    "language_info": {
      "codemirror_mode": {
        "name": "ipython",
        "version": 3
      },
      "file_extension": ".py",
      "mimetype": "text/x-python",
      "name": "python",
      "nbconvert_exporter": "python",
      "pygments_lexer": "ipython3",
      "version": "3.8.12"
    }
  },
  "nbformat": 4,
  "nbformat_minor": 0
}