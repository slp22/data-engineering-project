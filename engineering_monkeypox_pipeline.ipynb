{
  "cells": [
    {
      "cell_type": "markdown",
      "metadata": {
        "id": "view-in-github",
        "colab_type": "text"
      },
      "source": [
        "<a href=\"https://colab.research.google.com/github/slp22/data-engineering-project/blob/main/engineering_monkeypox_pipeline.ipynb\" target=\"_parent\"><img src=\"https://colab.research.google.com/assets/colab-badge.svg\" alt=\"Open In Colab\"/></a>"
      ]
    },
    {
      "cell_type": "markdown",
      "metadata": {
        "id": "wH8m3rmEAo3U"
      },
      "source": [
        "#### Data Engineering | Pipeline\n",
        "\n",
        "# Monkeypox Tweets"
      ]
    },
    {
      "cell_type": "markdown",
      "metadata": {
        "id": "4nm_mHUuAeql"
      },
      "source": [
        "## Imports"
      ]
    },
    {
      "cell_type": "code",
      "execution_count": 1,
      "metadata": {
        "id": "w06wbr_xATv4",
        "colab": {
          "base_uri": "https://localhost:8080/"
        },
        "outputId": "8404586b-23ed-4543-e211-b9b8ac118c72"
      },
      "outputs": [
        {
          "output_type": "stream",
          "name": "stderr",
          "text": [
            "[nltk_data] Downloading package stopwords to /root/nltk_data...\n",
            "[nltk_data]   Unzipping corpora/stopwords.zip.\n"
          ]
        }
      ],
      "source": [
        "import json\n",
        "import logging\n",
        "import sqlite3\n",
        "import matplotlib.pyplot as plt\n",
        "import numpy as np\n",
        "import os, shutil, itertools\n",
        "import pandas as pd\n",
        "import pathlib as Path\n",
        "import pickle\n",
        "import PIL\n",
        "import random\n",
        "import seaborn as sns\n",
        "import sklearn as sk\n",
        "import warnings\n",
        "import zipfile\n",
        "\n",
        "\n",
        "import nltk\n",
        "import re\n",
        "import en_core_web_sm\n",
        "import string\n",
        "pd.set_option('display.max_colwidth', None)\n",
        "nltk.download('stopwords')\n",
        "\n",
        "from nltk.tokenize import word_tokenize\n",
        "from sklearn.decomposition import PCA, NMF\n",
        "from sklearn.feature_extraction.text import TfidfVectorizer\n",
        "from sklearn.model_selection import train_test_split\n",
        "\n",
        "from wordcloud import WordCloud, STOPWORDS\n",
        "\n",
        "\n",
        "from sqlite3 import connect\n",
        "import time\n",
        "from datetime import datetime\n",
        "from dateutil.parser import parse\n",
        "from dateutil.relativedelta import *\n",
        "from dateutil.easter import *\n",
        "from dateutil.rrule import *\n",
        "from dateutil.parser import *\n",
        "from datetime import *\n"
      ]
    },
    {
      "cell_type": "markdown",
      "source": [
        "### Google Drive"
      ],
      "metadata": {
        "id": "CvyY8wZWFtik"
      }
    },
    {
      "cell_type": "code",
      "source": [
        "# mount drive\n",
        "from google.colab import drive\n",
        "drive.mount('/content/drive')\n",
        "\n",
        "# https://colab.research.google.com/notebooks/snippets/sheets.ipynb#scrollTo=JiJVCmu3dhFa\n",
        "\n",
        "# authorize access \n",
        "from google.colab import auth\n",
        "auth.authenticate_user()\n",
        "\n",
        "# read in from Google Sheets\n",
        "\n",
        "import gspread\n",
        "from google.auth import default\n",
        "creds, _ = default()\n",
        "\n",
        "gc = gspread.authorize(creds)\n"
      ],
      "metadata": {
        "id": "KK2gD2g6NKFv",
        "colab": {
          "base_uri": "https://localhost:8080/"
        },
        "outputId": "a1cd63d7-71d1-4bd5-cfe1-1dece57088a1"
      },
      "execution_count": 2,
      "outputs": [
        {
          "output_type": "stream",
          "name": "stdout",
          "text": [
            "Mounted at /content/drive\n"
          ]
        }
      ]
    },
    {
      "cell_type": "markdown",
      "source": [
        "### Pyspark\n",
        "\n"
      ],
      "metadata": {
        "id": "B386_PwAwSxC"
      }
    },
    {
      "cell_type": "code",
      "source": [
        "# # https://towardsdatascience.com/pyspark-on-google-colab-101-d31830b238be\n",
        "# # https://www.analyticsvidhya.com/blog/2020/11/a-must-read-guide-on-how-to-work-with-pyspark-on-google-colab-for-data-scientists/\n",
        "\n",
        "!apt-get install openjdk-8-jdk-headless -qq > /dev/null"
      ],
      "metadata": {
        "id": "d6zyxbIeQRP7"
      },
      "execution_count": 3,
      "outputs": []
    },
    {
      "cell_type": "code",
      "source": [
        "!wget -q https://archive.apache.org/dist/spark/spark-3.0.0/spark-3.0.0-bin-hadoop3.2.tgz"
      ],
      "metadata": {
        "id": "PnrT-MdkO4Om"
      },
      "execution_count": 4,
      "outputs": []
    },
    {
      "cell_type": "code",
      "source": [
        "!tar -xf spark-3.0.0-bin-hadoop3.2.tgz"
      ],
      "metadata": {
        "id": "Fh2JdMTItP4v"
      },
      "execution_count": 5,
      "outputs": []
    },
    {
      "cell_type": "code",
      "source": [
        "!pip install -q findspark"
      ],
      "metadata": {
        "id": "jM9TqdQ0up5A"
      },
      "execution_count": 6,
      "outputs": []
    },
    {
      "cell_type": "code",
      "source": [
        "os.environ[\"JAVA_HOME\"] = \"/usr/lib/jvm/java-8-openjdk-amd64\"\n",
        "os.environ[\"SPARK_HOME\"] = \"/content/spark-3.0.0-bin-hadoop3.2\""
      ],
      "metadata": {
        "id": "kiB4yJevOiGk"
      },
      "execution_count": 7,
      "outputs": []
    },
    {
      "cell_type": "code",
      "source": [
        "import findspark\n",
        "findspark.init()"
      ],
      "metadata": {
        "id": "DNzHHgiROoIL"
      },
      "execution_count": 8,
      "outputs": []
    },
    {
      "cell_type": "code",
      "source": [
        "import pyspark\n",
        "from pyspark.sql import SparkSession\n",
        "from pyspark.sql.functions import split, explode, col, lower\n",
        "from pyspark.sql.types import StructType,StructField, StringType, IntegerType\n"
      ],
      "metadata": {
        "id": "Ocg1qNbOuwSo"
      },
      "execution_count": 9,
      "outputs": []
    },
    {
      "cell_type": "markdown",
      "metadata": {
        "id": "ehG7rDKVA1x3"
      },
      "source": [
        "## 1 | Pipeline Design\n"
      ]
    },
    {
      "cell_type": "markdown",
      "metadata": {
        "id": "lPrQPhqxA4C4"
      },
      "source": [
        "* **Business Problem:** Can we build a dashboard to monitor top trending topics on Twitter about monkeypox?\n",
        "* **Data source:** [Kaggle Tweets on Monkeypox ](https://www.kaggle.com/datasets/thakurnirmalya/monkeypox2022tweets)\n",
        "* **Impact Hypothesis:** "
      ]
    },
    {
      "cell_type": "markdown",
      "metadata": {
        "id": "j9xSJjZAA79Y"
      },
      "source": [
        "## 2 | Data Ingestion"
      ]
    },
    {
      "cell_type": "markdown",
      "source": [
        "#### 2.1  [Twitter Dataset on the 2022 MonkeyPox Outbreak](https://www.kaggle.com/datasets/thakurnirmalya/monkeypox2022tweets) \n",
        "* Dataset is list of TweetIDs"
      ],
      "metadata": {
        "id": "jXIfCh8OaYtc"
      }
    },
    {
      "cell_type": "markdown",
      "source": [
        "#### 2.2  [Twitter Hydrating](https://towardsdatascience.com/learn-how-to-easily-hydrate-tweets-a0f393ed340e#:~:text=Hydrating%20Tweets) with [DocNow Hydrator](https://github.com/DocNow/hydrator/releases)\n",
        "* Processed on local machine\n",
        "* Saved to Google Sheets"
      ],
      "metadata": {
        "id": "9k7spHO1FrzI"
      }
    },
    {
      "cell_type": "markdown",
      "source": [
        "### 2.3  Import [hydrated tweets](https://drive.google.com/drive/folders/1NbddxuSF3v5YuOgjvA1G4WgfPUlKfiul?usp=sharing) from GoogleDrive to Colab"
      ],
      "metadata": {
        "id": "iZKrSFfKONx0"
      }
    },
    {
      "cell_type": "code",
      "source": [
        "# import one set of tweets for EDA (section 3.1)\n",
        "w = ['TweetIDs_Part1']\n",
        "tweets = pd.DataFrame.from_records(gc.open(w[0]).sheet1.get_all_values())"
      ],
      "metadata": {
        "id": "W0uNI13lMpFo"
      },
      "execution_count": 13,
      "outputs": []
    },
    {
      "cell_type": "code",
      "source": [
        "# # import all tweets (section 3.2)\n",
        "w = ['TweetIDs_Part1', 'TweetIDs_Part2', 'TweetIDs_Part3', 'TweetIDs_Part4', 'TweetIDs_Part5', 'TweetIDs_Part6']\n",
        "\n",
        "df_1 = pd.DataFrame.from_records(gc.open(w[0]).sheet1.get_all_values())\n",
        "df_2 = pd.DataFrame.from_records(gc.open(w[1]).sheet1.get_all_values())\n",
        "df_3 = pd.DataFrame.from_records(gc.open(w[2]).sheet1.get_all_values())\n",
        "df_4 = pd.DataFrame.from_records(gc.open(w[3]).sheet1.get_all_values())\n",
        "df_5 = pd.DataFrame.from_records(gc.open(w[4]).sheet1.get_all_values())\n",
        "df_6 = pd.DataFrame.from_records(gc.open(w[5]).sheet1.get_all_values())"
      ],
      "metadata": {
        "id": "szXrTTKEDZwD"
      },
      "execution_count": 38,
      "outputs": []
    },
    {
      "cell_type": "markdown",
      "metadata": {
        "id": "678fce99"
      },
      "source": [
        "## 3 | Exploratory Data Analysis"
      ]
    },
    {
      "cell_type": "markdown",
      "source": [
        "### 3.1  Explore one set: `tweets` (n = 12,656) "
      ],
      "metadata": {
        "id": "MYg3UaoOEPLU"
      }
    },
    {
      "cell_type": "code",
      "source": [
        "tweets.head(2)"
      ],
      "metadata": {
        "id": "Sdile-yhVzLo",
        "colab": {
          "base_uri": "https://localhost:8080/",
          "height": 312
        },
        "outputId": "8ebcf00b-a099-4a2f-985f-8654337fd29a"
      },
      "execution_count": 118,
      "outputs": [
        {
          "output_type": "execute_result",
          "data": {
            "text/plain": [
              "0           date user_screen_name  \\\n",
              "5817  2022-01-02  JoelPau68848306   \n",
              "5820  2022-01-02      cosborne687   \n",
              "\n",
              "0                                                                                                                                                                                  text  \\\n",
              "5817  @JohannaSzabo1 @postblocksyndro @igfbss @GarethW84521928 @NSWHealth @Dom_Perrottet @BradHazzard Hopefully i catch the monkey pox and covid at the same time ! I’m sooooo scared !   \n",
              "5820                                                                 @CandiceBergenMP You are the problem .  Did you write this during the monkey pox discovery?   You are the problem.   \n",
              "\n",
              "0                                                          tweet_url  \\\n",
              "5817  https://twitter.com/JoelPau68848306/status/1527363844259332096   \n",
              "5820      https://twitter.com/cosborne687/status/1527372079254777860   \n",
              "\n",
              "0          user_location hashtags  \n",
              "5817                               \n",
              "5820  Nipissing, Ontario           "
            ],
            "text/html": [
              "\n",
              "  <div id=\"df-615fafbf-3433-4c92-a848-b4e5b74d74eb\">\n",
              "    <div class=\"colab-df-container\">\n",
              "      <div>\n",
              "<style scoped>\n",
              "    .dataframe tbody tr th:only-of-type {\n",
              "        vertical-align: middle;\n",
              "    }\n",
              "\n",
              "    .dataframe tbody tr th {\n",
              "        vertical-align: top;\n",
              "    }\n",
              "\n",
              "    .dataframe thead th {\n",
              "        text-align: right;\n",
              "    }\n",
              "</style>\n",
              "<table border=\"1\" class=\"dataframe\">\n",
              "  <thead>\n",
              "    <tr style=\"text-align: right;\">\n",
              "      <th></th>\n",
              "      <th>date</th>\n",
              "      <th>user_screen_name</th>\n",
              "      <th>text</th>\n",
              "      <th>tweet_url</th>\n",
              "      <th>user_location</th>\n",
              "      <th>hashtags</th>\n",
              "    </tr>\n",
              "  </thead>\n",
              "  <tbody>\n",
              "    <tr>\n",
              "      <th>5817</th>\n",
              "      <td>2022-01-02</td>\n",
              "      <td>JoelPau68848306</td>\n",
              "      <td>@JohannaSzabo1 @postblocksyndro @igfbss @GarethW84521928 @NSWHealth @Dom_Perrottet @BradHazzard Hopefully i catch the monkey pox and covid at the same time ! I’m sooooo scared !</td>\n",
              "      <td>https://twitter.com/JoelPau68848306/status/1527363844259332096</td>\n",
              "      <td></td>\n",
              "      <td></td>\n",
              "    </tr>\n",
              "    <tr>\n",
              "      <th>5820</th>\n",
              "      <td>2022-01-02</td>\n",
              "      <td>cosborne687</td>\n",
              "      <td>@CandiceBergenMP You are the problem .  Did you write this during the monkey pox discovery?   You are the problem.</td>\n",
              "      <td>https://twitter.com/cosborne687/status/1527372079254777860</td>\n",
              "      <td>Nipissing, Ontario</td>\n",
              "      <td></td>\n",
              "    </tr>\n",
              "  </tbody>\n",
              "</table>\n",
              "</div>\n",
              "      <button class=\"colab-df-convert\" onclick=\"convertToInteractive('df-615fafbf-3433-4c92-a848-b4e5b74d74eb')\"\n",
              "              title=\"Convert this dataframe to an interactive table.\"\n",
              "              style=\"display:none;\">\n",
              "        \n",
              "  <svg xmlns=\"http://www.w3.org/2000/svg\" height=\"24px\"viewBox=\"0 0 24 24\"\n",
              "       width=\"24px\">\n",
              "    <path d=\"M0 0h24v24H0V0z\" fill=\"none\"/>\n",
              "    <path d=\"M18.56 5.44l.94 2.06.94-2.06 2.06-.94-2.06-.94-.94-2.06-.94 2.06-2.06.94zm-11 1L8.5 8.5l.94-2.06 2.06-.94-2.06-.94L8.5 2.5l-.94 2.06-2.06.94zm10 10l.94 2.06.94-2.06 2.06-.94-2.06-.94-.94-2.06-.94 2.06-2.06.94z\"/><path d=\"M17.41 7.96l-1.37-1.37c-.4-.4-.92-.59-1.43-.59-.52 0-1.04.2-1.43.59L10.3 9.45l-7.72 7.72c-.78.78-.78 2.05 0 2.83L4 21.41c.39.39.9.59 1.41.59.51 0 1.02-.2 1.41-.59l7.78-7.78 2.81-2.81c.8-.78.8-2.07 0-2.86zM5.41 20L4 18.59l7.72-7.72 1.47 1.35L5.41 20z\"/>\n",
              "  </svg>\n",
              "      </button>\n",
              "      \n",
              "  <style>\n",
              "    .colab-df-container {\n",
              "      display:flex;\n",
              "      flex-wrap:wrap;\n",
              "      gap: 12px;\n",
              "    }\n",
              "\n",
              "    .colab-df-convert {\n",
              "      background-color: #E8F0FE;\n",
              "      border: none;\n",
              "      border-radius: 50%;\n",
              "      cursor: pointer;\n",
              "      display: none;\n",
              "      fill: #1967D2;\n",
              "      height: 32px;\n",
              "      padding: 0 0 0 0;\n",
              "      width: 32px;\n",
              "    }\n",
              "\n",
              "    .colab-df-convert:hover {\n",
              "      background-color: #E2EBFA;\n",
              "      box-shadow: 0px 1px 2px rgba(60, 64, 67, 0.3), 0px 1px 3px 1px rgba(60, 64, 67, 0.15);\n",
              "      fill: #174EA6;\n",
              "    }\n",
              "\n",
              "    [theme=dark] .colab-df-convert {\n",
              "      background-color: #3B4455;\n",
              "      fill: #D2E3FC;\n",
              "    }\n",
              "\n",
              "    [theme=dark] .colab-df-convert:hover {\n",
              "      background-color: #434B5C;\n",
              "      box-shadow: 0px 1px 3px 1px rgba(0, 0, 0, 0.15);\n",
              "      filter: drop-shadow(0px 1px 2px rgba(0, 0, 0, 0.3));\n",
              "      fill: #FFFFFF;\n",
              "    }\n",
              "  </style>\n",
              "\n",
              "      <script>\n",
              "        const buttonEl =\n",
              "          document.querySelector('#df-615fafbf-3433-4c92-a848-b4e5b74d74eb button.colab-df-convert');\n",
              "        buttonEl.style.display =\n",
              "          google.colab.kernel.accessAllowed ? 'block' : 'none';\n",
              "\n",
              "        async function convertToInteractive(key) {\n",
              "          const element = document.querySelector('#df-615fafbf-3433-4c92-a848-b4e5b74d74eb');\n",
              "          const dataTable =\n",
              "            await google.colab.kernel.invokeFunction('convertToInteractive',\n",
              "                                                     [key], {});\n",
              "          if (!dataTable) return;\n",
              "\n",
              "          const docLinkHtml = 'Like what you see? Visit the ' +\n",
              "            '<a target=\"_blank\" href=https://colab.research.google.com/notebooks/data_table.ipynb>data table notebook</a>'\n",
              "            + ' to learn more about interactive tables.';\n",
              "          element.innerHTML = '';\n",
              "          dataTable['output_type'] = 'display_data';\n",
              "          await google.colab.output.renderOutput(dataTable, element);\n",
              "          const docLink = document.createElement('div');\n",
              "          docLink.innerHTML = docLinkHtml;\n",
              "          element.appendChild(docLink);\n",
              "        }\n",
              "      </script>\n",
              "    </div>\n",
              "  </div>\n",
              "  "
            ]
          },
          "metadata": {},
          "execution_count": 118
        }
      ]
    },
    {
      "cell_type": "code",
      "source": [
        "tweets.columns = tweets.iloc[0]\n",
        "tweets = tweets.drop(index=tweets.index[0])"
      ],
      "metadata": {
        "id": "vDg9Cjjswy60"
      },
      "execution_count": 15,
      "outputs": []
    },
    {
      "cell_type": "code",
      "execution_count": null,
      "metadata": {
        "id": "qKXgvoqwHkPF"
      },
      "outputs": [],
      "source": [
        "tweets.head(2)"
      ]
    },
    {
      "cell_type": "code",
      "execution_count": null,
      "metadata": {
        "id": "E9KmD81nEwgq"
      },
      "outputs": [],
      "source": [
        "cols_list = list(tweets.columns)\n",
        "cols_list"
      ]
    },
    {
      "cell_type": "code",
      "source": [
        "tweets['hashtags']\n",
        "print('num unique hashtags', tweets['hashtags'].nunique())"
      ],
      "metadata": {
        "colab": {
          "base_uri": "https://localhost:8080/"
        },
        "id": "DEDqklR4O2oj",
        "outputId": "ebeefd88-b1b1-42a8-8f45-a51393bc8bde"
      },
      "execution_count": 18,
      "outputs": [
        {
          "output_type": "execute_result",
          "data": {
            "text/plain": [
              "528"
            ]
          },
          "metadata": {},
          "execution_count": 18
        }
      ]
    },
    {
      "cell_type": "code",
      "source": [
        "tweets['possibly_sensitive'][0:2]"
      ],
      "metadata": {
        "id": "Cktw_oHSMII3",
        "colab": {
          "base_uri": "https://localhost:8080/"
        },
        "outputId": "d9c4cbad-50fc-4039-c3c7-c564653bfe3e"
      },
      "execution_count": 19,
      "outputs": [
        {
          "output_type": "execute_result",
          "data": {
            "text/plain": [
              "1    \n",
              "2    \n",
              "Name: possibly_sensitive, dtype: object"
            ]
          },
          "metadata": {},
          "execution_count": 19
        }
      ]
    },
    {
      "cell_type": "code",
      "execution_count": null,
      "metadata": {
        "id": "Kv-CMSoMExfA"
      },
      "outputs": [],
      "source": [
        "tweets['text']"
      ]
    },
    {
      "cell_type": "code",
      "source": [
        "tweets['tweet_url'][0:2]"
      ],
      "metadata": {
        "id": "giLgaXAfMIPR",
        "colab": {
          "base_uri": "https://localhost:8080/"
        },
        "outputId": "1a892db6-cdde-4652-c0d8-ff5ac25fefea"
      },
      "execution_count": 21,
      "outputs": [
        {
          "output_type": "execute_result",
          "data": {
            "text/plain": [
              "1        https://twitter.com/Jyates5/status/1527043704967528453\n",
              "2    https://twitter.com/LeftistHank/status/1527751952448344065\n",
              "Name: tweet_url, dtype: object"
            ]
          },
          "metadata": {},
          "execution_count": 21
        }
      ]
    },
    {
      "cell_type": "code",
      "source": [
        "tweets['lang'].unique()\n",
        "print('num unique languages', tweets['lang'].nunique())"
      ],
      "metadata": {
        "id": "IhctkHfrVwCm"
      },
      "execution_count": null,
      "outputs": []
    },
    {
      "cell_type": "code",
      "source": [
        "tweets['user_created_at']"
      ],
      "metadata": {
        "id": "emrGiHfKGe9H",
        "colab": {
          "base_uri": "https://localhost:8080/"
        },
        "outputId": "aa9a9cc9-5235-4909-8586-a4bcf72766a0"
      },
      "execution_count": 26,
      "outputs": [
        {
          "output_type": "execute_result",
          "data": {
            "text/plain": [
              "1        Fri Apr 01 00:29:41 +0000 2011\n",
              "2        Fri Apr 01 13:14:03 +0000 2022\n",
              "3        Fri Apr 01 15:12:02 +0000 2011\n",
              "4        Fri Apr 01 16:27:26 +0000 2011\n",
              "5        Fri Apr 01 17:41:17 +0000 2016\n",
              "                      ...              \n",
              "12652    Wed Sep 30 18:20:38 +0000 2015\n",
              "12653    Wed Sep 30 19:12:03 +0000 2020\n",
              "12654    Wed Sep 30 22:42:35 +0000 2020\n",
              "12655    Wed Sep 30 23:06:12 +0000 2009\n",
              "12656    Wed Sep 30 23:38:29 +0000 2009\n",
              "Name: user_created_at, Length: 12137, dtype: object"
            ]
          },
          "metadata": {},
          "execution_count": 26
        }
      ]
    },
    {
      "cell_type": "code",
      "source": [
        "tweets['user_id']\n",
        "print('num unique user id', tweets['user_id'].nunique())"
      ],
      "metadata": {
        "id": "W6LQTMMuMISI",
        "colab": {
          "base_uri": "https://localhost:8080/"
        },
        "outputId": "b7ff3274-0e1f-4936-c73c-217b44a495d6"
      },
      "execution_count": 29,
      "outputs": [
        {
          "output_type": "execute_result",
          "data": {
            "text/plain": [
              "1                  275288972\n",
              "2        1509881738302001155\n",
              "3                  275573209\n",
              "4                  275604178\n",
              "5         715957219972530180\n",
              "                ...         \n",
              "12652             3826370843\n",
              "12653    1311383290688004097\n",
              "12654    1311436211429543943\n",
              "12655               78734566\n",
              "12656               78741475\n",
              "Name: user_id, Length: 12137, dtype: object"
            ]
          },
          "metadata": {},
          "execution_count": 29
        }
      ]
    },
    {
      "cell_type": "code",
      "source": [
        "tweets['user_location']\n",
        "print('num unique location', tweets['user_location'].nunique())"
      ],
      "metadata": {
        "id": "CR25WifhMH_m"
      },
      "execution_count": null,
      "outputs": []
    },
    {
      "cell_type": "code",
      "source": [
        "tweets['user_screen_name']\n",
        "print('num unique screen names', tweets['user_screen_name'].nunique())"
      ],
      "metadata": {
        "id": "kvB59iqNMEqG",
        "colab": {
          "base_uri": "https://localhost:8080/"
        },
        "outputId": "1702817f-b216-4675-e75b-c3e0e376c288"
      },
      "execution_count": 115,
      "outputs": [
        {
          "output_type": "execute_result",
          "data": {
            "text/plain": [
              "1085"
            ]
          },
          "metadata": {},
          "execution_count": 115
        }
      ]
    },
    {
      "cell_type": "code",
      "source": [
        "tweets = tweets[['date',\n",
        "                 'user_screen_name',\n",
        "                 'text',\n",
        "                 'tweet_url',\n",
        "                 'user_location',\n",
        "                 'hashtags']]\n",
        "tweets.head(2)"
      ],
      "metadata": {
        "colab": {
          "base_uri": "https://localhost:8080/",
          "height": 191
        },
        "id": "b5AbKyVUMEtL",
        "outputId": "01f26ced-4202-4ce5-9dd3-8492be69d8a8"
      },
      "execution_count": 32,
      "outputs": [
        {
          "output_type": "execute_result",
          "data": {
            "text/plain": [
              "0        date user_screen_name  \\\n",
              "1  2011-04-01          Jyates5   \n",
              "2  2022-04-01      LeftistHank   \n",
              "\n",
              "0                                                                 text  \\\n",
              "1  @theofficepirate You bro remember them talking about monkey pox lol   \n",
              "2                        oh monkey POX? I thought you said monkey POGS   \n",
              "\n",
              "0                                                   tweet_url user_location  \\\n",
              "1      https://twitter.com/Jyates5/status/1527043704967528453                 \n",
              "2  https://twitter.com/LeftistHank/status/1527751952448344065   Chicago, IL   \n",
              "\n",
              "0 hashtags  \n",
              "1           \n",
              "2           "
            ],
            "text/html": [
              "\n",
              "  <div id=\"df-e77e2399-503f-4733-80e0-ca3c61d268f5\">\n",
              "    <div class=\"colab-df-container\">\n",
              "      <div>\n",
              "<style scoped>\n",
              "    .dataframe tbody tr th:only-of-type {\n",
              "        vertical-align: middle;\n",
              "    }\n",
              "\n",
              "    .dataframe tbody tr th {\n",
              "        vertical-align: top;\n",
              "    }\n",
              "\n",
              "    .dataframe thead th {\n",
              "        text-align: right;\n",
              "    }\n",
              "</style>\n",
              "<table border=\"1\" class=\"dataframe\">\n",
              "  <thead>\n",
              "    <tr style=\"text-align: right;\">\n",
              "      <th></th>\n",
              "      <th>date</th>\n",
              "      <th>user_screen_name</th>\n",
              "      <th>text</th>\n",
              "      <th>tweet_url</th>\n",
              "      <th>user_location</th>\n",
              "      <th>hashtags</th>\n",
              "    </tr>\n",
              "  </thead>\n",
              "  <tbody>\n",
              "    <tr>\n",
              "      <th>1</th>\n",
              "      <td>2011-04-01</td>\n",
              "      <td>Jyates5</td>\n",
              "      <td>@theofficepirate You bro remember them talking about monkey pox lol</td>\n",
              "      <td>https://twitter.com/Jyates5/status/1527043704967528453</td>\n",
              "      <td></td>\n",
              "      <td></td>\n",
              "    </tr>\n",
              "    <tr>\n",
              "      <th>2</th>\n",
              "      <td>2022-04-01</td>\n",
              "      <td>LeftistHank</td>\n",
              "      <td>oh monkey POX? I thought you said monkey POGS</td>\n",
              "      <td>https://twitter.com/LeftistHank/status/1527751952448344065</td>\n",
              "      <td>Chicago, IL</td>\n",
              "      <td></td>\n",
              "    </tr>\n",
              "  </tbody>\n",
              "</table>\n",
              "</div>\n",
              "      <button class=\"colab-df-convert\" onclick=\"convertToInteractive('df-e77e2399-503f-4733-80e0-ca3c61d268f5')\"\n",
              "              title=\"Convert this dataframe to an interactive table.\"\n",
              "              style=\"display:none;\">\n",
              "        \n",
              "  <svg xmlns=\"http://www.w3.org/2000/svg\" height=\"24px\"viewBox=\"0 0 24 24\"\n",
              "       width=\"24px\">\n",
              "    <path d=\"M0 0h24v24H0V0z\" fill=\"none\"/>\n",
              "    <path d=\"M18.56 5.44l.94 2.06.94-2.06 2.06-.94-2.06-.94-.94-2.06-.94 2.06-2.06.94zm-11 1L8.5 8.5l.94-2.06 2.06-.94-2.06-.94L8.5 2.5l-.94 2.06-2.06.94zm10 10l.94 2.06.94-2.06 2.06-.94-2.06-.94-.94-2.06-.94 2.06-2.06.94z\"/><path d=\"M17.41 7.96l-1.37-1.37c-.4-.4-.92-.59-1.43-.59-.52 0-1.04.2-1.43.59L10.3 9.45l-7.72 7.72c-.78.78-.78 2.05 0 2.83L4 21.41c.39.39.9.59 1.41.59.51 0 1.02-.2 1.41-.59l7.78-7.78 2.81-2.81c.8-.78.8-2.07 0-2.86zM5.41 20L4 18.59l7.72-7.72 1.47 1.35L5.41 20z\"/>\n",
              "  </svg>\n",
              "      </button>\n",
              "      \n",
              "  <style>\n",
              "    .colab-df-container {\n",
              "      display:flex;\n",
              "      flex-wrap:wrap;\n",
              "      gap: 12px;\n",
              "    }\n",
              "\n",
              "    .colab-df-convert {\n",
              "      background-color: #E8F0FE;\n",
              "      border: none;\n",
              "      border-radius: 50%;\n",
              "      cursor: pointer;\n",
              "      display: none;\n",
              "      fill: #1967D2;\n",
              "      height: 32px;\n",
              "      padding: 0 0 0 0;\n",
              "      width: 32px;\n",
              "    }\n",
              "\n",
              "    .colab-df-convert:hover {\n",
              "      background-color: #E2EBFA;\n",
              "      box-shadow: 0px 1px 2px rgba(60, 64, 67, 0.3), 0px 1px 3px 1px rgba(60, 64, 67, 0.15);\n",
              "      fill: #174EA6;\n",
              "    }\n",
              "\n",
              "    [theme=dark] .colab-df-convert {\n",
              "      background-color: #3B4455;\n",
              "      fill: #D2E3FC;\n",
              "    }\n",
              "\n",
              "    [theme=dark] .colab-df-convert:hover {\n",
              "      background-color: #434B5C;\n",
              "      box-shadow: 0px 1px 3px 1px rgba(0, 0, 0, 0.15);\n",
              "      filter: drop-shadow(0px 1px 2px rgba(0, 0, 0, 0.3));\n",
              "      fill: #FFFFFF;\n",
              "    }\n",
              "  </style>\n",
              "\n",
              "      <script>\n",
              "        const buttonEl =\n",
              "          document.querySelector('#df-e77e2399-503f-4733-80e0-ca3c61d268f5 button.colab-df-convert');\n",
              "        buttonEl.style.display =\n",
              "          google.colab.kernel.accessAllowed ? 'block' : 'none';\n",
              "\n",
              "        async function convertToInteractive(key) {\n",
              "          const element = document.querySelector('#df-e77e2399-503f-4733-80e0-ca3c61d268f5');\n",
              "          const dataTable =\n",
              "            await google.colab.kernel.invokeFunction('convertToInteractive',\n",
              "                                                     [key], {});\n",
              "          if (!dataTable) return;\n",
              "\n",
              "          const docLinkHtml = 'Like what you see? Visit the ' +\n",
              "            '<a target=\"_blank\" href=https://colab.research.google.com/notebooks/data_table.ipynb>data table notebook</a>'\n",
              "            + ' to learn more about interactive tables.';\n",
              "          element.innerHTML = '';\n",
              "          dataTable['output_type'] = 'display_data';\n",
              "          await google.colab.output.renderOutput(dataTable, element);\n",
              "          const docLink = document.createElement('div');\n",
              "          docLink.innerHTML = docLinkHtml;\n",
              "          element.appendChild(docLink);\n",
              "        }\n",
              "      </script>\n",
              "    </div>\n",
              "  </div>\n",
              "  "
            ]
          },
          "metadata": {},
          "execution_count": 32
        }
      ]
    },
    {
      "cell_type": "code",
      "source": [
        "tweets.info()"
      ],
      "metadata": {
        "id": "9vVopwFzbCuF",
        "colab": {
          "base_uri": "https://localhost:8080/"
        },
        "outputId": "e0b3173a-acd4-4cf9-87ee-b4828ebe1490"
      },
      "execution_count": 35,
      "outputs": [
        {
          "output_type": "stream",
          "name": "stdout",
          "text": [
            "<class 'pandas.core.frame.DataFrame'>\n",
            "Int64Index: 1248 entries, 5817 to 1369\n",
            "Data columns (total 6 columns):\n",
            " #   Column            Non-Null Count  Dtype \n",
            "---  ------            --------------  ----- \n",
            " 0   date              1248 non-null   object\n",
            " 1   user_screen_name  1248 non-null   object\n",
            " 2   text              1248 non-null   object\n",
            " 3   tweet_url         1248 non-null   object\n",
            " 4   user_location     1248 non-null   object\n",
            " 5   hashtags          1248 non-null   object\n",
            "dtypes: object(6)\n",
            "memory usage: 68.2+ KB\n"
          ]
        }
      ]
    },
    {
      "cell_type": "code",
      "source": [
        "tweets.reset_index(drop=True)"
      ],
      "metadata": {
        "id": "zive2igRunj6"
      },
      "execution_count": null,
      "outputs": []
    },
    {
      "cell_type": "code",
      "source": [
        "tweets.to_csv('/content/drive/MyDrive/tweets_eda_clean.csv')"
      ],
      "metadata": {
        "id": "NDDhrTCIunnC"
      },
      "execution_count": 37,
      "outputs": []
    },
    {
      "cell_type": "markdown",
      "source": [
        "### 3.2  Clean rest of tweet data: `df` (n = 127,940)"
      ],
      "metadata": {
        "id": "cU53jJyMPZSH"
      }
    },
    {
      "cell_type": "code",
      "source": [
        "df_1.head(2)"
      ],
      "metadata": {
        "id": "tq6nqCaRZVMb"
      },
      "execution_count": null,
      "outputs": []
    },
    {
      "cell_type": "code",
      "source": [
        "df_6.tail(2)"
      ],
      "metadata": {
        "id": "0arRh2kaV9Hu"
      },
      "execution_count": null,
      "outputs": []
    },
    {
      "cell_type": "code",
      "source": [
        "# use first row as col name, and drop first row before concatenating \n",
        "dfs = [df_1, df_2, df_3, df_4, df_5, df_6]\n",
        "\n",
        "for d in dfs: \n",
        "  d.columns = d.iloc[0]\n",
        "  d = d.drop(index=d.index[0],\n",
        "               axis=0,\n",
        "               inplace=True)"
      ],
      "metadata": {
        "id": "59FSYIkbInUs"
      },
      "execution_count": 40,
      "outputs": []
    },
    {
      "cell_type": "code",
      "source": [
        "df_2.head(3)"
      ],
      "metadata": {
        "id": "ZAKKdRFoT10P"
      },
      "execution_count": null,
      "outputs": []
    },
    {
      "cell_type": "code",
      "source": [
        "# concatenate dfs\n",
        "df = pd.concat([df_1, df_2, df_3, df_4, df_5, df_6])\n",
        "df.tail()"
      ],
      "metadata": {
        "id": "4SeqODScHj1l"
      },
      "execution_count": null,
      "outputs": []
    },
    {
      "cell_type": "code",
      "source": [
        "df.info()"
      ],
      "metadata": {
        "id": "jBXkHAkYQLr6"
      },
      "execution_count": null,
      "outputs": []
    },
    {
      "cell_type": "code",
      "source": [
        "# Int64Index: 229181 entries, 1 to 127940, remove duplicates\n",
        "\n",
        "duplicateRows = df[df.duplicated()]\n",
        "duplicateRows"
      ],
      "metadata": {
        "colab": {
          "base_uri": "https://localhost:8080/",
          "height": 49
        },
        "id": "ChHTE1zieLyH",
        "outputId": "398fa737-2d55-412e-cb12-86a581c0a07d"
      },
      "execution_count": 112,
      "outputs": [
        {
          "output_type": "execute_result",
          "data": {
            "text/plain": [
              "Empty DataFrame\n",
              "Columns: [date, user_screen_name, text, tweet_url, user_location, hashtags]\n",
              "Index: []"
            ],
            "text/html": [
              "\n",
              "  <div id=\"df-d1dd7c2b-91ce-4bc8-9428-6d6ef75d3291\">\n",
              "    <div class=\"colab-df-container\">\n",
              "      <div>\n",
              "<style scoped>\n",
              "    .dataframe tbody tr th:only-of-type {\n",
              "        vertical-align: middle;\n",
              "    }\n",
              "\n",
              "    .dataframe tbody tr th {\n",
              "        vertical-align: top;\n",
              "    }\n",
              "\n",
              "    .dataframe thead th {\n",
              "        text-align: right;\n",
              "    }\n",
              "</style>\n",
              "<table border=\"1\" class=\"dataframe\">\n",
              "  <thead>\n",
              "    <tr style=\"text-align: right;\">\n",
              "      <th></th>\n",
              "      <th>date</th>\n",
              "      <th>user_screen_name</th>\n",
              "      <th>text</th>\n",
              "      <th>tweet_url</th>\n",
              "      <th>user_location</th>\n",
              "      <th>hashtags</th>\n",
              "    </tr>\n",
              "  </thead>\n",
              "  <tbody>\n",
              "  </tbody>\n",
              "</table>\n",
              "</div>\n",
              "      <button class=\"colab-df-convert\" onclick=\"convertToInteractive('df-d1dd7c2b-91ce-4bc8-9428-6d6ef75d3291')\"\n",
              "              title=\"Convert this dataframe to an interactive table.\"\n",
              "              style=\"display:none;\">\n",
              "        \n",
              "  <svg xmlns=\"http://www.w3.org/2000/svg\" height=\"24px\"viewBox=\"0 0 24 24\"\n",
              "       width=\"24px\">\n",
              "    <path d=\"M0 0h24v24H0V0z\" fill=\"none\"/>\n",
              "    <path d=\"M18.56 5.44l.94 2.06.94-2.06 2.06-.94-2.06-.94-.94-2.06-.94 2.06-2.06.94zm-11 1L8.5 8.5l.94-2.06 2.06-.94-2.06-.94L8.5 2.5l-.94 2.06-2.06.94zm10 10l.94 2.06.94-2.06 2.06-.94-2.06-.94-.94-2.06-.94 2.06-2.06.94z\"/><path d=\"M17.41 7.96l-1.37-1.37c-.4-.4-.92-.59-1.43-.59-.52 0-1.04.2-1.43.59L10.3 9.45l-7.72 7.72c-.78.78-.78 2.05 0 2.83L4 21.41c.39.39.9.59 1.41.59.51 0 1.02-.2 1.41-.59l7.78-7.78 2.81-2.81c.8-.78.8-2.07 0-2.86zM5.41 20L4 18.59l7.72-7.72 1.47 1.35L5.41 20z\"/>\n",
              "  </svg>\n",
              "      </button>\n",
              "      \n",
              "  <style>\n",
              "    .colab-df-container {\n",
              "      display:flex;\n",
              "      flex-wrap:wrap;\n",
              "      gap: 12px;\n",
              "    }\n",
              "\n",
              "    .colab-df-convert {\n",
              "      background-color: #E8F0FE;\n",
              "      border: none;\n",
              "      border-radius: 50%;\n",
              "      cursor: pointer;\n",
              "      display: none;\n",
              "      fill: #1967D2;\n",
              "      height: 32px;\n",
              "      padding: 0 0 0 0;\n",
              "      width: 32px;\n",
              "    }\n",
              "\n",
              "    .colab-df-convert:hover {\n",
              "      background-color: #E2EBFA;\n",
              "      box-shadow: 0px 1px 2px rgba(60, 64, 67, 0.3), 0px 1px 3px 1px rgba(60, 64, 67, 0.15);\n",
              "      fill: #174EA6;\n",
              "    }\n",
              "\n",
              "    [theme=dark] .colab-df-convert {\n",
              "      background-color: #3B4455;\n",
              "      fill: #D2E3FC;\n",
              "    }\n",
              "\n",
              "    [theme=dark] .colab-df-convert:hover {\n",
              "      background-color: #434B5C;\n",
              "      box-shadow: 0px 1px 3px 1px rgba(0, 0, 0, 0.15);\n",
              "      filter: drop-shadow(0px 1px 2px rgba(0, 0, 0, 0.3));\n",
              "      fill: #FFFFFF;\n",
              "    }\n",
              "  </style>\n",
              "\n",
              "      <script>\n",
              "        const buttonEl =\n",
              "          document.querySelector('#df-d1dd7c2b-91ce-4bc8-9428-6d6ef75d3291 button.colab-df-convert');\n",
              "        buttonEl.style.display =\n",
              "          google.colab.kernel.accessAllowed ? 'block' : 'none';\n",
              "\n",
              "        async function convertToInteractive(key) {\n",
              "          const element = document.querySelector('#df-d1dd7c2b-91ce-4bc8-9428-6d6ef75d3291');\n",
              "          const dataTable =\n",
              "            await google.colab.kernel.invokeFunction('convertToInteractive',\n",
              "                                                     [key], {});\n",
              "          if (!dataTable) return;\n",
              "\n",
              "          const docLinkHtml = 'Like what you see? Visit the ' +\n",
              "            '<a target=\"_blank\" href=https://colab.research.google.com/notebooks/data_table.ipynb>data table notebook</a>'\n",
              "            + ' to learn more about interactive tables.';\n",
              "          element.innerHTML = '';\n",
              "          dataTable['output_type'] = 'display_data';\n",
              "          await google.colab.output.renderOutput(dataTable, element);\n",
              "          const docLink = document.createElement('div');\n",
              "          docLink.innerHTML = docLinkHtml;\n",
              "          element.appendChild(docLink);\n",
              "        }\n",
              "      </script>\n",
              "    </div>\n",
              "  </div>\n",
              "  "
            ]
          },
          "metadata": {},
          "execution_count": 112
        }
      ]
    },
    {
      "cell_type": "code",
      "source": [
        "df.drop_duplicates(subset=None, inplace=True)"
      ],
      "metadata": {
        "id": "mvNy1rUyeL68"
      },
      "execution_count": 113,
      "outputs": []
    },
    {
      "cell_type": "code",
      "source": [
        "df.info()"
      ],
      "metadata": {
        "id": "5oJr4u2XgILn"
      },
      "execution_count": null,
      "outputs": []
    },
    {
      "cell_type": "code",
      "source": [
        "# filter for tweets in English\n",
        "print('English entries:', (df[df[\"lang\"] == 'en'].count())['lang'])"
      ],
      "metadata": {
        "colab": {
          "base_uri": "https://localhost:8080/"
        },
        "outputId": "eb4cda4b-70cd-444e-ed1f-e134545216b7",
        "id": "PhXH7uInTh9a"
      },
      "execution_count": 46,
      "outputs": [
        {
          "output_type": "stream",
          "name": "stdout",
          "text": [
            "English entries: 210812\n"
          ]
        }
      ]
    },
    {
      "cell_type": "code",
      "source": [
        "df = df[(df['lang'] == 'en')]\n",
        "df['lang'].unique()"
      ],
      "metadata": {
        "colab": {
          "base_uri": "https://localhost:8080/"
        },
        "id": "WE6wo0HVVIn_",
        "outputId": "c33e2051-1f1e-43c0-910f-dbf0ca7ae20c"
      },
      "execution_count": 47,
      "outputs": [
        {
          "output_type": "execute_result",
          "data": {
            "text/plain": [
              "array(['en'], dtype=object)"
            ]
          },
          "metadata": {},
          "execution_count": 47
        }
      ]
    },
    {
      "cell_type": "code",
      "source": [
        "# convert timestamp to date\n",
        "df['date'] = pd.to_datetime(df['user_created_at'],\n",
        "                            format='%a %b %d %H:%M:%S +0000 %Y', \n",
        "                            errors='coerce').dt.date\n",
        "df[['date']][:2]"
      ],
      "metadata": {
        "id": "6-c4AaymQEWN"
      },
      "execution_count": null,
      "outputs": []
    },
    {
      "cell_type": "code",
      "source": [
        "# filter for tweets in 2022\n",
        "df = df[(df['date'] > date(2022,1,1))] \n",
        "df.head(2)"
      ],
      "metadata": {
        "id": "sAXiwpvfQEWO"
      },
      "execution_count": null,
      "outputs": []
    },
    {
      "cell_type": "code",
      "source": [
        "# explore location column\n",
        "print(df['user_location'].value_counts())\n",
        "print('\\n', 'Num unique:', df['user_location'].nunique())"
      ],
      "metadata": {
        "colab": {
          "base_uri": "https://localhost:8080/"
        },
        "id": "WLaTtiYXQEWN",
        "outputId": "a5a0ecda-6eb5-4294-a182-57d49b70edc8"
      },
      "execution_count": 50,
      "outputs": [
        {
          "output_type": "stream",
          "name": "stdout",
          "text": [
            "                                  16104\n",
            "Sullivans Island                   1981\n",
            "United States                       486\n",
            "Binance Smart Chain                 226\n",
            "USA                                 180\n",
            "                                  ...  \n",
            "Pretoria and Nelspruit                1\n",
            "CN85                                  1\n",
            "Durban, South Africa Pinetown         1\n",
            "Auburn, ME                            1\n",
            "Crestview, FL                         1\n",
            "Name: user_location, Length: 3797, dtype: int64\n",
            "\n",
            " Num unique: 3797\n"
          ]
        }
      ]
    },
    {
      "cell_type": "code",
      "source": [
        "# remove numbers, punctuation, and capital letters from location column\n",
        "alphanumeric = lambda x: re.sub('\\w*\\d\\w*',' ', str(x))\n",
        "punc_lower = lambda x: re.sub('[%s]' % re.escape(string.punctuation), ' ', x.lower())\n",
        "                          \n",
        "df['user_location'] = df.user_location.map(alphanumeric).map(punc_lower)\n",
        "df.tail(20)"
      ],
      "metadata": {
        "id": "Fx6jIR8CRYsY"
      },
      "execution_count": null,
      "outputs": []
    },
    {
      "cell_type": "code",
      "source": [
        "# remove emojis from location column\n",
        "df = df.astype(str).apply(lambda x: x.str.encode('ascii', 'ignore').str.decode('ascii'))\n",
        "df['user_location'].head(5)"
      ],
      "metadata": {
        "colab": {
          "base_uri": "https://localhost:8080/"
        },
        "id": "l4RS9af8d7pf",
        "outputId": "a347c73e-2945-444f-d360-a8bf7b433f70"
      },
      "execution_count": 109,
      "outputs": [
        {
          "output_type": "execute_result",
          "data": {
            "text/plain": [
              "2              chicago  il\n",
              "6                         \n",
              "7    charlie lastra s arms\n",
              "8    charlie lastra s arms\n",
              "9                         \n",
              "Name: user_location, dtype: object"
            ]
          },
          "metadata": {},
          "execution_count": 109
        }
      ]
    },
    {
      "cell_type": "markdown",
      "source": [
        "### 3.3  Corpus: `tweets` (n = 28,281)"
      ],
      "metadata": {
        "id": "o_7wLEdlb_rw"
      }
    },
    {
      "cell_type": "code",
      "source": [
        "df = df[['date',\n",
        "         'user_screen_name',\n",
        "         'text',\n",
        "         'tweet_url',\n",
        "         'user_location',\n",
        "         'hashtags']]\n",
        "df.head(2)"
      ],
      "metadata": {
        "id": "fZFctLwAQEWN"
      },
      "execution_count": null,
      "outputs": []
    },
    {
      "cell_type": "code",
      "source": [
        "df.reset_index(drop=True)"
      ],
      "metadata": {
        "id": "yFnsvzzQQEWO"
      },
      "execution_count": null,
      "outputs": []
    },
    {
      "cell_type": "code",
      "source": [
        "df.info()"
      ],
      "metadata": {
        "colab": {
          "base_uri": "https://localhost:8080/"
        },
        "id": "l6foHrL0aFSc",
        "outputId": "fc730912-888b-4c60-ff8e-d35d885fde01"
      },
      "execution_count": 110,
      "outputs": [
        {
          "output_type": "stream",
          "name": "stdout",
          "text": [
            "<class 'pandas.core.frame.DataFrame'>\n",
            "Int64Index: 28281 entries, 2 to 127921\n",
            "Data columns (total 6 columns):\n",
            " #   Column            Non-Null Count  Dtype \n",
            "---  ------            --------------  ----- \n",
            " 0   date              28281 non-null  object\n",
            " 1   user_screen_name  28281 non-null  object\n",
            " 2   text              28281 non-null  object\n",
            " 3   tweet_url         28281 non-null  object\n",
            " 4   user_location     28281 non-null  object\n",
            " 5   hashtags          28281 non-null  object\n",
            "dtypes: object(6)\n",
            "memory usage: 1.5+ MB\n"
          ]
        }
      ]
    },
    {
      "cell_type": "code",
      "execution_count": 121,
      "metadata": {
        "id": "Okq1YwhUP5J5"
      },
      "outputs": [],
      "source": [
        "# Save corpus\n",
        "df.to_pickle('/content/drive/MyDrive/tweets.pkl')\n",
        "df.to_csv(r'/content/drive/MyDrive/tweets.csv')"
      ]
    },
    {
      "cell_type": "code",
      "source": [
        "df.info()"
      ],
      "metadata": {
        "id": "g0tGPs4khbIH"
      },
      "execution_count": null,
      "outputs": []
    },
    {
      "cell_type": "markdown",
      "source": [
        "# 4 | Storage"
      ],
      "metadata": {
        "id": "5WYNxkC8Vhd0"
      }
    },
    {
      "cell_type": "markdown",
      "source": [
        "### 4.1  Create SQL database: `monkeypox.db`"
      ],
      "metadata": {
        "id": "SZKYDeyjaST2"
      }
    },
    {
      "cell_type": "code",
      "source": [
        "# https://towardsdatascience.com/have-a-sql-interview-coming-up-ace-it-using-google-colab-6d3c0ffb29dc\n",
        "\n",
        "def pd_to_sqlDB(input_df: pd.DataFrame,\n",
        "                table_name: str,\n",
        "                db_name: str = 'default.db') -> None:\n",
        "\n",
        "    # find columns in the dataframe\n",
        "    cols = input_df.columns\n",
        "    cols_string = ','.join(cols)\n",
        "    val_wildcard_string = ','.join(['?'] * len(cols))\n",
        "\n",
        "    # connect to a db file if it exists, else create a new file\n",
        "    con = sqlite3.connect(db_name)\n",
        "    cur = con.cursor()\n",
        "\n",
        "    # create table\n",
        "    sql_string = f\"\"\"CREATE TABLE {table_name} ({cols_string});\"\"\"\n",
        "    cur.execute(sql_string)\n",
        "\n",
        "    # upload df\n",
        "    rows_to_upload = input_df.to_dict(orient='split')['data']\n",
        "    sql_string = f\"\"\"INSERT INTO {table_name} ({cols_string}) VALUES ({val_wildcard_string});\"\"\"    \n",
        "    cur.executemany(sql_string, rows_to_upload)\n",
        "  \n",
        "    # commit changes and close connection\n",
        "    con.commit()\n",
        "    con.close()"
      ],
      "metadata": {
        "id": "nkPEnnFeRdWZ"
      },
      "execution_count": 60,
      "outputs": []
    },
    {
      "cell_type": "code",
      "source": [
        "#  https://towardsdatascience.com/have-a-sql-interview-coming-up-ace-it-using-google-colab-6d3c0ffb29dc\n",
        "\n",
        "def sql_query_to_pd(sql_query_string: str, db_name: str ='mpox.db') -> pd.DataFrame:\n",
        "    \n",
        "    # connect to sql db\n",
        "    con = sqlite3.connect(db_name)\n",
        "\n",
        "    # execute sql query\n",
        "    cursor = con.execute(sql_query_string)\n",
        "\n",
        "    # fetch data and column names\n",
        "    result_data = cursor.fetchall()\n",
        "    cols = [description[0] for description in cursor.description]\n",
        "\n",
        "    # close the connection\n",
        "    con.close()\n",
        "\n",
        "    # return as df\n",
        "    return pd.DataFrame(result_data, columns=cols)"
      ],
      "metadata": {
        "id": "NyBhsOFhP8qM"
      },
      "execution_count": 61,
      "outputs": []
    },
    {
      "cell_type": "markdown",
      "source": [
        "### 4.2  Save tweets to database: `corpus`"
      ],
      "metadata": {
        "id": "-y4IUV84bF-_"
      }
    },
    {
      "cell_type": "code",
      "source": [
        "# read csv as df\n",
        "input_df = pd.read_csv('/content/drive/MyDrive/tweets.csv')\n",
        "\n",
        "# upload df as a SQL table\n",
        "pd_to_sqlDB(input_df,\n",
        "            table_name='corpus',\n",
        "            db_name='monkeypox.db')"
      ],
      "metadata": {
        "id": "-VBhUeOYQi1d"
      },
      "execution_count": 62,
      "outputs": []
    },
    {
      "cell_type": "markdown",
      "source": [
        "### 4.4  Count locations in table: `location`"
      ],
      "metadata": {
        "id": "DqtyJUzWaWxb"
      }
    },
    {
      "cell_type": "code",
      "source": [
        "sql_query_string = \"\"\"\n",
        "  SELECT user_location, COUNT(user_location) AS count\n",
        "  FROM tweets\n",
        "  GROUP BY user_location\n",
        "  ORDER BY\n",
        "    COUNT(user_location) DESC\n",
        "\"\"\""
      ],
      "metadata": {
        "id": "edlXLKHLXRiP"
      },
      "execution_count": 65,
      "outputs": []
    },
    {
      "cell_type": "code",
      "source": [
        "location_df = sql_query_to_pd(sql_query_string, db_name='monkeypox.db')"
      ],
      "metadata": {
        "id": "dXl1U8jOX-2O"
      },
      "execution_count": 66,
      "outputs": []
    },
    {
      "cell_type": "code",
      "source": [
        "location_df.info()"
      ],
      "metadata": {
        "id": "8RnzsHikYNAG"
      },
      "execution_count": null,
      "outputs": []
    },
    {
      "cell_type": "code",
      "source": [
        "location_df.tail(10)"
      ],
      "metadata": {
        "id": "2FXQveflbdr1"
      },
      "execution_count": null,
      "outputs": []
    },
    {
      "cell_type": "markdown",
      "source": [
        "### 4.3  Read tables from database: `corpus_df` and `location_df`"
      ],
      "metadata": {
        "id": "DQRSrmAFbNEZ"
      }
    },
    {
      "cell_type": "code",
      "source": [
        "sql_query_string = \"\"\"\n",
        "    SELECT *\n",
        "    FROM tweets\n",
        "\"\"\"\n",
        "corpus_df = sql_query_to_pd(sql_query_string, db_name='monkeypox.db')\n",
        "corpus_df"
      ],
      "metadata": {
        "id": "4SNg085DbE9X"
      },
      "execution_count": null,
      "outputs": []
    },
    {
      "cell_type": "code",
      "source": [
        "corpus_df.info()"
      ],
      "metadata": {
        "id": "-pw-P0dzXuFs"
      },
      "execution_count": null,
      "outputs": []
    },
    {
      "cell_type": "code",
      "source": [
        "location_df.info()"
      ],
      "metadata": {
        "id": "DAYGuVZZdpd9"
      },
      "execution_count": null,
      "outputs": []
    },
    {
      "cell_type": "markdown",
      "source": [
        "# 5 | Processing"
      ],
      "metadata": {
        "id": "o58AqssjdG6J"
      }
    },
    {
      "cell_type": "markdown",
      "source": [
        "#### 5.1  Word Count (PySpark)\n",
        "* groupby, count, agg, \n",
        "* google = pyspark word frequency\n"
      ],
      "metadata": {
        "id": "kZHBKBPlX4qW"
      }
    },
    {
      "cell_type": "code",
      "source": [
        "spark = SparkSession.builder\\\n",
        "        .master(\"local\")\\\n",
        "        .appName(\"Colab\")\\\n",
        "        .config('spark.ui.port', '4050')\\\n",
        "        .getOrCreate()"
      ],
      "metadata": {
        "id": "HAAbDzuvG8s2"
      },
      "execution_count": 72,
      "outputs": []
    },
    {
      "cell_type": "code",
      "source": [
        "spark_df = spark.createDataFrame(corpus_df)\n",
        "spark_df.printSchema()\n"
      ],
      "metadata": {
        "id": "bokiUXO9G8s2"
      },
      "execution_count": null,
      "outputs": []
    },
    {
      "cell_type": "code",
      "source": [
        "df_schema = StructType([StructField(\"date\", IntegerType(), True)])"
      ],
      "metadata": {
        "id": "KaTrXXbxG8s2"
      },
      "execution_count": 74,
      "outputs": []
    },
    {
      "cell_type": "code",
      "source": [
        "spark_df = spark_df.withColumn('text', \n",
        "                               explode(split(lower(col('text')), '\\s')))"
      ],
      "metadata": {
        "id": "Xi934J5ppqJg"
      },
      "execution_count": 75,
      "outputs": []
    },
    {
      "cell_type": "code",
      "source": [
        "(spark_df.groupBy('text')\n",
        "  .count()\n",
        "  .orderBy('count', ascending=False)\n",
        "  .show(50))"
      ],
      "metadata": {
        "id": "9n6mq63EpqP-"
      },
      "execution_count": null,
      "outputs": []
    },
    {
      "cell_type": "code",
      "source": [
        "spark_df.groupBy('text')"
      ],
      "metadata": {
        "id": "ncCRfac4BHe8"
      },
      "execution_count": null,
      "outputs": []
    },
    {
      "cell_type": "code",
      "source": [
        "spark_df = spark_df.withColumn('user_location', \n",
        "                               explode(split(lower(col('user_location')), '\\s')))"
      ],
      "metadata": {
        "id": "8gqquRgf-8eK"
      },
      "execution_count": 78,
      "outputs": []
    },
    {
      "cell_type": "code",
      "source": [
        "(spark_df.groupBy('user_location')\n",
        "  .count()\n",
        "  .orderBy('count', ascending=False)\n",
        "  .show(150))"
      ],
      "metadata": {
        "id": "KUcka0XZ8cT8"
      },
      "execution_count": null,
      "outputs": []
    },
    {
      "cell_type": "code",
      "source": [
        "# https://simplemaps.com/data/world-cities"
      ],
      "metadata": {
        "id": "6EtPvFKF8cc2"
      },
      "execution_count": 80,
      "outputs": []
    },
    {
      "cell_type": "markdown",
      "source": [
        "### 5.2 Topic Modeling"
      ],
      "metadata": {
        "id": "JTSLt6ow_Mpv"
      }
    },
    {
      "cell_type": "code",
      "source": [
        "terms = corpus_df['text']\n",
        "terms.shape"
      ],
      "metadata": {
        "id": "42mEa1QW8cgN"
      },
      "execution_count": null,
      "outputs": []
    },
    {
      "cell_type": "code",
      "source": [
        "# custom stop words \n",
        "stopwords = nltk.corpus.stopwords.words('english')\n",
        "\n",
        "custom_words = ['monkey',\n",
        "             'pox',\n",
        "             'monkeypox',\n",
        "             'people',\n",
        "             'covid',\n",
        "             'amp',\n",
        "             '19',\n",
        "             '2022',\n",
        "             'another',\n",
        "             'co', 'https', 'cases', 'case', 'new', 'first', 'via', 'confirmed', 'us',\n",
        "             'going', 'one', 'know',\n",
        "             'get', 'like', 'go', 'got', 'time', 'think', 'want',\n",
        "             'health', 'declares', 'outbreak', 'world', 'public', 'declared', 'news', 'says',\n",
        "            'total', 'take', 'virus', 'already', 'getting', 'sure',\n",
        "            'spread', 'disease', 'next', 'would', 'need']\n",
        "stopwords.extend(custom_words)\n"
      ],
      "metadata": {
        "id": "-FPlJAvTCmJC"
      },
      "execution_count": 82,
      "outputs": []
    },
    {
      "cell_type": "code",
      "source": [
        "tf_vectorizer = TfidfVectorizer(stop_words=stopwords, \n",
        "                                min_df=0.01, \n",
        "                                max_df=.95)\n",
        "tf_vectorizer"
      ],
      "metadata": {
        "colab": {
          "base_uri": "https://localhost:8080/"
        },
        "id": "VY_csYom8cjU",
        "outputId": "5697eb79-a5cc-4d52-a3ad-a67d3beecbfa"
      },
      "execution_count": 83,
      "outputs": [
        {
          "output_type": "execute_result",
          "data": {
            "text/plain": [
              "TfidfVectorizer(max_df=0.95, min_df=0.01,\n",
              "                stop_words=['i', 'me', 'my', 'myself', 'we', 'our', 'ours',\n",
              "                            'ourselves', 'you', \"you're\", \"you've\", \"you'll\",\n",
              "                            \"you'd\", 'your', 'yours', 'yourself', 'yourselves',\n",
              "                            'he', 'him', 'his', 'himself', 'she', \"she's\",\n",
              "                            'her', 'hers', 'herself', 'it', \"it's\", 'its',\n",
              "                            'itself', ...])"
            ]
          },
          "metadata": {},
          "execution_count": 83
        }
      ]
    },
    {
      "cell_type": "code",
      "source": [
        "# document-term matrix with TF-IDF\n",
        "tf_doc_term_mtx = tf_vectorizer.fit_transform(terms)\n",
        "type(tf_doc_term_mtx)"
      ],
      "metadata": {
        "colab": {
          "base_uri": "https://localhost:8080/"
        },
        "id": "tDheeami_MD-",
        "outputId": "a3642aab-4fe3-4f0c-f483-161d4e3a7875"
      },
      "execution_count": 84,
      "outputs": [
        {
          "output_type": "execute_result",
          "data": {
            "text/plain": [
              "scipy.sparse.csr.csr_matrix"
            ]
          },
          "metadata": {},
          "execution_count": 84
        }
      ]
    },
    {
      "cell_type": "code",
      "source": [
        "tf_doc_term_df = pd.DataFrame(tf_doc_term_mtx.toarray(), \n",
        "                              columns=tf_vectorizer.get_feature_names_out())\n",
        "tf_doc_term_df.head(2)"
      ],
      "metadata": {
        "colab": {
          "base_uri": "https://localhost:8080/",
          "height": 205
        },
        "id": "iSHobpEfAG31",
        "outputId": "511e8abb-0bb1-4e11-d088-e8de8d58da80"
      },
      "execution_count": 85,
      "outputs": [
        {
          "output_type": "execute_result",
          "data": {
            "text/plain": [
              "   aids  also  anyone  around  back  biden  cdc  children  cnn  come  ...  \\\n",
              "0   0.0   0.0     0.0     0.0   0.0    0.0  0.0       0.0  0.0   0.0  ...   \n",
              "1   0.0   0.0     0.0     0.0   0.0    0.0  0.0       0.0  0.0   0.0  ...   \n",
              "\n",
              "   trump  trying  two  vaccine  vaccines  vax  way  well  years  yet  \n",
              "0    0.0     0.0  0.0      0.0       0.0  0.0  0.0   0.0    0.0  0.0  \n",
              "1    0.0     0.0  0.0      0.0       0.0  0.0  0.0   0.0    0.0  0.0  \n",
              "\n",
              "[2 rows x 83 columns]"
            ],
            "text/html": [
              "\n",
              "  <div id=\"df-51d1e953-d989-4cb0-b32e-d5e72bb54530\">\n",
              "    <div class=\"colab-df-container\">\n",
              "      <div>\n",
              "<style scoped>\n",
              "    .dataframe tbody tr th:only-of-type {\n",
              "        vertical-align: middle;\n",
              "    }\n",
              "\n",
              "    .dataframe tbody tr th {\n",
              "        vertical-align: top;\n",
              "    }\n",
              "\n",
              "    .dataframe thead th {\n",
              "        text-align: right;\n",
              "    }\n",
              "</style>\n",
              "<table border=\"1\" class=\"dataframe\">\n",
              "  <thead>\n",
              "    <tr style=\"text-align: right;\">\n",
              "      <th></th>\n",
              "      <th>aids</th>\n",
              "      <th>also</th>\n",
              "      <th>anyone</th>\n",
              "      <th>around</th>\n",
              "      <th>back</th>\n",
              "      <th>biden</th>\n",
              "      <th>cdc</th>\n",
              "      <th>children</th>\n",
              "      <th>cnn</th>\n",
              "      <th>come</th>\n",
              "      <th>...</th>\n",
              "      <th>trump</th>\n",
              "      <th>trying</th>\n",
              "      <th>two</th>\n",
              "      <th>vaccine</th>\n",
              "      <th>vaccines</th>\n",
              "      <th>vax</th>\n",
              "      <th>way</th>\n",
              "      <th>well</th>\n",
              "      <th>years</th>\n",
              "      <th>yet</th>\n",
              "    </tr>\n",
              "  </thead>\n",
              "  <tbody>\n",
              "    <tr>\n",
              "      <th>0</th>\n",
              "      <td>0.0</td>\n",
              "      <td>0.0</td>\n",
              "      <td>0.0</td>\n",
              "      <td>0.0</td>\n",
              "      <td>0.0</td>\n",
              "      <td>0.0</td>\n",
              "      <td>0.0</td>\n",
              "      <td>0.0</td>\n",
              "      <td>0.0</td>\n",
              "      <td>0.0</td>\n",
              "      <td>...</td>\n",
              "      <td>0.0</td>\n",
              "      <td>0.0</td>\n",
              "      <td>0.0</td>\n",
              "      <td>0.0</td>\n",
              "      <td>0.0</td>\n",
              "      <td>0.0</td>\n",
              "      <td>0.0</td>\n",
              "      <td>0.0</td>\n",
              "      <td>0.0</td>\n",
              "      <td>0.0</td>\n",
              "    </tr>\n",
              "    <tr>\n",
              "      <th>1</th>\n",
              "      <td>0.0</td>\n",
              "      <td>0.0</td>\n",
              "      <td>0.0</td>\n",
              "      <td>0.0</td>\n",
              "      <td>0.0</td>\n",
              "      <td>0.0</td>\n",
              "      <td>0.0</td>\n",
              "      <td>0.0</td>\n",
              "      <td>0.0</td>\n",
              "      <td>0.0</td>\n",
              "      <td>...</td>\n",
              "      <td>0.0</td>\n",
              "      <td>0.0</td>\n",
              "      <td>0.0</td>\n",
              "      <td>0.0</td>\n",
              "      <td>0.0</td>\n",
              "      <td>0.0</td>\n",
              "      <td>0.0</td>\n",
              "      <td>0.0</td>\n",
              "      <td>0.0</td>\n",
              "      <td>0.0</td>\n",
              "    </tr>\n",
              "  </tbody>\n",
              "</table>\n",
              "<p>2 rows × 83 columns</p>\n",
              "</div>\n",
              "      <button class=\"colab-df-convert\" onclick=\"convertToInteractive('df-51d1e953-d989-4cb0-b32e-d5e72bb54530')\"\n",
              "              title=\"Convert this dataframe to an interactive table.\"\n",
              "              style=\"display:none;\">\n",
              "        \n",
              "  <svg xmlns=\"http://www.w3.org/2000/svg\" height=\"24px\"viewBox=\"0 0 24 24\"\n",
              "       width=\"24px\">\n",
              "    <path d=\"M0 0h24v24H0V0z\" fill=\"none\"/>\n",
              "    <path d=\"M18.56 5.44l.94 2.06.94-2.06 2.06-.94-2.06-.94-.94-2.06-.94 2.06-2.06.94zm-11 1L8.5 8.5l.94-2.06 2.06-.94-2.06-.94L8.5 2.5l-.94 2.06-2.06.94zm10 10l.94 2.06.94-2.06 2.06-.94-2.06-.94-.94-2.06-.94 2.06-2.06.94z\"/><path d=\"M17.41 7.96l-1.37-1.37c-.4-.4-.92-.59-1.43-.59-.52 0-1.04.2-1.43.59L10.3 9.45l-7.72 7.72c-.78.78-.78 2.05 0 2.83L4 21.41c.39.39.9.59 1.41.59.51 0 1.02-.2 1.41-.59l7.78-7.78 2.81-2.81c.8-.78.8-2.07 0-2.86zM5.41 20L4 18.59l7.72-7.72 1.47 1.35L5.41 20z\"/>\n",
              "  </svg>\n",
              "      </button>\n",
              "      \n",
              "  <style>\n",
              "    .colab-df-container {\n",
              "      display:flex;\n",
              "      flex-wrap:wrap;\n",
              "      gap: 12px;\n",
              "    }\n",
              "\n",
              "    .colab-df-convert {\n",
              "      background-color: #E8F0FE;\n",
              "      border: none;\n",
              "      border-radius: 50%;\n",
              "      cursor: pointer;\n",
              "      display: none;\n",
              "      fill: #1967D2;\n",
              "      height: 32px;\n",
              "      padding: 0 0 0 0;\n",
              "      width: 32px;\n",
              "    }\n",
              "\n",
              "    .colab-df-convert:hover {\n",
              "      background-color: #E2EBFA;\n",
              "      box-shadow: 0px 1px 2px rgba(60, 64, 67, 0.3), 0px 1px 3px 1px rgba(60, 64, 67, 0.15);\n",
              "      fill: #174EA6;\n",
              "    }\n",
              "\n",
              "    [theme=dark] .colab-df-convert {\n",
              "      background-color: #3B4455;\n",
              "      fill: #D2E3FC;\n",
              "    }\n",
              "\n",
              "    [theme=dark] .colab-df-convert:hover {\n",
              "      background-color: #434B5C;\n",
              "      box-shadow: 0px 1px 3px 1px rgba(0, 0, 0, 0.15);\n",
              "      filter: drop-shadow(0px 1px 2px rgba(0, 0, 0, 0.3));\n",
              "      fill: #FFFFFF;\n",
              "    }\n",
              "  </style>\n",
              "\n",
              "      <script>\n",
              "        const buttonEl =\n",
              "          document.querySelector('#df-51d1e953-d989-4cb0-b32e-d5e72bb54530 button.colab-df-convert');\n",
              "        buttonEl.style.display =\n",
              "          google.colab.kernel.accessAllowed ? 'block' : 'none';\n",
              "\n",
              "        async function convertToInteractive(key) {\n",
              "          const element = document.querySelector('#df-51d1e953-d989-4cb0-b32e-d5e72bb54530');\n",
              "          const dataTable =\n",
              "            await google.colab.kernel.invokeFunction('convertToInteractive',\n",
              "                                                     [key], {});\n",
              "          if (!dataTable) return;\n",
              "\n",
              "          const docLinkHtml = 'Like what you see? Visit the ' +\n",
              "            '<a target=\"_blank\" href=https://colab.research.google.com/notebooks/data_table.ipynb>data table notebook</a>'\n",
              "            + ' to learn more about interactive tables.';\n",
              "          element.innerHTML = '';\n",
              "          dataTable['output_type'] = 'display_data';\n",
              "          await google.colab.output.renderOutput(dataTable, element);\n",
              "          const docLink = document.createElement('div');\n",
              "          docLink.innerHTML = docLinkHtml;\n",
              "          element.appendChild(docLink);\n",
              "        }\n",
              "      </script>\n",
              "    </div>\n",
              "  </div>\n",
              "  "
            ]
          },
          "metadata": {},
          "execution_count": 85
        }
      ]
    },
    {
      "cell_type": "code",
      "source": [
        "# # double check that domain specfic words were omitted \n",
        "print('monkey' in tf_vectorizer.get_feature_names_out())\n",
        "print('pox' in tf_vectorizer.get_feature_names_out())\n",
        "print('monkeypox' in tf_vectorizer.get_feature_names_out())\n",
        "print('covid' in tf_vectorizer.get_feature_names_out())\n",
        "\n",
        "# who and what are mentioned in the corpus? not cdc, trump mentioned \n",
        "print('rash' in tf_vectorizer.get_feature_names_out())\n",
        "print('fever' in tf_vectorizer.get_feature_names_out())\n",
        "print('cdc:', 'cdc' in tf_vectorizer.get_feature_names_out())\n",
        "print('cdcgov' in tf_vectorizer.get_feature_names_out())\n",
        "print('centers for disease control and prevention' in tf_vectorizer.get_feature_names_out())\n",
        "print('walensky' in tf_vectorizer.get_feature_names_out())\n",
        "print('biden:', 'biden' in tf_vectorizer.get_feature_names_out())\n",
        "\n"
      ],
      "metadata": {
        "colab": {
          "base_uri": "https://localhost:8080/"
        },
        "id": "hBDZUcEoAHq5",
        "outputId": "88bcc243-0714-4fb4-cd2d-3c9e09127fb5"
      },
      "execution_count": 86,
      "outputs": [
        {
          "output_type": "stream",
          "name": "stdout",
          "text": [
            "False\n",
            "False\n",
            "False\n",
            "False\n",
            "False\n",
            "False\n",
            "cdc: True\n",
            "False\n",
            "False\n",
            "False\n",
            "biden: True\n"
          ]
        }
      ]
    },
    {
      "cell_type": "code",
      "source": [
        "# V     visible variables     doc_term             input (corpus matrix)\n",
        "# W     weights               doc_topic            feature set\n",
        "# H     hidden variables      topic_term           coefficients"
      ],
      "metadata": {
        "id": "rfDDgKipAJn4"
      },
      "execution_count": 87,
      "outputs": []
    },
    {
      "cell_type": "code",
      "source": [
        "V = tf_doc_term_mtx\n",
        "V.shape"
      ],
      "metadata": {
        "colab": {
          "base_uri": "https://localhost:8080/"
        },
        "id": "7eFsDxAMAfku",
        "outputId": "06fcd6d1-b784-4745-e73a-729901facb6b"
      },
      "execution_count": 88,
      "outputs": [
        {
          "output_type": "execute_result",
          "data": {
            "text/plain": [
              "(28281, 83)"
            ]
          },
          "metadata": {},
          "execution_count": 88
        }
      ]
    },
    {
      "cell_type": "code",
      "source": [
        "# W matrix = feature set & weights\n",
        "nmf = NMF(n_components=3, init=None)\n",
        "W = nmf.fit_transform(V).round(3)\n",
        "print(type(W))\n",
        "W.shape"
      ],
      "metadata": {
        "colab": {
          "base_uri": "https://localhost:8080/"
        },
        "id": "z9Msyk-BAfn2",
        "outputId": "b5f8ab38-77ae-4295-da2b-2527f0652a6a"
      },
      "execution_count": 89,
      "outputs": [
        {
          "output_type": "stream",
          "name": "stdout",
          "text": [
            "<class 'numpy.ndarray'>\n"
          ]
        },
        {
          "output_type": "execute_result",
          "data": {
            "text/plain": [
              "(28281, 3)"
            ]
          },
          "metadata": {},
          "execution_count": 89
        }
      ]
    },
    {
      "cell_type": "code",
      "source": [
        "# H matrix = hidden variables & coefficients \n",
        "H = pd.DataFrame(nmf.components_.round(2),\n",
        "                 index = ['c1', \n",
        "                          'c2',\n",
        "                          'c3'] #,\n",
        "#                           'c4']#,, \n",
        "#                           'c5']\n",
        "                 ,\n",
        "                 columns = tf_vectorizer.get_feature_names_out())\n",
        "print('H.shape:',  H.shape)\n",
        "H.T.style.background_gradient(cmap='Blues')\n"
      ],
      "metadata": {
        "id": "gudfZf5HAfqd"
      },
      "execution_count": null,
      "outputs": []
    },
    {
      "cell_type": "code",
      "source": [
        "# function to display topics\n",
        "def display_topics(model, feature_names, no_top_words, topic_names=None):\n",
        "    for ix, topic in enumerate(model.components_):\n",
        "        if not topic_names or not topic_names[ix]:\n",
        "            print(\"\\nTopic \", ix)\n",
        "        else:\n",
        "            print(\"\\nTopic: '\",topic_names[ix],\"'\")\n",
        "        print(\", \".join([feature_names[i]\n",
        "                        for i in topic.argsort()[:-no_top_words - 1:-1]]))"
      ],
      "metadata": {
        "id": "Wmp4sbFTAfsj"
      },
      "execution_count": 91,
      "outputs": []
    },
    {
      "cell_type": "code",
      "source": [
        "display_topics(nmf, tf_vectorizer.get_feature_names_out(), 15)"
      ],
      "metadata": {
        "colab": {
          "base_uri": "https://localhost:8080/"
        },
        "id": "ePzsL5D4Afu2",
        "outputId": "a8ddcd29-2d09-4116-c0f5-7dad57e599df"
      },
      "execution_count": 92,
      "outputs": [
        {
          "output_type": "stream",
          "name": "stdout",
          "text": [
            "\n",
            "Topic  0\n",
            "emergency, global, pandemic, spreading, biden, cdc, said, risk, even, well\n",
            "\n",
            "Topic  1\n",
            "vaccine, smallpox, vaccines, cdc, shingles, day, well, im, yet, biden\n",
            "\n",
            "Topic  2\n",
            "gay, men, sex, cnn, dont, spreading, stop, say, community, aids\n"
          ]
        }
      ]
    },
    {
      "cell_type": "markdown",
      "source": [
        "### 5.3  Word Cloud"
      ],
      "metadata": {
        "id": "KaMdZZd-f1yK"
      }
    },
    {
      "cell_type": "code",
      "source": [
        "# https://www.geeksforgeeks.org/generating-word-cloud-python/\n",
        "\n",
        "comment_words = ''\n",
        "stopwords = set(stopwords)\n",
        " \n",
        "for val in terms:\n",
        "    val = str(val)\n",
        "    tokens = val.split()     \n",
        "    for i in range(len(tokens)):\n",
        "        tokens[i] = tokens[i].lower()\n",
        "     \n",
        "    comment_words += \" \".join(tokens)+\" \"\n",
        " \n",
        "wordcloud = WordCloud(width = 800, height = 800,\n",
        "                background_color ='white',\n",
        "                stopwords = stopwords,\n",
        "                min_font_size = 10).generate(comment_words)\n",
        " \n",
        "# plot WordCloud                       \n",
        "plt.figure(figsize = (8, 8), facecolor = None)\n",
        "plt.imshow(wordcloud)\n",
        "plt.axis(\"off\")\n",
        "plt.tight_layout(pad = 0)\n",
        "plt.title('Monkeypox Tweets 2022')\n",
        "plt.savefig(\"monkeypox-tweets-word-cloud.jpeg\");"
      ],
      "metadata": {
        "id": "46ivW-XNg6sM",
        "colab": {
          "base_uri": "https://localhost:8080/",
          "height": 623
        },
        "outputId": "debd42df-dd38-4186-a296-4172bdbd337b"
      },
      "execution_count": 93,
      "outputs": [
        {
          "output_type": "display_data",
          "data": {
            "text/plain": [
              "<Figure size 576x576 with 1 Axes>"
            ],
            "image/png": "[encoded data removed]"
          },
          "metadata": {
            "needs_background": "light"
          }
        }
      ]
    },
    {
      "cell_type": "markdown",
      "source": [
        "### 5.4  Case Counts by State"
      ],
      "metadata": {
        "id": "S5iwVAVOOUlQ"
      }
    },
    {
      "cell_type": "code",
      "source": [
        "# import sheet with state lattitude and longitude \n",
        "# data source: https://developers.google.com/public-data/docs/canonical/states_csv\n",
        "\n",
        "# open google spreadsheet\n",
        "worksheet = gc.open('USA-State-Coordinates').sheet1\n",
        "\n",
        "# get_all_values gives a list of rows.\n",
        "rows = worksheet.get_all_values()\n",
        "\n",
        "states = pd.DataFrame.from_records(rows)\n",
        "\n",
        "states.columns = states.iloc[0]\n",
        "states.drop([0], inplace=True)\n",
        "states.drop(['state'], axis=1, inplace=True)\n",
        "states.sort_values(by=['name'], inplace=True)\n",
        "states = states.rename(columns={'latitude': 'lat', 'longitude': 'lon', 'name': 'state'})\n",
        "\n",
        "states.tail(2)"
      ],
      "metadata": {
        "colab": {
          "base_uri": "https://localhost:8080/",
          "height": 112
        },
        "id": "tVDmYyswr4QE",
        "outputId": "a31b1430-89bb-468f-934d-886d636f05aa"
      },
      "execution_count": 94,
      "outputs": [
        {
          "output_type": "execute_result",
          "data": {
            "text/plain": [
              "0         lat          lon      state\n",
              "51   43.78444   -88.787868  Wisconsin\n",
              "52  43.075968  -107.290284    Wyoming"
            ],
            "text/html": [
              "\n",
              "  <div id=\"df-797e03d5-e84c-4148-bb37-4c202dc27433\">\n",
              "    <div class=\"colab-df-container\">\n",
              "      <div>\n",
              "<style scoped>\n",
              "    .dataframe tbody tr th:only-of-type {\n",
              "        vertical-align: middle;\n",
              "    }\n",
              "\n",
              "    .dataframe tbody tr th {\n",
              "        vertical-align: top;\n",
              "    }\n",
              "\n",
              "    .dataframe thead th {\n",
              "        text-align: right;\n",
              "    }\n",
              "</style>\n",
              "<table border=\"1\" class=\"dataframe\">\n",
              "  <thead>\n",
              "    <tr style=\"text-align: right;\">\n",
              "      <th></th>\n",
              "      <th>lat</th>\n",
              "      <th>lon</th>\n",
              "      <th>state</th>\n",
              "    </tr>\n",
              "  </thead>\n",
              "  <tbody>\n",
              "    <tr>\n",
              "      <th>51</th>\n",
              "      <td>43.78444</td>\n",
              "      <td>-88.787868</td>\n",
              "      <td>Wisconsin</td>\n",
              "    </tr>\n",
              "    <tr>\n",
              "      <th>52</th>\n",
              "      <td>43.075968</td>\n",
              "      <td>-107.290284</td>\n",
              "      <td>Wyoming</td>\n",
              "    </tr>\n",
              "  </tbody>\n",
              "</table>\n",
              "</div>\n",
              "      <button class=\"colab-df-convert\" onclick=\"convertToInteractive('df-797e03d5-e84c-4148-bb37-4c202dc27433')\"\n",
              "              title=\"Convert this dataframe to an interactive table.\"\n",
              "              style=\"display:none;\">\n",
              "        \n",
              "  <svg xmlns=\"http://www.w3.org/2000/svg\" height=\"24px\"viewBox=\"0 0 24 24\"\n",
              "       width=\"24px\">\n",
              "    <path d=\"M0 0h24v24H0V0z\" fill=\"none\"/>\n",
              "    <path d=\"M18.56 5.44l.94 2.06.94-2.06 2.06-.94-2.06-.94-.94-2.06-.94 2.06-2.06.94zm-11 1L8.5 8.5l.94-2.06 2.06-.94-2.06-.94L8.5 2.5l-.94 2.06-2.06.94zm10 10l.94 2.06.94-2.06 2.06-.94-2.06-.94-.94-2.06-.94 2.06-2.06.94z\"/><path d=\"M17.41 7.96l-1.37-1.37c-.4-.4-.92-.59-1.43-.59-.52 0-1.04.2-1.43.59L10.3 9.45l-7.72 7.72c-.78.78-.78 2.05 0 2.83L4 21.41c.39.39.9.59 1.41.59.51 0 1.02-.2 1.41-.59l7.78-7.78 2.81-2.81c.8-.78.8-2.07 0-2.86zM5.41 20L4 18.59l7.72-7.72 1.47 1.35L5.41 20z\"/>\n",
              "  </svg>\n",
              "      </button>\n",
              "      \n",
              "  <style>\n",
              "    .colab-df-container {\n",
              "      display:flex;\n",
              "      flex-wrap:wrap;\n",
              "      gap: 12px;\n",
              "    }\n",
              "\n",
              "    .colab-df-convert {\n",
              "      background-color: #E8F0FE;\n",
              "      border: none;\n",
              "      border-radius: 50%;\n",
              "      cursor: pointer;\n",
              "      display: none;\n",
              "      fill: #1967D2;\n",
              "      height: 32px;\n",
              "      padding: 0 0 0 0;\n",
              "      width: 32px;\n",
              "    }\n",
              "\n",
              "    .colab-df-convert:hover {\n",
              "      background-color: #E2EBFA;\n",
              "      box-shadow: 0px 1px 2px rgba(60, 64, 67, 0.3), 0px 1px 3px 1px rgba(60, 64, 67, 0.15);\n",
              "      fill: #174EA6;\n",
              "    }\n",
              "\n",
              "    [theme=dark] .colab-df-convert {\n",
              "      background-color: #3B4455;\n",
              "      fill: #D2E3FC;\n",
              "    }\n",
              "\n",
              "    [theme=dark] .colab-df-convert:hover {\n",
              "      background-color: #434B5C;\n",
              "      box-shadow: 0px 1px 3px 1px rgba(0, 0, 0, 0.15);\n",
              "      filter: drop-shadow(0px 1px 2px rgba(0, 0, 0, 0.3));\n",
              "      fill: #FFFFFF;\n",
              "    }\n",
              "  </style>\n",
              "\n",
              "      <script>\n",
              "        const buttonEl =\n",
              "          document.querySelector('#df-797e03d5-e84c-4148-bb37-4c202dc27433 button.colab-df-convert');\n",
              "        buttonEl.style.display =\n",
              "          google.colab.kernel.accessAllowed ? 'block' : 'none';\n",
              "\n",
              "        async function convertToInteractive(key) {\n",
              "          const element = document.querySelector('#df-797e03d5-e84c-4148-bb37-4c202dc27433');\n",
              "          const dataTable =\n",
              "            await google.colab.kernel.invokeFunction('convertToInteractive',\n",
              "                                                     [key], {});\n",
              "          if (!dataTable) return;\n",
              "\n",
              "          const docLinkHtml = 'Like what you see? Visit the ' +\n",
              "            '<a target=\"_blank\" href=https://colab.research.google.com/notebooks/data_table.ipynb>data table notebook</a>'\n",
              "            + ' to learn more about interactive tables.';\n",
              "          element.innerHTML = '';\n",
              "          dataTable['output_type'] = 'display_data';\n",
              "          await google.colab.output.renderOutput(dataTable, element);\n",
              "          const docLink = document.createElement('div');\n",
              "          docLink.innerHTML = docLinkHtml;\n",
              "          element.appendChild(docLink);\n",
              "        }\n",
              "      </script>\n",
              "    </div>\n",
              "  </div>\n",
              "  "
            ]
          },
          "metadata": {},
          "execution_count": 94
        }
      ]
    },
    {
      "cell_type": "code",
      "source": [
        "states.info()"
      ],
      "metadata": {
        "colab": {
          "base_uri": "https://localhost:8080/"
        },
        "id": "eK6GEsrz8-NP",
        "outputId": "be781189-012a-4415-ecd7-3eb2183c076b"
      },
      "execution_count": 95,
      "outputs": [
        {
          "output_type": "stream",
          "name": "stdout",
          "text": [
            "<class 'pandas.core.frame.DataFrame'>\n",
            "Int64Index: 52 entries, 1 to 52\n",
            "Data columns (total 3 columns):\n",
            " #   Column  Non-Null Count  Dtype \n",
            "---  ------  --------------  ----- \n",
            " 0   lat     52 non-null     object\n",
            " 1   lon     52 non-null     object\n",
            " 2   state   52 non-null     object\n",
            "dtypes: object(3)\n",
            "memory usage: 1.6+ KB\n"
          ]
        }
      ]
    },
    {
      "cell_type": "code",
      "source": [
        "# import sheet with US case count by state \n",
        "# data source: https://www.cdc.gov/poxvirus/monkeypox/response/2022/us-map.html\n",
        "\n",
        "worksheet = gc.open('2022-US-mpx-cases-by-state').sheet1\n",
        "rows = worksheet.get_all_values()\n",
        "cases = pd.DataFrame.from_records(rows)\n",
        "\n",
        "cases.columns = cases.iloc[0]\n",
        "cases.drop([0], inplace=True)\n",
        "cases.drop(['AsOf', 'Case Range'], axis=1, inplace=True)\n",
        "cases.sort_values(by=['Location'], inplace=True)\n",
        "\n",
        "cases.tail(2)"
      ],
      "metadata": {
        "colab": {
          "base_uri": "https://localhost:8080/",
          "height": 112
        },
        "id": "I3LNNbQNr4Ut",
        "outputId": "a6a96bd6-02c5-4a1a-a9fc-b79ea8714be6"
      },
      "execution_count": 96,
      "outputs": [
        {
          "output_type": "execute_result",
          "data": {
            "text/plain": [
              "0    Location Cases\n",
              "51  Wisconsin    56\n",
              "52    Wyoming     1"
            ],
            "text/html": [
              "\n",
              "  <div id=\"df-c4df3b5c-5eba-4907-869a-c0f107e15ce9\">\n",
              "    <div class=\"colab-df-container\">\n",
              "      <div>\n",
              "<style scoped>\n",
              "    .dataframe tbody tr th:only-of-type {\n",
              "        vertical-align: middle;\n",
              "    }\n",
              "\n",
              "    .dataframe tbody tr th {\n",
              "        vertical-align: top;\n",
              "    }\n",
              "\n",
              "    .dataframe thead th {\n",
              "        text-align: right;\n",
              "    }\n",
              "</style>\n",
              "<table border=\"1\" class=\"dataframe\">\n",
              "  <thead>\n",
              "    <tr style=\"text-align: right;\">\n",
              "      <th></th>\n",
              "      <th>Location</th>\n",
              "      <th>Cases</th>\n",
              "    </tr>\n",
              "  </thead>\n",
              "  <tbody>\n",
              "    <tr>\n",
              "      <th>51</th>\n",
              "      <td>Wisconsin</td>\n",
              "      <td>56</td>\n",
              "    </tr>\n",
              "    <tr>\n",
              "      <th>52</th>\n",
              "      <td>Wyoming</td>\n",
              "      <td>1</td>\n",
              "    </tr>\n",
              "  </tbody>\n",
              "</table>\n",
              "</div>\n",
              "      <button class=\"colab-df-convert\" onclick=\"convertToInteractive('df-c4df3b5c-5eba-4907-869a-c0f107e15ce9')\"\n",
              "              title=\"Convert this dataframe to an interactive table.\"\n",
              "              style=\"display:none;\">\n",
              "        \n",
              "  <svg xmlns=\"http://www.w3.org/2000/svg\" height=\"24px\"viewBox=\"0 0 24 24\"\n",
              "       width=\"24px\">\n",
              "    <path d=\"M0 0h24v24H0V0z\" fill=\"none\"/>\n",
              "    <path d=\"M18.56 5.44l.94 2.06.94-2.06 2.06-.94-2.06-.94-.94-2.06-.94 2.06-2.06.94zm-11 1L8.5 8.5l.94-2.06 2.06-.94-2.06-.94L8.5 2.5l-.94 2.06-2.06.94zm10 10l.94 2.06.94-2.06 2.06-.94-2.06-.94-.94-2.06-.94 2.06-2.06.94z\"/><path d=\"M17.41 7.96l-1.37-1.37c-.4-.4-.92-.59-1.43-.59-.52 0-1.04.2-1.43.59L10.3 9.45l-7.72 7.72c-.78.78-.78 2.05 0 2.83L4 21.41c.39.39.9.59 1.41.59.51 0 1.02-.2 1.41-.59l7.78-7.78 2.81-2.81c.8-.78.8-2.07 0-2.86zM5.41 20L4 18.59l7.72-7.72 1.47 1.35L5.41 20z\"/>\n",
              "  </svg>\n",
              "      </button>\n",
              "      \n",
              "  <style>\n",
              "    .colab-df-container {\n",
              "      display:flex;\n",
              "      flex-wrap:wrap;\n",
              "      gap: 12px;\n",
              "    }\n",
              "\n",
              "    .colab-df-convert {\n",
              "      background-color: #E8F0FE;\n",
              "      border: none;\n",
              "      border-radius: 50%;\n",
              "      cursor: pointer;\n",
              "      display: none;\n",
              "      fill: #1967D2;\n",
              "      height: 32px;\n",
              "      padding: 0 0 0 0;\n",
              "      width: 32px;\n",
              "    }\n",
              "\n",
              "    .colab-df-convert:hover {\n",
              "      background-color: #E2EBFA;\n",
              "      box-shadow: 0px 1px 2px rgba(60, 64, 67, 0.3), 0px 1px 3px 1px rgba(60, 64, 67, 0.15);\n",
              "      fill: #174EA6;\n",
              "    }\n",
              "\n",
              "    [theme=dark] .colab-df-convert {\n",
              "      background-color: #3B4455;\n",
              "      fill: #D2E3FC;\n",
              "    }\n",
              "\n",
              "    [theme=dark] .colab-df-convert:hover {\n",
              "      background-color: #434B5C;\n",
              "      box-shadow: 0px 1px 3px 1px rgba(0, 0, 0, 0.15);\n",
              "      filter: drop-shadow(0px 1px 2px rgba(0, 0, 0, 0.3));\n",
              "      fill: #FFFFFF;\n",
              "    }\n",
              "  </style>\n",
              "\n",
              "      <script>\n",
              "        const buttonEl =\n",
              "          document.querySelector('#df-c4df3b5c-5eba-4907-869a-c0f107e15ce9 button.colab-df-convert');\n",
              "        buttonEl.style.display =\n",
              "          google.colab.kernel.accessAllowed ? 'block' : 'none';\n",
              "\n",
              "        async function convertToInteractive(key) {\n",
              "          const element = document.querySelector('#df-c4df3b5c-5eba-4907-869a-c0f107e15ce9');\n",
              "          const dataTable =\n",
              "            await google.colab.kernel.invokeFunction('convertToInteractive',\n",
              "                                                     [key], {});\n",
              "          if (!dataTable) return;\n",
              "\n",
              "          const docLinkHtml = 'Like what you see? Visit the ' +\n",
              "            '<a target=\"_blank\" href=https://colab.research.google.com/notebooks/data_table.ipynb>data table notebook</a>'\n",
              "            + ' to learn more about interactive tables.';\n",
              "          element.innerHTML = '';\n",
              "          dataTable['output_type'] = 'display_data';\n",
              "          await google.colab.output.renderOutput(dataTable, element);\n",
              "          const docLink = document.createElement('div');\n",
              "          docLink.innerHTML = docLinkHtml;\n",
              "          element.appendChild(docLink);\n",
              "        }\n",
              "      </script>\n",
              "    </div>\n",
              "  </div>\n",
              "  "
            ]
          },
          "metadata": {},
          "execution_count": 96
        }
      ]
    },
    {
      "cell_type": "code",
      "source": [
        "# US case count by state (long + lat)\n",
        "map_data = pd.concat([states, cases], axis=1)\n",
        "map_data = map_data[['Location', 'Cases', 'lat', 'lon' ]]\n",
        "map_data = map_data.rename(columns={'Location': 'state', 'Cases':'cases'})\n",
        "\n",
        "map_data.tail(2)\n",
        "# map_data.info()"
      ],
      "metadata": {
        "colab": {
          "base_uri": "https://localhost:8080/",
          "height": 112
        },
        "id": "iBEYh5Gyr4Xj",
        "outputId": "8e250d1b-e88f-42dd-f692-8593cf95f462"
      },
      "execution_count": 97,
      "outputs": [
        {
          "output_type": "execute_result",
          "data": {
            "text/plain": [
              "0       state cases        lat          lon\n",
              "51  Wisconsin    56   43.78444   -88.787868\n",
              "52    Wyoming     1  43.075968  -107.290284"
            ],
            "text/html": [
              "\n",
              "  <div id=\"df-b1c8af15-a5e7-4599-ac82-ec33f84395ac\">\n",
              "    <div class=\"colab-df-container\">\n",
              "      <div>\n",
              "<style scoped>\n",
              "    .dataframe tbody tr th:only-of-type {\n",
              "        vertical-align: middle;\n",
              "    }\n",
              "\n",
              "    .dataframe tbody tr th {\n",
              "        vertical-align: top;\n",
              "    }\n",
              "\n",
              "    .dataframe thead th {\n",
              "        text-align: right;\n",
              "    }\n",
              "</style>\n",
              "<table border=\"1\" class=\"dataframe\">\n",
              "  <thead>\n",
              "    <tr style=\"text-align: right;\">\n",
              "      <th></th>\n",
              "      <th>state</th>\n",
              "      <th>cases</th>\n",
              "      <th>lat</th>\n",
              "      <th>lon</th>\n",
              "    </tr>\n",
              "  </thead>\n",
              "  <tbody>\n",
              "    <tr>\n",
              "      <th>51</th>\n",
              "      <td>Wisconsin</td>\n",
              "      <td>56</td>\n",
              "      <td>43.78444</td>\n",
              "      <td>-88.787868</td>\n",
              "    </tr>\n",
              "    <tr>\n",
              "      <th>52</th>\n",
              "      <td>Wyoming</td>\n",
              "      <td>1</td>\n",
              "      <td>43.075968</td>\n",
              "      <td>-107.290284</td>\n",
              "    </tr>\n",
              "  </tbody>\n",
              "</table>\n",
              "</div>\n",
              "      <button class=\"colab-df-convert\" onclick=\"convertToInteractive('df-b1c8af15-a5e7-4599-ac82-ec33f84395ac')\"\n",
              "              title=\"Convert this dataframe to an interactive table.\"\n",
              "              style=\"display:none;\">\n",
              "        \n",
              "  <svg xmlns=\"http://www.w3.org/2000/svg\" height=\"24px\"viewBox=\"0 0 24 24\"\n",
              "       width=\"24px\">\n",
              "    <path d=\"M0 0h24v24H0V0z\" fill=\"none\"/>\n",
              "    <path d=\"M18.56 5.44l.94 2.06.94-2.06 2.06-.94-2.06-.94-.94-2.06-.94 2.06-2.06.94zm-11 1L8.5 8.5l.94-2.06 2.06-.94-2.06-.94L8.5 2.5l-.94 2.06-2.06.94zm10 10l.94 2.06.94-2.06 2.06-.94-2.06-.94-.94-2.06-.94 2.06-2.06.94z\"/><path d=\"M17.41 7.96l-1.37-1.37c-.4-.4-.92-.59-1.43-.59-.52 0-1.04.2-1.43.59L10.3 9.45l-7.72 7.72c-.78.78-.78 2.05 0 2.83L4 21.41c.39.39.9.59 1.41.59.51 0 1.02-.2 1.41-.59l7.78-7.78 2.81-2.81c.8-.78.8-2.07 0-2.86zM5.41 20L4 18.59l7.72-7.72 1.47 1.35L5.41 20z\"/>\n",
              "  </svg>\n",
              "      </button>\n",
              "      \n",
              "  <style>\n",
              "    .colab-df-container {\n",
              "      display:flex;\n",
              "      flex-wrap:wrap;\n",
              "      gap: 12px;\n",
              "    }\n",
              "\n",
              "    .colab-df-convert {\n",
              "      background-color: #E8F0FE;\n",
              "      border: none;\n",
              "      border-radius: 50%;\n",
              "      cursor: pointer;\n",
              "      display: none;\n",
              "      fill: #1967D2;\n",
              "      height: 32px;\n",
              "      padding: 0 0 0 0;\n",
              "      width: 32px;\n",
              "    }\n",
              "\n",
              "    .colab-df-convert:hover {\n",
              "      background-color: #E2EBFA;\n",
              "      box-shadow: 0px 1px 2px rgba(60, 64, 67, 0.3), 0px 1px 3px 1px rgba(60, 64, 67, 0.15);\n",
              "      fill: #174EA6;\n",
              "    }\n",
              "\n",
              "    [theme=dark] .colab-df-convert {\n",
              "      background-color: #3B4455;\n",
              "      fill: #D2E3FC;\n",
              "    }\n",
              "\n",
              "    [theme=dark] .colab-df-convert:hover {\n",
              "      background-color: #434B5C;\n",
              "      box-shadow: 0px 1px 3px 1px rgba(0, 0, 0, 0.15);\n",
              "      filter: drop-shadow(0px 1px 2px rgba(0, 0, 0, 0.3));\n",
              "      fill: #FFFFFF;\n",
              "    }\n",
              "  </style>\n",
              "\n",
              "      <script>\n",
              "        const buttonEl =\n",
              "          document.querySelector('#df-b1c8af15-a5e7-4599-ac82-ec33f84395ac button.colab-df-convert');\n",
              "        buttonEl.style.display =\n",
              "          google.colab.kernel.accessAllowed ? 'block' : 'none';\n",
              "\n",
              "        async function convertToInteractive(key) {\n",
              "          const element = document.querySelector('#df-b1c8af15-a5e7-4599-ac82-ec33f84395ac');\n",
              "          const dataTable =\n",
              "            await google.colab.kernel.invokeFunction('convertToInteractive',\n",
              "                                                     [key], {});\n",
              "          if (!dataTable) return;\n",
              "\n",
              "          const docLinkHtml = 'Like what you see? Visit the ' +\n",
              "            '<a target=\"_blank\" href=https://colab.research.google.com/notebooks/data_table.ipynb>data table notebook</a>'\n",
              "            + ' to learn more about interactive tables.';\n",
              "          element.innerHTML = '';\n",
              "          dataTable['output_type'] = 'display_data';\n",
              "          await google.colab.output.renderOutput(dataTable, element);\n",
              "          const docLink = document.createElement('div');\n",
              "          docLink.innerHTML = docLinkHtml;\n",
              "          element.appendChild(docLink);\n",
              "        }\n",
              "      </script>\n",
              "    </div>\n",
              "  </div>\n",
              "  "
            ]
          },
          "metadata": {},
          "execution_count": 97
        }
      ]
    },
    {
      "cell_type": "code",
      "source": [
        "map_data = map_data.astype({'cases':'int'})\n",
        "\n",
        "map_data.sort_values(by=['cases'], ascending=False)\n",
        "# map_data.sort_values(by=['latitude'], ascending=False)\n",
        "\n"
      ],
      "metadata": {
        "id": "KmWfhCDOr4dB"
      },
      "execution_count": null,
      "outputs": []
    },
    {
      "cell_type": "code",
      "source": [
        "map_data.head(2)"
      ],
      "metadata": {
        "id": "tpkxAFipCUyF"
      },
      "execution_count": null,
      "outputs": []
    },
    {
      "cell_type": "code",
      "source": [
        "map_data.to_csv('map_data.csv')  "
      ],
      "metadata": {
        "id": "GUkY6bJxr4ac"
      },
      "execution_count": 100,
      "outputs": []
    },
    {
      "cell_type": "markdown",
      "source": [
        "### 5.5  Tweets by Location"
      ],
      "metadata": {
        "id": "FX2wI5XVRO6q"
      }
    },
    {
      "cell_type": "code",
      "source": [
        "location_df.info()"
      ],
      "metadata": {
        "colab": {
          "base_uri": "https://localhost:8080/"
        },
        "id": "ver9l8u3cFc9",
        "outputId": "d2159735-600e-4ed5-aa61-cfc1d9913209"
      },
      "execution_count": 101,
      "outputs": [
        {
          "output_type": "stream",
          "name": "stdout",
          "text": [
            "<class 'pandas.core.frame.DataFrame'>\n",
            "RangeIndex: 3569 entries, 0 to 3568\n",
            "Data columns (total 2 columns):\n",
            " #   Column         Non-Null Count  Dtype \n",
            "---  ------         --------------  ----- \n",
            " 0   user_location  3568 non-null   object\n",
            " 1   count          3569 non-null   int64 \n",
            "dtypes: int64(1), object(1)\n",
            "memory usage: 55.9+ KB\n"
          ]
        }
      ]
    },
    {
      "cell_type": "code",
      "source": [
        "location_df.tail(20)"
      ],
      "metadata": {
        "id": "2LjD820QdQKT"
      },
      "execution_count": null,
      "outputs": []
    },
    {
      "cell_type": "markdown",
      "source": [
        "# 6 | Deployment"
      ],
      "metadata": {
        "id": "3FwMqfy5dSsM"
      }
    },
    {
      "cell_type": "markdown",
      "source": [
        "Streamlit App: https://slp22-data-engineering-project-streamlit-mpx-app-ckpzq2.streamlitapp.com/"
      ],
      "metadata": {
        "id": "XRtWhiYxeF7u"
      }
    },
    {
      "cell_type": "markdown",
      "source": [
        "# 7 | Testing/Robustness"
      ],
      "metadata": {
        "id": "L31bOQ0leG-h"
      }
    },
    {
      "cell_type": "markdown",
      "source": [
        "[Python schedule](https://schedule.readthedocs.io/en/stable/examples.html#run-a-job-every-x-minute)"
      ],
      "metadata": {
        "id": "fkP73gNFeJjm"
      }
    }
  ],
  "metadata": {
    "colab": {
      "collapsed_sections": [
        "4nm_mHUuAeql",
        "B386_PwAwSxC",
        "ehG7rDKVA1x3",
        "iZKrSFfKONx0"
      ],
      "provenance": [],
      "toc_visible": true,
      "include_colab_link": true
    },
    "kernelspec": {
      "display_name": "Python 3 (engineering)",
      "language": "python",
      "name": "engineering"
    },
    "language_info": {
      "codemirror_mode": {
        "name": "ipython",
        "version": 3
      },
      "file_extension": ".py",
      "mimetype": "text/x-python",
      "name": "python",
      "nbconvert_exporter": "python",
      "pygments_lexer": "ipython3",
      "version": "3.8.12"
    }
  },
  "nbformat": 4,
  "nbformat_minor": 0
}