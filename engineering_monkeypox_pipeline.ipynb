{
  "cells": [
    {
      "cell_type": "markdown",
      "metadata": {
        "id": "view-in-github",
        "colab_type": "text"
      },
      "source": [
        "<a href=\"https://colab.research.google.com/github/slp22/data-engineering-project/blob/main/engineering_monkeypox_pipeline.ipynb\" target=\"_parent\"><img src=\"https://colab.research.google.com/assets/colab-badge.svg\" alt=\"Open In Colab\"/></a>"
      ]
    },
    {
      "cell_type": "markdown",
      "metadata": {
        "id": "wH8m3rmEAo3U"
      },
      "source": [
        "#### Data Engineering | Pipeline\n",
        "\n",
        "# Monkeypox Tweets"
      ]
    },
    {
      "cell_type": "markdown",
      "metadata": {
        "id": "4nm_mHUuAeql"
      },
      "source": [
        "## Imports"
      ]
    },
    {
      "cell_type": "code",
      "execution_count": 1,
      "metadata": {
        "id": "w06wbr_xATv4"
      },
      "outputs": [],
      "source": [
        "import json\n",
        "import logging\n",
        "import sqlite3\n",
        "import matplotlib.pyplot as plt\n",
        "import numpy as np\n",
        "import os, shutil, itertools\n",
        "import pandas as pd\n",
        "import pathlib as Path\n",
        "import pickle\n",
        "import PIL\n",
        "import random\n",
        "import seaborn as sns\n",
        "import sklearn as sk\n",
        "import warnings\n",
        "import zipfile\n",
        "\n",
        "from sqlite3 import connect\n",
        "import time\n",
        "from datetime import datetime\n",
        "from dateutil.parser import parse\n",
        "from dateutil.relativedelta import *\n",
        "from dateutil.easter import *\n",
        "from dateutil.rrule import *\n",
        "from dateutil.parser import *\n",
        "from datetime import *\n"
      ]
    },
    {
      "cell_type": "markdown",
      "source": [
        "### Google Drive"
      ],
      "metadata": {
        "id": "CvyY8wZWFtik"
      }
    },
    {
      "cell_type": "code",
      "source": [
        "# mount drive\n",
        "from google.colab import drive\n",
        "drive.mount('/content/drive')\n",
        "\n",
        "# https://colab.research.google.com/notebooks/snippets/sheets.ipynb#scrollTo=JiJVCmu3dhFa\n",
        "\n",
        "# authorize access \n",
        "from google.colab import auth\n",
        "auth.authenticate_user()\n",
        "\n",
        "# read in from Google Sheets\n",
        "\n",
        "import gspread\n",
        "from google.auth import default\n",
        "creds, _ = default()\n",
        "\n",
        "gc = gspread.authorize(creds)\n"
      ],
      "metadata": {
        "id": "KK2gD2g6NKFv",
        "colab": {
          "base_uri": "https://localhost:8080/"
        },
        "outputId": "2f2298d7-03ce-4b61-e2b6-37d766b259f2"
      },
      "execution_count": 2,
      "outputs": [
        {
          "output_type": "stream",
          "name": "stdout",
          "text": [
            "Mounted at /content/drive\n"
          ]
        }
      ]
    },
    {
      "cell_type": "markdown",
      "source": [
        "### Pyspark\n",
        "\n"
      ],
      "metadata": {
        "id": "B386_PwAwSxC"
      }
    },
    {
      "cell_type": "code",
      "source": [
        "# # https://towardsdatascience.com/pyspark-on-google-colab-101-d31830b238be\n",
        "# # https://www.analyticsvidhya.com/blog/2020/11/a-must-read-guide-on-how-to-work-with-pyspark-on-google-colab-for-data-scientists/\n",
        "\n",
        "!apt-get install openjdk-8-jdk-headless -qq > /dev/null"
      ],
      "metadata": {
        "id": "d6zyxbIeQRP7"
      },
      "execution_count": null,
      "outputs": []
    },
    {
      "cell_type": "code",
      "source": [
        "!wget -q https://archive.apache.org/dist/spark/spark-3.0.0/spark-3.0.0-bin-hadoop3.2.tgz"
      ],
      "metadata": {
        "id": "PnrT-MdkO4Om"
      },
      "execution_count": null,
      "outputs": []
    },
    {
      "cell_type": "code",
      "source": [
        "!tar -xf spark-3.0.0-bin-hadoop3.2.tgz"
      ],
      "metadata": {
        "id": "Fh2JdMTItP4v"
      },
      "execution_count": null,
      "outputs": []
    },
    {
      "cell_type": "code",
      "source": [
        "!pip install -q findspark"
      ],
      "metadata": {
        "id": "jM9TqdQ0up5A"
      },
      "execution_count": null,
      "outputs": []
    },
    {
      "cell_type": "code",
      "source": [
        "os.environ[\"JAVA_HOME\"] = \"/usr/lib/jvm/java-8-openjdk-amd64\"\n",
        "os.environ[\"SPARK_HOME\"] = \"/content/spark-3.0.0-bin-hadoop3.2\""
      ],
      "metadata": {
        "id": "kiB4yJevOiGk"
      },
      "execution_count": null,
      "outputs": []
    },
    {
      "cell_type": "code",
      "source": [
        "import findspark\n",
        "findspark.init()"
      ],
      "metadata": {
        "id": "DNzHHgiROoIL"
      },
      "execution_count": null,
      "outputs": []
    },
    {
      "cell_type": "code",
      "source": [
        "import pyspark\n",
        "from pyspark.sql import SparkSession\n",
        "from pyspark.sql.functions import split, explode, col, lower\n",
        "from pyspark.sql.types import StructType,StructField, StringType, IntegerType\n"
      ],
      "metadata": {
        "id": "Ocg1qNbOuwSo"
      },
      "execution_count": null,
      "outputs": []
    },
    {
      "cell_type": "markdown",
      "metadata": {
        "id": "ehG7rDKVA1x3"
      },
      "source": [
        "## 1 | Pipeline Design\n"
      ]
    },
    {
      "cell_type": "markdown",
      "metadata": {
        "id": "lPrQPhqxA4C4"
      },
      "source": [
        "* **Business Problem:** Can we build a dashboard to monitor top trending topics on Twitter about monkeypox?\n",
        "* **Data source:** [Kaggle Tweets on Monkeypox ](https://www.kaggle.com/datasets/thakurnirmalya/monkeypox2022tweets)\n",
        "* **Impact Hypothesis:** "
      ]
    },
    {
      "cell_type": "markdown",
      "metadata": {
        "id": "j9xSJjZAA79Y"
      },
      "source": [
        "## 2 | Data Ingestion"
      ]
    },
    {
      "cell_type": "markdown",
      "source": [
        "#### 1. [Twitter Dataset on the 2022 MonkeyPox Outbreak](https://www.kaggle.com/datasets/thakurnirmalya/monkeypox2022tweets) (Dataset is list of TweetIDs)"
      ],
      "metadata": {
        "id": "jXIfCh8OaYtc"
      }
    },
    {
      "cell_type": "markdown",
      "source": [
        "#### 2. [Twitter Hydrating](https://towardsdatascience.com/learn-how-to-easily-hydrate-tweets-a0f393ed340e#:~:text=Hydrating%20Tweets) with [DocNow Hydrator](https://github.com/DocNow/hydrator/releases)"
      ],
      "metadata": {
        "id": "9k7spHO1FrzI"
      }
    },
    {
      "cell_type": "markdown",
      "source": [
        "#### 3. Import [hydrated tweets](https://drive.google.com/drive/folders/1NbddxuSF3v5YuOgjvA1G4WgfPUlKfiul?usp=sharing) from GoogleDrive to Colab"
      ],
      "metadata": {
        "id": "iZKrSFfKONx0"
      }
    },
    {
      "cell_type": "code",
      "source": [
        "# worksheets = ['TweetIDs_Part1', 'TweetIDs_Part2', 'TweetIDs_Part3', 'TweetIDs_Part4', 'TweetIDs_Part5', 'TweetIDs_Part6']\n",
        "\n",
        "# worksheet_1 = gc.open('TweetIDs_Part1').sheet1\n",
        "worksheet_2 = gc.open('TweetIDs_Part2').sheet1\n",
        "# worksheet_3 = gc.open('TweetIDs_Part3').sheet1\n",
        "# worksheet_4 = gc.open('TweetIDs_Part4').sheet1\n",
        "# worksheet_5 = gc.open('TweetIDs_Part5').sheet1\n",
        "# worksheet_6 = gc.open('TweetIDs_Part6').sheet1\n",
        "\n",
        "# get_all_values gives a list of rows\n",
        "# rows_1 = worksheet_1.get_all_values()\n",
        "rows_2 = worksheet_2.get_all_values()\n",
        "# rows_3 = worksheet_3.get_all_values()\n",
        "# rows_4 = worksheet_4.get_all_values()\n",
        "# rows_5 = worksheet_5.get_all_values()\n",
        "# rows_6 = worksheet_6.get_all_values()\n",
        "\n",
        "# Convert to a DataFrame and render\n",
        "# tweets_1 = pd.DataFrame.from_records(rows_1)\n",
        "tweets_2 = pd.DataFrame.from_records(rows_2)\n",
        "# tweets_3 = pd.DataFrame.from_records(rows_3)\n",
        "# tweets_4 = pd.DataFrame.from_records(rows_4)\n",
        "# tweets_5 = pd.DataFrame.from_records(rows_5)\n",
        "# tweets_6 = pd.DataFrame.from_records(rows_6)"
      ],
      "metadata": {
        "id": "L-l-15VEOgif"
      },
      "execution_count": 44,
      "outputs": []
    },
    {
      "cell_type": "code",
      "source": [
        "print('tweets_1', tweets_1.shape)\n",
        "print('tweets_2', tweets_2.shape)\n",
        "print('tweets_3', tweets_3.shape)\n",
        "print('tweets_4', tweets_4.shape)\n",
        "print('tweets_5', tweets_5.shape)\n",
        "print('tweets_6', tweets_6.shape)"
      ],
      "metadata": {
        "colab": {
          "base_uri": "https://localhost:8080/"
        },
        "id": "0arRh2kaV9Hu",
        "outputId": "abeb009c-04ac-4c9e-eed0-f96868415c16"
      },
      "execution_count": null,
      "outputs": [
        {
          "output_type": "stream",
          "name": "stdout",
          "text": [
            "tweets_1 (12656, 35)\n",
            "tweets_2 (15294, 35)\n",
            "tweets_3 (15140, 35)\n",
            "tweets_4 (16874, 35)\n",
            "tweets_5 (41280, 35)\n",
            "tweets_6 (127941, 35)\n"
          ]
        }
      ]
    },
    {
      "cell_type": "code",
      "source": [
        "n = tweets_1.shape[0] + tweets_2.shape[0] + tweets_3.shape[0] + tweets_4.shape[0] + tweets_5.shape[0] + tweets_6.shape[0]\n",
        "print('n =', n)"
      ],
      "metadata": {
        "colab": {
          "base_uri": "https://localhost:8080/"
        },
        "id": "0jTmtSMXWn1U",
        "outputId": "b92ea185-f542-468c-995b-5433ea81fc4d"
      },
      "execution_count": null,
      "outputs": [
        {
          "output_type": "stream",
          "name": "stdout",
          "text": [
            "n = 229185\n"
          ]
        }
      ]
    },
    {
      "cell_type": "code",
      "source": [
        "tweets_1.head(2)"
      ],
      "metadata": {
        "id": "UMvSBvlxD1iy"
      },
      "execution_count": null,
      "outputs": []
    },
    {
      "cell_type": "code",
      "source": [
        "tweets_1.columns = tweets_1.iloc[0]\n",
        "tweets_1.head(2)"
      ],
      "metadata": {
        "id": "BIAEVkvNUA7p"
      },
      "execution_count": null,
      "outputs": []
    },
    {
      "cell_type": "code",
      "source": [
        "tweets_1 = tweets_1.drop([0])"
      ],
      "metadata": {
        "id": "atD7o_RLTz_m"
      },
      "execution_count": 24,
      "outputs": []
    },
    {
      "cell_type": "code",
      "source": [
        "tweets_1.head(5)"
      ],
      "metadata": {
        "id": "ZAKKdRFoT10P"
      },
      "execution_count": null,
      "outputs": []
    },
    {
      "cell_type": "markdown",
      "metadata": {
        "id": "678fce99"
      },
      "source": [
        "## 3 | Exploratory Data Analysis"
      ]
    },
    {
      "cell_type": "markdown",
      "source": [
        "### Explore one set (tweet_1 n=12,656) "
      ],
      "metadata": {
        "id": "MYg3UaoOEPLU"
      }
    },
    {
      "cell_type": "code",
      "source": [
        "tweets_1.head(2)"
      ],
      "metadata": {
        "id": "Sdile-yhVzLo"
      },
      "execution_count": null,
      "outputs": []
    },
    {
      "cell_type": "code",
      "source": [
        "tweets_1[['text', 'user_created_at']]"
      ],
      "metadata": {
        "id": "vDg9Cjjswy60"
      },
      "execution_count": null,
      "outputs": []
    },
    {
      "cell_type": "markdown",
      "source": [
        "### tweets_1"
      ],
      "metadata": {
        "id": "Oscqdm5WZ3Ap"
      }
    },
    {
      "cell_type": "code",
      "execution_count": null,
      "metadata": {
        "id": "YjhK5W3wE9gu"
      },
      "outputs": [],
      "source": [
        "tweets_1.info()"
      ]
    },
    {
      "cell_type": "code",
      "execution_count": null,
      "metadata": {
        "id": "qKXgvoqwHkPF"
      },
      "outputs": [],
      "source": [
        "tweets_1.describe()"
      ]
    },
    {
      "cell_type": "code",
      "execution_count": null,
      "metadata": {
        "id": "E9KmD81nEwgq"
      },
      "outputs": [],
      "source": [
        "cols_list = list(tweets_1.columns)\n",
        "cols_list"
      ]
    },
    {
      "cell_type": "code",
      "source": [
        "# ['coordinates',\n",
        "#  'created_at',\n",
        " 'hashtags',\n",
        "#  'media',\n",
        "#  'urls',\n",
        "#  'favorite_count',\n",
        "#  'id',\n",
        "#  'in_reply_to_screen_name',\n",
        "#  'in_reply_to_status_id',\n",
        "#  'in_reply_to_user_id',\n",
        "#  'lang',\n",
        "#  'place',\n",
        "#  'possibly_sensitive',\n",
        "#  'quote_id',\n",
        "#  'retweet_count',\n",
        "#  'retweet_id',\n",
        "#  'retweet_screen_name',\n",
        "#  'source',\n",
        " 'text',\n",
        " 'tweet_url',\n",
        " 'user_created_at',\n",
        "#  'user_id',\n",
        "#  'user_default_profile_image',\n",
        "#  'user_description',\n",
        "#  'user_favourites_count',\n",
        "#  'user_followers_count',\n",
        "#  'user_friends_count',\n",
        "#  'user_listed_count',\n",
        " 'user_location',\n",
        "#  'user_name',\n",
        " 'user_screen_name',\n",
        "#  'user_statuses_count',\n",
        "#  'user_time_zone',\n",
        "#  'user_urls',\n",
        "#  'user_verified']"
      ],
      "metadata": {
        "id": "xWW-pGmUMEbP"
      },
      "execution_count": null,
      "outputs": []
    },
    {
      "cell_type": "code",
      "source": [
        "tweets_1['hashtags']\n",
        "tweets_1['hashtags'].unique()"
      ],
      "metadata": {
        "id": "fuoa6qtrNMA5"
      },
      "execution_count": null,
      "outputs": []
    },
    {
      "cell_type": "code",
      "source": [
        "tweets_1['possibly_sensitive'][0:2]"
      ],
      "metadata": {
        "id": "Cktw_oHSMII3"
      },
      "execution_count": null,
      "outputs": []
    },
    {
      "cell_type": "code",
      "execution_count": null,
      "metadata": {
        "id": "Kv-CMSoMExfA"
      },
      "outputs": [],
      "source": [
        "tweets_1['text']"
      ]
    },
    {
      "cell_type": "code",
      "source": [
        "tweets_1['tweet_url'][0:2]"
      ],
      "metadata": {
        "id": "giLgaXAfMIPR"
      },
      "execution_count": null,
      "outputs": []
    },
    {
      "cell_type": "code",
      "source": [
        "tweets_1['user_created_at']"
      ],
      "metadata": {
        "id": "emrGiHfKGe9H"
      },
      "execution_count": null,
      "outputs": []
    },
    {
      "cell_type": "code",
      "source": [
        "tweets_1['date'] = pd.to_datetime(tweets_1['user_created_at'], \n",
        "                                  format='%a %b %d %H:%M:%S +0000 %Y', \n",
        "                                  errors='coerce').dt.date"
      ],
      "metadata": {
        "id": "5ZzCroAedSWo"
      },
      "execution_count": 27,
      "outputs": []
    },
    {
      "cell_type": "code",
      "source": [
        "tweets_1.info()"
      ],
      "metadata": {
        "id": "eHFtzsYaaOj6"
      },
      "execution_count": null,
      "outputs": []
    },
    {
      "cell_type": "code",
      "source": [
        "tweets_1[['date']]"
      ],
      "metadata": {
        "id": "m2P7zFn8dWnN"
      },
      "execution_count": null,
      "outputs": []
    },
    {
      "cell_type": "code",
      "source": [
        "tweets_1['user_id']"
      ],
      "metadata": {
        "id": "W6LQTMMuMISI"
      },
      "execution_count": null,
      "outputs": []
    },
    {
      "cell_type": "code",
      "source": [
        "tweets_1['user_location']"
      ],
      "metadata": {
        "id": "CR25WifhMH_m"
      },
      "execution_count": null,
      "outputs": []
    },
    {
      "cell_type": "code",
      "source": [
        "tweets_1['user_screen_name']"
      ],
      "metadata": {
        "id": "kvB59iqNMEqG"
      },
      "execution_count": null,
      "outputs": []
    },
    {
      "cell_type": "code",
      "source": [
        "tweets_1 = tweets_1[['date',\n",
        "                     'user_screen_name',\n",
        "                     'text',\n",
        "                     'tweet_url',\n",
        "                     'user_location',\n",
        "                     'hashtags']]\n",
        "tweets_1.head(2)"
      ],
      "metadata": {
        "colab": {
          "base_uri": "https://localhost:8080/",
          "height": 419
        },
        "id": "b5AbKyVUMEtL",
        "outputId": "6cf1e0b6-0c4c-4850-8917-f15de645bec4"
      },
      "execution_count": 31,
      "outputs": [
        {
          "output_type": "execute_result",
          "data": {
            "text/plain": [
              "0        date user_screen_name  \\\n",
              "2  2022-04-01      LeftistHank   \n",
              "6  2022-04-01        YUCCAYAWN   \n",
              "\n",
              "0                                               text  \\\n",
              "2      oh monkey POX? I thought you said monkey POGS   \n",
              "6  lemme be clear ... if you like your monkey pox...   \n",
              "\n",
              "0                                          tweet_url user_location hashtags  \n",
              "2  https://twitter.com/LeftistHank/status/1527751...   Chicago, IL           \n",
              "6  https://twitter.com/YUCCAYAWN/status/152739626...                         "
            ],
            "text/html": [
              "\n",
              "  <div id=\"df-a6c84e83-440b-4b50-bd43-246c218cd531\">\n",
              "    <div class=\"colab-df-container\">\n",
              "      <div>\n",
              "<style scoped>\n",
              "    .dataframe tbody tr th:only-of-type {\n",
              "        vertical-align: middle;\n",
              "    }\n",
              "\n",
              "    .dataframe tbody tr th {\n",
              "        vertical-align: top;\n",
              "    }\n",
              "\n",
              "    .dataframe thead th {\n",
              "        text-align: right;\n",
              "    }\n",
              "</style>\n",
              "<table border=\"1\" class=\"dataframe\">\n",
              "  <thead>\n",
              "    <tr style=\"text-align: right;\">\n",
              "      <th></th>\n",
              "      <th>date</th>\n",
              "      <th>user_screen_name</th>\n",
              "      <th>text</th>\n",
              "      <th>tweet_url</th>\n",
              "      <th>user_location</th>\n",
              "      <th>hashtags</th>\n",
              "    </tr>\n",
              "  </thead>\n",
              "  <tbody>\n",
              "    <tr>\n",
              "      <th>2</th>\n",
              "      <td>2022-04-01</td>\n",
              "      <td>LeftistHank</td>\n",
              "      <td>oh monkey POX? I thought you said monkey POGS</td>\n",
              "      <td>https://twitter.com/LeftistHank/status/1527751...</td>\n",
              "      <td>Chicago, IL</td>\n",
              "      <td></td>\n",
              "    </tr>\n",
              "    <tr>\n",
              "      <th>6</th>\n",
              "      <td>2022-04-01</td>\n",
              "      <td>YUCCAYAWN</td>\n",
              "      <td>lemme be clear ... if you like your monkey pox...</td>\n",
              "      <td>https://twitter.com/YUCCAYAWN/status/152739626...</td>\n",
              "      <td></td>\n",
              "      <td></td>\n",
              "    </tr>\n",
              "  </tbody>\n",
              "</table>\n",
              "</div>\n",
              "      <button class=\"colab-df-convert\" onclick=\"convertToInteractive('df-a6c84e83-440b-4b50-bd43-246c218cd531')\"\n",
              "              title=\"Convert this dataframe to an interactive table.\"\n",
              "              style=\"display:none;\">\n",
              "        \n",
              "  <svg xmlns=\"http://www.w3.org/2000/svg\" height=\"24px\"viewBox=\"0 0 24 24\"\n",
              "       width=\"24px\">\n",
              "    <path d=\"M0 0h24v24H0V0z\" fill=\"none\"/>\n",
              "    <path d=\"M18.56 5.44l.94 2.06.94-2.06 2.06-.94-2.06-.94-.94-2.06-.94 2.06-2.06.94zm-11 1L8.5 8.5l.94-2.06 2.06-.94-2.06-.94L8.5 2.5l-.94 2.06-2.06.94zm10 10l.94 2.06.94-2.06 2.06-.94-2.06-.94-.94-2.06-.94 2.06-2.06.94z\"/><path d=\"M17.41 7.96l-1.37-1.37c-.4-.4-.92-.59-1.43-.59-.52 0-1.04.2-1.43.59L10.3 9.45l-7.72 7.72c-.78.78-.78 2.05 0 2.83L4 21.41c.39.39.9.59 1.41.59.51 0 1.02-.2 1.41-.59l7.78-7.78 2.81-2.81c.8-.78.8-2.07 0-2.86zM5.41 20L4 18.59l7.72-7.72 1.47 1.35L5.41 20z\"/>\n",
              "  </svg>\n",
              "      </button>\n",
              "      \n",
              "  <style>\n",
              "    .colab-df-container {\n",
              "      display:flex;\n",
              "      flex-wrap:wrap;\n",
              "      gap: 12px;\n",
              "    }\n",
              "\n",
              "    .colab-df-convert {\n",
              "      background-color: #E8F0FE;\n",
              "      border: none;\n",
              "      border-radius: 50%;\n",
              "      cursor: pointer;\n",
              "      display: none;\n",
              "      fill: #1967D2;\n",
              "      height: 32px;\n",
              "      padding: 0 0 0 0;\n",
              "      width: 32px;\n",
              "    }\n",
              "\n",
              "    .colab-df-convert:hover {\n",
              "      background-color: #E2EBFA;\n",
              "      box-shadow: 0px 1px 2px rgba(60, 64, 67, 0.3), 0px 1px 3px 1px rgba(60, 64, 67, 0.15);\n",
              "      fill: #174EA6;\n",
              "    }\n",
              "\n",
              "    [theme=dark] .colab-df-convert {\n",
              "      background-color: #3B4455;\n",
              "      fill: #D2E3FC;\n",
              "    }\n",
              "\n",
              "    [theme=dark] .colab-df-convert:hover {\n",
              "      background-color: #434B5C;\n",
              "      box-shadow: 0px 1px 3px 1px rgba(0, 0, 0, 0.15);\n",
              "      filter: drop-shadow(0px 1px 2px rgba(0, 0, 0, 0.3));\n",
              "      fill: #FFFFFF;\n",
              "    }\n",
              "  </style>\n",
              "\n",
              "      <script>\n",
              "        const buttonEl =\n",
              "          document.querySelector('#df-a6c84e83-440b-4b50-bd43-246c218cd531 button.colab-df-convert');\n",
              "        buttonEl.style.display =\n",
              "          google.colab.kernel.accessAllowed ? 'block' : 'none';\n",
              "\n",
              "        async function convertToInteractive(key) {\n",
              "          const element = document.querySelector('#df-a6c84e83-440b-4b50-bd43-246c218cd531');\n",
              "          const dataTable =\n",
              "            await google.colab.kernel.invokeFunction('convertToInteractive',\n",
              "                                                     [key], {});\n",
              "          if (!dataTable) return;\n",
              "\n",
              "          const docLinkHtml = 'Like what you see? Visit the ' +\n",
              "            '<a target=\"_blank\" href=https://colab.research.google.com/notebooks/data_table.ipynb>data table notebook</a>'\n",
              "            + ' to learn more about interactive tables.';\n",
              "          element.innerHTML = '';\n",
              "          dataTable['output_type'] = 'display_data';\n",
              "          await google.colab.output.renderOutput(dataTable, element);\n",
              "          const docLink = document.createElement('div');\n",
              "          docLink.innerHTML = docLinkHtml;\n",
              "          element.appendChild(docLink);\n",
              "        }\n",
              "      </script>\n",
              "    </div>\n",
              "  </div>\n",
              "  "
            ]
          },
          "metadata": {},
          "execution_count": 31
        }
      ]
    },
    {
      "cell_type": "code",
      "source": [
        "tweets_1 = tweets_1.sort_values('date')\n",
        "tweets_1.head(2)"
      ],
      "metadata": {
        "colab": {
          "base_uri": "https://localhost:8080/",
          "height": 187
        },
        "id": "H-lgvLuxRDEW",
        "outputId": "f7c037f1-bf6c-4bd8-ab7e-adacbea7e31b"
      },
      "execution_count": 18,
      "outputs": [
        {
          "output_type": "error",
          "ename": "AttributeError",
          "evalue": "ignored",
          "traceback": [
            "\u001b[0;31m---------------------------------------------------------------------------\u001b[0m",
            "\u001b[0;31mAttributeError\u001b[0m                            Traceback (most recent call last)",
            "\u001b[0;32m<ipython-input-18-1425729f58d3>\u001b[0m in \u001b[0;36m<module>\u001b[0;34m\u001b[0m\n\u001b[0;32m----> 1\u001b[0;31m \u001b[0mtweets_1\u001b[0m \u001b[0;34m=\u001b[0m \u001b[0mtweets_1\u001b[0m\u001b[0;34m.\u001b[0m\u001b[0msort_values\u001b[0m\u001b[0;34m(\u001b[0m\u001b[0;34m'date'\u001b[0m\u001b[0;34m)\u001b[0m\u001b[0;34m\u001b[0m\u001b[0;34m\u001b[0m\u001b[0m\n\u001b[0m\u001b[1;32m      2\u001b[0m \u001b[0mtweets_1\u001b[0m\u001b[0;34m.\u001b[0m\u001b[0mhead\u001b[0m\u001b[0;34m(\u001b[0m\u001b[0;36m2\u001b[0m\u001b[0;34m)\u001b[0m\u001b[0;34m\u001b[0m\u001b[0;34m\u001b[0m\u001b[0m\n",
            "\u001b[0;31mAttributeError\u001b[0m: 'bool' object has no attribute 'sort_values'"
          ]
        }
      ]
    },
    {
      "cell_type": "code",
      "source": [
        "# https://stackoverflow.com/questions/22898824/filtering-pandas-dataframes-on-dates\n",
        "# https://stackoverflow.com/questions/5619489/troubleshooting-descriptor-date-requires-a-datetime-datetime-object-but-rec\n",
        "\n",
        "tweets_1 = tweets_1[(tweets_1['date'] > date(2022,1,1))] \n",
        "tweets_1"
      ],
      "metadata": {
        "colab": {
          "base_uri": "https://localhost:8080/",
          "height": 498
        },
        "id": "mU9RtEHCb5My",
        "outputId": "fa68dc5c-73c6-489b-9319-2f588f276721"
      },
      "execution_count": 62,
      "outputs": [
        {
          "output_type": "stream",
          "name": "stderr",
          "text": [
            "/usr/local/lib/python3.7/dist-packages/ipykernel_launcher.py:4: UserWarning: Boolean Series key will be reindexed to match DataFrame index.\n",
            "  after removing the cwd from sys.path.\n"
          ]
        },
        {
          "output_type": "error",
          "ename": "IndexingError",
          "evalue": "ignored",
          "traceback": [
            "\u001b[0;31m---------------------------------------------------------------------------\u001b[0m",
            "\u001b[0;31mIndexingError\u001b[0m                             Traceback (most recent call last)",
            "\u001b[0;32m<ipython-input-62-28cc29558ae1>\u001b[0m in \u001b[0;36m<module>\u001b[0;34m\u001b[0m\n\u001b[1;32m      2\u001b[0m \u001b[0;31m# https://stackoverflow.com/questions/5619489/troubleshooting-descriptor-date-requires-a-datetime-datetime-object-but-rec\u001b[0m\u001b[0;34m\u001b[0m\u001b[0;34m\u001b[0m\u001b[0;34m\u001b[0m\u001b[0m\n\u001b[1;32m      3\u001b[0m \u001b[0;34m\u001b[0m\u001b[0m\n\u001b[0;32m----> 4\u001b[0;31m \u001b[0mtweets_1\u001b[0m \u001b[0;34m=\u001b[0m \u001b[0mtweets_1\u001b[0m\u001b[0;34m[\u001b[0m\u001b[0;34m(\u001b[0m\u001b[0mtweets_1\u001b[0m\u001b[0;34m[\u001b[0m\u001b[0;34m'date'\u001b[0m\u001b[0;34m]\u001b[0m \u001b[0;34m>\u001b[0m \u001b[0mdate\u001b[0m\u001b[0;34m(\u001b[0m\u001b[0;36m2022\u001b[0m\u001b[0;34m,\u001b[0m\u001b[0;36m1\u001b[0m\u001b[0;34m,\u001b[0m\u001b[0;36m1\u001b[0m\u001b[0;34m)\u001b[0m\u001b[0;34m)\u001b[0m\u001b[0;34m.\u001b[0m\u001b[0mreset_index\u001b[0m\u001b[0;34m(\u001b[0m\u001b[0mdrop\u001b[0m\u001b[0;34m=\u001b[0m\u001b[0;32mTrue\u001b[0m\u001b[0;34m)\u001b[0m\u001b[0;34m]\u001b[0m\u001b[0;34m\u001b[0m\u001b[0;34m\u001b[0m\u001b[0m\n\u001b[0m\u001b[1;32m      5\u001b[0m \u001b[0mtweets_1\u001b[0m\u001b[0;34m\u001b[0m\u001b[0;34m\u001b[0m\u001b[0m\n",
            "\u001b[0;32m/usr/local/lib/python3.7/dist-packages/pandas/core/frame.py\u001b[0m in \u001b[0;36m__getitem__\u001b[0;34m(self, key)\u001b[0m\n\u001b[1;32m   3447\u001b[0m         \u001b[0;31m# Do we have a (boolean) 1d indexer?\u001b[0m\u001b[0;34m\u001b[0m\u001b[0;34m\u001b[0m\u001b[0;34m\u001b[0m\u001b[0m\n\u001b[1;32m   3448\u001b[0m         \u001b[0;32mif\u001b[0m \u001b[0mcom\u001b[0m\u001b[0;34m.\u001b[0m\u001b[0mis_bool_indexer\u001b[0m\u001b[0;34m(\u001b[0m\u001b[0mkey\u001b[0m\u001b[0;34m)\u001b[0m\u001b[0;34m:\u001b[0m\u001b[0;34m\u001b[0m\u001b[0;34m\u001b[0m\u001b[0m\n\u001b[0;32m-> 3449\u001b[0;31m             \u001b[0;32mreturn\u001b[0m \u001b[0mself\u001b[0m\u001b[0;34m.\u001b[0m\u001b[0m_getitem_bool_array\u001b[0m\u001b[0;34m(\u001b[0m\u001b[0mkey\u001b[0m\u001b[0;34m)\u001b[0m\u001b[0;34m\u001b[0m\u001b[0;34m\u001b[0m\u001b[0m\n\u001b[0m\u001b[1;32m   3450\u001b[0m \u001b[0;34m\u001b[0m\u001b[0m\n\u001b[1;32m   3451\u001b[0m         \u001b[0;31m# We are left with two options: a single key, and a collection of keys,\u001b[0m\u001b[0;34m\u001b[0m\u001b[0;34m\u001b[0m\u001b[0;34m\u001b[0m\u001b[0m\n",
            "\u001b[0;32m/usr/local/lib/python3.7/dist-packages/pandas/core/frame.py\u001b[0m in \u001b[0;36m_getitem_bool_array\u001b[0;34m(self, key)\u001b[0m\n\u001b[1;32m   3500\u001b[0m         \u001b[0;31m# check_bool_indexer will throw exception if Series key cannot\u001b[0m\u001b[0;34m\u001b[0m\u001b[0;34m\u001b[0m\u001b[0;34m\u001b[0m\u001b[0m\n\u001b[1;32m   3501\u001b[0m         \u001b[0;31m# be reindexed to match DataFrame rows\u001b[0m\u001b[0;34m\u001b[0m\u001b[0;34m\u001b[0m\u001b[0;34m\u001b[0m\u001b[0m\n\u001b[0;32m-> 3502\u001b[0;31m         \u001b[0mkey\u001b[0m \u001b[0;34m=\u001b[0m \u001b[0mcheck_bool_indexer\u001b[0m\u001b[0;34m(\u001b[0m\u001b[0mself\u001b[0m\u001b[0;34m.\u001b[0m\u001b[0mindex\u001b[0m\u001b[0;34m,\u001b[0m \u001b[0mkey\u001b[0m\u001b[0;34m)\u001b[0m\u001b[0;34m\u001b[0m\u001b[0;34m\u001b[0m\u001b[0m\n\u001b[0m\u001b[1;32m   3503\u001b[0m         \u001b[0mindexer\u001b[0m \u001b[0;34m=\u001b[0m \u001b[0mkey\u001b[0m\u001b[0;34m.\u001b[0m\u001b[0mnonzero\u001b[0m\u001b[0;34m(\u001b[0m\u001b[0;34m)\u001b[0m\u001b[0;34m[\u001b[0m\u001b[0;36m0\u001b[0m\u001b[0;34m]\u001b[0m\u001b[0;34m\u001b[0m\u001b[0;34m\u001b[0m\u001b[0m\n\u001b[1;32m   3504\u001b[0m         \u001b[0;32mreturn\u001b[0m \u001b[0mself\u001b[0m\u001b[0;34m.\u001b[0m\u001b[0m_take_with_is_copy\u001b[0m\u001b[0;34m(\u001b[0m\u001b[0mindexer\u001b[0m\u001b[0;34m,\u001b[0m \u001b[0maxis\u001b[0m\u001b[0;34m=\u001b[0m\u001b[0;36m0\u001b[0m\u001b[0;34m)\u001b[0m\u001b[0;34m\u001b[0m\u001b[0;34m\u001b[0m\u001b[0m\n",
            "\u001b[0;32m/usr/local/lib/python3.7/dist-packages/pandas/core/indexing.py\u001b[0m in \u001b[0;36mcheck_bool_indexer\u001b[0;34m(index, key)\u001b[0m\n\u001b[1;32m   2387\u001b[0m         \u001b[0;32mif\u001b[0m \u001b[0mmask\u001b[0m\u001b[0;34m.\u001b[0m\u001b[0many\u001b[0m\u001b[0;34m(\u001b[0m\u001b[0;34m)\u001b[0m\u001b[0;34m:\u001b[0m\u001b[0;34m\u001b[0m\u001b[0;34m\u001b[0m\u001b[0m\n\u001b[1;32m   2388\u001b[0m             raise IndexingError(\n\u001b[0;32m-> 2389\u001b[0;31m                 \u001b[0;34m\"Unalignable boolean Series provided as \"\u001b[0m\u001b[0;34m\u001b[0m\u001b[0;34m\u001b[0m\u001b[0m\n\u001b[0m\u001b[1;32m   2390\u001b[0m                 \u001b[0;34m\"indexer (index of the boolean Series and of \"\u001b[0m\u001b[0;34m\u001b[0m\u001b[0;34m\u001b[0m\u001b[0m\n\u001b[1;32m   2391\u001b[0m                 \u001b[0;34m\"the indexed object do not match).\"\u001b[0m\u001b[0;34m\u001b[0m\u001b[0;34m\u001b[0m\u001b[0m\n",
            "\u001b[0;31mIndexingError\u001b[0m: Unalignable boolean Series provided as indexer (index of the boolean Series and of the indexed object do not match)."
          ]
        }
      ]
    },
    {
      "cell_type": "code",
      "source": [
        "tweets_1.info()"
      ],
      "metadata": {
        "id": "9vVopwFzbCuF"
      },
      "execution_count": null,
      "outputs": []
    },
    {
      "cell_type": "code",
      "source": [
        "tweets_1.reset_index(drop=True)"
      ],
      "metadata": {
        "id": "zive2igRunj6",
        "colab": {
          "base_uri": "https://localhost:8080/",
          "height": 904
        },
        "outputId": "ef027544-eafa-41b2-eab9-48cfd41926eb"
      },
      "execution_count": 63,
      "outputs": [
        {
          "output_type": "execute_result",
          "data": {
            "text/plain": [
              "0           date user_screen_name  \\\n",
              "0     2022-04-01      LeftistHank   \n",
              "1     2022-04-01        YUCCAYAWN   \n",
              "2     2022-04-01  pufpuffprincess   \n",
              "3     2022-04-01  pufpuffprincess   \n",
              "4     2022-04-01     Xenon1337xV2   \n",
              "...          ...              ...   \n",
              "1276  2022-05-18     ChickenStink   \n",
              "1277  2022-05-18       VoyagerERH   \n",
              "1278  2022-05-18  Cletusrufus1984   \n",
              "1279  2022-05-18       DollyD2022   \n",
              "1280  2022-05-18       Breakfall_   \n",
              "\n",
              "0                                                  text  \\\n",
              "0         oh monkey POX? I thought you said monkey POGS   \n",
              "1     lemme be clear ... if you like your monkey pox...   \n",
              "2     @KIINGEFFIE_ @JayceBliss @Carol1mcs @TMZ Yes, ...   \n",
              "3     @Craig4lyfe23 @NateSanti @Youngkid_Vibes @TMZ ...   \n",
              "4     Not happening. \\n\\nThe vast majority will beli...   \n",
              "...                                                 ...   \n",
              "1276  Twitter stop showing me pictures of the gross ...   \n",
              "1277  Me praying that monkey pox kills us all https:...   \n",
              "1278  @amlivemon That’s like the shingles of monkey pox   \n",
              "1279  This is NO COINCIDENCE...... BILL GATES wants ...   \n",
              "1280  @defeatentropy @Legacy_Compass Yes! Tuning in ...   \n",
              "\n",
              "0                                             tweet_url  \\\n",
              "0     https://twitter.com/LeftistHank/status/1527751...   \n",
              "1     https://twitter.com/YUCCAYAWN/status/152739626...   \n",
              "2     https://twitter.com/pufpuffprincess/status/152...   \n",
              "3     https://twitter.com/pufpuffprincess/status/152...   \n",
              "4     https://twitter.com/Xenon1337xV2/status/152809...   \n",
              "...                                                 ...   \n",
              "1276  https://twitter.com/ChickenStink/status/152706...   \n",
              "1277  https://twitter.com/VoyagerERH/status/15273930...   \n",
              "1278  https://twitter.com/Cletusrufus1984/status/152...   \n",
              "1279  https://twitter.com/DollyD2022/status/15273767...   \n",
              "1280  https://twitter.com/Breakfall_/status/15277567...   \n",
              "\n",
              "0             user_location  hashtags  \n",
              "0               Chicago, IL            \n",
              "1                                      \n",
              "2     Charlie Lastra's arms            \n",
              "3     Charlie Lastra's arms            \n",
              "4                                      \n",
              "...                     ...       ...  \n",
              "1276                         NoPusMay  \n",
              "1277                                   \n",
              "1278                                   \n",
              "1279                                   \n",
              "1280              Australia            \n",
              "\n",
              "[1281 rows x 6 columns]"
            ],
            "text/html": [
              "\n",
              "  <div id=\"df-bd039ff5-746d-4343-9bac-281c6df0697b\">\n",
              "    <div class=\"colab-df-container\">\n",
              "      <div>\n",
              "<style scoped>\n",
              "    .dataframe tbody tr th:only-of-type {\n",
              "        vertical-align: middle;\n",
              "    }\n",
              "\n",
              "    .dataframe tbody tr th {\n",
              "        vertical-align: top;\n",
              "    }\n",
              "\n",
              "    .dataframe thead th {\n",
              "        text-align: right;\n",
              "    }\n",
              "</style>\n",
              "<table border=\"1\" class=\"dataframe\">\n",
              "  <thead>\n",
              "    <tr style=\"text-align: right;\">\n",
              "      <th></th>\n",
              "      <th>date</th>\n",
              "      <th>user_screen_name</th>\n",
              "      <th>text</th>\n",
              "      <th>tweet_url</th>\n",
              "      <th>user_location</th>\n",
              "      <th>hashtags</th>\n",
              "    </tr>\n",
              "  </thead>\n",
              "  <tbody>\n",
              "    <tr>\n",
              "      <th>0</th>\n",
              "      <td>2022-04-01</td>\n",
              "      <td>LeftistHank</td>\n",
              "      <td>oh monkey POX? I thought you said monkey POGS</td>\n",
              "      <td>https://twitter.com/LeftistHank/status/1527751...</td>\n",
              "      <td>Chicago, IL</td>\n",
              "      <td></td>\n",
              "    </tr>\n",
              "    <tr>\n",
              "      <th>1</th>\n",
              "      <td>2022-04-01</td>\n",
              "      <td>YUCCAYAWN</td>\n",
              "      <td>lemme be clear ... if you like your monkey pox...</td>\n",
              "      <td>https://twitter.com/YUCCAYAWN/status/152739626...</td>\n",
              "      <td></td>\n",
              "      <td></td>\n",
              "    </tr>\n",
              "    <tr>\n",
              "      <th>2</th>\n",
              "      <td>2022-04-01</td>\n",
              "      <td>pufpuffprincess</td>\n",
              "      <td>@KIINGEFFIE_ @JayceBliss @Carol1mcs @TMZ Yes, ...</td>\n",
              "      <td>https://twitter.com/pufpuffprincess/status/152...</td>\n",
              "      <td>Charlie Lastra's arms</td>\n",
              "      <td></td>\n",
              "    </tr>\n",
              "    <tr>\n",
              "      <th>3</th>\n",
              "      <td>2022-04-01</td>\n",
              "      <td>pufpuffprincess</td>\n",
              "      <td>@Craig4lyfe23 @NateSanti @Youngkid_Vibes @TMZ ...</td>\n",
              "      <td>https://twitter.com/pufpuffprincess/status/152...</td>\n",
              "      <td>Charlie Lastra's arms</td>\n",
              "      <td></td>\n",
              "    </tr>\n",
              "    <tr>\n",
              "      <th>4</th>\n",
              "      <td>2022-04-01</td>\n",
              "      <td>Xenon1337xV2</td>\n",
              "      <td>Not happening. \\n\\nThe vast majority will beli...</td>\n",
              "      <td>https://twitter.com/Xenon1337xV2/status/152809...</td>\n",
              "      <td></td>\n",
              "      <td></td>\n",
              "    </tr>\n",
              "    <tr>\n",
              "      <th>...</th>\n",
              "      <td>...</td>\n",
              "      <td>...</td>\n",
              "      <td>...</td>\n",
              "      <td>...</td>\n",
              "      <td>...</td>\n",
              "      <td>...</td>\n",
              "    </tr>\n",
              "    <tr>\n",
              "      <th>1276</th>\n",
              "      <td>2022-05-18</td>\n",
              "      <td>ChickenStink</td>\n",
              "      <td>Twitter stop showing me pictures of the gross ...</td>\n",
              "      <td>https://twitter.com/ChickenStink/status/152706...</td>\n",
              "      <td></td>\n",
              "      <td>NoPusMay</td>\n",
              "    </tr>\n",
              "    <tr>\n",
              "      <th>1277</th>\n",
              "      <td>2022-05-18</td>\n",
              "      <td>VoyagerERH</td>\n",
              "      <td>Me praying that monkey pox kills us all https:...</td>\n",
              "      <td>https://twitter.com/VoyagerERH/status/15273930...</td>\n",
              "      <td></td>\n",
              "      <td></td>\n",
              "    </tr>\n",
              "    <tr>\n",
              "      <th>1278</th>\n",
              "      <td>2022-05-18</td>\n",
              "      <td>Cletusrufus1984</td>\n",
              "      <td>@amlivemon That’s like the shingles of monkey pox</td>\n",
              "      <td>https://twitter.com/Cletusrufus1984/status/152...</td>\n",
              "      <td></td>\n",
              "      <td></td>\n",
              "    </tr>\n",
              "    <tr>\n",
              "      <th>1279</th>\n",
              "      <td>2022-05-18</td>\n",
              "      <td>DollyD2022</td>\n",
              "      <td>This is NO COINCIDENCE...... BILL GATES wants ...</td>\n",
              "      <td>https://twitter.com/DollyD2022/status/15273767...</td>\n",
              "      <td></td>\n",
              "      <td></td>\n",
              "    </tr>\n",
              "    <tr>\n",
              "      <th>1280</th>\n",
              "      <td>2022-05-18</td>\n",
              "      <td>Breakfall_</td>\n",
              "      <td>@defeatentropy @Legacy_Compass Yes! Tuning in ...</td>\n",
              "      <td>https://twitter.com/Breakfall_/status/15277567...</td>\n",
              "      <td>Australia</td>\n",
              "      <td></td>\n",
              "    </tr>\n",
              "  </tbody>\n",
              "</table>\n",
              "<p>1281 rows × 6 columns</p>\n",
              "</div>\n",
              "      <button class=\"colab-df-convert\" onclick=\"convertToInteractive('df-bd039ff5-746d-4343-9bac-281c6df0697b')\"\n",
              "              title=\"Convert this dataframe to an interactive table.\"\n",
              "              style=\"display:none;\">\n",
              "        \n",
              "  <svg xmlns=\"http://www.w3.org/2000/svg\" height=\"24px\"viewBox=\"0 0 24 24\"\n",
              "       width=\"24px\">\n",
              "    <path d=\"M0 0h24v24H0V0z\" fill=\"none\"/>\n",
              "    <path d=\"M18.56 5.44l.94 2.06.94-2.06 2.06-.94-2.06-.94-.94-2.06-.94 2.06-2.06.94zm-11 1L8.5 8.5l.94-2.06 2.06-.94-2.06-.94L8.5 2.5l-.94 2.06-2.06.94zm10 10l.94 2.06.94-2.06 2.06-.94-2.06-.94-.94-2.06-.94 2.06-2.06.94z\"/><path d=\"M17.41 7.96l-1.37-1.37c-.4-.4-.92-.59-1.43-.59-.52 0-1.04.2-1.43.59L10.3 9.45l-7.72 7.72c-.78.78-.78 2.05 0 2.83L4 21.41c.39.39.9.59 1.41.59.51 0 1.02-.2 1.41-.59l7.78-7.78 2.81-2.81c.8-.78.8-2.07 0-2.86zM5.41 20L4 18.59l7.72-7.72 1.47 1.35L5.41 20z\"/>\n",
              "  </svg>\n",
              "      </button>\n",
              "      \n",
              "  <style>\n",
              "    .colab-df-container {\n",
              "      display:flex;\n",
              "      flex-wrap:wrap;\n",
              "      gap: 12px;\n",
              "    }\n",
              "\n",
              "    .colab-df-convert {\n",
              "      background-color: #E8F0FE;\n",
              "      border: none;\n",
              "      border-radius: 50%;\n",
              "      cursor: pointer;\n",
              "      display: none;\n",
              "      fill: #1967D2;\n",
              "      height: 32px;\n",
              "      padding: 0 0 0 0;\n",
              "      width: 32px;\n",
              "    }\n",
              "\n",
              "    .colab-df-convert:hover {\n",
              "      background-color: #E2EBFA;\n",
              "      box-shadow: 0px 1px 2px rgba(60, 64, 67, 0.3), 0px 1px 3px 1px rgba(60, 64, 67, 0.15);\n",
              "      fill: #174EA6;\n",
              "    }\n",
              "\n",
              "    [theme=dark] .colab-df-convert {\n",
              "      background-color: #3B4455;\n",
              "      fill: #D2E3FC;\n",
              "    }\n",
              "\n",
              "    [theme=dark] .colab-df-convert:hover {\n",
              "      background-color: #434B5C;\n",
              "      box-shadow: 0px 1px 3px 1px rgba(0, 0, 0, 0.15);\n",
              "      filter: drop-shadow(0px 1px 2px rgba(0, 0, 0, 0.3));\n",
              "      fill: #FFFFFF;\n",
              "    }\n",
              "  </style>\n",
              "\n",
              "      <script>\n",
              "        const buttonEl =\n",
              "          document.querySelector('#df-bd039ff5-746d-4343-9bac-281c6df0697b button.colab-df-convert');\n",
              "        buttonEl.style.display =\n",
              "          google.colab.kernel.accessAllowed ? 'block' : 'none';\n",
              "\n",
              "        async function convertToInteractive(key) {\n",
              "          const element = document.querySelector('#df-bd039ff5-746d-4343-9bac-281c6df0697b');\n",
              "          const dataTable =\n",
              "            await google.colab.kernel.invokeFunction('convertToInteractive',\n",
              "                                                     [key], {});\n",
              "          if (!dataTable) return;\n",
              "\n",
              "          const docLinkHtml = 'Like what you see? Visit the ' +\n",
              "            '<a target=\"_blank\" href=https://colab.research.google.com/notebooks/data_table.ipynb>data table notebook</a>'\n",
              "            + ' to learn more about interactive tables.';\n",
              "          element.innerHTML = '';\n",
              "          dataTable['output_type'] = 'display_data';\n",
              "          await google.colab.output.renderOutput(dataTable, element);\n",
              "          const docLink = document.createElement('div');\n",
              "          docLink.innerHTML = docLinkHtml;\n",
              "          element.appendChild(docLink);\n",
              "        }\n",
              "      </script>\n",
              "    </div>\n",
              "  </div>\n",
              "  "
            ]
          },
          "metadata": {},
          "execution_count": 63
        }
      ]
    },
    {
      "cell_type": "code",
      "source": [
        "tweets_1.to_csv('/content/drive/MyDrive/tweets_1_clean.csv')"
      ],
      "metadata": {
        "id": "NDDhrTCIunnC"
      },
      "execution_count": 66,
      "outputs": []
    },
    {
      "cell_type": "code",
      "source": [],
      "metadata": {
        "id": "DWrVoCPSxk5Q"
      },
      "execution_count": null,
      "outputs": []
    },
    {
      "cell_type": "markdown",
      "source": [
        "### tweets_2"
      ],
      "metadata": {
        "id": "EXdNkY10xltG"
      }
    },
    {
      "cell_type": "code",
      "source": [
        "tweets_2"
      ],
      "metadata": {
        "id": "q-ubEow4xlBo"
      },
      "execution_count": null,
      "outputs": []
    },
    {
      "cell_type": "code",
      "source": [
        "tweets_2.columns = tweets_2.iloc[0]\n",
        "tweets_2.head(2)"
      ],
      "metadata": {
        "colab": {
          "base_uri": "https://localhost:8080/",
          "height": 240
        },
        "id": "6Yc_zy8OxlH1",
        "outputId": "f60093f3-3d1b-423d-e999-a1e909e27650"
      },
      "execution_count": 49,
      "outputs": [
        {
          "output_type": "execute_result",
          "data": {
            "text/plain": [
              "0  coordinates                      created_at  hashtags  media  urls  \\\n",
              "0  coordinates                      created_at  hashtags  media  urls   \n",
              "1               Thu May 26 20:31:06 +0000 2022                          \n",
              "\n",
              "0  favorite_count                   id  in_reply_to_screen_name  \\\n",
              "0  favorite_count                   id  in_reply_to_screen_name   \n",
              "1               0  1529923099424178191          dustinbennett76   \n",
              "\n",
              "0  in_reply_to_status_id  in_reply_to_user_id  ...  user_followers_count  \\\n",
              "0  in_reply_to_status_id  in_reply_to_user_id  ...  user_followers_count   \n",
              "1    1529921422134497287             43171823  ...                   182   \n",
              "\n",
              "0  user_friends_count  user_listed_count  user_location         user_name  \\\n",
              "0  user_friends_count  user_listed_count  user_location         user_name   \n",
              "1                 501                  3                 Work in Progress   \n",
              "\n",
              "0  user_screen_name  user_statuses_count  user_time_zone  user_urls  \\\n",
              "0  user_screen_name  user_statuses_count  user_time_zone  user_urls   \n",
              "1       Kenny_Swift                 8117                              \n",
              "\n",
              "0  user_verified  \n",
              "0  user_verified  \n",
              "1          FALSE  \n",
              "\n",
              "[2 rows x 35 columns]"
            ],
            "text/html": [
              "\n",
              "  <div id=\"df-f09ac45e-44f7-4f9d-be49-c4f661012360\">\n",
              "    <div class=\"colab-df-container\">\n",
              "      <div>\n",
              "<style scoped>\n",
              "    .dataframe tbody tr th:only-of-type {\n",
              "        vertical-align: middle;\n",
              "    }\n",
              "\n",
              "    .dataframe tbody tr th {\n",
              "        vertical-align: top;\n",
              "    }\n",
              "\n",
              "    .dataframe thead th {\n",
              "        text-align: right;\n",
              "    }\n",
              "</style>\n",
              "<table border=\"1\" class=\"dataframe\">\n",
              "  <thead>\n",
              "    <tr style=\"text-align: right;\">\n",
              "      <th></th>\n",
              "      <th>coordinates</th>\n",
              "      <th>created_at</th>\n",
              "      <th>hashtags</th>\n",
              "      <th>media</th>\n",
              "      <th>urls</th>\n",
              "      <th>favorite_count</th>\n",
              "      <th>id</th>\n",
              "      <th>in_reply_to_screen_name</th>\n",
              "      <th>in_reply_to_status_id</th>\n",
              "      <th>in_reply_to_user_id</th>\n",
              "      <th>...</th>\n",
              "      <th>user_followers_count</th>\n",
              "      <th>user_friends_count</th>\n",
              "      <th>user_listed_count</th>\n",
              "      <th>user_location</th>\n",
              "      <th>user_name</th>\n",
              "      <th>user_screen_name</th>\n",
              "      <th>user_statuses_count</th>\n",
              "      <th>user_time_zone</th>\n",
              "      <th>user_urls</th>\n",
              "      <th>user_verified</th>\n",
              "    </tr>\n",
              "  </thead>\n",
              "  <tbody>\n",
              "    <tr>\n",
              "      <th>0</th>\n",
              "      <td>coordinates</td>\n",
              "      <td>created_at</td>\n",
              "      <td>hashtags</td>\n",
              "      <td>media</td>\n",
              "      <td>urls</td>\n",
              "      <td>favorite_count</td>\n",
              "      <td>id</td>\n",
              "      <td>in_reply_to_screen_name</td>\n",
              "      <td>in_reply_to_status_id</td>\n",
              "      <td>in_reply_to_user_id</td>\n",
              "      <td>...</td>\n",
              "      <td>user_followers_count</td>\n",
              "      <td>user_friends_count</td>\n",
              "      <td>user_listed_count</td>\n",
              "      <td>user_location</td>\n",
              "      <td>user_name</td>\n",
              "      <td>user_screen_name</td>\n",
              "      <td>user_statuses_count</td>\n",
              "      <td>user_time_zone</td>\n",
              "      <td>user_urls</td>\n",
              "      <td>user_verified</td>\n",
              "    </tr>\n",
              "    <tr>\n",
              "      <th>1</th>\n",
              "      <td></td>\n",
              "      <td>Thu May 26 20:31:06 +0000 2022</td>\n",
              "      <td></td>\n",
              "      <td></td>\n",
              "      <td></td>\n",
              "      <td>0</td>\n",
              "      <td>1529923099424178191</td>\n",
              "      <td>dustinbennett76</td>\n",
              "      <td>1529921422134497287</td>\n",
              "      <td>43171823</td>\n",
              "      <td>...</td>\n",
              "      <td>182</td>\n",
              "      <td>501</td>\n",
              "      <td>3</td>\n",
              "      <td></td>\n",
              "      <td>Work in Progress</td>\n",
              "      <td>Kenny_Swift</td>\n",
              "      <td>8117</td>\n",
              "      <td></td>\n",
              "      <td></td>\n",
              "      <td>FALSE</td>\n",
              "    </tr>\n",
              "  </tbody>\n",
              "</table>\n",
              "<p>2 rows × 35 columns</p>\n",
              "</div>\n",
              "      <button class=\"colab-df-convert\" onclick=\"convertToInteractive('df-f09ac45e-44f7-4f9d-be49-c4f661012360')\"\n",
              "              title=\"Convert this dataframe to an interactive table.\"\n",
              "              style=\"display:none;\">\n",
              "        \n",
              "  <svg xmlns=\"http://www.w3.org/2000/svg\" height=\"24px\"viewBox=\"0 0 24 24\"\n",
              "       width=\"24px\">\n",
              "    <path d=\"M0 0h24v24H0V0z\" fill=\"none\"/>\n",
              "    <path d=\"M18.56 5.44l.94 2.06.94-2.06 2.06-.94-2.06-.94-.94-2.06-.94 2.06-2.06.94zm-11 1L8.5 8.5l.94-2.06 2.06-.94-2.06-.94L8.5 2.5l-.94 2.06-2.06.94zm10 10l.94 2.06.94-2.06 2.06-.94-2.06-.94-.94-2.06-.94 2.06-2.06.94z\"/><path d=\"M17.41 7.96l-1.37-1.37c-.4-.4-.92-.59-1.43-.59-.52 0-1.04.2-1.43.59L10.3 9.45l-7.72 7.72c-.78.78-.78 2.05 0 2.83L4 21.41c.39.39.9.59 1.41.59.51 0 1.02-.2 1.41-.59l7.78-7.78 2.81-2.81c.8-.78.8-2.07 0-2.86zM5.41 20L4 18.59l7.72-7.72 1.47 1.35L5.41 20z\"/>\n",
              "  </svg>\n",
              "      </button>\n",
              "      \n",
              "  <style>\n",
              "    .colab-df-container {\n",
              "      display:flex;\n",
              "      flex-wrap:wrap;\n",
              "      gap: 12px;\n",
              "    }\n",
              "\n",
              "    .colab-df-convert {\n",
              "      background-color: #E8F0FE;\n",
              "      border: none;\n",
              "      border-radius: 50%;\n",
              "      cursor: pointer;\n",
              "      display: none;\n",
              "      fill: #1967D2;\n",
              "      height: 32px;\n",
              "      padding: 0 0 0 0;\n",
              "      width: 32px;\n",
              "    }\n",
              "\n",
              "    .colab-df-convert:hover {\n",
              "      background-color: #E2EBFA;\n",
              "      box-shadow: 0px 1px 2px rgba(60, 64, 67, 0.3), 0px 1px 3px 1px rgba(60, 64, 67, 0.15);\n",
              "      fill: #174EA6;\n",
              "    }\n",
              "\n",
              "    [theme=dark] .colab-df-convert {\n",
              "      background-color: #3B4455;\n",
              "      fill: #D2E3FC;\n",
              "    }\n",
              "\n",
              "    [theme=dark] .colab-df-convert:hover {\n",
              "      background-color: #434B5C;\n",
              "      box-shadow: 0px 1px 3px 1px rgba(0, 0, 0, 0.15);\n",
              "      filter: drop-shadow(0px 1px 2px rgba(0, 0, 0, 0.3));\n",
              "      fill: #FFFFFF;\n",
              "    }\n",
              "  </style>\n",
              "\n",
              "      <script>\n",
              "        const buttonEl =\n",
              "          document.querySelector('#df-f09ac45e-44f7-4f9d-be49-c4f661012360 button.colab-df-convert');\n",
              "        buttonEl.style.display =\n",
              "          google.colab.kernel.accessAllowed ? 'block' : 'none';\n",
              "\n",
              "        async function convertToInteractive(key) {\n",
              "          const element = document.querySelector('#df-f09ac45e-44f7-4f9d-be49-c4f661012360');\n",
              "          const dataTable =\n",
              "            await google.colab.kernel.invokeFunction('convertToInteractive',\n",
              "                                                     [key], {});\n",
              "          if (!dataTable) return;\n",
              "\n",
              "          const docLinkHtml = 'Like what you see? Visit the ' +\n",
              "            '<a target=\"_blank\" href=https://colab.research.google.com/notebooks/data_table.ipynb>data table notebook</a>'\n",
              "            + ' to learn more about interactive tables.';\n",
              "          element.innerHTML = '';\n",
              "          dataTable['output_type'] = 'display_data';\n",
              "          await google.colab.output.renderOutput(dataTable, element);\n",
              "          const docLink = document.createElement('div');\n",
              "          docLink.innerHTML = docLinkHtml;\n",
              "          element.appendChild(docLink);\n",
              "        }\n",
              "      </script>\n",
              "    </div>\n",
              "  </div>\n",
              "  "
            ]
          },
          "metadata": {},
          "execution_count": 49
        }
      ]
    },
    {
      "cell_type": "code",
      "source": [
        "tweets_2 = tweets_2.drop([0])"
      ],
      "metadata": {
        "id": "XOtQSys3xlND"
      },
      "execution_count": 50,
      "outputs": []
    },
    {
      "cell_type": "code",
      "source": [
        "tweets_2['date'] = pd.to_datetime(tweets_2['user_created_at'], \n",
        "                                  format='%a %b %d %H:%M:%S +0000 %Y', \n",
        "                                  errors='coerce').dt.date"
      ],
      "metadata": {
        "id": "7Z669HQExlP5"
      },
      "execution_count": 51,
      "outputs": []
    },
    {
      "cell_type": "code",
      "source": [
        "tweets_2 = tweets_2[['date',\n",
        "                     'user_screen_name',\n",
        "                     'text',\n",
        "                     'tweet_url',\n",
        "                     'user_location',\n",
        "                     'hashtags']]\n",
        "tweets_2.head(2)"
      ],
      "metadata": {
        "colab": {
          "base_uri": "https://localhost:8080/",
          "height": 246
        },
        "id": "7mw8dxNXx_sL",
        "outputId": "d8f40d84-4896-4c81-8a71-11cced41f213"
      },
      "execution_count": 52,
      "outputs": [
        {
          "output_type": "execute_result",
          "data": {
            "text/plain": [
              "0        date user_screen_name  \\\n",
              "1  2011-04-01      Kenny_Swift   \n",
              "2  2022-04-01       biirSaniye   \n",
              "\n",
              "0                                               text  \\\n",
              "1  @dustinbennett76 @TheCarpatheonLM @SummaCumLou...   \n",
              "2  @OnlineAlison Just only focusing on the pictur...   \n",
              "\n",
              "0                                          tweet_url user_location hashtags  \n",
              "1  https://twitter.com/Kenny_Swift/status/1529923...                         \n",
              "2  https://twitter.com/biirSaniye/status/15285009...                         "
            ],
            "text/html": [
              "\n",
              "  <div id=\"df-3c748ff6-0eee-4a11-8748-f18f46f46cbe\">\n",
              "    <div class=\"colab-df-container\">\n",
              "      <div>\n",
              "<style scoped>\n",
              "    .dataframe tbody tr th:only-of-type {\n",
              "        vertical-align: middle;\n",
              "    }\n",
              "\n",
              "    .dataframe tbody tr th {\n",
              "        vertical-align: top;\n",
              "    }\n",
              "\n",
              "    .dataframe thead th {\n",
              "        text-align: right;\n",
              "    }\n",
              "</style>\n",
              "<table border=\"1\" class=\"dataframe\">\n",
              "  <thead>\n",
              "    <tr style=\"text-align: right;\">\n",
              "      <th></th>\n",
              "      <th>date</th>\n",
              "      <th>user_screen_name</th>\n",
              "      <th>text</th>\n",
              "      <th>tweet_url</th>\n",
              "      <th>user_location</th>\n",
              "      <th>hashtags</th>\n",
              "    </tr>\n",
              "  </thead>\n",
              "  <tbody>\n",
              "    <tr>\n",
              "      <th>1</th>\n",
              "      <td>2011-04-01</td>\n",
              "      <td>Kenny_Swift</td>\n",
              "      <td>@dustinbennett76 @TheCarpatheonLM @SummaCumLou...</td>\n",
              "      <td>https://twitter.com/Kenny_Swift/status/1529923...</td>\n",
              "      <td></td>\n",
              "      <td></td>\n",
              "    </tr>\n",
              "    <tr>\n",
              "      <th>2</th>\n",
              "      <td>2022-04-01</td>\n",
              "      <td>biirSaniye</td>\n",
              "      <td>@OnlineAlison Just only focusing on the pictur...</td>\n",
              "      <td>https://twitter.com/biirSaniye/status/15285009...</td>\n",
              "      <td></td>\n",
              "      <td></td>\n",
              "    </tr>\n",
              "  </tbody>\n",
              "</table>\n",
              "</div>\n",
              "      <button class=\"colab-df-convert\" onclick=\"convertToInteractive('df-3c748ff6-0eee-4a11-8748-f18f46f46cbe')\"\n",
              "              title=\"Convert this dataframe to an interactive table.\"\n",
              "              style=\"display:none;\">\n",
              "        \n",
              "  <svg xmlns=\"http://www.w3.org/2000/svg\" height=\"24px\"viewBox=\"0 0 24 24\"\n",
              "       width=\"24px\">\n",
              "    <path d=\"M0 0h24v24H0V0z\" fill=\"none\"/>\n",
              "    <path d=\"M18.56 5.44l.94 2.06.94-2.06 2.06-.94-2.06-.94-.94-2.06-.94 2.06-2.06.94zm-11 1L8.5 8.5l.94-2.06 2.06-.94-2.06-.94L8.5 2.5l-.94 2.06-2.06.94zm10 10l.94 2.06.94-2.06 2.06-.94-2.06-.94-.94-2.06-.94 2.06-2.06.94z\"/><path d=\"M17.41 7.96l-1.37-1.37c-.4-.4-.92-.59-1.43-.59-.52 0-1.04.2-1.43.59L10.3 9.45l-7.72 7.72c-.78.78-.78 2.05 0 2.83L4 21.41c.39.39.9.59 1.41.59.51 0 1.02-.2 1.41-.59l7.78-7.78 2.81-2.81c.8-.78.8-2.07 0-2.86zM5.41 20L4 18.59l7.72-7.72 1.47 1.35L5.41 20z\"/>\n",
              "  </svg>\n",
              "      </button>\n",
              "      \n",
              "  <style>\n",
              "    .colab-df-container {\n",
              "      display:flex;\n",
              "      flex-wrap:wrap;\n",
              "      gap: 12px;\n",
              "    }\n",
              "\n",
              "    .colab-df-convert {\n",
              "      background-color: #E8F0FE;\n",
              "      border: none;\n",
              "      border-radius: 50%;\n",
              "      cursor: pointer;\n",
              "      display: none;\n",
              "      fill: #1967D2;\n",
              "      height: 32px;\n",
              "      padding: 0 0 0 0;\n",
              "      width: 32px;\n",
              "    }\n",
              "\n",
              "    .colab-df-convert:hover {\n",
              "      background-color: #E2EBFA;\n",
              "      box-shadow: 0px 1px 2px rgba(60, 64, 67, 0.3), 0px 1px 3px 1px rgba(60, 64, 67, 0.15);\n",
              "      fill: #174EA6;\n",
              "    }\n",
              "\n",
              "    [theme=dark] .colab-df-convert {\n",
              "      background-color: #3B4455;\n",
              "      fill: #D2E3FC;\n",
              "    }\n",
              "\n",
              "    [theme=dark] .colab-df-convert:hover {\n",
              "      background-color: #434B5C;\n",
              "      box-shadow: 0px 1px 3px 1px rgba(0, 0, 0, 0.15);\n",
              "      filter: drop-shadow(0px 1px 2px rgba(0, 0, 0, 0.3));\n",
              "      fill: #FFFFFF;\n",
              "    }\n",
              "  </style>\n",
              "\n",
              "      <script>\n",
              "        const buttonEl =\n",
              "          document.querySelector('#df-3c748ff6-0eee-4a11-8748-f18f46f46cbe button.colab-df-convert');\n",
              "        buttonEl.style.display =\n",
              "          google.colab.kernel.accessAllowed ? 'block' : 'none';\n",
              "\n",
              "        async function convertToInteractive(key) {\n",
              "          const element = document.querySelector('#df-3c748ff6-0eee-4a11-8748-f18f46f46cbe');\n",
              "          const dataTable =\n",
              "            await google.colab.kernel.invokeFunction('convertToInteractive',\n",
              "                                                     [key], {});\n",
              "          if (!dataTable) return;\n",
              "\n",
              "          const docLinkHtml = 'Like what you see? Visit the ' +\n",
              "            '<a target=\"_blank\" href=https://colab.research.google.com/notebooks/data_table.ipynb>data table notebook</a>'\n",
              "            + ' to learn more about interactive tables.';\n",
              "          element.innerHTML = '';\n",
              "          dataTable['output_type'] = 'display_data';\n",
              "          await google.colab.output.renderOutput(dataTable, element);\n",
              "          const docLink = document.createElement('div');\n",
              "          docLink.innerHTML = docLinkHtml;\n",
              "          element.appendChild(docLink);\n",
              "        }\n",
              "      </script>\n",
              "    </div>\n",
              "  </div>\n",
              "  "
            ]
          },
          "metadata": {},
          "execution_count": 52
        }
      ]
    },
    {
      "cell_type": "code",
      "source": [
        "tweets_2 = tweets_2[(tweets_2['date'] > date(2022,1,1))]\n"
      ],
      "metadata": {
        "id": "BEb9Mo-Nx_wU"
      },
      "execution_count": 53,
      "outputs": []
    },
    {
      "cell_type": "code",
      "source": [
        "tweets_2.info()"
      ],
      "metadata": {
        "colab": {
          "base_uri": "https://localhost:8080/"
        },
        "id": "EPeY8XXayMmo",
        "outputId": "66b0c098-ffea-4d5b-e3a8-8bc34c768d64"
      },
      "execution_count": 54,
      "outputs": [
        {
          "output_type": "stream",
          "name": "stdout",
          "text": [
            "<class 'pandas.core.frame.DataFrame'>\n",
            "Int64Index: 1828 entries, 2 to 14825\n",
            "Data columns (total 6 columns):\n",
            " #   Column            Non-Null Count  Dtype \n",
            "---  ------            --------------  ----- \n",
            " 0   date              1828 non-null   object\n",
            " 1   user_screen_name  1828 non-null   object\n",
            " 2   text              1828 non-null   object\n",
            " 3   tweet_url         1828 non-null   object\n",
            " 4   user_location     1828 non-null   object\n",
            " 5   hashtags          1828 non-null   object\n",
            "dtypes: object(6)\n",
            "memory usage: 100.0+ KB\n"
          ]
        }
      ]
    },
    {
      "cell_type": "code",
      "source": [
        "tweets_2.reset_index(drop=True)"
      ],
      "metadata": {
        "colab": {
          "base_uri": "https://localhost:8080/",
          "height": 713
        },
        "id": "DrCKoIZOyMmo",
        "outputId": "76bc8d7b-dfc1-48d1-deb2-3cc6edf02802"
      },
      "execution_count": 64,
      "outputs": [
        {
          "output_type": "execute_result",
          "data": {
            "text/plain": [
              "0           date user_screen_name  \\\n",
              "0     2022-04-01       biirSaniye   \n",
              "1     2022-04-01       PasundaCom   \n",
              "2     2022-04-01  ALEXANDRAKOVITT   \n",
              "3     2022-04-01          Deb0819   \n",
              "4     2022-04-01          Deb0819   \n",
              "...          ...              ...   \n",
              "1823  2022-05-18      BanAgenda21   \n",
              "1824  2022-05-25        JEmberrii   \n",
              "1825  2022-05-25    BanglaRelease   \n",
              "1826  2022-05-25     TanukiHollow   \n",
              "1827  2022-05-25     StephanB1919   \n",
              "\n",
              "0                                                  text  \\\n",
              "0     @OnlineAlison Just only focusing on the pictur...   \n",
              "1     Monkeypox &gt; Israel dan Swiss Negara Terbaru...   \n",
              "2     Fíjate la magia de las vacunas de nueva genera...   \n",
              "3     We have a vaccine against Monkeypox, don't let...   \n",
              "4     @CatPatrol19D60 I know for a fact Monkeypox ha...   \n",
              "...                                                 ...   \n",
              "1823  #MonkeyPox\\n#MoneyPox\\n#PureBlood \\n#Unvaxxed\\...   \n",
              "1824  Monkeypox in cali now great what a year we are...   \n",
              "1825  Over 200 cases of monkeypox worldwide\\n\\nhttps...   \n",
              "1826  Yeh he got the wuko...monkey pox https://t.co/...   \n",
              "1827       @hayleylrx @pitbull1919 Monkey pox bad aids?   \n",
              "\n",
              "0                                             tweet_url  \\\n",
              "0     https://twitter.com/biirSaniye/status/15285009...   \n",
              "1     https://twitter.com/PasundaCom/status/15285205...   \n",
              "2     https://twitter.com/ALEXANDRAKOVITT/status/152...   \n",
              "3     https://twitter.com/Deb0819/status/15285122262...   \n",
              "4     https://twitter.com/Deb0819/status/15285059553...   \n",
              "...                                                 ...   \n",
              "1823  https://twitter.com/BanAgenda21/status/1528161...   \n",
              "1824  https://twitter.com/JEmberrii/status/152954592...   \n",
              "1825  https://twitter.com/BanglaRelease/status/15299...   \n",
              "1826  https://twitter.com/TanukiHollow/status/152992...   \n",
              "1827  https://twitter.com/StephanB1919/status/152993...   \n",
              "\n",
              "0                 user_location  \\\n",
              "0                                 \n",
              "1        DKI Jakarta, Indonesia   \n",
              "2                                 \n",
              "3     Santa Barbara, California   \n",
              "4     Santa Barbara, California   \n",
              "...                         ...   \n",
              "1823      Free State of Florida   \n",
              "1824                              \n",
              "1825            London, Ontario   \n",
              "1826              New York, USA   \n",
              "1827                              \n",
              "\n",
              "0                                              hashtags  \n",
              "0                                                        \n",
              "1                                                        \n",
              "2                                                        \n",
              "3                                                        \n",
              "4                                                        \n",
              "...                                                 ...  \n",
              "1823  MonkeyPox MoneyPox PureBlood Unvaxxed ChrisSky...  \n",
              "1824                                                     \n",
              "1825                                          monkeypox  \n",
              "1826                                                     \n",
              "1827                                                     \n",
              "\n",
              "[1828 rows x 6 columns]"
            ],
            "text/html": [
              "\n",
              "  <div id=\"df-962a3ffe-a0ca-452a-b19b-7173205da953\">\n",
              "    <div class=\"colab-df-container\">\n",
              "      <div>\n",
              "<style scoped>\n",
              "    .dataframe tbody tr th:only-of-type {\n",
              "        vertical-align: middle;\n",
              "    }\n",
              "\n",
              "    .dataframe tbody tr th {\n",
              "        vertical-align: top;\n",
              "    }\n",
              "\n",
              "    .dataframe thead th {\n",
              "        text-align: right;\n",
              "    }\n",
              "</style>\n",
              "<table border=\"1\" class=\"dataframe\">\n",
              "  <thead>\n",
              "    <tr style=\"text-align: right;\">\n",
              "      <th></th>\n",
              "      <th>date</th>\n",
              "      <th>user_screen_name</th>\n",
              "      <th>text</th>\n",
              "      <th>tweet_url</th>\n",
              "      <th>user_location</th>\n",
              "      <th>hashtags</th>\n",
              "    </tr>\n",
              "  </thead>\n",
              "  <tbody>\n",
              "    <tr>\n",
              "      <th>0</th>\n",
              "      <td>2022-04-01</td>\n",
              "      <td>biirSaniye</td>\n",
              "      <td>@OnlineAlison Just only focusing on the pictur...</td>\n",
              "      <td>https://twitter.com/biirSaniye/status/15285009...</td>\n",
              "      <td></td>\n",
              "      <td></td>\n",
              "    </tr>\n",
              "    <tr>\n",
              "      <th>1</th>\n",
              "      <td>2022-04-01</td>\n",
              "      <td>PasundaCom</td>\n",
              "      <td>Monkeypox &amp;gt; Israel dan Swiss Negara Terbaru...</td>\n",
              "      <td>https://twitter.com/PasundaCom/status/15285205...</td>\n",
              "      <td>DKI Jakarta, Indonesia</td>\n",
              "      <td></td>\n",
              "    </tr>\n",
              "    <tr>\n",
              "      <th>2</th>\n",
              "      <td>2022-04-01</td>\n",
              "      <td>ALEXANDRAKOVITT</td>\n",
              "      <td>Fíjate la magia de las vacunas de nueva genera...</td>\n",
              "      <td>https://twitter.com/ALEXANDRAKOVITT/status/152...</td>\n",
              "      <td></td>\n",
              "      <td></td>\n",
              "    </tr>\n",
              "    <tr>\n",
              "      <th>3</th>\n",
              "      <td>2022-04-01</td>\n",
              "      <td>Deb0819</td>\n",
              "      <td>We have a vaccine against Monkeypox, don't let...</td>\n",
              "      <td>https://twitter.com/Deb0819/status/15285122262...</td>\n",
              "      <td>Santa Barbara, California</td>\n",
              "      <td></td>\n",
              "    </tr>\n",
              "    <tr>\n",
              "      <th>4</th>\n",
              "      <td>2022-04-01</td>\n",
              "      <td>Deb0819</td>\n",
              "      <td>@CatPatrol19D60 I know for a fact Monkeypox ha...</td>\n",
              "      <td>https://twitter.com/Deb0819/status/15285059553...</td>\n",
              "      <td>Santa Barbara, California</td>\n",
              "      <td></td>\n",
              "    </tr>\n",
              "    <tr>\n",
              "      <th>...</th>\n",
              "      <td>...</td>\n",
              "      <td>...</td>\n",
              "      <td>...</td>\n",
              "      <td>...</td>\n",
              "      <td>...</td>\n",
              "      <td>...</td>\n",
              "    </tr>\n",
              "    <tr>\n",
              "      <th>1823</th>\n",
              "      <td>2022-05-18</td>\n",
              "      <td>BanAgenda21</td>\n",
              "      <td>#MonkeyPox\\n#MoneyPox\\n#PureBlood \\n#Unvaxxed\\...</td>\n",
              "      <td>https://twitter.com/BanAgenda21/status/1528161...</td>\n",
              "      <td>Free State of Florida</td>\n",
              "      <td>MonkeyPox MoneyPox PureBlood Unvaxxed ChrisSky...</td>\n",
              "    </tr>\n",
              "    <tr>\n",
              "      <th>1824</th>\n",
              "      <td>2022-05-25</td>\n",
              "      <td>JEmberrii</td>\n",
              "      <td>Monkeypox in cali now great what a year we are...</td>\n",
              "      <td>https://twitter.com/JEmberrii/status/152954592...</td>\n",
              "      <td></td>\n",
              "      <td></td>\n",
              "    </tr>\n",
              "    <tr>\n",
              "      <th>1825</th>\n",
              "      <td>2022-05-25</td>\n",
              "      <td>BanglaRelease</td>\n",
              "      <td>Over 200 cases of monkeypox worldwide\\n\\nhttps...</td>\n",
              "      <td>https://twitter.com/BanglaRelease/status/15299...</td>\n",
              "      <td>London, Ontario</td>\n",
              "      <td>monkeypox</td>\n",
              "    </tr>\n",
              "    <tr>\n",
              "      <th>1826</th>\n",
              "      <td>2022-05-25</td>\n",
              "      <td>TanukiHollow</td>\n",
              "      <td>Yeh he got the wuko...monkey pox https://t.co/...</td>\n",
              "      <td>https://twitter.com/TanukiHollow/status/152992...</td>\n",
              "      <td>New York, USA</td>\n",
              "      <td></td>\n",
              "    </tr>\n",
              "    <tr>\n",
              "      <th>1827</th>\n",
              "      <td>2022-05-25</td>\n",
              "      <td>StephanB1919</td>\n",
              "      <td>@hayleylrx @pitbull1919 Monkey pox bad aids?</td>\n",
              "      <td>https://twitter.com/StephanB1919/status/152993...</td>\n",
              "      <td></td>\n",
              "      <td></td>\n",
              "    </tr>\n",
              "  </tbody>\n",
              "</table>\n",
              "<p>1828 rows × 6 columns</p>\n",
              "</div>\n",
              "      <button class=\"colab-df-convert\" onclick=\"convertToInteractive('df-962a3ffe-a0ca-452a-b19b-7173205da953')\"\n",
              "              title=\"Convert this dataframe to an interactive table.\"\n",
              "              style=\"display:none;\">\n",
              "        \n",
              "  <svg xmlns=\"http://www.w3.org/2000/svg\" height=\"24px\"viewBox=\"0 0 24 24\"\n",
              "       width=\"24px\">\n",
              "    <path d=\"M0 0h24v24H0V0z\" fill=\"none\"/>\n",
              "    <path d=\"M18.56 5.44l.94 2.06.94-2.06 2.06-.94-2.06-.94-.94-2.06-.94 2.06-2.06.94zm-11 1L8.5 8.5l.94-2.06 2.06-.94-2.06-.94L8.5 2.5l-.94 2.06-2.06.94zm10 10l.94 2.06.94-2.06 2.06-.94-2.06-.94-.94-2.06-.94 2.06-2.06.94z\"/><path d=\"M17.41 7.96l-1.37-1.37c-.4-.4-.92-.59-1.43-.59-.52 0-1.04.2-1.43.59L10.3 9.45l-7.72 7.72c-.78.78-.78 2.05 0 2.83L4 21.41c.39.39.9.59 1.41.59.51 0 1.02-.2 1.41-.59l7.78-7.78 2.81-2.81c.8-.78.8-2.07 0-2.86zM5.41 20L4 18.59l7.72-7.72 1.47 1.35L5.41 20z\"/>\n",
              "  </svg>\n",
              "      </button>\n",
              "      \n",
              "  <style>\n",
              "    .colab-df-container {\n",
              "      display:flex;\n",
              "      flex-wrap:wrap;\n",
              "      gap: 12px;\n",
              "    }\n",
              "\n",
              "    .colab-df-convert {\n",
              "      background-color: #E8F0FE;\n",
              "      border: none;\n",
              "      border-radius: 50%;\n",
              "      cursor: pointer;\n",
              "      display: none;\n",
              "      fill: #1967D2;\n",
              "      height: 32px;\n",
              "      padding: 0 0 0 0;\n",
              "      width: 32px;\n",
              "    }\n",
              "\n",
              "    .colab-df-convert:hover {\n",
              "      background-color: #E2EBFA;\n",
              "      box-shadow: 0px 1px 2px rgba(60, 64, 67, 0.3), 0px 1px 3px 1px rgba(60, 64, 67, 0.15);\n",
              "      fill: #174EA6;\n",
              "    }\n",
              "\n",
              "    [theme=dark] .colab-df-convert {\n",
              "      background-color: #3B4455;\n",
              "      fill: #D2E3FC;\n",
              "    }\n",
              "\n",
              "    [theme=dark] .colab-df-convert:hover {\n",
              "      background-color: #434B5C;\n",
              "      box-shadow: 0px 1px 3px 1px rgba(0, 0, 0, 0.15);\n",
              "      filter: drop-shadow(0px 1px 2px rgba(0, 0, 0, 0.3));\n",
              "      fill: #FFFFFF;\n",
              "    }\n",
              "  </style>\n",
              "\n",
              "      <script>\n",
              "        const buttonEl =\n",
              "          document.querySelector('#df-962a3ffe-a0ca-452a-b19b-7173205da953 button.colab-df-convert');\n",
              "        buttonEl.style.display =\n",
              "          google.colab.kernel.accessAllowed ? 'block' : 'none';\n",
              "\n",
              "        async function convertToInteractive(key) {\n",
              "          const element = document.querySelector('#df-962a3ffe-a0ca-452a-b19b-7173205da953');\n",
              "          const dataTable =\n",
              "            await google.colab.kernel.invokeFunction('convertToInteractive',\n",
              "                                                     [key], {});\n",
              "          if (!dataTable) return;\n",
              "\n",
              "          const docLinkHtml = 'Like what you see? Visit the ' +\n",
              "            '<a target=\"_blank\" href=https://colab.research.google.com/notebooks/data_table.ipynb>data table notebook</a>'\n",
              "            + ' to learn more about interactive tables.';\n",
              "          element.innerHTML = '';\n",
              "          dataTable['output_type'] = 'display_data';\n",
              "          await google.colab.output.renderOutput(dataTable, element);\n",
              "          const docLink = document.createElement('div');\n",
              "          docLink.innerHTML = docLinkHtml;\n",
              "          element.appendChild(docLink);\n",
              "        }\n",
              "      </script>\n",
              "    </div>\n",
              "  </div>\n",
              "  "
            ]
          },
          "metadata": {},
          "execution_count": 64
        }
      ]
    },
    {
      "cell_type": "code",
      "source": [
        "tweets_2.to_csv('/content/drive/MyDrive/tweets_2_clean.csv')"
      ],
      "metadata": {
        "id": "dxnbfQHiyMmo"
      },
      "execution_count": 65,
      "outputs": []
    },
    {
      "cell_type": "code",
      "source": [],
      "metadata": {
        "id": "Hvl4nQELx_1i"
      },
      "execution_count": null,
      "outputs": []
    },
    {
      "cell_type": "code",
      "source": [],
      "metadata": {
        "id": "fJKrwERDx_37"
      },
      "execution_count": null,
      "outputs": []
    },
    {
      "cell_type": "markdown",
      "source": [
        "#### PySpark?"
      ],
      "metadata": {
        "id": "FOYXokNEwc50"
      }
    },
    {
      "cell_type": "code",
      "source": [
        "spark = SparkSession.builder\\\n",
        "        .master(\"local\")\\\n",
        "        .appName(\"Colab\")\\\n",
        "        .config('spark.ui.port', '4050')\\\n",
        "        .getOrCreate()"
      ],
      "metadata": {
        "id": "HAAbDzuvG8s2"
      },
      "execution_count": null,
      "outputs": []
    },
    {
      "cell_type": "code",
      "source": [],
      "metadata": {
        "id": "J-CtI1tAJrXL"
      },
      "execution_count": null,
      "outputs": []
    },
    {
      "cell_type": "code",
      "source": [
        "# tweet_df = spark.read.csv('/content/tweets.csv', inferSchema=True, header='true')\n",
        "\n",
        "spark_df = spark.createDataFrame(tweets_1)\n",
        "spark_df.printSchema()\n",
        "# spark_df.show()"
      ],
      "metadata": {
        "colab": {
          "base_uri": "https://localhost:8080/"
        },
        "outputId": "88ad0949-f3df-4c69-ad74-169293104846",
        "id": "bokiUXO9G8s2"
      },
      "execution_count": null,
      "outputs": [
        {
          "output_type": "stream",
          "name": "stdout",
          "text": [
            "root\n",
            " |-- coordinates: string (nullable = true)\n",
            " |-- created_at: string (nullable = true)\n",
            " |-- hashtags: string (nullable = true)\n",
            " |-- media: string (nullable = true)\n",
            " |-- urls: string (nullable = true)\n",
            " |-- favorite_count: string (nullable = true)\n",
            " |-- id: string (nullable = true)\n",
            " |-- in_reply_to_screen_name: string (nullable = true)\n",
            " |-- in_reply_to_status_id: string (nullable = true)\n",
            " |-- in_reply_to_user_id: string (nullable = true)\n",
            " |-- lang: string (nullable = true)\n",
            " |-- place: string (nullable = true)\n",
            " |-- possibly_sensitive: string (nullable = true)\n",
            " |-- quote_id: string (nullable = true)\n",
            " |-- retweet_count: string (nullable = true)\n",
            " |-- retweet_id: string (nullable = true)\n",
            " |-- retweet_screen_name: string (nullable = true)\n",
            " |-- source: string (nullable = true)\n",
            " |-- text: string (nullable = true)\n",
            " |-- tweet_url: string (nullable = true)\n",
            " |-- user_created_at: string (nullable = true)\n",
            " |-- user_id: string (nullable = true)\n",
            " |-- user_default_profile_image: string (nullable = true)\n",
            " |-- user_description: string (nullable = true)\n",
            " |-- user_favourites_count: string (nullable = true)\n",
            " |-- user_followers_count: string (nullable = true)\n",
            " |-- user_friends_count: string (nullable = true)\n",
            " |-- user_listed_count: string (nullable = true)\n",
            " |-- user_location: string (nullable = true)\n",
            " |-- user_name: string (nullable = true)\n",
            " |-- user_screen_name: string (nullable = true)\n",
            " |-- user_statuses_count: string (nullable = true)\n",
            " |-- user_time_zone: string (nullable = true)\n",
            " |-- user_urls: string (nullable = true)\n",
            " |-- user_verified: string (nullable = true)\n",
            "\n"
          ]
        }
      ]
    },
    {
      "cell_type": "code",
      "source": [
        "df_schema = StructType([StructField(\"date\", StringType(), True),\n",
        "                        StructField(\"tweet\", StringType(), True)])\n"
      ],
      "metadata": {
        "id": "KaTrXXbxG8s2"
      },
      "execution_count": null,
      "outputs": []
    },
    {
      "cell_type": "code",
      "source": [],
      "metadata": {
        "id": "AGDOGvakG8C5"
      },
      "execution_count": null,
      "outputs": []
    },
    {
      "cell_type": "code",
      "source": [],
      "metadata": {
        "id": "rSXp_PapG8GF"
      },
      "execution_count": null,
      "outputs": []
    },
    {
      "cell_type": "code",
      "source": [],
      "metadata": {
        "id": "uBeY1k8CG8Ld"
      },
      "execution_count": null,
      "outputs": []
    },
    {
      "cell_type": "code",
      "source": [
        "tweets_1.select(col())"
      ],
      "metadata": {
        "id": "qbgElxO8Gj1D"
      },
      "execution_count": null,
      "outputs": []
    },
    {
      "cell_type": "markdown",
      "metadata": {
        "id": "y8bzxErCFMH0"
      },
      "source": [
        "* RangeIndex: 6859 entries, 0 to 6858\n",
        "* Data columns (total 36 columns)"
      ]
    },
    {
      "cell_type": "markdown",
      "source": [],
      "metadata": {
        "id": "NgoPzb4Zxd7N"
      }
    },
    {
      "cell_type": "markdown",
      "source": [
        "### word count"
      ],
      "metadata": {
        "id": "KQGIpl2swXl1"
      }
    },
    {
      "cell_type": "code",
      "source": [
        "# type(df)\n",
        "# df.head(2)\n",
        "pandas_df = df[['date','tweet']]\n",
        "pandas_df.head(2)"
      ],
      "metadata": {
        "colab": {
          "base_uri": "https://localhost:8080/",
          "height": 112
        },
        "id": "-NxZ4zSXVABr",
        "outputId": "f8679766-dce2-4c44-bfe5-7aa9c949e77d"
      },
      "execution_count": null,
      "outputs": [
        {
          "output_type": "execute_result",
          "data": {
            "text/plain": [
              "         date                                              tweet\n",
              "0  2022-08-06  So has anyone begun to compile 'here's the sta...\n",
              "1  2022-08-06  Getting some groceries, topic shifted to covid..."
            ],
            "text/html": [
              "\n",
              "  <div id=\"df-6b080f25-e155-439b-900e-97ced8497828\">\n",
              "    <div class=\"colab-df-container\">\n",
              "      <div>\n",
              "<style scoped>\n",
              "    .dataframe tbody tr th:only-of-type {\n",
              "        vertical-align: middle;\n",
              "    }\n",
              "\n",
              "    .dataframe tbody tr th {\n",
              "        vertical-align: top;\n",
              "    }\n",
              "\n",
              "    .dataframe thead th {\n",
              "        text-align: right;\n",
              "    }\n",
              "</style>\n",
              "<table border=\"1\" class=\"dataframe\">\n",
              "  <thead>\n",
              "    <tr style=\"text-align: right;\">\n",
              "      <th></th>\n",
              "      <th>date</th>\n",
              "      <th>tweet</th>\n",
              "    </tr>\n",
              "  </thead>\n",
              "  <tbody>\n",
              "    <tr>\n",
              "      <th>0</th>\n",
              "      <td>2022-08-06</td>\n",
              "      <td>So has anyone begun to compile 'here's the sta...</td>\n",
              "    </tr>\n",
              "    <tr>\n",
              "      <th>1</th>\n",
              "      <td>2022-08-06</td>\n",
              "      <td>Getting some groceries, topic shifted to covid...</td>\n",
              "    </tr>\n",
              "  </tbody>\n",
              "</table>\n",
              "</div>\n",
              "      <button class=\"colab-df-convert\" onclick=\"convertToInteractive('df-6b080f25-e155-439b-900e-97ced8497828')\"\n",
              "              title=\"Convert this dataframe to an interactive table.\"\n",
              "              style=\"display:none;\">\n",
              "        \n",
              "  <svg xmlns=\"http://www.w3.org/2000/svg\" height=\"24px\"viewBox=\"0 0 24 24\"\n",
              "       width=\"24px\">\n",
              "    <path d=\"M0 0h24v24H0V0z\" fill=\"none\"/>\n",
              "    <path d=\"M18.56 5.44l.94 2.06.94-2.06 2.06-.94-2.06-.94-.94-2.06-.94 2.06-2.06.94zm-11 1L8.5 8.5l.94-2.06 2.06-.94-2.06-.94L8.5 2.5l-.94 2.06-2.06.94zm10 10l.94 2.06.94-2.06 2.06-.94-2.06-.94-.94-2.06-.94 2.06-2.06.94z\"/><path d=\"M17.41 7.96l-1.37-1.37c-.4-.4-.92-.59-1.43-.59-.52 0-1.04.2-1.43.59L10.3 9.45l-7.72 7.72c-.78.78-.78 2.05 0 2.83L4 21.41c.39.39.9.59 1.41.59.51 0 1.02-.2 1.41-.59l7.78-7.78 2.81-2.81c.8-.78.8-2.07 0-2.86zM5.41 20L4 18.59l7.72-7.72 1.47 1.35L5.41 20z\"/>\n",
              "  </svg>\n",
              "      </button>\n",
              "      \n",
              "  <style>\n",
              "    .colab-df-container {\n",
              "      display:flex;\n",
              "      flex-wrap:wrap;\n",
              "      gap: 12px;\n",
              "    }\n",
              "\n",
              "    .colab-df-convert {\n",
              "      background-color: #E8F0FE;\n",
              "      border: none;\n",
              "      border-radius: 50%;\n",
              "      cursor: pointer;\n",
              "      display: none;\n",
              "      fill: #1967D2;\n",
              "      height: 32px;\n",
              "      padding: 0 0 0 0;\n",
              "      width: 32px;\n",
              "    }\n",
              "\n",
              "    .colab-df-convert:hover {\n",
              "      background-color: #E2EBFA;\n",
              "      box-shadow: 0px 1px 2px rgba(60, 64, 67, 0.3), 0px 1px 3px 1px rgba(60, 64, 67, 0.15);\n",
              "      fill: #174EA6;\n",
              "    }\n",
              "\n",
              "    [theme=dark] .colab-df-convert {\n",
              "      background-color: #3B4455;\n",
              "      fill: #D2E3FC;\n",
              "    }\n",
              "\n",
              "    [theme=dark] .colab-df-convert:hover {\n",
              "      background-color: #434B5C;\n",
              "      box-shadow: 0px 1px 3px 1px rgba(0, 0, 0, 0.15);\n",
              "      filter: drop-shadow(0px 1px 2px rgba(0, 0, 0, 0.3));\n",
              "      fill: #FFFFFF;\n",
              "    }\n",
              "  </style>\n",
              "\n",
              "      <script>\n",
              "        const buttonEl =\n",
              "          document.querySelector('#df-6b080f25-e155-439b-900e-97ced8497828 button.colab-df-convert');\n",
              "        buttonEl.style.display =\n",
              "          google.colab.kernel.accessAllowed ? 'block' : 'none';\n",
              "\n",
              "        async function convertToInteractive(key) {\n",
              "          const element = document.querySelector('#df-6b080f25-e155-439b-900e-97ced8497828');\n",
              "          const dataTable =\n",
              "            await google.colab.kernel.invokeFunction('convertToInteractive',\n",
              "                                                     [key], {});\n",
              "          if (!dataTable) return;\n",
              "\n",
              "          const docLinkHtml = 'Like what you see? Visit the ' +\n",
              "            '<a target=\"_blank\" href=https://colab.research.google.com/notebooks/data_table.ipynb>data table notebook</a>'\n",
              "            + ' to learn more about interactive tables.';\n",
              "          element.innerHTML = '';\n",
              "          dataTable['output_type'] = 'display_data';\n",
              "          await google.colab.output.renderOutput(dataTable, element);\n",
              "          const docLink = document.createElement('div');\n",
              "          docLink.innerHTML = docLinkHtml;\n",
              "          element.appendChild(docLink);\n",
              "        }\n",
              "      </script>\n",
              "    </div>\n",
              "  </div>\n",
              "  "
            ]
          },
          "metadata": {},
          "execution_count": 23
        }
      ]
    },
    {
      "cell_type": "code",
      "source": [
        "spark = SparkSession.builder\\\n",
        "        .master(\"local\")\\\n",
        "        .appName(\"Colab\")\\\n",
        "        .config('spark.ui.port', '4050')\\\n",
        "        .getOrCreate()"
      ],
      "metadata": {
        "id": "4UfNrKdtuwU9"
      },
      "execution_count": null,
      "outputs": []
    },
    {
      "cell_type": "code",
      "source": [
        "df_schema = StructType([StructField(\"date\", StringType(), True),\n",
        "                        StructField(\"tweet\", StringType(), True)])\n"
      ],
      "metadata": {
        "id": "rgWhL5t9V6OV"
      },
      "execution_count": null,
      "outputs": []
    },
    {
      "cell_type": "code",
      "source": [
        "# tweet_df = spark.read.csv('/content/tweets.csv', inferSchema=True, header='true')\n",
        "\n",
        "spark_df = spark.createDataFrame(pandas_df, schema=df_schema)\n",
        "spark_df.printSchema()\n",
        "spark_df.show()"
      ],
      "metadata": {
        "colab": {
          "base_uri": "https://localhost:8080/"
        },
        "id": "Z6O2lw8KRkGV",
        "outputId": "fc6dd138-a5c4-4736-e4d4-b12ebd51bd7f"
      },
      "execution_count": null,
      "outputs": [
        {
          "output_type": "stream",
          "name": "stdout",
          "text": [
            "root\n",
            " |-- date: string (nullable = true)\n",
            " |-- tweet: string (nullable = true)\n",
            "\n",
            "+----------+--------------------+\n",
            "|      date|               tweet|\n",
            "+----------+--------------------+\n",
            "|2022-08-06|So has anyone beg...|\n",
            "|2022-08-06|Getting some groc...|\n",
            "|2022-08-06|\"Illinois Childre...|\n",
            "|2022-08-06|Illinois daycare ...|\n",
            "|2022-08-06|@Natrone86 @Junot...|\n",
            "|2022-08-06|\"CDC Recommends L...|\n",
            "|2022-08-06|1,058,637 America...|\n",
            "|2022-08-06|MF didn’t know sh...|\n",
            "|2022-08-06|Three people of A...|\n",
            "|2022-08-06|MonkeyPox Case: ರ...|\n",
            "|2022-08-06|#Monkeypox Fallza...|\n",
            "|2022-08-06|RT-PCR detection ...|\n",
            "|2022-08-06|@BigBadDenis When...|\n",
            "|2022-08-06|News Outlook TOP ...|\n",
            "|2022-08-06|CDC Issues Eye-Op...|\n",
            "|2022-08-06|United States dec...|\n",
            "|2022-08-06|@FoxNews They are...|\n",
            "|2022-08-06|@PetiteNicoco No....|\n",
            "|2022-08-06|Idc if it’s Monke...|\n",
            "|2022-08-06|In the technical ...|\n",
            "+----------+--------------------+\n",
            "only showing top 20 rows\n",
            "\n"
          ]
        }
      ]
    },
    {
      "cell_type": "code",
      "source": [
        "spark_df = spark_df.withColumn('tweet', \n",
        "                               explode(split(lower(col('tweet')), '\\s')))"
      ],
      "metadata": {
        "id": "Xi934J5ppqJg"
      },
      "execution_count": null,
      "outputs": []
    },
    {
      "cell_type": "code",
      "source": [
        "(spark_df.groupBy('tweet')\n",
        "  .count()\n",
        "  .orderBy('count', ascending=False)\n",
        "  .show(40))"
      ],
      "metadata": {
        "colab": {
          "base_uri": "https://localhost:8080/"
        },
        "id": "9n6mq63EpqP-",
        "outputId": "d87bd09d-f67a-4c25-95ca-bbd27efd1c15"
      },
      "execution_count": null,
      "outputs": [
        {
          "output_type": "stream",
          "name": "stdout",
          "text": [
            "+----------+-----+\n",
            "|     tweet|count|\n",
            "+----------+-----+\n",
            "|          | 4898|\n",
            "|       the| 4351|\n",
            "| monkeypox| 3230|\n",
            "|        to| 2957|\n",
            "|         a| 2400|\n",
            "|       and| 2344|\n",
            "|    monkey| 2151|\n",
            "|        is| 2014|\n",
            "|        of| 1901|\n",
            "|         i| 1721|\n",
            "|       pox| 1683|\n",
            "|        in| 1666|\n",
            "|       for| 1239|\n",
            "|       you| 1083|\n",
            "|      that| 1071|\n",
            "|        it|  973|\n",
            "|      with|  967|\n",
            "|      this|  938|\n",
            "|       not|  868|\n",
            "|       are|  838|\n",
            "|        be|  828|\n",
            "|        on|  818|\n",
            "|      have|  805|\n",
            "|     about|  659|\n",
            "|#monkeypox|  651|\n",
            "|       get|  620|\n",
            "|      from|  597|\n",
            "|       but|  595|\n",
            "|      they|  585|\n",
            "|        we|  583|\n",
            "|        so|  545|\n",
            "|        my|  538|\n",
            "|     covid|  528|\n",
            "|        if|  520|\n",
            "|        at|  511|\n",
            "|      like|  509|\n",
            "|      just|  489|\n",
            "|        as|  480|\n",
            "|    people|  471|\n",
            "|        me|  454|\n",
            "+----------+-----+\n",
            "only showing top 40 rows\n",
            "\n"
          ]
        }
      ]
    },
    {
      "cell_type": "code",
      "source": [
        "(spark_df)"
      ],
      "metadata": {
        "colab": {
          "base_uri": "https://localhost:8080/"
        },
        "id": "rhLht-zO18Qc",
        "outputId": "2cffc48d-2785-497a-e75e-a79436dfdf65"
      },
      "execution_count": null,
      "outputs": [
        {
          "output_type": "execute_result",
          "data": {
            "text/plain": [
              "DataFrame[date: string, tweet: string]"
            ]
          },
          "metadata": {},
          "execution_count": 29
        }
      ]
    },
    {
      "cell_type": "markdown",
      "source": [
        "###❓Count specific words using PySpark?[link text](https://)\n",
        "* groupby, count, agg, \n",
        "* google = pyspark word frequency\n"
      ],
      "metadata": {
        "id": "kZHBKBPlX4qW"
      }
    },
    {
      "cell_type": "markdown",
      "metadata": {
        "id": "gOaVANqDPdyW"
      },
      "source": [
        "### Corpus `tweets`"
      ]
    },
    {
      "cell_type": "code",
      "execution_count": null,
      "metadata": {
        "id": "P1dHMD7eINnP",
        "colab": {
          "base_uri": "https://localhost:8080/",
          "height": 191
        },
        "outputId": "82c27bff-b764-44e8-dfcb-97ad116d49ef"
      },
      "outputs": [
        {
          "output_type": "execute_result",
          "data": {
            "text/plain": [
              "  language        date      username hashtags  \\\n",
              "0       en  2022-08-06  thetenth2022       []   \n",
              "1       en  2022-08-06     ashemedai       []   \n",
              "\n",
              "                                               tweet  \n",
              "0  So has anyone begun to compile 'here's the sta...  \n",
              "1  Getting some groceries, topic shifted to covid...  "
            ],
            "text/html": [
              "\n",
              "  <div id=\"df-450870e4-df5f-4e64-9aa5-cdce67185cb9\">\n",
              "    <div class=\"colab-df-container\">\n",
              "      <div>\n",
              "<style scoped>\n",
              "    .dataframe tbody tr th:only-of-type {\n",
              "        vertical-align: middle;\n",
              "    }\n",
              "\n",
              "    .dataframe tbody tr th {\n",
              "        vertical-align: top;\n",
              "    }\n",
              "\n",
              "    .dataframe thead th {\n",
              "        text-align: right;\n",
              "    }\n",
              "</style>\n",
              "<table border=\"1\" class=\"dataframe\">\n",
              "  <thead>\n",
              "    <tr style=\"text-align: right;\">\n",
              "      <th></th>\n",
              "      <th>language</th>\n",
              "      <th>date</th>\n",
              "      <th>username</th>\n",
              "      <th>hashtags</th>\n",
              "      <th>tweet</th>\n",
              "    </tr>\n",
              "  </thead>\n",
              "  <tbody>\n",
              "    <tr>\n",
              "      <th>0</th>\n",
              "      <td>en</td>\n",
              "      <td>2022-08-06</td>\n",
              "      <td>thetenth2022</td>\n",
              "      <td>[]</td>\n",
              "      <td>So has anyone begun to compile 'here's the sta...</td>\n",
              "    </tr>\n",
              "    <tr>\n",
              "      <th>1</th>\n",
              "      <td>en</td>\n",
              "      <td>2022-08-06</td>\n",
              "      <td>ashemedai</td>\n",
              "      <td>[]</td>\n",
              "      <td>Getting some groceries, topic shifted to covid...</td>\n",
              "    </tr>\n",
              "  </tbody>\n",
              "</table>\n",
              "</div>\n",
              "      <button class=\"colab-df-convert\" onclick=\"convertToInteractive('df-450870e4-df5f-4e64-9aa5-cdce67185cb9')\"\n",
              "              title=\"Convert this dataframe to an interactive table.\"\n",
              "              style=\"display:none;\">\n",
              "        \n",
              "  <svg xmlns=\"http://www.w3.org/2000/svg\" height=\"24px\"viewBox=\"0 0 24 24\"\n",
              "       width=\"24px\">\n",
              "    <path d=\"M0 0h24v24H0V0z\" fill=\"none\"/>\n",
              "    <path d=\"M18.56 5.44l.94 2.06.94-2.06 2.06-.94-2.06-.94-.94-2.06-.94 2.06-2.06.94zm-11 1L8.5 8.5l.94-2.06 2.06-.94-2.06-.94L8.5 2.5l-.94 2.06-2.06.94zm10 10l.94 2.06.94-2.06 2.06-.94-2.06-.94-.94-2.06-.94 2.06-2.06.94z\"/><path d=\"M17.41 7.96l-1.37-1.37c-.4-.4-.92-.59-1.43-.59-.52 0-1.04.2-1.43.59L10.3 9.45l-7.72 7.72c-.78.78-.78 2.05 0 2.83L4 21.41c.39.39.9.59 1.41.59.51 0 1.02-.2 1.41-.59l7.78-7.78 2.81-2.81c.8-.78.8-2.07 0-2.86zM5.41 20L4 18.59l7.72-7.72 1.47 1.35L5.41 20z\"/>\n",
              "  </svg>\n",
              "      </button>\n",
              "      \n",
              "  <style>\n",
              "    .colab-df-container {\n",
              "      display:flex;\n",
              "      flex-wrap:wrap;\n",
              "      gap: 12px;\n",
              "    }\n",
              "\n",
              "    .colab-df-convert {\n",
              "      background-color: #E8F0FE;\n",
              "      border: none;\n",
              "      border-radius: 50%;\n",
              "      cursor: pointer;\n",
              "      display: none;\n",
              "      fill: #1967D2;\n",
              "      height: 32px;\n",
              "      padding: 0 0 0 0;\n",
              "      width: 32px;\n",
              "    }\n",
              "\n",
              "    .colab-df-convert:hover {\n",
              "      background-color: #E2EBFA;\n",
              "      box-shadow: 0px 1px 2px rgba(60, 64, 67, 0.3), 0px 1px 3px 1px rgba(60, 64, 67, 0.15);\n",
              "      fill: #174EA6;\n",
              "    }\n",
              "\n",
              "    [theme=dark] .colab-df-convert {\n",
              "      background-color: #3B4455;\n",
              "      fill: #D2E3FC;\n",
              "    }\n",
              "\n",
              "    [theme=dark] .colab-df-convert:hover {\n",
              "      background-color: #434B5C;\n",
              "      box-shadow: 0px 1px 3px 1px rgba(0, 0, 0, 0.15);\n",
              "      filter: drop-shadow(0px 1px 2px rgba(0, 0, 0, 0.3));\n",
              "      fill: #FFFFFF;\n",
              "    }\n",
              "  </style>\n",
              "\n",
              "      <script>\n",
              "        const buttonEl =\n",
              "          document.querySelector('#df-450870e4-df5f-4e64-9aa5-cdce67185cb9 button.colab-df-convert');\n",
              "        buttonEl.style.display =\n",
              "          google.colab.kernel.accessAllowed ? 'block' : 'none';\n",
              "\n",
              "        async function convertToInteractive(key) {\n",
              "          const element = document.querySelector('#df-450870e4-df5f-4e64-9aa5-cdce67185cb9');\n",
              "          const dataTable =\n",
              "            await google.colab.kernel.invokeFunction('convertToInteractive',\n",
              "                                                     [key], {});\n",
              "          if (!dataTable) return;\n",
              "\n",
              "          const docLinkHtml = 'Like what you see? Visit the ' +\n",
              "            '<a target=\"_blank\" href=https://colab.research.google.com/notebooks/data_table.ipynb>data table notebook</a>'\n",
              "            + ' to learn more about interactive tables.';\n",
              "          element.innerHTML = '';\n",
              "          dataTable['output_type'] = 'display_data';\n",
              "          await google.colab.output.renderOutput(dataTable, element);\n",
              "          const docLink = document.createElement('div');\n",
              "          docLink.innerHTML = docLinkHtml;\n",
              "          element.appendChild(docLink);\n",
              "        }\n",
              "      </script>\n",
              "    </div>\n",
              "  </div>\n",
              "  "
            ]
          },
          "metadata": {},
          "execution_count": 15
        }
      ],
      "source": [
        "tweets = df[['language','date','username','hashtags','tweet']]\n",
        "tweets.head(2)"
      ]
    },
    {
      "cell_type": "code",
      "execution_count": null,
      "metadata": {
        "id": "FVfBoFtpKRAc",
        "colab": {
          "base_uri": "https://localhost:8080/"
        },
        "outputId": "d43a0ce0-0d32-44d2-a67b-ee5a8bcb73b1"
      },
      "outputs": [
        {
          "output_type": "stream",
          "name": "stdout",
          "text": [
            "<class 'pandas.core.frame.DataFrame'>\n",
            "RangeIndex: 6859 entries, 0 to 6858\n",
            "Data columns (total 5 columns):\n",
            " #   Column    Non-Null Count  Dtype \n",
            "---  ------    --------------  ----- \n",
            " 0   language  6859 non-null   object\n",
            " 1   date      6859 non-null   object\n",
            " 2   username  6859 non-null   object\n",
            " 3   hashtags  6859 non-null   object\n",
            " 4   tweet     6859 non-null   object\n",
            "dtypes: object(5)\n",
            "memory usage: 268.1+ KB\n"
          ]
        }
      ],
      "source": [
        "tweets.info()"
      ]
    },
    {
      "cell_type": "code",
      "execution_count": null,
      "metadata": {
        "id": "wHSEPHPRKqVm",
        "colab": {
          "base_uri": "https://localhost:8080/"
        },
        "outputId": "08ff39f2-a3c3-4c6d-ef5e-4acd6ec1087f"
      },
      "outputs": [
        {
          "output_type": "execute_result",
          "data": {
            "text/plain": [
              "6028"
            ]
          },
          "metadata": {},
          "execution_count": 17
        }
      ],
      "source": [
        "tweets['username'].nunique()"
      ]
    },
    {
      "cell_type": "code",
      "execution_count": null,
      "metadata": {
        "id": "eObt84ozIrbo",
        "colab": {
          "base_uri": "https://localhost:8080/"
        },
        "outputId": "266379ca-4940-4dee-c165-5820e215af45"
      },
      "outputs": [
        {
          "output_type": "execute_result",
          "data": {
            "text/plain": [
              "array(['en', 'kn', 'de', 'in', 'tl', 'fr', 'pt', 'te', 'tr', 'it', 'qme',\n",
              "       'bn', 'qht', 'pl', 'es', 'el', 'nl', 'cy', 'ta', 'hi', 'sv', 'ja',\n",
              "       'th', 'mr', 'et', 'gu', 'da', 'ro', 'ml', 'zxx', 'und', 'pa', 'ur',\n",
              "       'ko', 'am', 'fi', 'zh', 'lt', 'hu', 'ru', 'ar', 'si'], dtype=object)"
            ]
          },
          "metadata": {},
          "execution_count": 18
        }
      ],
      "source": [
        "# How many languages? \n",
        "tweets['language'].unique()"
      ]
    },
    {
      "cell_type": "code",
      "execution_count": null,
      "metadata": {
        "id": "85bBZU97JxGI",
        "colab": {
          "base_uri": "https://localhost:8080/"
        },
        "outputId": "add511d7-f4a4-4b37-a186-840b89fddf67"
      },
      "outputs": [
        {
          "output_type": "stream",
          "name": "stdout",
          "text": [
            "English entries: 6410\n",
            "Spanish entries: 51\n",
            "Italian entries: 10\n"
          ]
        }
      ],
      "source": [
        "# How many tweets in English?\n",
        "print('English entries:', (tweets[tweets[\"language\"] == 'en'].count())['language'])\n",
        "\n",
        "# How many tweets in other languages?\n",
        "print('Spanish entries:', (tweets[tweets[\"language\"] == 'es'].count())['language'])\n",
        "print('Italian entries:', (tweets[tweets[\"language\"] == 'it'].count())['language'])"
      ]
    },
    {
      "cell_type": "code",
      "execution_count": null,
      "metadata": {
        "id": "J_yic6fZLT1m"
      },
      "outputs": [],
      "source": [
        "# Keep only English languge tweets\n",
        "tweets = tweets[(tweets['language'] == 'en')]"
      ]
    },
    {
      "cell_type": "code",
      "source": [
        "tweets.info()"
      ],
      "metadata": {
        "id": "KszlRGQ_bXeB",
        "colab": {
          "base_uri": "https://localhost:8080/"
        },
        "outputId": "d9860c39-9551-41de-97de-92ad2892c4d8"
      },
      "execution_count": null,
      "outputs": [
        {
          "output_type": "stream",
          "name": "stdout",
          "text": [
            "<class 'pandas.core.frame.DataFrame'>\n",
            "Int64Index: 6410 entries, 0 to 6858\n",
            "Data columns (total 5 columns):\n",
            " #   Column    Non-Null Count  Dtype \n",
            "---  ------    --------------  ----- \n",
            " 0   language  6410 non-null   object\n",
            " 1   date      6410 non-null   object\n",
            " 2   username  6410 non-null   object\n",
            " 3   hashtags  6410 non-null   object\n",
            " 4   tweet     6410 non-null   object\n",
            "dtypes: object(5)\n",
            "memory usage: 300.5+ KB\n"
          ]
        }
      ]
    },
    {
      "cell_type": "code",
      "execution_count": null,
      "metadata": {
        "id": "BsHh6TcUKxY5",
        "colab": {
          "base_uri": "https://localhost:8080/",
          "height": 191
        },
        "outputId": "77d5b3da-6349-430c-e0ac-7ef871be1fb7"
      },
      "outputs": [
        {
          "output_type": "execute_result",
          "data": {
            "text/plain": [
              "  language        date      username hashtags  \\\n",
              "0       en  2022-08-06  thetenth2022       []   \n",
              "1       en  2022-08-06     ashemedai       []   \n",
              "\n",
              "                                               tweet  \n",
              "0  So has anyone begun to compile 'here's the sta...  \n",
              "1  Getting some groceries, topic shifted to covid...  "
            ],
            "text/html": [
              "\n",
              "  <div id=\"df-21b6ef2c-c744-4913-8df4-2f34dca120d2\">\n",
              "    <div class=\"colab-df-container\">\n",
              "      <div>\n",
              "<style scoped>\n",
              "    .dataframe tbody tr th:only-of-type {\n",
              "        vertical-align: middle;\n",
              "    }\n",
              "\n",
              "    .dataframe tbody tr th {\n",
              "        vertical-align: top;\n",
              "    }\n",
              "\n",
              "    .dataframe thead th {\n",
              "        text-align: right;\n",
              "    }\n",
              "</style>\n",
              "<table border=\"1\" class=\"dataframe\">\n",
              "  <thead>\n",
              "    <tr style=\"text-align: right;\">\n",
              "      <th></th>\n",
              "      <th>language</th>\n",
              "      <th>date</th>\n",
              "      <th>username</th>\n",
              "      <th>hashtags</th>\n",
              "      <th>tweet</th>\n",
              "    </tr>\n",
              "  </thead>\n",
              "  <tbody>\n",
              "    <tr>\n",
              "      <th>0</th>\n",
              "      <td>en</td>\n",
              "      <td>2022-08-06</td>\n",
              "      <td>thetenth2022</td>\n",
              "      <td>[]</td>\n",
              "      <td>So has anyone begun to compile 'here's the sta...</td>\n",
              "    </tr>\n",
              "    <tr>\n",
              "      <th>1</th>\n",
              "      <td>en</td>\n",
              "      <td>2022-08-06</td>\n",
              "      <td>ashemedai</td>\n",
              "      <td>[]</td>\n",
              "      <td>Getting some groceries, topic shifted to covid...</td>\n",
              "    </tr>\n",
              "  </tbody>\n",
              "</table>\n",
              "</div>\n",
              "      <button class=\"colab-df-convert\" onclick=\"convertToInteractive('df-21b6ef2c-c744-4913-8df4-2f34dca120d2')\"\n",
              "              title=\"Convert this dataframe to an interactive table.\"\n",
              "              style=\"display:none;\">\n",
              "        \n",
              "  <svg xmlns=\"http://www.w3.org/2000/svg\" height=\"24px\"viewBox=\"0 0 24 24\"\n",
              "       width=\"24px\">\n",
              "    <path d=\"M0 0h24v24H0V0z\" fill=\"none\"/>\n",
              "    <path d=\"M18.56 5.44l.94 2.06.94-2.06 2.06-.94-2.06-.94-.94-2.06-.94 2.06-2.06.94zm-11 1L8.5 8.5l.94-2.06 2.06-.94-2.06-.94L8.5 2.5l-.94 2.06-2.06.94zm10 10l.94 2.06.94-2.06 2.06-.94-2.06-.94-.94-2.06-.94 2.06-2.06.94z\"/><path d=\"M17.41 7.96l-1.37-1.37c-.4-.4-.92-.59-1.43-.59-.52 0-1.04.2-1.43.59L10.3 9.45l-7.72 7.72c-.78.78-.78 2.05 0 2.83L4 21.41c.39.39.9.59 1.41.59.51 0 1.02-.2 1.41-.59l7.78-7.78 2.81-2.81c.8-.78.8-2.07 0-2.86zM5.41 20L4 18.59l7.72-7.72 1.47 1.35L5.41 20z\"/>\n",
              "  </svg>\n",
              "      </button>\n",
              "      \n",
              "  <style>\n",
              "    .colab-df-container {\n",
              "      display:flex;\n",
              "      flex-wrap:wrap;\n",
              "      gap: 12px;\n",
              "    }\n",
              "\n",
              "    .colab-df-convert {\n",
              "      background-color: #E8F0FE;\n",
              "      border: none;\n",
              "      border-radius: 50%;\n",
              "      cursor: pointer;\n",
              "      display: none;\n",
              "      fill: #1967D2;\n",
              "      height: 32px;\n",
              "      padding: 0 0 0 0;\n",
              "      width: 32px;\n",
              "    }\n",
              "\n",
              "    .colab-df-convert:hover {\n",
              "      background-color: #E2EBFA;\n",
              "      box-shadow: 0px 1px 2px rgba(60, 64, 67, 0.3), 0px 1px 3px 1px rgba(60, 64, 67, 0.15);\n",
              "      fill: #174EA6;\n",
              "    }\n",
              "\n",
              "    [theme=dark] .colab-df-convert {\n",
              "      background-color: #3B4455;\n",
              "      fill: #D2E3FC;\n",
              "    }\n",
              "\n",
              "    [theme=dark] .colab-df-convert:hover {\n",
              "      background-color: #434B5C;\n",
              "      box-shadow: 0px 1px 3px 1px rgba(0, 0, 0, 0.15);\n",
              "      filter: drop-shadow(0px 1px 2px rgba(0, 0, 0, 0.3));\n",
              "      fill: #FFFFFF;\n",
              "    }\n",
              "  </style>\n",
              "\n",
              "      <script>\n",
              "        const buttonEl =\n",
              "          document.querySelector('#df-21b6ef2c-c744-4913-8df4-2f34dca120d2 button.colab-df-convert');\n",
              "        buttonEl.style.display =\n",
              "          google.colab.kernel.accessAllowed ? 'block' : 'none';\n",
              "\n",
              "        async function convertToInteractive(key) {\n",
              "          const element = document.querySelector('#df-21b6ef2c-c744-4913-8df4-2f34dca120d2');\n",
              "          const dataTable =\n",
              "            await google.colab.kernel.invokeFunction('convertToInteractive',\n",
              "                                                     [key], {});\n",
              "          if (!dataTable) return;\n",
              "\n",
              "          const docLinkHtml = 'Like what you see? Visit the ' +\n",
              "            '<a target=\"_blank\" href=https://colab.research.google.com/notebooks/data_table.ipynb>data table notebook</a>'\n",
              "            + ' to learn more about interactive tables.';\n",
              "          element.innerHTML = '';\n",
              "          dataTable['output_type'] = 'display_data';\n",
              "          await google.colab.output.renderOutput(dataTable, element);\n",
              "          const docLink = document.createElement('div');\n",
              "          docLink.innerHTML = docLinkHtml;\n",
              "          element.appendChild(docLink);\n",
              "        }\n",
              "      </script>\n",
              "    </div>\n",
              "  </div>\n",
              "  "
            ]
          },
          "metadata": {},
          "execution_count": 22
        }
      ],
      "source": [
        "tweets.head(2)"
      ]
    },
    {
      "cell_type": "code",
      "execution_count": null,
      "metadata": {
        "id": "qXlvCWuLQX4t"
      },
      "outputs": [],
      "source": [
        "# Drop language column since we have only English tweets\n",
        "tweets = tweets.drop(columns=['language'])"
      ]
    },
    {
      "cell_type": "code",
      "source": [
        "tweets.head(10)"
      ],
      "metadata": {
        "colab": {
          "base_uri": "https://localhost:8080/",
          "height": 581
        },
        "id": "WTh8IT2aIbtr",
        "outputId": "bf5b71c8-7d25-422f-8f45-152bbac2057a"
      },
      "execution_count": null,
      "outputs": [
        {
          "output_type": "execute_result",
          "data": {
            "text/plain": [
              "          date         username hashtags  \\\n",
              "0   2022-08-06     thetenth2022       []   \n",
              "1   2022-08-06        ashemedai       []   \n",
              "2   2022-08-06  democracymotion       []   \n",
              "3   2022-08-06      thegoogle93       []   \n",
              "4   2022-08-06   bufflosouljah1       []   \n",
              "5   2022-08-06  democracymotion       []   \n",
              "6   2022-08-06       salemjakes       []   \n",
              "7   2022-08-06      fineassbrei       []   \n",
              "8   2022-08-06         xenohadi       []   \n",
              "11  2022-08-06   geopoliticsind       []   \n",
              "\n",
              "                                                tweet  \n",
              "0   So has anyone begun to compile 'here's the sta...  \n",
              "1   Getting some groceries, topic shifted to covid...  \n",
              "2   \"Illinois Children's Daycare Worker Tests Posi...  \n",
              "3   Illinois daycare worker tests positive for mon...  \n",
              "4   @Natrone86 @JunotIsrael @elcavaqueen @thechicc...  \n",
              "5   \"CDC Recommends Limiting Sex Partners to Avoid...  \n",
              "6   1,058,637 Americans have died in the U.S. Covi...  \n",
              "7   MF didn’t know shit about monkey pox in June c...  \n",
              "8   Three people of African origin still admitted ...  \n",
              "11  RT-PCR detection kit for human monkeypox virus...  "
            ],
            "text/html": [
              "\n",
              "  <div id=\"df-9764bda6-9f7b-46a8-8b49-124fe668b878\">\n",
              "    <div class=\"colab-df-container\">\n",
              "      <div>\n",
              "<style scoped>\n",
              "    .dataframe tbody tr th:only-of-type {\n",
              "        vertical-align: middle;\n",
              "    }\n",
              "\n",
              "    .dataframe tbody tr th {\n",
              "        vertical-align: top;\n",
              "    }\n",
              "\n",
              "    .dataframe thead th {\n",
              "        text-align: right;\n",
              "    }\n",
              "</style>\n",
              "<table border=\"1\" class=\"dataframe\">\n",
              "  <thead>\n",
              "    <tr style=\"text-align: right;\">\n",
              "      <th></th>\n",
              "      <th>date</th>\n",
              "      <th>username</th>\n",
              "      <th>hashtags</th>\n",
              "      <th>tweet</th>\n",
              "    </tr>\n",
              "  </thead>\n",
              "  <tbody>\n",
              "    <tr>\n",
              "      <th>0</th>\n",
              "      <td>2022-08-06</td>\n",
              "      <td>thetenth2022</td>\n",
              "      <td>[]</td>\n",
              "      <td>So has anyone begun to compile 'here's the sta...</td>\n",
              "    </tr>\n",
              "    <tr>\n",
              "      <th>1</th>\n",
              "      <td>2022-08-06</td>\n",
              "      <td>ashemedai</td>\n",
              "      <td>[]</td>\n",
              "      <td>Getting some groceries, topic shifted to covid...</td>\n",
              "    </tr>\n",
              "    <tr>\n",
              "      <th>2</th>\n",
              "      <td>2022-08-06</td>\n",
              "      <td>democracymotion</td>\n",
              "      <td>[]</td>\n",
              "      <td>\"Illinois Children's Daycare Worker Tests Posi...</td>\n",
              "    </tr>\n",
              "    <tr>\n",
              "      <th>3</th>\n",
              "      <td>2022-08-06</td>\n",
              "      <td>thegoogle93</td>\n",
              "      <td>[]</td>\n",
              "      <td>Illinois daycare worker tests positive for mon...</td>\n",
              "    </tr>\n",
              "    <tr>\n",
              "      <th>4</th>\n",
              "      <td>2022-08-06</td>\n",
              "      <td>bufflosouljah1</td>\n",
              "      <td>[]</td>\n",
              "      <td>@Natrone86 @JunotIsrael @elcavaqueen @thechicc...</td>\n",
              "    </tr>\n",
              "    <tr>\n",
              "      <th>5</th>\n",
              "      <td>2022-08-06</td>\n",
              "      <td>democracymotion</td>\n",
              "      <td>[]</td>\n",
              "      <td>\"CDC Recommends Limiting Sex Partners to Avoid...</td>\n",
              "    </tr>\n",
              "    <tr>\n",
              "      <th>6</th>\n",
              "      <td>2022-08-06</td>\n",
              "      <td>salemjakes</td>\n",
              "      <td>[]</td>\n",
              "      <td>1,058,637 Americans have died in the U.S. Covi...</td>\n",
              "    </tr>\n",
              "    <tr>\n",
              "      <th>7</th>\n",
              "      <td>2022-08-06</td>\n",
              "      <td>fineassbrei</td>\n",
              "      <td>[]</td>\n",
              "      <td>MF didn’t know shit about monkey pox in June c...</td>\n",
              "    </tr>\n",
              "    <tr>\n",
              "      <th>8</th>\n",
              "      <td>2022-08-06</td>\n",
              "      <td>xenohadi</td>\n",
              "      <td>[]</td>\n",
              "      <td>Three people of African origin still admitted ...</td>\n",
              "    </tr>\n",
              "    <tr>\n",
              "      <th>11</th>\n",
              "      <td>2022-08-06</td>\n",
              "      <td>geopoliticsind</td>\n",
              "      <td>[]</td>\n",
              "      <td>RT-PCR detection kit for human monkeypox virus...</td>\n",
              "    </tr>\n",
              "  </tbody>\n",
              "</table>\n",
              "</div>\n",
              "      <button class=\"colab-df-convert\" onclick=\"convertToInteractive('df-9764bda6-9f7b-46a8-8b49-124fe668b878')\"\n",
              "              title=\"Convert this dataframe to an interactive table.\"\n",
              "              style=\"display:none;\">\n",
              "        \n",
              "  <svg xmlns=\"http://www.w3.org/2000/svg\" height=\"24px\"viewBox=\"0 0 24 24\"\n",
              "       width=\"24px\">\n",
              "    <path d=\"M0 0h24v24H0V0z\" fill=\"none\"/>\n",
              "    <path d=\"M18.56 5.44l.94 2.06.94-2.06 2.06-.94-2.06-.94-.94-2.06-.94 2.06-2.06.94zm-11 1L8.5 8.5l.94-2.06 2.06-.94-2.06-.94L8.5 2.5l-.94 2.06-2.06.94zm10 10l.94 2.06.94-2.06 2.06-.94-2.06-.94-.94-2.06-.94 2.06-2.06.94z\"/><path d=\"M17.41 7.96l-1.37-1.37c-.4-.4-.92-.59-1.43-.59-.52 0-1.04.2-1.43.59L10.3 9.45l-7.72 7.72c-.78.78-.78 2.05 0 2.83L4 21.41c.39.39.9.59 1.41.59.51 0 1.02-.2 1.41-.59l7.78-7.78 2.81-2.81c.8-.78.8-2.07 0-2.86zM5.41 20L4 18.59l7.72-7.72 1.47 1.35L5.41 20z\"/>\n",
              "  </svg>\n",
              "      </button>\n",
              "      \n",
              "  <style>\n",
              "    .colab-df-container {\n",
              "      display:flex;\n",
              "      flex-wrap:wrap;\n",
              "      gap: 12px;\n",
              "    }\n",
              "\n",
              "    .colab-df-convert {\n",
              "      background-color: #E8F0FE;\n",
              "      border: none;\n",
              "      border-radius: 50%;\n",
              "      cursor: pointer;\n",
              "      display: none;\n",
              "      fill: #1967D2;\n",
              "      height: 32px;\n",
              "      padding: 0 0 0 0;\n",
              "      width: 32px;\n",
              "    }\n",
              "\n",
              "    .colab-df-convert:hover {\n",
              "      background-color: #E2EBFA;\n",
              "      box-shadow: 0px 1px 2px rgba(60, 64, 67, 0.3), 0px 1px 3px 1px rgba(60, 64, 67, 0.15);\n",
              "      fill: #174EA6;\n",
              "    }\n",
              "\n",
              "    [theme=dark] .colab-df-convert {\n",
              "      background-color: #3B4455;\n",
              "      fill: #D2E3FC;\n",
              "    }\n",
              "\n",
              "    [theme=dark] .colab-df-convert:hover {\n",
              "      background-color: #434B5C;\n",
              "      box-shadow: 0px 1px 3px 1px rgba(0, 0, 0, 0.15);\n",
              "      filter: drop-shadow(0px 1px 2px rgba(0, 0, 0, 0.3));\n",
              "      fill: #FFFFFF;\n",
              "    }\n",
              "  </style>\n",
              "\n",
              "      <script>\n",
              "        const buttonEl =\n",
              "          document.querySelector('#df-9764bda6-9f7b-46a8-8b49-124fe668b878 button.colab-df-convert');\n",
              "        buttonEl.style.display =\n",
              "          google.colab.kernel.accessAllowed ? 'block' : 'none';\n",
              "\n",
              "        async function convertToInteractive(key) {\n",
              "          const element = document.querySelector('#df-9764bda6-9f7b-46a8-8b49-124fe668b878');\n",
              "          const dataTable =\n",
              "            await google.colab.kernel.invokeFunction('convertToInteractive',\n",
              "                                                     [key], {});\n",
              "          if (!dataTable) return;\n",
              "\n",
              "          const docLinkHtml = 'Like what you see? Visit the ' +\n",
              "            '<a target=\"_blank\" href=https://colab.research.google.com/notebooks/data_table.ipynb>data table notebook</a>'\n",
              "            + ' to learn more about interactive tables.';\n",
              "          element.innerHTML = '';\n",
              "          dataTable['output_type'] = 'display_data';\n",
              "          await google.colab.output.renderOutput(dataTable, element);\n",
              "          const docLink = document.createElement('div');\n",
              "          docLink.innerHTML = docLinkHtml;\n",
              "          element.appendChild(docLink);\n",
              "        }\n",
              "      </script>\n",
              "    </div>\n",
              "  </div>\n",
              "  "
            ]
          },
          "metadata": {},
          "execution_count": 24
        }
      ]
    },
    {
      "cell_type": "code",
      "execution_count": null,
      "metadata": {
        "id": "Okq1YwhUP5J5"
      },
      "outputs": [],
      "source": [
        "# Save corpus\n",
        "tweets.to_pickle('/content/tweets.pkl')\n",
        "tweets.to_csv(r'/content/tweets.csv', index=False)"
      ]
    },
    {
      "cell_type": "code",
      "source": [
        "# # copy corpus csv to Google Drive for Tableau\n",
        "# shutil.copyfile('/content/tweets.csv', '/content/drive/MyDrive/tweets.csv')"
      ],
      "metadata": {
        "id": "044kPyz7Ha3O"
      },
      "execution_count": null,
      "outputs": []
    },
    {
      "cell_type": "markdown",
      "source": [
        "# 4 | Storage"
      ],
      "metadata": {
        "id": "5WYNxkC8Vhd0"
      }
    },
    {
      "cell_type": "markdown",
      "source": [
        "#### SQL Database `monkeypox.db`"
      ],
      "metadata": {
        "id": "SZKYDeyjaST2"
      }
    },
    {
      "cell_type": "markdown",
      "source": [
        "##### helper functions"
      ],
      "metadata": {
        "id": "WosK0haUgjFI"
      }
    },
    {
      "cell_type": "code",
      "source": [
        "# https://towardsdatascience.com/have-a-sql-interview-coming-up-ace-it-using-google-colab-6d3c0ffb29dc\n",
        "\n",
        "def pd_to_sqlDB(input_df: pd.DataFrame,\n",
        "                table_name: str,\n",
        "                db_name: str = 'default.db') -> None:\n",
        "\n",
        "    # # Setup local logging\n",
        "    # logging.basicConfig(level=logging.INFO,\n",
        "    #                     format='%(asctime)s %(levelname)s: %(message)s',\n",
        "    #                     datefmt='%Y-%m-%d %H:%M:%S')\n",
        "\n",
        "    # Find columns in the dataframe\n",
        "    cols = input_df.columns\n",
        "    cols_string = ','.join(cols)\n",
        "    val_wildcard_string = ','.join(['?'] * len(cols))\n",
        "\n",
        "    # Connect to a DB file if it exists, else create a new file\n",
        "    con = sqlite3.connect(db_name)\n",
        "    cur = con.cursor()\n",
        "    # logging.info(f'SQL DB {db_name} created')\n",
        "\n",
        "    # Create table\n",
        "    sql_string = f\"\"\"CREATE TABLE {table_name} ({cols_string});\"\"\"\n",
        "    cur.execute(sql_string)\n",
        "    # logging.info(f'SQL Table {table_name} created with {len(cols)} columns')\n",
        "\n",
        "    # Upload df\n",
        "    rows_to_upload = input_df.to_dict(orient='split')['data']\n",
        "    sql_string = f\"\"\"INSERT INTO {table_name} ({cols_string}) VALUES ({val_wildcard_string});\"\"\"    \n",
        "    cur.executemany(sql_string, rows_to_upload)\n",
        "    # logging.info(f'{len(rows_to_upload)} rows uploaded to {table_name}')\n",
        "  \n",
        "    # Commit the changes and close the connection\n",
        "    con.commit()\n",
        "    con.close()"
      ],
      "metadata": {
        "id": "nkPEnnFeRdWZ"
      },
      "execution_count": null,
      "outputs": []
    },
    {
      "cell_type": "code",
      "source": [
        "#  https://towardsdatascience.com/have-a-sql-interview-coming-up-ace-it-using-google-colab-6d3c0ffb29dc\n",
        "\n",
        "def sql_query_to_pd(sql_query_string: str, db_name: str ='mpox.db') -> pd.DataFrame:\n",
        "    \n",
        "    # Connect to the SQL DB\n",
        "    con = sqlite3.connect(db_name)\n",
        "\n",
        "    # Execute the SQL query\n",
        "    cursor = con.execute(sql_query_string)\n",
        "\n",
        "    # Fetch the data and column names\n",
        "    result_data = cursor.fetchall()\n",
        "    cols = [description[0] for description in cursor.description]\n",
        "\n",
        "    # Close the connection\n",
        "    con.close()\n",
        "\n",
        "    # Return as df\n",
        "    return pd.DataFrame(result_data, columns=cols)"
      ],
      "metadata": {
        "id": "NyBhsOFhP8qM"
      },
      "execution_count": null,
      "outputs": []
    },
    {
      "cell_type": "markdown",
      "source": [
        "##### sql_to_df"
      ],
      "metadata": {
        "id": "4GerWOi2gpZf"
      }
    },
    {
      "cell_type": "code",
      "source": [
        "# https://towardsdatascience.com/have-a-sql-interview-coming-up-ace-it-using-google-colab-6d3c0ffb29dc\n",
        "\n",
        "# Read  csv as df\n",
        "input_df = pd.read_csv('/content/tweets.csv')\n",
        "\n",
        "# Upload df to a SQL table\n",
        "pd_to_sqlDB(input_df,\n",
        "            table_name='tweets',\n",
        "            db_name='monkeypox.db')\n",
        "\n",
        "# Write SQL query in a string variable\n",
        "sql_query_string = \"\"\"\n",
        "    SELECT *\n",
        "    FROM tweets\n",
        "\"\"\"\n",
        "# Exectue  SQL query\n",
        "corpus = sql_query_to_pd(sql_query_string, db_name='monkeypox.db')\n",
        "corpus"
      ],
      "metadata": {
        "id": "-VBhUeOYQi1d",
        "colab": {
          "base_uri": "https://localhost:8080/",
          "height": 641
        },
        "outputId": "76df21bf-d974-45bc-ece7-0fbd57ef66d5"
      },
      "execution_count": null,
      "outputs": [
        {
          "output_type": "execute_result",
          "data": {
            "text/plain": [
              "            date         username                         hashtags  \\\n",
              "0     2022-08-06     thetenth2022                               []   \n",
              "1     2022-08-06        ashemedai                               []   \n",
              "2     2022-08-06  democracymotion                               []   \n",
              "3     2022-08-06      thegoogle93                               []   \n",
              "4     2022-08-06   bufflosouljah1                               []   \n",
              "...          ...              ...                              ...   \n",
              "6405  2022-08-06     arkcowgirl62                               []   \n",
              "6406  2022-08-06     speehanagram          ['monkeypox', 'besafe']   \n",
              "6407  2022-08-06   pritzkertoilet                               []   \n",
              "6408  2022-08-06     thumbressler                    ['monkeypox']   \n",
              "6409  2022-08-06  nurse4allpeople  ['moscowmitch', 'donothinggqp']   \n",
              "\n",
              "                                                  tweet  \n",
              "0     So has anyone begun to compile 'here's the sta...  \n",
              "1     Getting some groceries, topic shifted to covid...  \n",
              "2     \"Illinois Children's Daycare Worker Tests Posi...  \n",
              "3     Illinois daycare worker tests positive for mon...  \n",
              "4     @Natrone86 @JunotIsrael @elcavaqueen @thechicc...  \n",
              "...                                                 ...  \n",
              "6405  @hurtmeknots With Monkeypox on the rise, maybe...  \n",
              "6406  @FITNESSSF can you start filling up the disinf...  \n",
              "6407     @politvidchannel 71% already have monkey pox .  \n",
              "6408                          RT if you have #monkeypox  \n",
              "6409  @POTUS @VP 🥰 Dems 🇺🇸💙 are having the best jobs...  \n",
              "\n",
              "[6410 rows x 4 columns]"
            ],
            "text/html": [
              "\n",
              "  <div id=\"df-b6958988-e242-4a12-93a3-24bb419e7e6a\">\n",
              "    <div class=\"colab-df-container\">\n",
              "      <div>\n",
              "<style scoped>\n",
              "    .dataframe tbody tr th:only-of-type {\n",
              "        vertical-align: middle;\n",
              "    }\n",
              "\n",
              "    .dataframe tbody tr th {\n",
              "        vertical-align: top;\n",
              "    }\n",
              "\n",
              "    .dataframe thead th {\n",
              "        text-align: right;\n",
              "    }\n",
              "</style>\n",
              "<table border=\"1\" class=\"dataframe\">\n",
              "  <thead>\n",
              "    <tr style=\"text-align: right;\">\n",
              "      <th></th>\n",
              "      <th>date</th>\n",
              "      <th>username</th>\n",
              "      <th>hashtags</th>\n",
              "      <th>tweet</th>\n",
              "    </tr>\n",
              "  </thead>\n",
              "  <tbody>\n",
              "    <tr>\n",
              "      <th>0</th>\n",
              "      <td>2022-08-06</td>\n",
              "      <td>thetenth2022</td>\n",
              "      <td>[]</td>\n",
              "      <td>So has anyone begun to compile 'here's the sta...</td>\n",
              "    </tr>\n",
              "    <tr>\n",
              "      <th>1</th>\n",
              "      <td>2022-08-06</td>\n",
              "      <td>ashemedai</td>\n",
              "      <td>[]</td>\n",
              "      <td>Getting some groceries, topic shifted to covid...</td>\n",
              "    </tr>\n",
              "    <tr>\n",
              "      <th>2</th>\n",
              "      <td>2022-08-06</td>\n",
              "      <td>democracymotion</td>\n",
              "      <td>[]</td>\n",
              "      <td>\"Illinois Children's Daycare Worker Tests Posi...</td>\n",
              "    </tr>\n",
              "    <tr>\n",
              "      <th>3</th>\n",
              "      <td>2022-08-06</td>\n",
              "      <td>thegoogle93</td>\n",
              "      <td>[]</td>\n",
              "      <td>Illinois daycare worker tests positive for mon...</td>\n",
              "    </tr>\n",
              "    <tr>\n",
              "      <th>4</th>\n",
              "      <td>2022-08-06</td>\n",
              "      <td>bufflosouljah1</td>\n",
              "      <td>[]</td>\n",
              "      <td>@Natrone86 @JunotIsrael @elcavaqueen @thechicc...</td>\n",
              "    </tr>\n",
              "    <tr>\n",
              "      <th>...</th>\n",
              "      <td>...</td>\n",
              "      <td>...</td>\n",
              "      <td>...</td>\n",
              "      <td>...</td>\n",
              "    </tr>\n",
              "    <tr>\n",
              "      <th>6405</th>\n",
              "      <td>2022-08-06</td>\n",
              "      <td>arkcowgirl62</td>\n",
              "      <td>[]</td>\n",
              "      <td>@hurtmeknots With Monkeypox on the rise, maybe...</td>\n",
              "    </tr>\n",
              "    <tr>\n",
              "      <th>6406</th>\n",
              "      <td>2022-08-06</td>\n",
              "      <td>speehanagram</td>\n",
              "      <td>['monkeypox', 'besafe']</td>\n",
              "      <td>@FITNESSSF can you start filling up the disinf...</td>\n",
              "    </tr>\n",
              "    <tr>\n",
              "      <th>6407</th>\n",
              "      <td>2022-08-06</td>\n",
              "      <td>pritzkertoilet</td>\n",
              "      <td>[]</td>\n",
              "      <td>@politvidchannel 71% already have monkey pox .</td>\n",
              "    </tr>\n",
              "    <tr>\n",
              "      <th>6408</th>\n",
              "      <td>2022-08-06</td>\n",
              "      <td>thumbressler</td>\n",
              "      <td>['monkeypox']</td>\n",
              "      <td>RT if you have #monkeypox</td>\n",
              "    </tr>\n",
              "    <tr>\n",
              "      <th>6409</th>\n",
              "      <td>2022-08-06</td>\n",
              "      <td>nurse4allpeople</td>\n",
              "      <td>['moscowmitch', 'donothinggqp']</td>\n",
              "      <td>@POTUS @VP 🥰 Dems 🇺🇸💙 are having the best jobs...</td>\n",
              "    </tr>\n",
              "  </tbody>\n",
              "</table>\n",
              "<p>6410 rows × 4 columns</p>\n",
              "</div>\n",
              "      <button class=\"colab-df-convert\" onclick=\"convertToInteractive('df-b6958988-e242-4a12-93a3-24bb419e7e6a')\"\n",
              "              title=\"Convert this dataframe to an interactive table.\"\n",
              "              style=\"display:none;\">\n",
              "        \n",
              "  <svg xmlns=\"http://www.w3.org/2000/svg\" height=\"24px\"viewBox=\"0 0 24 24\"\n",
              "       width=\"24px\">\n",
              "    <path d=\"M0 0h24v24H0V0z\" fill=\"none\"/>\n",
              "    <path d=\"M18.56 5.44l.94 2.06.94-2.06 2.06-.94-2.06-.94-.94-2.06-.94 2.06-2.06.94zm-11 1L8.5 8.5l.94-2.06 2.06-.94-2.06-.94L8.5 2.5l-.94 2.06-2.06.94zm10 10l.94 2.06.94-2.06 2.06-.94-2.06-.94-.94-2.06-.94 2.06-2.06.94z\"/><path d=\"M17.41 7.96l-1.37-1.37c-.4-.4-.92-.59-1.43-.59-.52 0-1.04.2-1.43.59L10.3 9.45l-7.72 7.72c-.78.78-.78 2.05 0 2.83L4 21.41c.39.39.9.59 1.41.59.51 0 1.02-.2 1.41-.59l7.78-7.78 2.81-2.81c.8-.78.8-2.07 0-2.86zM5.41 20L4 18.59l7.72-7.72 1.47 1.35L5.41 20z\"/>\n",
              "  </svg>\n",
              "      </button>\n",
              "      \n",
              "  <style>\n",
              "    .colab-df-container {\n",
              "      display:flex;\n",
              "      flex-wrap:wrap;\n",
              "      gap: 12px;\n",
              "    }\n",
              "\n",
              "    .colab-df-convert {\n",
              "      background-color: #E8F0FE;\n",
              "      border: none;\n",
              "      border-radius: 50%;\n",
              "      cursor: pointer;\n",
              "      display: none;\n",
              "      fill: #1967D2;\n",
              "      height: 32px;\n",
              "      padding: 0 0 0 0;\n",
              "      width: 32px;\n",
              "    }\n",
              "\n",
              "    .colab-df-convert:hover {\n",
              "      background-color: #E2EBFA;\n",
              "      box-shadow: 0px 1px 2px rgba(60, 64, 67, 0.3), 0px 1px 3px 1px rgba(60, 64, 67, 0.15);\n",
              "      fill: #174EA6;\n",
              "    }\n",
              "\n",
              "    [theme=dark] .colab-df-convert {\n",
              "      background-color: #3B4455;\n",
              "      fill: #D2E3FC;\n",
              "    }\n",
              "\n",
              "    [theme=dark] .colab-df-convert:hover {\n",
              "      background-color: #434B5C;\n",
              "      box-shadow: 0px 1px 3px 1px rgba(0, 0, 0, 0.15);\n",
              "      filter: drop-shadow(0px 1px 2px rgba(0, 0, 0, 0.3));\n",
              "      fill: #FFFFFF;\n",
              "    }\n",
              "  </style>\n",
              "\n",
              "      <script>\n",
              "        const buttonEl =\n",
              "          document.querySelector('#df-b6958988-e242-4a12-93a3-24bb419e7e6a button.colab-df-convert');\n",
              "        buttonEl.style.display =\n",
              "          google.colab.kernel.accessAllowed ? 'block' : 'none';\n",
              "\n",
              "        async function convertToInteractive(key) {\n",
              "          const element = document.querySelector('#df-b6958988-e242-4a12-93a3-24bb419e7e6a');\n",
              "          const dataTable =\n",
              "            await google.colab.kernel.invokeFunction('convertToInteractive',\n",
              "                                                     [key], {});\n",
              "          if (!dataTable) return;\n",
              "\n",
              "          const docLinkHtml = 'Like what you see? Visit the ' +\n",
              "            '<a target=\"_blank\" href=https://colab.research.google.com/notebooks/data_table.ipynb>data table notebook</a>'\n",
              "            + ' to learn more about interactive tables.';\n",
              "          element.innerHTML = '';\n",
              "          dataTable['output_type'] = 'display_data';\n",
              "          await google.colab.output.renderOutput(dataTable, element);\n",
              "          const docLink = document.createElement('div');\n",
              "          docLink.innerHTML = docLinkHtml;\n",
              "          element.appendChild(docLink);\n",
              "        }\n",
              "      </script>\n",
              "    </div>\n",
              "  </div>\n",
              "  "
            ]
          },
          "metadata": {},
          "execution_count": 29
        }
      ]
    },
    {
      "cell_type": "markdown",
      "source": [
        "* **database = `monkeypox.db`**\n",
        "* **table_1 = `corpus` (6410 rows × 4 columns)**"
      ],
      "metadata": {
        "id": "kliu0uXRZEWN"
      }
    },
    {
      "cell_type": "code",
      "source": [
        "# # copy corpus csv to Google Drive for Tableau\n",
        "# shutil.copyfile('/content/tweets.csv', '/content/drive/MyDrive/tweets.csv')"
      ],
      "metadata": {
        "id": "TH8hOxQwJBgp"
      },
      "execution_count": null,
      "outputs": []
    },
    {
      "cell_type": "markdown",
      "source": [
        "# 5 | Processing"
      ],
      "metadata": {
        "id": "o58AqssjdG6J"
      }
    },
    {
      "cell_type": "markdown",
      "source": [
        "### Case Counts by State"
      ],
      "metadata": {
        "id": "S5iwVAVOOUlQ"
      }
    },
    {
      "cell_type": "code",
      "source": [
        "# import sheet with state lattitude and longitude \n",
        "# data source: https://developers.google.com/public-data/docs/canonical/states_csv\n",
        "\n",
        "# open google spreadsheet\n",
        "worksheet = gc.open('USA-State-Coordinates').sheet1\n",
        "\n",
        "# get_all_values gives a list of rows.\n",
        "rows = worksheet.get_all_values()\n",
        "\n",
        "states = pd.DataFrame.from_records(rows)\n",
        "\n",
        "states.columns = states.iloc[0]\n",
        "states.drop([0], inplace=True)\n",
        "states.drop(['state'], axis=1, inplace=True)\n",
        "states.sort_values(by=['name'], inplace=True)\n",
        "states = states.rename(columns={'latitude': 'lat', 'longitude': 'lon', 'name': 'state'})\n",
        "\n",
        "states.tail(2)"
      ],
      "metadata": {
        "colab": {
          "base_uri": "https://localhost:8080/",
          "height": 112
        },
        "id": "tVDmYyswr4QE",
        "outputId": "7efdbb64-5746-46dd-d631-f279e6cc91d0"
      },
      "execution_count": null,
      "outputs": [
        {
          "output_type": "execute_result",
          "data": {
            "text/plain": [
              "0         lat          lon      state\n",
              "51   43.78444   -88.787868  Wisconsin\n",
              "52  43.075968  -107.290284    Wyoming"
            ],
            "text/html": [
              "\n",
              "  <div id=\"df-dc4601c3-5399-49d3-940d-d43e73a9026e\">\n",
              "    <div class=\"colab-df-container\">\n",
              "      <div>\n",
              "<style scoped>\n",
              "    .dataframe tbody tr th:only-of-type {\n",
              "        vertical-align: middle;\n",
              "    }\n",
              "\n",
              "    .dataframe tbody tr th {\n",
              "        vertical-align: top;\n",
              "    }\n",
              "\n",
              "    .dataframe thead th {\n",
              "        text-align: right;\n",
              "    }\n",
              "</style>\n",
              "<table border=\"1\" class=\"dataframe\">\n",
              "  <thead>\n",
              "    <tr style=\"text-align: right;\">\n",
              "      <th></th>\n",
              "      <th>lat</th>\n",
              "      <th>lon</th>\n",
              "      <th>state</th>\n",
              "    </tr>\n",
              "  </thead>\n",
              "  <tbody>\n",
              "    <tr>\n",
              "      <th>51</th>\n",
              "      <td>43.78444</td>\n",
              "      <td>-88.787868</td>\n",
              "      <td>Wisconsin</td>\n",
              "    </tr>\n",
              "    <tr>\n",
              "      <th>52</th>\n",
              "      <td>43.075968</td>\n",
              "      <td>-107.290284</td>\n",
              "      <td>Wyoming</td>\n",
              "    </tr>\n",
              "  </tbody>\n",
              "</table>\n",
              "</div>\n",
              "      <button class=\"colab-df-convert\" onclick=\"convertToInteractive('df-dc4601c3-5399-49d3-940d-d43e73a9026e')\"\n",
              "              title=\"Convert this dataframe to an interactive table.\"\n",
              "              style=\"display:none;\">\n",
              "        \n",
              "  <svg xmlns=\"http://www.w3.org/2000/svg\" height=\"24px\"viewBox=\"0 0 24 24\"\n",
              "       width=\"24px\">\n",
              "    <path d=\"M0 0h24v24H0V0z\" fill=\"none\"/>\n",
              "    <path d=\"M18.56 5.44l.94 2.06.94-2.06 2.06-.94-2.06-.94-.94-2.06-.94 2.06-2.06.94zm-11 1L8.5 8.5l.94-2.06 2.06-.94-2.06-.94L8.5 2.5l-.94 2.06-2.06.94zm10 10l.94 2.06.94-2.06 2.06-.94-2.06-.94-.94-2.06-.94 2.06-2.06.94z\"/><path d=\"M17.41 7.96l-1.37-1.37c-.4-.4-.92-.59-1.43-.59-.52 0-1.04.2-1.43.59L10.3 9.45l-7.72 7.72c-.78.78-.78 2.05 0 2.83L4 21.41c.39.39.9.59 1.41.59.51 0 1.02-.2 1.41-.59l7.78-7.78 2.81-2.81c.8-.78.8-2.07 0-2.86zM5.41 20L4 18.59l7.72-7.72 1.47 1.35L5.41 20z\"/>\n",
              "  </svg>\n",
              "      </button>\n",
              "      \n",
              "  <style>\n",
              "    .colab-df-container {\n",
              "      display:flex;\n",
              "      flex-wrap:wrap;\n",
              "      gap: 12px;\n",
              "    }\n",
              "\n",
              "    .colab-df-convert {\n",
              "      background-color: #E8F0FE;\n",
              "      border: none;\n",
              "      border-radius: 50%;\n",
              "      cursor: pointer;\n",
              "      display: none;\n",
              "      fill: #1967D2;\n",
              "      height: 32px;\n",
              "      padding: 0 0 0 0;\n",
              "      width: 32px;\n",
              "    }\n",
              "\n",
              "    .colab-df-convert:hover {\n",
              "      background-color: #E2EBFA;\n",
              "      box-shadow: 0px 1px 2px rgba(60, 64, 67, 0.3), 0px 1px 3px 1px rgba(60, 64, 67, 0.15);\n",
              "      fill: #174EA6;\n",
              "    }\n",
              "\n",
              "    [theme=dark] .colab-df-convert {\n",
              "      background-color: #3B4455;\n",
              "      fill: #D2E3FC;\n",
              "    }\n",
              "\n",
              "    [theme=dark] .colab-df-convert:hover {\n",
              "      background-color: #434B5C;\n",
              "      box-shadow: 0px 1px 3px 1px rgba(0, 0, 0, 0.15);\n",
              "      filter: drop-shadow(0px 1px 2px rgba(0, 0, 0, 0.3));\n",
              "      fill: #FFFFFF;\n",
              "    }\n",
              "  </style>\n",
              "\n",
              "      <script>\n",
              "        const buttonEl =\n",
              "          document.querySelector('#df-dc4601c3-5399-49d3-940d-d43e73a9026e button.colab-df-convert');\n",
              "        buttonEl.style.display =\n",
              "          google.colab.kernel.accessAllowed ? 'block' : 'none';\n",
              "\n",
              "        async function convertToInteractive(key) {\n",
              "          const element = document.querySelector('#df-dc4601c3-5399-49d3-940d-d43e73a9026e');\n",
              "          const dataTable =\n",
              "            await google.colab.kernel.invokeFunction('convertToInteractive',\n",
              "                                                     [key], {});\n",
              "          if (!dataTable) return;\n",
              "\n",
              "          const docLinkHtml = 'Like what you see? Visit the ' +\n",
              "            '<a target=\"_blank\" href=https://colab.research.google.com/notebooks/data_table.ipynb>data table notebook</a>'\n",
              "            + ' to learn more about interactive tables.';\n",
              "          element.innerHTML = '';\n",
              "          dataTable['output_type'] = 'display_data';\n",
              "          await google.colab.output.renderOutput(dataTable, element);\n",
              "          const docLink = document.createElement('div');\n",
              "          docLink.innerHTML = docLinkHtml;\n",
              "          element.appendChild(docLink);\n",
              "        }\n",
              "      </script>\n",
              "    </div>\n",
              "  </div>\n",
              "  "
            ]
          },
          "metadata": {},
          "execution_count": 45
        }
      ]
    },
    {
      "cell_type": "code",
      "source": [
        "states.info()"
      ],
      "metadata": {
        "colab": {
          "base_uri": "https://localhost:8080/"
        },
        "id": "eK6GEsrz8-NP",
        "outputId": "4b8986b8-3334-44f1-8d6c-144c92e86cc9"
      },
      "execution_count": null,
      "outputs": [
        {
          "output_type": "stream",
          "name": "stdout",
          "text": [
            "<class 'pandas.core.frame.DataFrame'>\n",
            "Int64Index: 52 entries, 1 to 52\n",
            "Data columns (total 3 columns):\n",
            " #   Column  Non-Null Count  Dtype \n",
            "---  ------  --------------  ----- \n",
            " 0   lat     52 non-null     object\n",
            " 1   lon     52 non-null     object\n",
            " 2   state   52 non-null     object\n",
            "dtypes: object(3)\n",
            "memory usage: 1.6+ KB\n"
          ]
        }
      ]
    },
    {
      "cell_type": "code",
      "source": [
        "# import sheet with US case count by state \n",
        "# data source: https://www.cdc.gov/poxvirus/monkeypox/response/2022/us-map.html\n",
        "\n",
        "worksheet = gc.open('2022-US-mpx-cases-by-state').sheet1\n",
        "rows = worksheet.get_all_values()\n",
        "cases = pd.DataFrame.from_records(rows)\n",
        "\n",
        "cases.columns = cases.iloc[0]\n",
        "cases.drop([0], inplace=True)\n",
        "cases.drop(['AsOf', 'Case Range'], axis=1, inplace=True)\n",
        "cases.sort_values(by=['Location'], inplace=True)\n",
        "\n",
        "cases.tail(2)"
      ],
      "metadata": {
        "colab": {
          "base_uri": "https://localhost:8080/",
          "height": 112
        },
        "id": "I3LNNbQNr4Ut",
        "outputId": "cb92ad22-2278-474c-bc39-1877280395e7"
      },
      "execution_count": null,
      "outputs": [
        {
          "output_type": "execute_result",
          "data": {
            "text/plain": [
              "0    Location Cases\n",
              "51  Wisconsin    56\n",
              "52    Wyoming     1"
            ],
            "text/html": [
              "\n",
              "  <div id=\"df-49bb8840-b1ef-49ec-81c5-4c43b9d61227\">\n",
              "    <div class=\"colab-df-container\">\n",
              "      <div>\n",
              "<style scoped>\n",
              "    .dataframe tbody tr th:only-of-type {\n",
              "        vertical-align: middle;\n",
              "    }\n",
              "\n",
              "    .dataframe tbody tr th {\n",
              "        vertical-align: top;\n",
              "    }\n",
              "\n",
              "    .dataframe thead th {\n",
              "        text-align: right;\n",
              "    }\n",
              "</style>\n",
              "<table border=\"1\" class=\"dataframe\">\n",
              "  <thead>\n",
              "    <tr style=\"text-align: right;\">\n",
              "      <th></th>\n",
              "      <th>Location</th>\n",
              "      <th>Cases</th>\n",
              "    </tr>\n",
              "  </thead>\n",
              "  <tbody>\n",
              "    <tr>\n",
              "      <th>51</th>\n",
              "      <td>Wisconsin</td>\n",
              "      <td>56</td>\n",
              "    </tr>\n",
              "    <tr>\n",
              "      <th>52</th>\n",
              "      <td>Wyoming</td>\n",
              "      <td>1</td>\n",
              "    </tr>\n",
              "  </tbody>\n",
              "</table>\n",
              "</div>\n",
              "      <button class=\"colab-df-convert\" onclick=\"convertToInteractive('df-49bb8840-b1ef-49ec-81c5-4c43b9d61227')\"\n",
              "              title=\"Convert this dataframe to an interactive table.\"\n",
              "              style=\"display:none;\">\n",
              "        \n",
              "  <svg xmlns=\"http://www.w3.org/2000/svg\" height=\"24px\"viewBox=\"0 0 24 24\"\n",
              "       width=\"24px\">\n",
              "    <path d=\"M0 0h24v24H0V0z\" fill=\"none\"/>\n",
              "    <path d=\"M18.56 5.44l.94 2.06.94-2.06 2.06-.94-2.06-.94-.94-2.06-.94 2.06-2.06.94zm-11 1L8.5 8.5l.94-2.06 2.06-.94-2.06-.94L8.5 2.5l-.94 2.06-2.06.94zm10 10l.94 2.06.94-2.06 2.06-.94-2.06-.94-.94-2.06-.94 2.06-2.06.94z\"/><path d=\"M17.41 7.96l-1.37-1.37c-.4-.4-.92-.59-1.43-.59-.52 0-1.04.2-1.43.59L10.3 9.45l-7.72 7.72c-.78.78-.78 2.05 0 2.83L4 21.41c.39.39.9.59 1.41.59.51 0 1.02-.2 1.41-.59l7.78-7.78 2.81-2.81c.8-.78.8-2.07 0-2.86zM5.41 20L4 18.59l7.72-7.72 1.47 1.35L5.41 20z\"/>\n",
              "  </svg>\n",
              "      </button>\n",
              "      \n",
              "  <style>\n",
              "    .colab-df-container {\n",
              "      display:flex;\n",
              "      flex-wrap:wrap;\n",
              "      gap: 12px;\n",
              "    }\n",
              "\n",
              "    .colab-df-convert {\n",
              "      background-color: #E8F0FE;\n",
              "      border: none;\n",
              "      border-radius: 50%;\n",
              "      cursor: pointer;\n",
              "      display: none;\n",
              "      fill: #1967D2;\n",
              "      height: 32px;\n",
              "      padding: 0 0 0 0;\n",
              "      width: 32px;\n",
              "    }\n",
              "\n",
              "    .colab-df-convert:hover {\n",
              "      background-color: #E2EBFA;\n",
              "      box-shadow: 0px 1px 2px rgba(60, 64, 67, 0.3), 0px 1px 3px 1px rgba(60, 64, 67, 0.15);\n",
              "      fill: #174EA6;\n",
              "    }\n",
              "\n",
              "    [theme=dark] .colab-df-convert {\n",
              "      background-color: #3B4455;\n",
              "      fill: #D2E3FC;\n",
              "    }\n",
              "\n",
              "    [theme=dark] .colab-df-convert:hover {\n",
              "      background-color: #434B5C;\n",
              "      box-shadow: 0px 1px 3px 1px rgba(0, 0, 0, 0.15);\n",
              "      filter: drop-shadow(0px 1px 2px rgba(0, 0, 0, 0.3));\n",
              "      fill: #FFFFFF;\n",
              "    }\n",
              "  </style>\n",
              "\n",
              "      <script>\n",
              "        const buttonEl =\n",
              "          document.querySelector('#df-49bb8840-b1ef-49ec-81c5-4c43b9d61227 button.colab-df-convert');\n",
              "        buttonEl.style.display =\n",
              "          google.colab.kernel.accessAllowed ? 'block' : 'none';\n",
              "\n",
              "        async function convertToInteractive(key) {\n",
              "          const element = document.querySelector('#df-49bb8840-b1ef-49ec-81c5-4c43b9d61227');\n",
              "          const dataTable =\n",
              "            await google.colab.kernel.invokeFunction('convertToInteractive',\n",
              "                                                     [key], {});\n",
              "          if (!dataTable) return;\n",
              "\n",
              "          const docLinkHtml = 'Like what you see? Visit the ' +\n",
              "            '<a target=\"_blank\" href=https://colab.research.google.com/notebooks/data_table.ipynb>data table notebook</a>'\n",
              "            + ' to learn more about interactive tables.';\n",
              "          element.innerHTML = '';\n",
              "          dataTable['output_type'] = 'display_data';\n",
              "          await google.colab.output.renderOutput(dataTable, element);\n",
              "          const docLink = document.createElement('div');\n",
              "          docLink.innerHTML = docLinkHtml;\n",
              "          element.appendChild(docLink);\n",
              "        }\n",
              "      </script>\n",
              "    </div>\n",
              "  </div>\n",
              "  "
            ]
          },
          "metadata": {},
          "execution_count": 47
        }
      ]
    },
    {
      "cell_type": "code",
      "source": [
        "# US case count by state (long + lat)\n",
        "map_data = pd.concat([states, cases], axis=1)\n",
        "map_data = map_data[['Location', 'Cases', 'lat', 'lon' ]]\n",
        "map_data = map_data.rename(columns={'Location': 'state', 'Cases':'cases'})\n",
        "\n",
        "map_data.tail(2)\n",
        "# map_data.info()"
      ],
      "metadata": {
        "colab": {
          "base_uri": "https://localhost:8080/",
          "height": 112
        },
        "id": "iBEYh5Gyr4Xj",
        "outputId": "67505210-e185-4976-c86b-502dd0484518"
      },
      "execution_count": null,
      "outputs": [
        {
          "output_type": "execute_result",
          "data": {
            "text/plain": [
              "0       state cases        lat          lon\n",
              "51  Wisconsin    56   43.78444   -88.787868\n",
              "52    Wyoming     1  43.075968  -107.290284"
            ],
            "text/html": [
              "\n",
              "  <div id=\"df-5b6483b0-0958-4742-8bc2-b7caa117b00e\">\n",
              "    <div class=\"colab-df-container\">\n",
              "      <div>\n",
              "<style scoped>\n",
              "    .dataframe tbody tr th:only-of-type {\n",
              "        vertical-align: middle;\n",
              "    }\n",
              "\n",
              "    .dataframe tbody tr th {\n",
              "        vertical-align: top;\n",
              "    }\n",
              "\n",
              "    .dataframe thead th {\n",
              "        text-align: right;\n",
              "    }\n",
              "</style>\n",
              "<table border=\"1\" class=\"dataframe\">\n",
              "  <thead>\n",
              "    <tr style=\"text-align: right;\">\n",
              "      <th></th>\n",
              "      <th>state</th>\n",
              "      <th>cases</th>\n",
              "      <th>lat</th>\n",
              "      <th>lon</th>\n",
              "    </tr>\n",
              "  </thead>\n",
              "  <tbody>\n",
              "    <tr>\n",
              "      <th>51</th>\n",
              "      <td>Wisconsin</td>\n",
              "      <td>56</td>\n",
              "      <td>43.78444</td>\n",
              "      <td>-88.787868</td>\n",
              "    </tr>\n",
              "    <tr>\n",
              "      <th>52</th>\n",
              "      <td>Wyoming</td>\n",
              "      <td>1</td>\n",
              "      <td>43.075968</td>\n",
              "      <td>-107.290284</td>\n",
              "    </tr>\n",
              "  </tbody>\n",
              "</table>\n",
              "</div>\n",
              "      <button class=\"colab-df-convert\" onclick=\"convertToInteractive('df-5b6483b0-0958-4742-8bc2-b7caa117b00e')\"\n",
              "              title=\"Convert this dataframe to an interactive table.\"\n",
              "              style=\"display:none;\">\n",
              "        \n",
              "  <svg xmlns=\"http://www.w3.org/2000/svg\" height=\"24px\"viewBox=\"0 0 24 24\"\n",
              "       width=\"24px\">\n",
              "    <path d=\"M0 0h24v24H0V0z\" fill=\"none\"/>\n",
              "    <path d=\"M18.56 5.44l.94 2.06.94-2.06 2.06-.94-2.06-.94-.94-2.06-.94 2.06-2.06.94zm-11 1L8.5 8.5l.94-2.06 2.06-.94-2.06-.94L8.5 2.5l-.94 2.06-2.06.94zm10 10l.94 2.06.94-2.06 2.06-.94-2.06-.94-.94-2.06-.94 2.06-2.06.94z\"/><path d=\"M17.41 7.96l-1.37-1.37c-.4-.4-.92-.59-1.43-.59-.52 0-1.04.2-1.43.59L10.3 9.45l-7.72 7.72c-.78.78-.78 2.05 0 2.83L4 21.41c.39.39.9.59 1.41.59.51 0 1.02-.2 1.41-.59l7.78-7.78 2.81-2.81c.8-.78.8-2.07 0-2.86zM5.41 20L4 18.59l7.72-7.72 1.47 1.35L5.41 20z\"/>\n",
              "  </svg>\n",
              "      </button>\n",
              "      \n",
              "  <style>\n",
              "    .colab-df-container {\n",
              "      display:flex;\n",
              "      flex-wrap:wrap;\n",
              "      gap: 12px;\n",
              "    }\n",
              "\n",
              "    .colab-df-convert {\n",
              "      background-color: #E8F0FE;\n",
              "      border: none;\n",
              "      border-radius: 50%;\n",
              "      cursor: pointer;\n",
              "      display: none;\n",
              "      fill: #1967D2;\n",
              "      height: 32px;\n",
              "      padding: 0 0 0 0;\n",
              "      width: 32px;\n",
              "    }\n",
              "\n",
              "    .colab-df-convert:hover {\n",
              "      background-color: #E2EBFA;\n",
              "      box-shadow: 0px 1px 2px rgba(60, 64, 67, 0.3), 0px 1px 3px 1px rgba(60, 64, 67, 0.15);\n",
              "      fill: #174EA6;\n",
              "    }\n",
              "\n",
              "    [theme=dark] .colab-df-convert {\n",
              "      background-color: #3B4455;\n",
              "      fill: #D2E3FC;\n",
              "    }\n",
              "\n",
              "    [theme=dark] .colab-df-convert:hover {\n",
              "      background-color: #434B5C;\n",
              "      box-shadow: 0px 1px 3px 1px rgba(0, 0, 0, 0.15);\n",
              "      filter: drop-shadow(0px 1px 2px rgba(0, 0, 0, 0.3));\n",
              "      fill: #FFFFFF;\n",
              "    }\n",
              "  </style>\n",
              "\n",
              "      <script>\n",
              "        const buttonEl =\n",
              "          document.querySelector('#df-5b6483b0-0958-4742-8bc2-b7caa117b00e button.colab-df-convert');\n",
              "        buttonEl.style.display =\n",
              "          google.colab.kernel.accessAllowed ? 'block' : 'none';\n",
              "\n",
              "        async function convertToInteractive(key) {\n",
              "          const element = document.querySelector('#df-5b6483b0-0958-4742-8bc2-b7caa117b00e');\n",
              "          const dataTable =\n",
              "            await google.colab.kernel.invokeFunction('convertToInteractive',\n",
              "                                                     [key], {});\n",
              "          if (!dataTable) return;\n",
              "\n",
              "          const docLinkHtml = 'Like what you see? Visit the ' +\n",
              "            '<a target=\"_blank\" href=https://colab.research.google.com/notebooks/data_table.ipynb>data table notebook</a>'\n",
              "            + ' to learn more about interactive tables.';\n",
              "          element.innerHTML = '';\n",
              "          dataTable['output_type'] = 'display_data';\n",
              "          await google.colab.output.renderOutput(dataTable, element);\n",
              "          const docLink = document.createElement('div');\n",
              "          docLink.innerHTML = docLinkHtml;\n",
              "          element.appendChild(docLink);\n",
              "        }\n",
              "      </script>\n",
              "    </div>\n",
              "  </div>\n",
              "  "
            ]
          },
          "metadata": {},
          "execution_count": 48
        }
      ]
    },
    {
      "cell_type": "code",
      "source": [
        "map_data = map_data.astype({'cases':'int'})\n",
        "\n",
        "map_data.sort_values(by=['cases'], ascending=False)\n",
        "# map_data.sort_values(by=['latitude'], ascending=False)\n",
        "\n"
      ],
      "metadata": {
        "colab": {
          "base_uri": "https://localhost:8080/",
          "height": 1000
        },
        "id": "KmWfhCDOr4dB",
        "outputId": "a40292d9-e728-4b58-968c-dd4461e2dc09"
      },
      "execution_count": null,
      "outputs": [
        {
          "output_type": "execute_result",
          "data": {
            "text/plain": [
              "0                  state  cases        lat          lon\n",
              "5             California   3291  36.778261  -119.417932\n",
              "33              New York   3124  43.299428   -74.217933\n",
              "10               Florida   1739  27.664827   -81.515754\n",
              "45                 Texas   1472  31.968599   -99.901813\n",
              "11               Georgia   1299  32.157435   -82.907123\n",
              "14              Illinois   1005  40.633125   -89.398528\n",
              "31            New Jersey    479  40.058324   -74.405661\n",
              "39          Pennsylvania    477  41.203322   -77.194525\n",
              "21              Maryland    461  39.045755   -76.641271\n",
              "9   District of Columbia    414  38.905985   -77.033418\n",
              "49            Washington    332  47.751074  -120.740139\n",
              "48              Virginia    302  37.431573   -78.656894\n",
              "34        North Carolina    288  35.759573     -79.0193\n",
              "3                Arizona    281  34.048928  -111.093731\n",
              "22         Massachusetts    280  42.407211   -71.382437\n",
              "6               Colorado    189  39.550051  -105.782067\n",
              "23              Michigan    165  44.314844   -85.602364\n",
              "19             Louisiana    162  31.244823   -92.145024\n",
              "44             Tennessee    156  35.517491   -86.580447\n",
              "36                  Ohio    151  40.417287   -82.907123\n",
              "15               Indiana    147  40.551217   -85.602364\n",
              "38                Oregon    141  43.804133  -120.554201\n",
              "29                Nevada    127   38.80261  -116.419389\n",
              "24             Minnesota    109  46.729553     -94.6859\n",
              "42        South Carolina    100  33.836081   -81.163725\n",
              "40           Puerto Rico     97  18.220833   -66.590149\n",
              "46                  Utah     93   39.32098  -111.093731\n",
              "7            Connecticut     89  41.603221   -73.087749\n",
              "51             Wisconsin     56   43.78444   -88.787868\n",
              "1                Alabama     53  32.318231   -86.902298\n",
              "26              Missouri     42  37.964253   -91.831833\n",
              "41          Rhode Island     42  41.580095   -71.477429\n",
              "25           Mississippi     29  32.354668   -89.398528\n",
              "4               Arkansas     28   35.20105   -91.831833\n",
              "18              Kentucky     27  37.839333   -84.270018\n",
              "28              Nebraska     25  41.492537   -99.901813\n",
              "32            New Mexico     23   34.97273  -105.032363\n",
              "37              Oklahoma     22  35.007752   -97.092877\n",
              "8               Delaware     21  38.910832    -75.52767\n",
              "30         New Hampshire     19  43.193852   -71.572395\n",
              "16                  Iowa     18  41.878003   -93.097702\n",
              "12                Hawaii     15  19.898682  -155.665857\n",
              "13                 Idaho      9  44.068202  -114.742041\n",
              "17                Kansas      5  39.011902   -98.484246\n",
              "50         West Virginia      5  38.597626   -80.454903\n",
              "20                 Maine      5  45.253783   -69.445469\n",
              "35          North Dakota      4  47.551493  -101.002012\n",
              "27               Montana      3  46.879682  -110.362566\n",
              "2                 Alaska      3  63.588753  -154.493062\n",
              "47               Vermont      2  44.558803   -72.577841\n",
              "43          South Dakota      2  43.969515   -99.901813\n",
              "52               Wyoming      1  43.075968  -107.290284"
            ],
            "text/html": [
              "\n",
              "  <div id=\"df-84a76159-67ab-4ebf-b39b-49cb1bcc2d4d\">\n",
              "    <div class=\"colab-df-container\">\n",
              "      <div>\n",
              "<style scoped>\n",
              "    .dataframe tbody tr th:only-of-type {\n",
              "        vertical-align: middle;\n",
              "    }\n",
              "\n",
              "    .dataframe tbody tr th {\n",
              "        vertical-align: top;\n",
              "    }\n",
              "\n",
              "    .dataframe thead th {\n",
              "        text-align: right;\n",
              "    }\n",
              "</style>\n",
              "<table border=\"1\" class=\"dataframe\">\n",
              "  <thead>\n",
              "    <tr style=\"text-align: right;\">\n",
              "      <th></th>\n",
              "      <th>state</th>\n",
              "      <th>cases</th>\n",
              "      <th>lat</th>\n",
              "      <th>lon</th>\n",
              "    </tr>\n",
              "  </thead>\n",
              "  <tbody>\n",
              "    <tr>\n",
              "      <th>5</th>\n",
              "      <td>California</td>\n",
              "      <td>3291</td>\n",
              "      <td>36.778261</td>\n",
              "      <td>-119.417932</td>\n",
              "    </tr>\n",
              "    <tr>\n",
              "      <th>33</th>\n",
              "      <td>New York</td>\n",
              "      <td>3124</td>\n",
              "      <td>43.299428</td>\n",
              "      <td>-74.217933</td>\n",
              "    </tr>\n",
              "    <tr>\n",
              "      <th>10</th>\n",
              "      <td>Florida</td>\n",
              "      <td>1739</td>\n",
              "      <td>27.664827</td>\n",
              "      <td>-81.515754</td>\n",
              "    </tr>\n",
              "    <tr>\n",
              "      <th>45</th>\n",
              "      <td>Texas</td>\n",
              "      <td>1472</td>\n",
              "      <td>31.968599</td>\n",
              "      <td>-99.901813</td>\n",
              "    </tr>\n",
              "    <tr>\n",
              "      <th>11</th>\n",
              "      <td>Georgia</td>\n",
              "      <td>1299</td>\n",
              "      <td>32.157435</td>\n",
              "      <td>-82.907123</td>\n",
              "    </tr>\n",
              "    <tr>\n",
              "      <th>14</th>\n",
              "      <td>Illinois</td>\n",
              "      <td>1005</td>\n",
              "      <td>40.633125</td>\n",
              "      <td>-89.398528</td>\n",
              "    </tr>\n",
              "    <tr>\n",
              "      <th>31</th>\n",
              "      <td>New Jersey</td>\n",
              "      <td>479</td>\n",
              "      <td>40.058324</td>\n",
              "      <td>-74.405661</td>\n",
              "    </tr>\n",
              "    <tr>\n",
              "      <th>39</th>\n",
              "      <td>Pennsylvania</td>\n",
              "      <td>477</td>\n",
              "      <td>41.203322</td>\n",
              "      <td>-77.194525</td>\n",
              "    </tr>\n",
              "    <tr>\n",
              "      <th>21</th>\n",
              "      <td>Maryland</td>\n",
              "      <td>461</td>\n",
              "      <td>39.045755</td>\n",
              "      <td>-76.641271</td>\n",
              "    </tr>\n",
              "    <tr>\n",
              "      <th>9</th>\n",
              "      <td>District of Columbia</td>\n",
              "      <td>414</td>\n",
              "      <td>38.905985</td>\n",
              "      <td>-77.033418</td>\n",
              "    </tr>\n",
              "    <tr>\n",
              "      <th>49</th>\n",
              "      <td>Washington</td>\n",
              "      <td>332</td>\n",
              "      <td>47.751074</td>\n",
              "      <td>-120.740139</td>\n",
              "    </tr>\n",
              "    <tr>\n",
              "      <th>48</th>\n",
              "      <td>Virginia</td>\n",
              "      <td>302</td>\n",
              "      <td>37.431573</td>\n",
              "      <td>-78.656894</td>\n",
              "    </tr>\n",
              "    <tr>\n",
              "      <th>34</th>\n",
              "      <td>North Carolina</td>\n",
              "      <td>288</td>\n",
              "      <td>35.759573</td>\n",
              "      <td>-79.0193</td>\n",
              "    </tr>\n",
              "    <tr>\n",
              "      <th>3</th>\n",
              "      <td>Arizona</td>\n",
              "      <td>281</td>\n",
              "      <td>34.048928</td>\n",
              "      <td>-111.093731</td>\n",
              "    </tr>\n",
              "    <tr>\n",
              "      <th>22</th>\n",
              "      <td>Massachusetts</td>\n",
              "      <td>280</td>\n",
              "      <td>42.407211</td>\n",
              "      <td>-71.382437</td>\n",
              "    </tr>\n",
              "    <tr>\n",
              "      <th>6</th>\n",
              "      <td>Colorado</td>\n",
              "      <td>189</td>\n",
              "      <td>39.550051</td>\n",
              "      <td>-105.782067</td>\n",
              "    </tr>\n",
              "    <tr>\n",
              "      <th>23</th>\n",
              "      <td>Michigan</td>\n",
              "      <td>165</td>\n",
              "      <td>44.314844</td>\n",
              "      <td>-85.602364</td>\n",
              "    </tr>\n",
              "    <tr>\n",
              "      <th>19</th>\n",
              "      <td>Louisiana</td>\n",
              "      <td>162</td>\n",
              "      <td>31.244823</td>\n",
              "      <td>-92.145024</td>\n",
              "    </tr>\n",
              "    <tr>\n",
              "      <th>44</th>\n",
              "      <td>Tennessee</td>\n",
              "      <td>156</td>\n",
              "      <td>35.517491</td>\n",
              "      <td>-86.580447</td>\n",
              "    </tr>\n",
              "    <tr>\n",
              "      <th>36</th>\n",
              "      <td>Ohio</td>\n",
              "      <td>151</td>\n",
              "      <td>40.417287</td>\n",
              "      <td>-82.907123</td>\n",
              "    </tr>\n",
              "    <tr>\n",
              "      <th>15</th>\n",
              "      <td>Indiana</td>\n",
              "      <td>147</td>\n",
              "      <td>40.551217</td>\n",
              "      <td>-85.602364</td>\n",
              "    </tr>\n",
              "    <tr>\n",
              "      <th>38</th>\n",
              "      <td>Oregon</td>\n",
              "      <td>141</td>\n",
              "      <td>43.804133</td>\n",
              "      <td>-120.554201</td>\n",
              "    </tr>\n",
              "    <tr>\n",
              "      <th>29</th>\n",
              "      <td>Nevada</td>\n",
              "      <td>127</td>\n",
              "      <td>38.80261</td>\n",
              "      <td>-116.419389</td>\n",
              "    </tr>\n",
              "    <tr>\n",
              "      <th>24</th>\n",
              "      <td>Minnesota</td>\n",
              "      <td>109</td>\n",
              "      <td>46.729553</td>\n",
              "      <td>-94.6859</td>\n",
              "    </tr>\n",
              "    <tr>\n",
              "      <th>42</th>\n",
              "      <td>South Carolina</td>\n",
              "      <td>100</td>\n",
              "      <td>33.836081</td>\n",
              "      <td>-81.163725</td>\n",
              "    </tr>\n",
              "    <tr>\n",
              "      <th>40</th>\n",
              "      <td>Puerto Rico</td>\n",
              "      <td>97</td>\n",
              "      <td>18.220833</td>\n",
              "      <td>-66.590149</td>\n",
              "    </tr>\n",
              "    <tr>\n",
              "      <th>46</th>\n",
              "      <td>Utah</td>\n",
              "      <td>93</td>\n",
              "      <td>39.32098</td>\n",
              "      <td>-111.093731</td>\n",
              "    </tr>\n",
              "    <tr>\n",
              "      <th>7</th>\n",
              "      <td>Connecticut</td>\n",
              "      <td>89</td>\n",
              "      <td>41.603221</td>\n",
              "      <td>-73.087749</td>\n",
              "    </tr>\n",
              "    <tr>\n",
              "      <th>51</th>\n",
              "      <td>Wisconsin</td>\n",
              "      <td>56</td>\n",
              "      <td>43.78444</td>\n",
              "      <td>-88.787868</td>\n",
              "    </tr>\n",
              "    <tr>\n",
              "      <th>1</th>\n",
              "      <td>Alabama</td>\n",
              "      <td>53</td>\n",
              "      <td>32.318231</td>\n",
              "      <td>-86.902298</td>\n",
              "    </tr>\n",
              "    <tr>\n",
              "      <th>26</th>\n",
              "      <td>Missouri</td>\n",
              "      <td>42</td>\n",
              "      <td>37.964253</td>\n",
              "      <td>-91.831833</td>\n",
              "    </tr>\n",
              "    <tr>\n",
              "      <th>41</th>\n",
              "      <td>Rhode Island</td>\n",
              "      <td>42</td>\n",
              "      <td>41.580095</td>\n",
              "      <td>-71.477429</td>\n",
              "    </tr>\n",
              "    <tr>\n",
              "      <th>25</th>\n",
              "      <td>Mississippi</td>\n",
              "      <td>29</td>\n",
              "      <td>32.354668</td>\n",
              "      <td>-89.398528</td>\n",
              "    </tr>\n",
              "    <tr>\n",
              "      <th>4</th>\n",
              "      <td>Arkansas</td>\n",
              "      <td>28</td>\n",
              "      <td>35.20105</td>\n",
              "      <td>-91.831833</td>\n",
              "    </tr>\n",
              "    <tr>\n",
              "      <th>18</th>\n",
              "      <td>Kentucky</td>\n",
              "      <td>27</td>\n",
              "      <td>37.839333</td>\n",
              "      <td>-84.270018</td>\n",
              "    </tr>\n",
              "    <tr>\n",
              "      <th>28</th>\n",
              "      <td>Nebraska</td>\n",
              "      <td>25</td>\n",
              "      <td>41.492537</td>\n",
              "      <td>-99.901813</td>\n",
              "    </tr>\n",
              "    <tr>\n",
              "      <th>32</th>\n",
              "      <td>New Mexico</td>\n",
              "      <td>23</td>\n",
              "      <td>34.97273</td>\n",
              "      <td>-105.032363</td>\n",
              "    </tr>\n",
              "    <tr>\n",
              "      <th>37</th>\n",
              "      <td>Oklahoma</td>\n",
              "      <td>22</td>\n",
              "      <td>35.007752</td>\n",
              "      <td>-97.092877</td>\n",
              "    </tr>\n",
              "    <tr>\n",
              "      <th>8</th>\n",
              "      <td>Delaware</td>\n",
              "      <td>21</td>\n",
              "      <td>38.910832</td>\n",
              "      <td>-75.52767</td>\n",
              "    </tr>\n",
              "    <tr>\n",
              "      <th>30</th>\n",
              "      <td>New Hampshire</td>\n",
              "      <td>19</td>\n",
              "      <td>43.193852</td>\n",
              "      <td>-71.572395</td>\n",
              "    </tr>\n",
              "    <tr>\n",
              "      <th>16</th>\n",
              "      <td>Iowa</td>\n",
              "      <td>18</td>\n",
              "      <td>41.878003</td>\n",
              "      <td>-93.097702</td>\n",
              "    </tr>\n",
              "    <tr>\n",
              "      <th>12</th>\n",
              "      <td>Hawaii</td>\n",
              "      <td>15</td>\n",
              "      <td>19.898682</td>\n",
              "      <td>-155.665857</td>\n",
              "    </tr>\n",
              "    <tr>\n",
              "      <th>13</th>\n",
              "      <td>Idaho</td>\n",
              "      <td>9</td>\n",
              "      <td>44.068202</td>\n",
              "      <td>-114.742041</td>\n",
              "    </tr>\n",
              "    <tr>\n",
              "      <th>17</th>\n",
              "      <td>Kansas</td>\n",
              "      <td>5</td>\n",
              "      <td>39.011902</td>\n",
              "      <td>-98.484246</td>\n",
              "    </tr>\n",
              "    <tr>\n",
              "      <th>50</th>\n",
              "      <td>West Virginia</td>\n",
              "      <td>5</td>\n",
              "      <td>38.597626</td>\n",
              "      <td>-80.454903</td>\n",
              "    </tr>\n",
              "    <tr>\n",
              "      <th>20</th>\n",
              "      <td>Maine</td>\n",
              "      <td>5</td>\n",
              "      <td>45.253783</td>\n",
              "      <td>-69.445469</td>\n",
              "    </tr>\n",
              "    <tr>\n",
              "      <th>35</th>\n",
              "      <td>North Dakota</td>\n",
              "      <td>4</td>\n",
              "      <td>47.551493</td>\n",
              "      <td>-101.002012</td>\n",
              "    </tr>\n",
              "    <tr>\n",
              "      <th>27</th>\n",
              "      <td>Montana</td>\n",
              "      <td>3</td>\n",
              "      <td>46.879682</td>\n",
              "      <td>-110.362566</td>\n",
              "    </tr>\n",
              "    <tr>\n",
              "      <th>2</th>\n",
              "      <td>Alaska</td>\n",
              "      <td>3</td>\n",
              "      <td>63.588753</td>\n",
              "      <td>-154.493062</td>\n",
              "    </tr>\n",
              "    <tr>\n",
              "      <th>47</th>\n",
              "      <td>Vermont</td>\n",
              "      <td>2</td>\n",
              "      <td>44.558803</td>\n",
              "      <td>-72.577841</td>\n",
              "    </tr>\n",
              "    <tr>\n",
              "      <th>43</th>\n",
              "      <td>South Dakota</td>\n",
              "      <td>2</td>\n",
              "      <td>43.969515</td>\n",
              "      <td>-99.901813</td>\n",
              "    </tr>\n",
              "    <tr>\n",
              "      <th>52</th>\n",
              "      <td>Wyoming</td>\n",
              "      <td>1</td>\n",
              "      <td>43.075968</td>\n",
              "      <td>-107.290284</td>\n",
              "    </tr>\n",
              "  </tbody>\n",
              "</table>\n",
              "</div>\n",
              "      <button class=\"colab-df-convert\" onclick=\"convertToInteractive('df-84a76159-67ab-4ebf-b39b-49cb1bcc2d4d')\"\n",
              "              title=\"Convert this dataframe to an interactive table.\"\n",
              "              style=\"display:none;\">\n",
              "        \n",
              "  <svg xmlns=\"http://www.w3.org/2000/svg\" height=\"24px\"viewBox=\"0 0 24 24\"\n",
              "       width=\"24px\">\n",
              "    <path d=\"M0 0h24v24H0V0z\" fill=\"none\"/>\n",
              "    <path d=\"M18.56 5.44l.94 2.06.94-2.06 2.06-.94-2.06-.94-.94-2.06-.94 2.06-2.06.94zm-11 1L8.5 8.5l.94-2.06 2.06-.94-2.06-.94L8.5 2.5l-.94 2.06-2.06.94zm10 10l.94 2.06.94-2.06 2.06-.94-2.06-.94-.94-2.06-.94 2.06-2.06.94z\"/><path d=\"M17.41 7.96l-1.37-1.37c-.4-.4-.92-.59-1.43-.59-.52 0-1.04.2-1.43.59L10.3 9.45l-7.72 7.72c-.78.78-.78 2.05 0 2.83L4 21.41c.39.39.9.59 1.41.59.51 0 1.02-.2 1.41-.59l7.78-7.78 2.81-2.81c.8-.78.8-2.07 0-2.86zM5.41 20L4 18.59l7.72-7.72 1.47 1.35L5.41 20z\"/>\n",
              "  </svg>\n",
              "      </button>\n",
              "      \n",
              "  <style>\n",
              "    .colab-df-container {\n",
              "      display:flex;\n",
              "      flex-wrap:wrap;\n",
              "      gap: 12px;\n",
              "    }\n",
              "\n",
              "    .colab-df-convert {\n",
              "      background-color: #E8F0FE;\n",
              "      border: none;\n",
              "      border-radius: 50%;\n",
              "      cursor: pointer;\n",
              "      display: none;\n",
              "      fill: #1967D2;\n",
              "      height: 32px;\n",
              "      padding: 0 0 0 0;\n",
              "      width: 32px;\n",
              "    }\n",
              "\n",
              "    .colab-df-convert:hover {\n",
              "      background-color: #E2EBFA;\n",
              "      box-shadow: 0px 1px 2px rgba(60, 64, 67, 0.3), 0px 1px 3px 1px rgba(60, 64, 67, 0.15);\n",
              "      fill: #174EA6;\n",
              "    }\n",
              "\n",
              "    [theme=dark] .colab-df-convert {\n",
              "      background-color: #3B4455;\n",
              "      fill: #D2E3FC;\n",
              "    }\n",
              "\n",
              "    [theme=dark] .colab-df-convert:hover {\n",
              "      background-color: #434B5C;\n",
              "      box-shadow: 0px 1px 3px 1px rgba(0, 0, 0, 0.15);\n",
              "      filter: drop-shadow(0px 1px 2px rgba(0, 0, 0, 0.3));\n",
              "      fill: #FFFFFF;\n",
              "    }\n",
              "  </style>\n",
              "\n",
              "      <script>\n",
              "        const buttonEl =\n",
              "          document.querySelector('#df-84a76159-67ab-4ebf-b39b-49cb1bcc2d4d button.colab-df-convert');\n",
              "        buttonEl.style.display =\n",
              "          google.colab.kernel.accessAllowed ? 'block' : 'none';\n",
              "\n",
              "        async function convertToInteractive(key) {\n",
              "          const element = document.querySelector('#df-84a76159-67ab-4ebf-b39b-49cb1bcc2d4d');\n",
              "          const dataTable =\n",
              "            await google.colab.kernel.invokeFunction('convertToInteractive',\n",
              "                                                     [key], {});\n",
              "          if (!dataTable) return;\n",
              "\n",
              "          const docLinkHtml = 'Like what you see? Visit the ' +\n",
              "            '<a target=\"_blank\" href=https://colab.research.google.com/notebooks/data_table.ipynb>data table notebook</a>'\n",
              "            + ' to learn more about interactive tables.';\n",
              "          element.innerHTML = '';\n",
              "          dataTable['output_type'] = 'display_data';\n",
              "          await google.colab.output.renderOutput(dataTable, element);\n",
              "          const docLink = document.createElement('div');\n",
              "          docLink.innerHTML = docLinkHtml;\n",
              "          element.appendChild(docLink);\n",
              "        }\n",
              "      </script>\n",
              "    </div>\n",
              "  </div>\n",
              "  "
            ]
          },
          "metadata": {},
          "execution_count": 49
        }
      ]
    },
    {
      "cell_type": "code",
      "source": [
        "map_data.head(2)"
      ],
      "metadata": {
        "colab": {
          "base_uri": "https://localhost:8080/",
          "height": 112
        },
        "id": "tpkxAFipCUyF",
        "outputId": "31323500-4362-4c7b-8c96-c433ed3d8957"
      },
      "execution_count": null,
      "outputs": [
        {
          "output_type": "execute_result",
          "data": {
            "text/plain": [
              "0    state  cases        lat          lon\n",
              "1  Alabama     53  32.318231   -86.902298\n",
              "2   Alaska      3  63.588753  -154.493062"
            ],
            "text/html": [
              "\n",
              "  <div id=\"df-032f8281-2b73-4eb7-9418-263f2564e27d\">\n",
              "    <div class=\"colab-df-container\">\n",
              "      <div>\n",
              "<style scoped>\n",
              "    .dataframe tbody tr th:only-of-type {\n",
              "        vertical-align: middle;\n",
              "    }\n",
              "\n",
              "    .dataframe tbody tr th {\n",
              "        vertical-align: top;\n",
              "    }\n",
              "\n",
              "    .dataframe thead th {\n",
              "        text-align: right;\n",
              "    }\n",
              "</style>\n",
              "<table border=\"1\" class=\"dataframe\">\n",
              "  <thead>\n",
              "    <tr style=\"text-align: right;\">\n",
              "      <th></th>\n",
              "      <th>state</th>\n",
              "      <th>cases</th>\n",
              "      <th>lat</th>\n",
              "      <th>lon</th>\n",
              "    </tr>\n",
              "  </thead>\n",
              "  <tbody>\n",
              "    <tr>\n",
              "      <th>1</th>\n",
              "      <td>Alabama</td>\n",
              "      <td>53</td>\n",
              "      <td>32.318231</td>\n",
              "      <td>-86.902298</td>\n",
              "    </tr>\n",
              "    <tr>\n",
              "      <th>2</th>\n",
              "      <td>Alaska</td>\n",
              "      <td>3</td>\n",
              "      <td>63.588753</td>\n",
              "      <td>-154.493062</td>\n",
              "    </tr>\n",
              "  </tbody>\n",
              "</table>\n",
              "</div>\n",
              "      <button class=\"colab-df-convert\" onclick=\"convertToInteractive('df-032f8281-2b73-4eb7-9418-263f2564e27d')\"\n",
              "              title=\"Convert this dataframe to an interactive table.\"\n",
              "              style=\"display:none;\">\n",
              "        \n",
              "  <svg xmlns=\"http://www.w3.org/2000/svg\" height=\"24px\"viewBox=\"0 0 24 24\"\n",
              "       width=\"24px\">\n",
              "    <path d=\"M0 0h24v24H0V0z\" fill=\"none\"/>\n",
              "    <path d=\"M18.56 5.44l.94 2.06.94-2.06 2.06-.94-2.06-.94-.94-2.06-.94 2.06-2.06.94zm-11 1L8.5 8.5l.94-2.06 2.06-.94-2.06-.94L8.5 2.5l-.94 2.06-2.06.94zm10 10l.94 2.06.94-2.06 2.06-.94-2.06-.94-.94-2.06-.94 2.06-2.06.94z\"/><path d=\"M17.41 7.96l-1.37-1.37c-.4-.4-.92-.59-1.43-.59-.52 0-1.04.2-1.43.59L10.3 9.45l-7.72 7.72c-.78.78-.78 2.05 0 2.83L4 21.41c.39.39.9.59 1.41.59.51 0 1.02-.2 1.41-.59l7.78-7.78 2.81-2.81c.8-.78.8-2.07 0-2.86zM5.41 20L4 18.59l7.72-7.72 1.47 1.35L5.41 20z\"/>\n",
              "  </svg>\n",
              "      </button>\n",
              "      \n",
              "  <style>\n",
              "    .colab-df-container {\n",
              "      display:flex;\n",
              "      flex-wrap:wrap;\n",
              "      gap: 12px;\n",
              "    }\n",
              "\n",
              "    .colab-df-convert {\n",
              "      background-color: #E8F0FE;\n",
              "      border: none;\n",
              "      border-radius: 50%;\n",
              "      cursor: pointer;\n",
              "      display: none;\n",
              "      fill: #1967D2;\n",
              "      height: 32px;\n",
              "      padding: 0 0 0 0;\n",
              "      width: 32px;\n",
              "    }\n",
              "\n",
              "    .colab-df-convert:hover {\n",
              "      background-color: #E2EBFA;\n",
              "      box-shadow: 0px 1px 2px rgba(60, 64, 67, 0.3), 0px 1px 3px 1px rgba(60, 64, 67, 0.15);\n",
              "      fill: #174EA6;\n",
              "    }\n",
              "\n",
              "    [theme=dark] .colab-df-convert {\n",
              "      background-color: #3B4455;\n",
              "      fill: #D2E3FC;\n",
              "    }\n",
              "\n",
              "    [theme=dark] .colab-df-convert:hover {\n",
              "      background-color: #434B5C;\n",
              "      box-shadow: 0px 1px 3px 1px rgba(0, 0, 0, 0.15);\n",
              "      filter: drop-shadow(0px 1px 2px rgba(0, 0, 0, 0.3));\n",
              "      fill: #FFFFFF;\n",
              "    }\n",
              "  </style>\n",
              "\n",
              "      <script>\n",
              "        const buttonEl =\n",
              "          document.querySelector('#df-032f8281-2b73-4eb7-9418-263f2564e27d button.colab-df-convert');\n",
              "        buttonEl.style.display =\n",
              "          google.colab.kernel.accessAllowed ? 'block' : 'none';\n",
              "\n",
              "        async function convertToInteractive(key) {\n",
              "          const element = document.querySelector('#df-032f8281-2b73-4eb7-9418-263f2564e27d');\n",
              "          const dataTable =\n",
              "            await google.colab.kernel.invokeFunction('convertToInteractive',\n",
              "                                                     [key], {});\n",
              "          if (!dataTable) return;\n",
              "\n",
              "          const docLinkHtml = 'Like what you see? Visit the ' +\n",
              "            '<a target=\"_blank\" href=https://colab.research.google.com/notebooks/data_table.ipynb>data table notebook</a>'\n",
              "            + ' to learn more about interactive tables.';\n",
              "          element.innerHTML = '';\n",
              "          dataTable['output_type'] = 'display_data';\n",
              "          await google.colab.output.renderOutput(dataTable, element);\n",
              "          const docLink = document.createElement('div');\n",
              "          docLink.innerHTML = docLinkHtml;\n",
              "          element.appendChild(docLink);\n",
              "        }\n",
              "      </script>\n",
              "    </div>\n",
              "  </div>\n",
              "  "
            ]
          },
          "metadata": {},
          "execution_count": 50
        }
      ]
    },
    {
      "cell_type": "code",
      "source": [
        "map_data.to_csv('map_data.csv')  "
      ],
      "metadata": {
        "id": "GUkY6bJxr4ac"
      },
      "execution_count": null,
      "outputs": []
    },
    {
      "cell_type": "markdown",
      "source": [
        "# 6 | Deployment"
      ],
      "metadata": {
        "id": "3FwMqfy5dSsM"
      }
    },
    {
      "cell_type": "markdown",
      "source": [
        "See draft streamlit app here: https://slp22-data-engineering-project-streamlit-mpx-app-ckpzq2.streamlitapp.com/"
      ],
      "metadata": {
        "id": "XRtWhiYxeF7u"
      }
    },
    {
      "cell_type": "markdown",
      "source": [
        "Streamlit cheat sheet: https://daniellewisdl-streamlit-cheat-sheet-app-ytm9sg.streamlitapp.com/"
      ],
      "metadata": {
        "id": "q2oqnzSaSxmO"
      }
    },
    {
      "cell_type": "code",
      "source": [
        "# wordcloud\n",
        "# https://www.geeksforgeeks.org/generating-word-cloud-python/\n",
        "comment_words = ''\n",
        "stopwords = set(stopwords)\n",
        " \n",
        "# iterate through the csv file\n",
        "for val in df.text:\n",
        "     \n",
        "    # typecaste each val to string\n",
        "    val = str(val)\n",
        " \n",
        "    # split the value\n",
        "    tokens = val.split()\n",
        "     \n",
        "    # Converts each token into lowercase\n",
        "    for i in range(len(tokens)):\n",
        "        tokens[i] = tokens[i].lower()\n",
        "     \n",
        "    comment_words += \" \".join(tokens)+\" \"\n",
        " \n",
        "wordcloud = WordCloud(width = 800, height = 800,\n",
        "                background_color ='white',\n",
        "                stopwords = stopwords,\n",
        "                min_font_size = 10).generate(comment_words)\n",
        " \n",
        "# plot the WordCloud image                      \n",
        "plt.figure(figsize = (8, 8), facecolor = None)\n",
        "plt.imshow(wordcloud)\n",
        "plt.axis(\"off\")\n",
        "plt.tight_layout(pad = 0)\n",
        "plt.title('Coronavirus Tweets April 2020')\n",
        "plt.savefig(\"coronavirus-tweets-word-cloud.jpeg\");"
      ],
      "metadata": {
        "id": "46ivW-XNg6sM"
      },
      "execution_count": null,
      "outputs": []
    },
    {
      "cell_type": "markdown",
      "source": [
        "# 7 | Testing/Robustness"
      ],
      "metadata": {
        "id": "L31bOQ0leG-h"
      }
    },
    {
      "cell_type": "markdown",
      "source": [
        "[Python schedule](https://schedule.readthedocs.io/en/stable/examples.html#run-a-job-every-x-minute)"
      ],
      "metadata": {
        "id": "fkP73gNFeJjm"
      }
    },
    {
      "cell_type": "code",
      "source": [],
      "metadata": {
        "id": "fO2_Qmm8eN4V"
      },
      "execution_count": null,
      "outputs": []
    }
  ],
  "metadata": {
    "colab": {
      "collapsed_sections": [
        "B386_PwAwSxC",
        "ehG7rDKVA1x3",
        "KQGIpl2swXl1",
        "gOaVANqDPdyW",
        "5WYNxkC8Vhd0",
        "3FwMqfy5dSsM",
        "L31bOQ0leG-h"
      ],
      "provenance": [],
      "toc_visible": true,
      "include_colab_link": true
    },
    "kernelspec": {
      "display_name": "Python 3 (engineering)",
      "language": "python",
      "name": "engineering"
    },
    "language_info": {
      "codemirror_mode": {
        "name": "ipython",
        "version": 3
      },
      "file_extension": ".py",
      "mimetype": "text/x-python",
      "name": "python",
      "nbconvert_exporter": "python",
      "pygments_lexer": "ipython3",
      "version": "3.8.12"
    }
  },
  "nbformat": 4,
  "nbformat_minor": 0
}